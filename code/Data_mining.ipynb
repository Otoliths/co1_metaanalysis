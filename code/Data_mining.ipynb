{
 "cells": [
  {
   "cell_type": "markdown",
   "metadata": {},
   "source": [
    "# ANALYSIS OF SUMMARY STATISTISTICS FROM THE BOLD DATA"
   ]
  },
  {
   "cell_type": "markdown",
   "metadata": {},
   "source": [
    "## GOALS:\n",
    "1. To understand our data set better: It's contents\n",
    "2. Distribution"
   ]
  },
  {
   "cell_type": "markdown",
   "metadata": {},
   "source": [
    "## Tasks\n",
    "1. Parse .JSON files in Python\n",
    "2. Transform to Pandas Dataframes\n",
    "3. Visualize interesting stats"
   ]
  },
  {
   "cell_type": "code",
   "execution_count": 5,
   "metadata": {},
   "outputs": [],
   "source": [
    "import sys\n",
    "import json\n",
    "#help(json)"
   ]
  },
  {
   "cell_type": "code",
   "execution_count": 18,
   "metadata": {},
   "outputs": [
    {
     "name": "stderr",
     "output_type": "stream",
     "text": [
      "cat: '/home/kibet/bioinformatics/github/co1_metaanalysis/data/input/input_data/summary/*.json': No such file or directory\n"
     ]
    }
   ],
   "source": [
    "%%bash\n",
    "rm \"/home/kibet/bioinformatics/github/co1_metaanalysis/data/input/input_data/summary/input.json\"\n",
    "cat \"/home/kibet/bioinformatics/github/co1_metaanalysis/data/input/input_data/summary/*.json\" >> \"/home/kibet/bioinformatics/github/co1_metaanalysis/data/input/input_data/summary/input.json\"\n",
    "less \"/home/kibet/bioinformatics/github/co1_metaanalysis/data/input/input_data/summary/input.json\""
   ]
  },
  {
   "cell_type": "code",
   "execution_count": 17,
   "metadata": {},
   "outputs": [
    {
     "name": "stdout",
     "output_type": "stream",
     "text": [
      "{\n",
      "    \"total_records\": 1212,\n",
      "    \"records_with_species_name\": 894,\n",
      "    \"bins\": {\n",
      "        \"count\": 277,\n",
      "        \"drill_down\": {\n",
      "            \"entity\": [\n",
      "                {\n",
      "                    \"name\": null,\n",
      "                    \"records\": null\n",
      "                },\n",
      "                {\n",
      "                    \"name\": null,\n",
      "                    \"records\": null\n",
      "                }\n",
      "            ]\n",
      "        }\n",
      "    },\n",
      "    \"countries\": {\n",
      "        \"count\": 1,\n",
      "        \"drill_down\": {\n",
      "            \"entity\": [\n",
      "                {\n",
      "                    \"name\": null,\n",
      "                    \"records\": null\n",
      "                },\n",
      "                {\n",
      "                    \"name\": null,\n",
      "                    \"records\": null\n",
      "                }\n",
      "            ]\n",
      "        }\n",
      "    },\n",
      "    \"depositories\": {\n",
      "        \"count\": 35,\n",
      "        \"drill_down\": {\n",
      "            \"entity\": [\n",
      "                {\n",
      "                    \"name\": null,\n",
      "                    \"records\": null\n",
      "                },\n",
      "                {\n",
      "                    \"name\": null,\n",
      "                    \"records\": null\n",
      "                }\n",
      "            ]\n",
      "        }\n",
      "    },\n",
      "    \"order\": {\n",
      "        \"count\": 57,\n",
      "        \"drill_down\": {\n",
      "            \"entity\": [\n",
      "                {\n",
      "                    \"name\": null,\n",
      "                    \"records\": null\n",
      "                },\n",
      "                {\n",
      "                    \"name\": null,\n",
      "                    \"records\": null\n",
      "                }\n",
      "            ]\n",
      "        }\n",
      "    },\n",
      "    \"family\": {\n",
      "        \"count\": 81,\n",
      "        \"drill_down\": {\n",
      "            \"entity\": [\n",
      "                {\n",
      "                    \"name\": null,\n",
      "                    \"records\": null\n",
      "                },\n",
      "                {\n",
      "                    \"name\": null,\n",
      "                    \"records\": null\n",
      "                }\n",
      "            ]\n",
      "        }\n",
      "    },\n",
      "    \"genus\": {\n",
      "        \"count\": 159,\n",
      "        \"drill_down\": {\n",
      "            \"entity\": [\n",
      "                {\n",
      "                    \"name\": null,\n",
      "                    \"records\": null\n",
      "                },\n",
      "                {\n",
      "                    \"name\": null,\n",
      "                    \"records\": null\n",
      "                }\n",
      "            ]\n",
      "        }\n",
      "    },\n",
      "    \"species\": {\n",
      "        \"count\": 257,\n",
      "        \"drill_down\": {\n",
      "            \"entity\": [\n",
      "                {\n",
      "                    \"name\": null,\n",
      "                    \"records\": null\n",
      "                },\n",
      "                {\n",
      "                    \"name\": null,\n",
      "                    \"records\": null\n",
      "                }\n",
      "            ]\n",
      "        }\n",
      "    }\n",
      "}\n"
     ]
    }
   ],
   "source": [
    "with open(\"/home/kibet/bioinformatics/github/co1_metaanalysis/data/input/input_data/summary/Algeria.json\", \"r\") as f:\n",
    "    content = json.load(f)\n",
    "print(json.dumps(content, indent = 4, sort_keys=False))"
   ]
  },
  {
   "cell_type": "code",
   "execution_count": 16,
   "metadata": {},
   "outputs": [
    {
     "name": "stdout",
     "output_type": "stream",
     "text": [
      "{'total_records': 1212, 'records_with_species_name': 894, 'bins': {'count': 277, 'drill_down': {'entity': [{'name': None, 'records': None}, {'name': None, 'records': None}]}}, 'countries': {'count': 1, 'drill_down': {'entity': [{'name': None, 'records': None}, {'name': None, 'records': None}]}}, 'depositories': {'count': 35, 'drill_down': {'entity': [{'name': None, 'records': None}, {'name': None, 'records': None}]}}, 'order': {'count': 57, 'drill_down': {'entity': [{'name': None, 'records': None}, {'name': None, 'records': None}]}}, 'family': {'count': 81, 'drill_down': {'entity': [{'name': None, 'records': None}, {'name': None, 'records': None}]}}, 'genus': {'count': 159, 'drill_down': {'entity': [{'name': None, 'records': None}, {'name': None, 'records': None}]}}, 'species': {'count': 257, 'drill_down': {'entity': [{'name': None, 'records': None}, {'name': None, 'records': None}]}}}\n"
     ]
    }
   ],
   "source": [
    "print(content)"
   ]
  },
  {
   "cell_type": "code",
   "execution_count": null,
   "metadata": {},
   "outputs": [],
   "source": []
  }
 ],
 "metadata": {
  "kernelspec": {
   "display_name": "Python 3",
   "language": "python",
   "name": "python3"
  },
  "language_info": {
   "codemirror_mode": {
    "name": "ipython",
    "version": 3
   },
   "file_extension": ".py",
   "mimetype": "text/x-python",
   "name": "python",
   "nbconvert_exporter": "python",
   "pygments_lexer": "ipython3",
   "version": "3.6.8"
  }
 },
 "nbformat": 4,
 "nbformat_minor": 2
}
