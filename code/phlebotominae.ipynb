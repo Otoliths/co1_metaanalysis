{
 "cells": [
  {
   "cell_type": "markdown",
   "metadata": {},
   "source": [
    "# **Phlebotominae workflow**\n",
    "\n",
    "[khoudi et. al. (2016)](https://doi.org/10.1371/journal.pntd.0004349)\n",
    "Phlebotominae is a Subfamily within the order Diptera, suborder Nematocera, family Psychodidae. Phlebotomine Sandflies are a well-known vector of leishamnia and has over 800 recognized species that mainly inhabit topical and subtropical regions: \n",
    "1. Old world:  \n",
    "(I) The Palaearctic region - Iran, Pakistan, the former U.S.S.R., France, Turkey, Morocco, Yemen, Spain, Tunisia, Afghanistan, Saudi Arabia, Iraq, Algeria, Egypt, Greece, China, Jordan. Over 200 species in genus phlebotomus subgenera (Adlerius, Anaphlebotomus, Euphlebotomus, Idiophlebotomus, Larroussius, Paraphlebotomus, Phlebotomus, Synphlebotomus and Transphlebotomu), and Chinius and Sergentomyia genera.  \n",
    "(II) The Afrotropical region - Genus Phlebotomus (subgenera of Anaphlebotomus, Larroussius, Paraphlebotomus, Phlebotomus, Spelaeophlebotomus, and Synphlebotomus) and genus Sergentomyia. Notably, phlebotomus species are stated to be absent in western Afrotropical regions of Gabon, Sudan, Central African Republic, Ethiopia, Southern Africa  \n",
    "(III)The Malagasy region - Madagascar and nearby Indian Ocean islands\n",
    "(IV)\n",
    "(V)\n",
    "2. New World:\n"
   ]
  },
  {
   "cell_type": "code",
   "execution_count": null,
   "metadata": {},
   "outputs": [],
   "source": []
  }
 ],
 "metadata": {
  "kernelspec": {
   "display_name": "Python 3",
   "language": "python",
   "name": "python3"
  },
  "language_info": {
   "codemirror_mode": {
    "name": "ipython",
    "version": 3
   },
   "file_extension": ".py",
   "mimetype": "text/x-python",
   "name": "python",
   "nbconvert_exporter": "python",
   "pygments_lexer": "ipython3",
   "version": "3.6.7"
  }
 },
 "nbformat": 4,
 "nbformat_minor": 2
}
