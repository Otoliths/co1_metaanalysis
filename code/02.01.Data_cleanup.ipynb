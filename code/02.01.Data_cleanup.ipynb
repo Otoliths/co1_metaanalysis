{
 "cells": [
  {
   "cell_type": "markdown",
   "metadata": {},
   "source": [
    "# **Installing tidyverse package and loading libraries**\n",
    "Checking if a package is installed and if not installed it is installed. If installed it is loaded.  \n",
    "\"install.packages(\"tidyverse\")\" installs tidyverse"
   ]
  },
  {
   "cell_type": "code",
   "execution_count": null,
   "metadata": {},
   "outputs": [],
   "source": [
    "cat(\"\\nChecking if needed packages are installed... 'tidyverse','dplyr' and 'magrittr'\")\n",
    "if(\"tidyverse\" %in% rownames(installed.packages()) == FALSE) {\n",
    "        install.packages(\"tidyverse\")\n",
    "} else {\n",
    "        cat(\"\\nExcellent tidyverse already installed.\\nproceeding with clean_up and sorting\\n\")\n",
    "\t## loads dplyr and magrittr packages\n",
    "\tsuppressMessages(library(dplyr))\n",
    "\tsuppressMessages(library(magrittr))\n",
    "\tsuppressMessages(library(tools))\n",
    "}\n"
   ]
  },
  {
   "cell_type": "markdown",
   "metadata": {},
   "source": [
    "## **Loading RDPclassifier results in tab delimited format to a dataframe object.** "
   ]
  },
  {
   "cell_type": "code",
   "execution_count": 4,
   "metadata": {},
   "outputs": [],
   "source": [
    "bold_file <- \"/home/kibet/bioinformatics/github/co1_metaanalysis/data/input/psychodidae/psychodidae_sequences/psychodidae.tsv\"\n",
    "#args = commandArgs(trailingOnly=TRUE)\n",
    "filename_ext = file_ext(bold_file)\n",
    "filename = file_path_sans_ext(bold_file)\n",
    "input_src=dirname(file_path_as_absolute(bold_file))\n",
    "bold_dataframe = read.delim(bold_file, stringsAsFactors = F, header = T, na.strings = \"\")\n",
    "## loads bold2.tsv as a dataframe object. works ok, bold2.tsv does not contain any '\\r' characters"
   ]
  },
  {
   "cell_type": "code",
   "execution_count": 5,
   "metadata": {},
   "outputs": [
    {
     "name": "stdout",
     "output_type": "stream",
     "text": [
      "'data.frame':\t33481 obs. of  80 variables:\n",
      " $ processid                 : chr  \"ASDMT195-11\" \"AUSBC1449-12\" \"BBDCN969-10\" \"CNBAA070-12\" ...\n",
      " $ sampleid                  : chr  \"BIOUG01400-F12\" \"BIOUG02300-F10\" \"10BBCDIP-0684\" \"BIOUG03122-A08\" ...\n",
      " $ recordID                  : int  2169593 2573154 1696313 2800078 2880250 2880693 2789729 2787852 2820902 2821644 ...\n",
      " $ catalognum                : chr  \"BIOUG01400-F12\" NA \"10BBCDIP-0684\" \"BIOUG03122-A08\" ...\n",
      " $ fieldnum                  : chr  \"MAS1009-10\" \"L#2011AUS-0374\" \"L#PC2010EI-138\" \"GMP#00366\" ...\n",
      " $ institution_storing       : chr  \"Centre for Biodiversity Genomics\" \"Centre for Biodiversity Genomics\" \"Centre for Biodiversity Genomics\" \"Centre for Biodiversity Genomics\" ...\n",
      " $ collection_code           : logi  NA NA NA NA NA NA ...\n",
      " $ bin_uri                   : chr  \"BOLD:ABU5546\" \"BOLD:AAP4717\" \"BOLD:ADZ9121\" \"BOLD:ACC2207\" ...\n",
      " $ phylum_taxID              : int  20 20 20 20 20 20 20 20 20 20 ...\n",
      " $ phylum_name               : chr  \"Arthropoda\" \"Arthropoda\" \"Arthropoda\" \"Arthropoda\" ...\n",
      " $ class_taxID               : int  82 82 82 82 82 82 82 82 82 82 ...\n",
      " $ class_name                : chr  \"Insecta\" \"Insecta\" \"Insecta\" \"Insecta\" ...\n",
      " $ order_taxID               : int  127 127 127 127 127 127 127 127 127 127 ...\n",
      " $ order_name                : chr  \"Diptera\" \"Diptera\" \"Diptera\" \"Diptera\" ...\n",
      " $ family_taxID              : int  183623 183623 183623 183623 183623 183623 183623 183623 183623 183623 ...\n",
      " $ family_name               : chr  \"Psychodidae\" \"Psychodidae\" \"Psychodidae\" \"Psychodidae\" ...\n",
      " $ subfamily_taxID           : int  330398 NA NA NA NA NA 330398 330398 330398 330398 ...\n",
      " $ subfamily_name            : chr  \"Psychodinae\" NA NA NA ...\n",
      " $ genus_taxID               : int  386808 NA NA NA NA NA 386808 386808 386808 386808 ...\n",
      " $ genus_name                : chr  \"Psychoda\" NA NA NA ...\n",
      " $ species_taxID             : int  NA NA NA NA NA NA NA NA NA NA ...\n",
      " $ species_name              : chr  NA NA NA NA ...\n",
      " $ subspecies_taxID          : int  NA NA NA NA NA NA NA NA NA NA ...\n",
      " $ subspecies_name           : chr  NA NA NA NA ...\n",
      " $ identification_provided_by: chr  \"Angela Telfer\" \"Angela Telfer\" \"Valerie Levesque-Beaudin\" NA ...\n",
      " $ identification_method     : logi  NA NA NA NA NA NA ...\n",
      " $ identification_reference  : chr  NA NA NA NA ...\n",
      " $ tax_note                  : logi  NA NA NA NA NA NA ...\n",
      " $ voucher_status            : chr  NA NA \"Vouchered:Registered Collection\" \"Vouchered:Registered Collection\" ...\n",
      " $ tissue_type               : chr  NA NA NA \"Whole Voucher\" ...\n",
      " $ collection_event_id       : logi  NA NA NA NA NA NA ...\n",
      " $ collectors                : chr  \"Alex Smith\" \"P. Hebert\" \"BIObus 2010\" \"Whittington\" ...\n",
      " $ collectiondate_start      : logi  NA NA NA NA NA NA ...\n",
      " $ collectiondate_end        : logi  NA NA NA NA NA NA ...\n",
      " $ collectiontime            : logi  NA NA NA NA NA NA ...\n",
      " $ collection_note           : chr  NA NA \"|Overcast|Deciduous forest\" \"Lodgepole pine/spruce\" ...\n",
      " $ site_code                 : chr  \"BIOUG:OTTAWAVALLEY\" \"BIOUG:AUSBC\" NA \"BIOUG:BANFF-NP:5\" ...\n",
      " $ sampling_protocol         : chr  \"Malaise Trap\" NA \"UV Light Trap\" \"Malaise Trap\" ...\n",
      " $ lifestage                 : chr  \"A\" NA \"A\" NA ...\n",
      " $ sex                       : chr  NA NA NA NA ...\n",
      " $ reproduction              : chr  \"S\" \"S\" \"S\" NA ...\n",
      " $ habitat                   : chr  NA NA \"Forest\" \"Wetland\" ...\n",
      " $ associated_specimens      : chr  NA NA NA NA ...\n",
      " $ associated_taxa           : chr  NA NA NA NA ...\n",
      " $ extrainfo                 : chr  \"Douglas\" \"Malaise\" \"Elk Island NP\" \"Banff NP\" ...\n",
      " $ notes                     : chr  NA \"<![CDATA[Nov26-Dec5]]>\" NA \"<![CDATA[New location]]>\" ...\n",
      " $ lat                       : num  45.5 -34 53.7 51.2 51.2 ...\n",
      " $ lon                       : num  -76.7 141 -112.9 -115.5 -115.5 ...\n",
      " $ coord_source              : chr  NA NA \"GPS WGS84\" \"GPS\" ...\n",
      " $ coord_accuracy            : int  NA NA NA NA NA NA NA NA NA NA ...\n",
      " $ elev                      : num  NA NA 721 1446 1446 ...\n",
      " $ depth                     : int  NA NA NA NA NA NA NA NA NA NA ...\n",
      " $ elev_accuracy             : int  NA NA NA NA NA NA NA NA NA NA ...\n",
      " $ depth_accuracy            : logi  NA NA NA NA NA NA ...\n",
      " $ country                   : chr  \"Canada\" \"Australia\" \"Canada\" \"Canada\" ...\n",
      " $ province_state            : chr  \"Ontario\" \"South Australia\" \"Alberta\" \"Alberta\" ...\n",
      " $ region                    : chr  \"Wilberforce Township, near Douglas Ontario\" NA \"Elk Island NP\" \"Banff National Park\" ...\n",
      " $ sector                    : chr  \"Douglas\" NA \"Staff Housing Area\" \"2km North from Johnston Lake\" ...\n",
      " $ exactsite                 : chr  NA \"Border Cliffs Resort on property, near Renmark\" NA NA ...\n",
      " $ image_ids                 : int  NA NA NA NA NA NA NA NA NA NA ...\n",
      " $ image_urls                : chr  NA NA NA NA ...\n",
      " $ media_descriptors         : chr  NA NA NA NA ...\n",
      " $ captions                  : chr  NA NA NA NA ...\n",
      " $ copyright_holders         : chr  NA NA NA NA ...\n",
      " $ copyright_years           : int  NA NA NA NA NA NA NA NA NA NA ...\n",
      " $ copyright_licenses        : chr  NA NA NA NA ...\n",
      " $ copyright_institutions    : chr  NA NA NA NA ...\n",
      " $ photographers             : chr  NA NA NA NA ...\n",
      " $ sequenceID                : int  4380910 4568909 3827689 4902759 5015771 5038379 4731364 4731164 4739760 4742891 ...\n",
      " $ markercode                : chr  \"COI-5P\" \"COI-5P\" \"COI-5P\" \"COI-5P\" ...\n",
      " $ genbank_accession         : chr  \"MG298038\" NA \"JF868448\" \"MF859498\" ...\n",
      " $ nucleotides               : chr  \"TACCTTATATTTCATTTTTGGTAGTTGAGCAAGAATAGTTGGTACTTCTTTAAGAATAATTATTCGAGCCGAATTAGGTCACCCAGGTTCATTAATTGGAAATGACCAAAT\"| __truncated__ \"TACTTTATATTTTATTTTTGGAAGTTGAGCAAGAATAGTAGGTACTTCTCTTAGAATAATTATTCGAGCTGAATTAGGTCATCCAGGTTCATTAATTGGAAATGATCAAAT\"| __truncated__ \"AACATTATATTTTATTTTTGGAAGTTGAGCTAGTATAGTAGGAACTTCCTTAAGAATTATTATTCGAACAGAATTAGGTCACCCAGGATCTTTAATTGGAAATGACCAAAT\"| __truncated__ \"AACTTTATATTTTATTTTTGGTAGTTGAGCAAGAATAATTGGGACTTCTTTAAGAATAATTATTCGAACTGAATTAGGACACCCCGGCTCA---TTAATTGGGAATGACCA\"| __truncated__ ...\n",
      " $ trace_ids                 : int  3833112 4238752 2723078 4732002 4800992 4839332 4571370 4571008 4590323 4597456 ...\n",
      " $ trace_names               : chr  \"ASDMT195-11[C_LepFolF,C_LepFolR]_F.ab1\" \"AUSBC1449-12[C_LepFolF,C_LepFolR]_R.ab1\" \"BBDCN969-10[C_LepFolF,C_LepFolR]_F.ab1\" \"CNBAA070-12[C_LepFolF,C_LepFolR]_R.ab1\" ...\n",
      " $ trace_links               : chr  \"http://trace.boldsystems.org/traceIO/bold.org/5696715\" \"http://trace.boldsystems.org/traceIO/bold.org/6086822\" \"http://trace.boldsystems.org/traceIO/bold.org/2403346\" \"http://trace.boldsystems.org/traceIO/bold.org/6579263\" ...\n",
      " $ run_dates                 : chr  \"2012-02-28T02:15:11\" \"2012-06-22T13:21:29\" \"2011-02-22T22:35:28\" \"2012-12-17T11:28:08\" ...\n",
      " $ sequencing_centers        : chr  \"Biodiversity Institute of Ontario\" \"Biodiversity Institute of Ontario\" \"Biodiversity Institute of Ontario\" \"Biodiversity Institute of Ontario\" ...\n",
      " $ directions                : chr  \"F\" \"R\" \"F\" \"R\" ...\n",
      " $ seq_primers               : chr  \"C_LepFolF\" \"C_LepFolR\" \"C_LepFolF\" \"C_LepFolR\" ...\n",
      " $ marker_codes              : chr  \"COI-5P\" \"COI-5P\" \"COI-5P\" \"COI-5P\" ...\n"
     ]
    }
   ],
   "source": [
    "str(bold_dataframe)"
   ]
  },
  {
   "cell_type": "markdown",
   "metadata": {},
   "source": [
    "## **Taking a closer look at the bold_dataframe$nucleotides field**\n",
    "Introducing a field \"seqlen1\" that has the number of nucleotides in the COI_data"
   ]
  },
  {
   "cell_type": "code",
   "execution_count": 7,
   "metadata": {},
   "outputs": [],
   "source": [
    "bold_data = subset(bold_dataframe, !is.na(nucleotides))\n",
    "bold_data %>% mutate(seqlen1 = nchar(nucleotides)) -> resulting_dataframe1 "
   ]
  },
  {
   "cell_type": "markdown",
   "metadata": {},
   "source": [
    "## **REMOVING '-'characters from nucleotide sequences and creating a field of unalinged nucleotide sequences**\n",
    "(resulting_dataframe2$unaligned_nucleotides)\n"
   ]
  },
  {
   "cell_type": "code",
   "execution_count": 8,
   "metadata": {},
   "outputs": [],
   "source": [
    "resulting_dataframe1 %>% mutate(unaligned_nucleotides = gsub('-', '', resulting_dataframe1$nucleotides, ignore.case = FALSE, perl = FALSE, fixed = FALSE, useBytes = FALSE)) -> resulting_dataframe2 "
   ]
  },
  {
   "cell_type": "markdown",
   "metadata": {},
   "source": [
    "## **Introducing a field seqlen2 with number nucleotides in resulting_dataframe2$unaligned_nucleotides field**\n"
   ]
  },
  {
   "cell_type": "code",
   "execution_count": 9,
   "metadata": {},
   "outputs": [],
   "source": [
    "resulting_dataframe2 %>% mutate(seqlen2 = nchar(unaligned_nucleotides)) -> resulting_dataframe3 "
   ]
  },
  {
   "cell_type": "markdown",
   "metadata": {},
   "source": [
    "## **Taking a closer look at resulting_dataframe3$markercode**\n",
    "Filtering records corresponding to COI-5P markers"
   ]
  },
  {
   "cell_type": "code",
   "execution_count": 6,
   "metadata": {},
   "outputs": [],
   "source": [
    "COI_data = subset(resulting_dataframe3, \n",
    "                  markercode == \"COI-5P\" & !is.na(nucleotides))\n",
    "non_COI_data = subset(resulting_dataframe3, \n",
    "                      markercode != \"COI-5P\" & !is.na(nucleotides))"
   ]
  },
  {
   "cell_type": "markdown",
   "metadata": {},
   "source": [
    "## **Generating a file with all 'COI-5P' sequences**"
   ]
  },
  {
   "cell_type": "code",
   "execution_count": 10,
   "metadata": {},
   "outputs": [
    {
     "name": "stdout",
     "output_type": "stream",
     "text": [
      "\n",
      "Of all 33481 retrieved records,  33253  sequences have 'COI-5P' marker.  These are the only ones retained for downstream analysis::\n"
     ]
    }
   ],
   "source": [
    "COI_data -> COI_all_data\n",
    "cat(\"\\nOf all\",nrow(bold_dataframe), \"retrieved records, \",\n",
    "    length(COI_all_data$unaligned_nucleotides), \" sequences have 'COI-5P' marker.\",\n",
    "    \" These are the only ones retained for downstream analysis::\\n\")"
   ]
  },
  {
   "cell_type": "markdown",
   "metadata": {},
   "source": [
    "## **Introducing a filter to remove sequences with less than 500 nucleotides**"
   ]
  },
  {
   "cell_type": "code",
   "execution_count": 11,
   "metadata": {},
   "outputs": [
    {
     "name": "stdout",
     "output_type": "stream",
     "text": [
      "\t 32351 sequences have 500 or more nucleotide bases\n"
     ]
    }
   ],
   "source": [
    "COI_all_data %>% filter(seqlen2 >= 500 ) -> COI_Over499_data\n",
    "cat(\"\\t\",length(COI_Over499_data$unaligned_nucleotides),\n",
    "    \"sequences have 500 or more nucleotide bases\\n\")"
   ]
  },
  {
   "cell_type": "markdown",
   "metadata": {},
   "source": [
    "## **Introducing a filter to remove any sequence with less than 500 and more than 700 nucleotides**\n"
   ]
  },
  {
   "cell_type": "code",
   "execution_count": 12,
   "metadata": {},
   "outputs": [
    {
     "name": "stdout",
     "output_type": "stream",
     "text": [
      "\t 32302 sequences have 500 to 700 bases\n"
     ]
    }
   ],
   "source": [
    "COI_all_data %>% filter(seqlen2 >= 500 & seqlen2 <= 700) -> COI_500to700_data\n",
    "cat(\"\\t\",length(COI_500to700_data$unaligned_nucleotides),\n",
    "    \"sequences have 500 to 700 bases\\n\")"
   ]
  },
  {
   "cell_type": "markdown",
   "metadata": {},
   "source": [
    "## **Introducing a filter to remove any sequence with less than 650 and over 660 nucleotides**"
   ]
  },
  {
   "cell_type": "code",
   "execution_count": 13,
   "metadata": {},
   "outputs": [
    {
     "name": "stdout",
     "output_type": "stream",
     "text": [
      "\t 4415 sequences have 650 to 660 bases\n"
     ]
    }
   ],
   "source": [
    "COI_all_data %>% filter(seqlen2 >= 650 & seqlen2 <= 660) -> COI_650to660_data\n",
    "cat(\"\\t\",length(COI_650to660_data$unaligned_nucleotides),\n",
    "    \"sequences have 650 to 660 bases\\n\") "
   ]
  },
  {
   "cell_type": "markdown",
   "metadata": {},
   "source": [
    "## **Introducing a filter to remove any sequence with over 500 nucleotides**"
   ]
  },
  {
   "cell_type": "code",
   "execution_count": 14,
   "metadata": {},
   "outputs": [
    {
     "name": "stdout",
     "output_type": "stream",
     "text": [
      "\t 902 sequences have less than 500 bases\n"
     ]
    }
   ],
   "source": [
    "COI_all_data %>% filter(seqlen2 < 500) -> COI_Under500_data\n",
    "cat(\"\\t\",length(COI_Under500_data$unaligned_nucleotides),\n",
    "    \"sequences have less than 500 bases\\n\")"
   ]
  },
  {
   "cell_type": "markdown",
   "metadata": {},
   "source": [
    "## **Introducing a filter to remove any sequence with less than 700 nucleotides**"
   ]
  },
  {
   "cell_type": "code",
   "execution_count": 15,
   "metadata": {},
   "outputs": [
    {
     "name": "stdout",
     "output_type": "stream",
     "text": [
      "\t 49 sequences have more than 700 bases\n"
     ]
    }
   ],
   "source": [
    "COI_all_data %>% filter(seqlen2 > 700) -> COI_Over700_data\n",
    "cat(\"\\t\",length(COI_Over700_data$unaligned_nucleotides),\n",
    "    \"sequences have more than 700 bases\\n\")"
   ]
  },
  {
   "cell_type": "markdown",
   "metadata": {},
   "source": [
    "## **Assessing those with geographical coordinates**"
   ]
  },
  {
   "cell_type": "code",
   "execution_count": 19,
   "metadata": {},
   "outputs": [
    {
     "name": "stdout",
     "output_type": "stream",
     "text": [
      "\t 1750 records lack latitude co-ordinates \n",
      "\t 1750 records lack longitude co-ordinates"
     ]
    }
   ],
   "source": [
    "cat( \"\\t\", nrow(subset (COI_all_data, is.na(lat))), \"records lack latitude co-ordinates \\n\\t\",\n",
    "    nrow(subset (COI_all_data, is.na(lon))), \"records lack longitude co-ordinates\")"
   ]
  },
  {
   "cell_type": "markdown",
   "metadata": {},
   "source": [
    "## **Summary**"
   ]
  },
  {
   "cell_type": "code",
   "execution_count": 37,
   "metadata": {},
   "outputs": [
    {
     "name": "stdout",
     "output_type": "stream",
     "text": [
      "\n",
      " 33253 records have COI-5P marker sequences 43 have non-COI-5P markersequences 185 lack nucleotide sequence values (is.na(nucleotides))"
     ]
    }
   ],
   "source": [
    "cat( \"\\n\", nrow(COI_data), \"records have COI-5P marker sequences\",\n",
    "    nrow(subset(bold_dataframe, markercode != \"COI-5P\")),\n",
    "    \"have non-COI-5P markersequences\",\n",
    "    nrow(subset(bold_dataframe,  is.na(nucleotides) )),\n",
    "    \"lack nucleotide sequence values (is.na(nucleotides))\")"
   ]
  },
  {
   "cell_type": "markdown",
   "metadata": {},
   "source": [
    "## **Printing copies of the final tidy files as dataframes in .tsv format**"
   ]
  },
  {
   "cell_type": "code",
   "execution_count": null,
   "metadata": {},
   "outputs": [],
   "source": [
    "output_list = c(\"COI_all_data\", \"non_COI_data\", \"COI_Over499_data\", \"COI_500to700_data\", \"COI_650to660_data\", \"COI_Over700_data\", \"COI_Under500_data\")\n",
    "output_list_names = c(\"_all_data\", \"_NonCOI_data\", \"_Over499_data\", \"_500to700_data\", \"_650to660_data\", \"_Over700_data\", \"_Under500_data\")\n",
    "\n",
    "datalist = lapply(output_list, get)\n",
    "names(datalist) <- paste(input_src,\"/\", filename, output_list_names, sep= \"\" )\n",
    "for (i in 1:length(datalist)) {write.table(datalist[i], file = paste(names(datalist[i]), \".tsv\", sep = \"\"), row.names = FALSE, col.names= TRUE, sep = \"\\t\", quote=FALSE)}"
   ]
  }
 ],
 "metadata": {
  "kernelspec": {
   "display_name": "R",
   "language": "R",
   "name": "ir"
  },
  "language_info": {
   "codemirror_mode": "r",
   "file_extension": ".r",
   "mimetype": "text/x-r-source",
   "name": "R",
   "pygments_lexer": "r",
   "version": "3.6.2"
  }
 },
 "nbformat": 4,
 "nbformat_minor": 2
}
