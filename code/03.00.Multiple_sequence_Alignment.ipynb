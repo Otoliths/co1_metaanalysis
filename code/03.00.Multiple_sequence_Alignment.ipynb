{
 "cells": [
  {
   "cell_type": "markdown",
   "metadata": {},
   "source": [
    "# **Multiple Sequence Alignment**"
   ]
  },
  {
   "cell_type": "markdown",
   "metadata": {},
   "source": [
    "This notebook covers work done on MSA and any strategies used to improve on the alignments\n",
    "## **Goals**\n",
    "1. Develop a Multiple Sequence Alignment pipeline\n",
    "2. Make decision on which tools to use for MSA and visualization\n",
    "3. Conduct Multiple Sequence Alignment on the generated FASTA format sequences\n",
    "4. Visualize the results using an assortment of tools\n",
    "5. Trim and develop a clean, suitable data set for phylogenetic analysis:  \n",
    "5.1. Exclude unaligned sequences (non-homologous)  \n",
    "5.2. Exclude short sequences\n"
   ]
  },
  {
   "cell_type": "markdown",
   "metadata": {},
   "source": [
    "## **Tasks**\n",
    "1. [Installing the bioinformatics tools for MSA](./03.01.MSA_tools_installation.ipynb)\n",
    "2. Setting up the tools: writting the scripts, setting parameters and testing using samples from test data\n",
    "3. Evaluating the test data results from various tools to enable decision making on which tools to use for what purpose\n",
    "4. Conduct MSA on the subsets of data using the best selected tools\n",
    "5. Visuallize the aligned sequences and trim the sequences to collumns within the 658 5' region of the COI-5P barcode\n",
    "6. Finally develop a suitable data set for phylogenetic analysis"
   ]
  },
  {
   "cell_type": "markdown",
   "metadata": {},
   "source": [
    "### **Multiple Sequence Alignment tools.**\n",
    "1. [MUSCLE.](http://www.drive5.com/muscle/)\n",
    "It is problematic to align large number of sequences using global alignment algorithims used by muscle as explained in [Very large alignments are usually a bad idea](http://www.drive5.com/muscle/manual/bigalignments.html). Clustering highly identical (95% or 90% identity) help reduce the the sequences and challanges faced.\n",
    "2. [T-Coffee(Tree based Consistency Objective Function For AlignmEnt Evaluation)](https://github.com/cbcrg/tcoffee). [The regressive mode of T-Coffee](https://github.com/cbcrg/tcoffee/blob/master/docs/tcoffee_quickstart_regressive.rst) is [described as most suitable for large datasets](https://www.biorxiv.org/content/10.1101/490235v1.full) by E. G. Nogales et. al (2018).\n",
    "3. [MAFFT Version 7](https://mafft.cbrc.jp/alignment/software/). For large datasets: [Tips for handling a large dataset](https://mafft.cbrc.jp/alignment/software/tips.html). More published by [T. Nakamura et. al (2018)](https://academic.oup.com/bioinformatics/article/34/14/2490/4916099)\n",
    "4. [SATé(Simultaneous Alignment and Tree Estimation)](http://sysbio.oxfordjournals.org/content/61/1/90.abstract?sid=58895a54-2686-4b58-a676-3cc4d73a3b76): From GitHub [source code](https://github.com/sate-dev/sate-core) using [sate-tools-linux](https://github.com/sate-dev/sate-tools-linux) tools\n",
    "5. [PASTA(Practical Alignment using Sate and TrAnsitivity)](https://www.liebertpub.com/doi/full/10.1089/cmb.2014.0156): From GitHub [Source code](https://github.com/smirarab/pasta) [(Tutorial)](https://github.com/smirarab/pasta/blob/master/pasta-doc/pasta-tutorial.md)\n",
    "6. Other tools; [SEPP](https://github.com/smirarab/sepp), [UPP](https://github.com/smirarab/sepp/blob/master/README.UPP.md) and [HMMER](http://hmmer.org/)\n",
    "7. Visualized the multiple sequence alignments using [jalview](http://www.jalview.org/download) for datasets upto a few thousands and [Seaview](http://doua.prabi.fr/software/seaview) by [Gouy et al.](https://academic.oup.com/mbe/article/27/2/221/970247) for bigger data sets. Seaview uses the FLTK project (installed separately) for its user interface.\n",
    "\n",
    "#### MSA evaluation methods used in T_Coffee:\n",
    "We used the following [sequence based methods](https://tcoffee.readthedocs.io/en/latest/tcoffee_main_documentation.html#sequence-based-methods) to evaluate our MSAs:\n",
    "1. [Computing the CORE index of any alignment\n",
    "](https://tcoffee.readthedocs.io/en/latest/tcoffee_main_documentation.html#computing-the-local-core-index).\n",
    "2. Evaluating the [Transitive Consistency Score (TCS)](https://tcoffee.readthedocs.io/en/latest/tcoffee_main_documentation.html#transitive-consistency-score-tcs) of an MSA. The scores generated here are usefull in filtering our sequences and in phylogenetic inference based on herogenous site evolutionary rates.\n"
   ]
  },
  {
   "cell_type": "markdown",
   "metadata": {},
   "source": [
    "### **MSA Tools Installation**\n",
    "**MUSCLE, T-Coffee and MAFFT** are all available on conda environment bioconda channel and are easily installed to our analysis anaconda3 environment (coi_env):"
   ]
  },
  {
   "cell_type": "code",
   "execution_count": null,
   "metadata": {},
   "outputs": [],
   "source": [
    "%%bash\n",
    "conda env list\n",
    "#conda install -n coi_env -c bioconda t-coffee muscle mafft"
   ]
  },
  {
   "cell_type": "markdown",
   "metadata": {},
   "source": [
    "**SATé** and **PASTA** up-to-date source codes are available on GitHub and are installed as described below.  \n",
    "SATé *(~on its own~)** was not compatible with Python3 and some of it's dependencies were no longer available for Python2. I tried to upgrade it to accommodate Python3 but gave up after a few days.  \n",
    ">(~on its own~)*: SATé is a crucial part of PASTA and UPP/SEPP by extention and won't operate without some inbuilt SATé modules"
   ]
  },
  {
   "cell_type": "code",
   "execution_count": null,
   "metadata": {},
   "outputs": [],
   "source": [
    "%%bash\n",
    "# PASTA\n",
    "#cd ~/bioinformatics/github/co1_metaanalysis/code/tools/pasta_code/\n",
    "#git clone https://github.com/smirarab/pasta.git\n",
    "#git clone https://github.com/sate-dev/sate-tools-linux.git\n",
    "cd pasta/\n",
    "sudo python3 setup.py develop\n",
    "chmod +x run_pasta.py\n",
    "chmod +x run_pasta_gui.py\n",
    "chmod +x run_seqtools.py\n",
    "\n",
    "# SATé\n",
    "#cd ~/bioinformatics/github/co1_metaanalysis/code/tools/sate/\n",
    "#git clone https://github.com/sate-dev/sate-core.git\n",
    "#git clone https://github.com/sate-dev/sate-tools-linux.git\n",
    "sudo python3 setup.py develop #\n",
    "chmod +x run_sate.py\n",
    "chmod +x run_sate_gui.py"
   ]
  },
  {
   "cell_type": "markdown",
   "metadata": {},
   "source": [
    "For the **other tools**:\n",
    "1. SEPP (SATe-enabled Phylogenetic Placement): phylogenetic placement of short reads into reference alignments and trees.\n",
    "2. UPP (Ultra-large alignments using Phylogeny-aware Profiles): alignment of very large datasets, potentially containing fragmentary data.\n",
    "4. HMMER (I have **NOT** used so far for alignment on it's own): Uses probabilistic models called profile hidden Markov models (profile HMMs) for sequence alignment among other functions\n",
    "\n",
    "SEPP and UPP source codes are available on GitHub as a single package and were installed as follows:"
   ]
  },
  {
   "cell_type": "code",
   "execution_count": null,
   "metadata": {},
   "outputs": [],
   "source": [
    "%%bash\n",
    "# SEPP\n",
    "#cd ~/bioinformatics/github/co1_metaanalysis/code/tools/sepp\n",
    "#git clone https://github.com/smirarab/sepp.git\n",
    "python3 setup.py config -c \n",
    "python3 setup.py install"
   ]
  },
  {
   "cell_type": "markdown",
   "metadata": {},
   "source": [
    "### **Visualization Tools**\n",
    "1. **Seaview**: The most suitable\n",
    "2. **Jalview**: Good for fewer sequences\n",
    "3. **SuiteMSA**\n",
    "\n",
    "All are java based programs and were installed using their source codes"
   ]
  },
  {
   "cell_type": "code",
   "execution_count": null,
   "metadata": {},
   "outputs": [],
   "source": []
  }
 ],
 "metadata": {
  "kernelspec": {
   "display_name": "Python 3",
   "language": "python",
   "name": "python3"
  },
  "language_info": {
   "codemirror_mode": {
    "name": "ipython",
    "version": 3
   },
   "file_extension": ".py",
   "mimetype": "text/x-python",
   "name": "python",
   "nbconvert_exporter": "python",
   "pygments_lexer": "ipython3",
   "version": "3.6.8"
  }
 },
 "nbformat": 4,
 "nbformat_minor": 2
}
