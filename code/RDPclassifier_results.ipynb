{
 "cells": [
  {
   "cell_type": "markdown",
   "metadata": {},
   "source": [
    "# **Analysis of RDPclassifier analysis results**  \n",
    "Here we set out to understand the output of RDPclassifier taxonomic classification on our dataset in Order Diptera  \n",
    "### **Setting up the environment**\n",
    "1. **Setting the working directory**"
   ]
  },
  {
   "cell_type": "code",
   "execution_count": 4,
   "metadata": {},
   "outputs": [
    {
     "data": {
      "text/html": [
       "'/home/kibet/bioinformatics/github/co1_metaanalysis/code'"
      ],
      "text/latex": [
       "'/home/kibet/bioinformatics/github/co1\\_metaanalysis/code'"
      ],
      "text/markdown": [
       "'/home/kibet/bioinformatics/github/co1_metaanalysis/code'"
      ],
      "text/plain": [
       "[1] \"/home/kibet/bioinformatics/github/co1_metaanalysis/code\""
      ]
     },
     "metadata": {},
     "output_type": "display_data"
    },
    {
     "data": {
      "text/html": [
       "'/home/kibet/bioinformatics/github/co1_metaanalysis/data/input/diptera'"
      ],
      "text/latex": [
       "'/home/kibet/bioinformatics/github/co1\\_metaanalysis/data/input/diptera'"
      ],
      "text/markdown": [
       "'/home/kibet/bioinformatics/github/co1_metaanalysis/data/input/diptera'"
      ],
      "text/plain": [
       "[1] \"/home/kibet/bioinformatics/github/co1_metaanalysis/data/input/diptera\""
      ]
     },
     "metadata": {},
     "output_type": "display_data"
    }
   ],
   "source": [
    "getwd()\n",
    "setwd(\"/home/kibet/bioinformatics/github/co1_metaanalysis/data/input/diptera\")\n",
    "getwd()"
   ]
  },
  {
   "cell_type": "markdown",
   "metadata": {},
   "source": [
    "2. **Loading packages**"
   ]
  },
  {
   "cell_type": "code",
   "execution_count": 5,
   "metadata": {},
   "outputs": [
    {
     "name": "stdout",
     "output_type": "stream",
     "text": [
      "\n",
      "Checking if needed packages are installed... tidyverse packages: 'ggplot2','dplyr' and 'magrittr' and 'tools'\n",
      "Excellent tidyverse already installed.\n",
      "proceeding with summary analysis of RDPclassifier results...\n"
     ]
    },
    {
     "data": {
      "text/html": [
       "'tsv'"
      ],
      "text/latex": [
       "'tsv'"
      ],
      "text/markdown": [
       "'tsv'"
      ],
      "text/plain": [
       "[1] \"tsv\""
      ]
     },
     "metadata": {},
     "output_type": "display_data"
    },
    {
     "data": {
      "text/html": [
       "'enafroCOI_diptera_taxa'"
      ],
      "text/latex": [
       "'enafroCOI\\_diptera\\_taxa'"
      ],
      "text/markdown": [
       "'enafroCOI_diptera_taxa'"
      ],
      "text/plain": [
       "[1] \"enafroCOI_diptera_taxa\""
      ]
     },
     "metadata": {},
     "output_type": "display_data"
    },
    {
     "data": {
      "text/html": [
       "'/home/kibet/bioinformatics/github/co1_metaanalysis/data/input/diptera/enafroCOI_diptera_taxa.tsv'"
      ],
      "text/latex": [
       "'/home/kibet/bioinformatics/github/co1\\_metaanalysis/data/input/diptera/enafroCOI\\_diptera\\_taxa.tsv'"
      ],
      "text/markdown": [
       "'/home/kibet/bioinformatics/github/co1_metaanalysis/data/input/diptera/enafroCOI_diptera_taxa.tsv'"
      ],
      "text/plain": [
       "[1] \"/home/kibet/bioinformatics/github/co1_metaanalysis/data/input/diptera/enafroCOI_diptera_taxa.tsv\""
      ]
     },
     "metadata": {},
     "output_type": "display_data"
    },
    {
     "data": {
      "text/html": [
       "'/home/kibet/bioinformatics/github/co1_metaanalysis/data/input/diptera'"
      ],
      "text/latex": [
       "'/home/kibet/bioinformatics/github/co1\\_metaanalysis/data/input/diptera'"
      ],
      "text/markdown": [
       "'/home/kibet/bioinformatics/github/co1_metaanalysis/data/input/diptera'"
      ],
      "text/plain": [
       "[1] \"/home/kibet/bioinformatics/github/co1_metaanalysis/data/input/diptera\""
      ]
     },
     "metadata": {},
     "output_type": "display_data"
    },
    {
     "data": {
      "text/html": [
       "'enafroCOI_diptera_taxa.tsv'"
      ],
      "text/latex": [
       "'enafroCOI\\_diptera\\_taxa.tsv'"
      ],
      "text/markdown": [
       "'enafroCOI_diptera_taxa.tsv'"
      ],
      "text/plain": [
       "[1] \"enafroCOI_diptera_taxa.tsv\""
      ]
     },
     "metadata": {},
     "output_type": "display_data"
    },
    {
     "data": {
      "text/html": [
       "'/home/kibet/bioinformatics/github/co1_metaanalysis/data/input/diptera'"
      ],
      "text/latex": [
       "'/home/kibet/bioinformatics/github/co1\\_metaanalysis/data/input/diptera'"
      ],
      "text/markdown": [
       "'/home/kibet/bioinformatics/github/co1_metaanalysis/data/input/diptera'"
      ],
      "text/plain": [
       "[1] \"/home/kibet/bioinformatics/github/co1_metaanalysis/data/input/diptera\""
      ]
     },
     "metadata": {},
     "output_type": "display_data"
    }
   ],
   "source": [
    "cat(\"\\nChecking if needed packages are installed... tidyverse packages: 'ggplot2','dplyr' and 'magrittr' and 'tools'\")\n",
    "if(\"tidyverse\" %in% rownames(installed.packages()) == FALSE) {\n",
    "        install.packages(\"tidyverse\")\n",
    "} else {\n",
    "        cat(\"\\nExcellent tidyverse already installed.\\nproceeding with summary analysis of RDPclassifier results...\\n\")\n",
    "\t## loading dplyr, ggplot2 and magrittr packages\n",
    "    suppressMessages(library(dplyr))\n",
    "    suppressMessages(library(ggplot2))\n",
    "    suppressMessages(library(magrittr))\n",
    "    suppressMessages(library(tools))\n",
    "}\n",
    "filename_ext = file_ext(\"enafroCOI_diptera_taxa.tsv\")\n",
    "filename_ext\n",
    "filename = file_path_sans_ext(\"enafroCOI_diptera_taxa.tsv\")\n",
    "filename\n",
    "file_path_as_absolute(\"enafroCOI_diptera_taxa.tsv\")\n",
    "workingdir=getwd()\n",
    "workingdir\n",
    "basename(\"enafroCOI_diptera_taxa.tsv\")\n",
    "input_src=dirname(file_path_as_absolute(\"enafroCOI_diptera_taxa.tsv\"))\n",
    "input_src"
   ]
  },
  {
   "cell_type": "markdown",
   "metadata": {},
   "source": [
    "3. **Loading Data**"
   ]
  },
  {
   "cell_type": "code",
   "execution_count": 6,
   "metadata": {},
   "outputs": [
    {
     "name": "stdout",
     "output_type": "stream",
     "text": [
      "enafroCOI_diptera_taxa'data.frame':\t48137 obs. of  34 variables:\n",
      " $ Process_ID         : chr  \"GBDP19110-15\" \"GBDP19109-15\" \"GBDP19118-15\" \"GBDP4645-08\" ...\n",
      " $ Phylum             : chr  \"Arthropoda\" \"Arthropoda\" \"Arthropoda\" \"Arthropoda\" ...\n",
      " $ Class              : chr  \"Insecta\" \"Insecta\" \"Insecta\" \"Insecta\" ...\n",
      " $ Order              : chr  \"Diptera\" \"Diptera\" \"Diptera\" \"Diptera\" ...\n",
      " $ Family             : chr  \"Psychodidae\" \"Psychodidae\" \"Psychodidae\" \"Ceratopogonidae\" ...\n",
      " $ Subfamily          : chr  \"Phlebotominae\" \"Phlebotominae\" \"Phlebotominae\" \"Ceratopogoninae\" ...\n",
      " $ Tribe              : logi  NA NA NA NA NA NA ...\n",
      " $ Genus              : chr  \"Sergentomyia\" \"Sergentomyia\" \"Sergentomyia\" \"Culicoides\" ...\n",
      " $ Species            : chr  \"Sergentomyia_minuta\" \"Sergentomyia_minuta\" \"Sergentomyia_minuta\" \"Culicoides_imicola\" ...\n",
      " $ Subspecies         : chr  NA NA NA NA ...\n",
      " $ Country            : chr  \"Algeria\" \"Algeria\" \"Algeria\" \"Algeria\" ...\n",
      " $ Exactsite          : chr  NA NA NA NA ...\n",
      " $ Latitude           : num  NA NA NA NA NA NA NA NA NA NA ...\n",
      " $ Longitude          : num  NA NA NA NA NA NA NA NA NA NA ...\n",
      " $ Elevation          : num  NA NA NA NA NA NA NA NA NA NA ...\n",
      " $ seq_len            : int  564 564 564 471 471 471 450 472 472 472 ...\n",
      " $ As_CellularOrganism: chr  \"cellularOrganisms\" \"cellularOrganisms\" \"cellularOrganisms\" \"cellularOrganisms\" ...\n",
      " $ CellularOrganism_sc: num  1 1 1 1 1 1 1 1 1 1 ...\n",
      " $ As_superkingdom    : chr  \"Eukaryota\" \"Eukaryota\" \"Eukaryota\" \"Eukaryota\" ...\n",
      " $ Superkingdom_sc    : num  1 1 1 1 1 1 1 1 1 1 ...\n",
      " $ As_kingdom         : chr  \"Metazoa\" \"Metazoa\" \"Metazoa\" \"Metazoa\" ...\n",
      " $ Kingdom_sc         : num  1 1 1 1 1 1 1 1 1 1 ...\n",
      " $ As_phylum          : chr  \"Arthropoda\" \"Arthropoda\" \"Arthropoda\" \"Arthropoda\" ...\n",
      " $ Phylum_sc          : num  1 1 1 1 1 1 1 1 1 1 ...\n",
      " $ As_class           : chr  \"Insecta\" \"Insecta\" \"Insecta\" \"Insecta\" ...\n",
      " $ Class_sc           : num  1 1 1 1 1 1 1 1 1 1 ...\n",
      " $ As_order           : chr  \"Diptera\" \"Diptera\" \"Diptera\" \"Diptera\" ...\n",
      " $ Order_sc           : num  1 1 1 1 1 1 1 1 1 1 ...\n",
      " $ As_family          : chr  \"Psychodidae\" \"Psychodidae\" \"Psychodidae\" \"Ceratopogonidae\" ...\n",
      " $ Family_sc          : num  1 1 1 1 1 1 1 1 1 1 ...\n",
      " $ As_genus           : chr  \"Sergentomyia\" \"Sergentomyia\" \"Sergentomyia\" \"Culicoides\" ...\n",
      " $ Genus_sc           : num  1 1 1 1 1 1 1 1 1 1 ...\n",
      " $ As_species         : chr  \"Sergentomyia_minuta\" \"Sergentomyia_minuta\" \"Sergentomyia_minuta\" \"Culicoides_imicola\" ...\n",
      " $ Species_sc         : num  1 1 1 1 1 1 0.95 1 1 1 ...\n"
     ]
    }
   ],
   "source": [
    "cat(filename)\n",
    "df_taxa = read.delim(\"enafroCOI_diptera_taxa.tsv\", sep = \"\\t\", stringsAsFactors = F, dec = \".\", header = T) \n",
    "str(df_taxa)"
   ]
  },
  {
   "cell_type": "markdown",
   "metadata": {},
   "source": [
    "4. **Taking a closer look at the family taxa statistics**"
   ]
  },
  {
   "cell_type": "code",
   "execution_count": 9,
   "metadata": {},
   "outputs": [
    {
     "name": "stdout",
     "output_type": "stream",
     "text": [
      "33 predefined families (seq_len >= 500), with frequency of over 20, are found in this clade, out of 62 represented families (seq_len >= 500)\n",
      "\n",
      "22 assigned families (BS score = 1.0 & seq_len >= 500), with frequency of over 20, are found in this clade out of 45 represented assigned families (seq_len >= 500)\n",
      "\n"
     ]
    },
    {
     "data": {
      "text/html": [
       "<table>\n",
       "<caption>A data.frame: 27 × 3</caption>\n",
       "<thead>\n",
       "\t<tr><th></th><th scope=col>Family</th><th scope=col>prefamfreq</th><th scope=col>asfamfreq</th></tr>\n",
       "\t<tr><th></th><th scope=col>&lt;fct&gt;</th><th scope=col>&lt;int&gt;</th><th scope=col>&lt;int&gt;</th></tr>\n",
       "</thead>\n",
       "<tbody>\n",
       "\t<tr><th scope=row>1</th><td>Agromyzidae    </td><td> 232</td><td>  41</td></tr>\n",
       "\t<tr><th scope=row>2</th><td>Anthomyiidae   </td><td>  38</td><td>  14</td></tr>\n",
       "\t<tr><th scope=row>3</th><td>Asilidae       </td><td>  54</td><td>  52</td></tr>\n",
       "\t<tr><th scope=row>5</th><td>Blephariceridae</td><td>  25</td><td>  25</td></tr>\n",
       "\t<tr><th scope=row>6</th><td>Calliphoridae  </td><td> 459</td><td> 492</td></tr>\n",
       "\t<tr><th scope=row>7</th><td>Cecidomyiidae  </td><td> 345</td><td>   9</td></tr>\n",
       "\t<tr><th scope=row>8</th><td>Ceratopogonidae</td><td>2767</td><td>1246</td></tr>\n",
       "\t<tr><th scope=row>9</th><td>Chironomidae   </td><td> 289</td><td> 341</td></tr>\n",
       "\t<tr><th scope=row>10</th><td>Chloropidae    </td><td>  66</td><td>   1</td></tr>\n",
       "\t<tr><th scope=row>11</th><td>Culicidae      </td><td>1183</td><td>2061</td></tr>\n",
       "\t<tr><th scope=row>12</th><td>Drosophilidae  </td><td>  92</td><td> 116</td></tr>\n",
       "\t<tr><th scope=row>13</th><td>Ephydridae     </td><td>  85</td><td>   6</td></tr>\n",
       "\t<tr><th scope=row>17</th><td>Hybotidae      </td><td> 190</td><td>  77</td></tr>\n",
       "\t<tr><th scope=row>19</th><td>Milichiidae    </td><td>  43</td><td>   4</td></tr>\n",
       "\t<tr><th scope=row>20</th><td>Muscidae       </td><td> 686</td><td> 664</td></tr>\n",
       "\t<tr><th scope=row>23</th><td>Phoridae       </td><td> 593</td><td> 685</td></tr>\n",
       "\t<tr><th scope=row>24</th><td>Pipunculidae   </td><td>  47</td><td>  67</td></tr>\n",
       "\t<tr><th scope=row>26</th><td>Psychodidae    </td><td>1692</td><td> 636</td></tr>\n",
       "\t<tr><th scope=row>28</th><td>Sarcophagidae  </td><td> 284</td><td> 319</td></tr>\n",
       "\t<tr><th scope=row>30</th><td>Sciaridae      </td><td> 119</td><td>  52</td></tr>\n",
       "\t<tr><th scope=row>31</th><td>Sepsidae       </td><td>  95</td><td>  99</td></tr>\n",
       "\t<tr><th scope=row>32</th><td>Simuliidae     </td><td>  80</td><td>  64</td></tr>\n",
       "\t<tr><th scope=row>33</th><td>Sphaeroceridae </td><td> 224</td><td>  16</td></tr>\n",
       "\t<tr><th scope=row>35</th><td>Syrphidae      </td><td> 129</td><td> 346</td></tr>\n",
       "\t<tr><th scope=row>36</th><td>Tabanidae      </td><td> 127</td><td> 240</td></tr>\n",
       "\t<tr><th scope=row>37</th><td>Tachinidae     </td><td> 113</td><td>  66</td></tr>\n",
       "\t<tr><th scope=row>38</th><td>Tephritidae    </td><td>1902</td><td>1862</td></tr>\n",
       "</tbody>\n",
       "</table>\n"
      ],
      "text/latex": [
       "A data.frame: 27 × 3\n",
       "\\begin{tabular}{r|lll}\n",
       "  & Family & prefamfreq & asfamfreq\\\\\n",
       "  & <fct> & <int> & <int>\\\\\n",
       "\\hline\n",
       "\t1 & Agromyzidae     &  232 &   41\\\\\n",
       "\t2 & Anthomyiidae    &   38 &   14\\\\\n",
       "\t3 & Asilidae        &   54 &   52\\\\\n",
       "\t5 & Blephariceridae &   25 &   25\\\\\n",
       "\t6 & Calliphoridae   &  459 &  492\\\\\n",
       "\t7 & Cecidomyiidae   &  345 &    9\\\\\n",
       "\t8 & Ceratopogonidae & 2767 & 1246\\\\\n",
       "\t9 & Chironomidae    &  289 &  341\\\\\n",
       "\t10 & Chloropidae     &   66 &    1\\\\\n",
       "\t11 & Culicidae       & 1183 & 2061\\\\\n",
       "\t12 & Drosophilidae   &   92 &  116\\\\\n",
       "\t13 & Ephydridae      &   85 &    6\\\\\n",
       "\t17 & Hybotidae       &  190 &   77\\\\\n",
       "\t19 & Milichiidae     &   43 &    4\\\\\n",
       "\t20 & Muscidae        &  686 &  664\\\\\n",
       "\t23 & Phoridae        &  593 &  685\\\\\n",
       "\t24 & Pipunculidae    &   47 &   67\\\\\n",
       "\t26 & Psychodidae     & 1692 &  636\\\\\n",
       "\t28 & Sarcophagidae   &  284 &  319\\\\\n",
       "\t30 & Sciaridae       &  119 &   52\\\\\n",
       "\t31 & Sepsidae        &   95 &   99\\\\\n",
       "\t32 & Simuliidae      &   80 &   64\\\\\n",
       "\t33 & Sphaeroceridae  &  224 &   16\\\\\n",
       "\t35 & Syrphidae       &  129 &  346\\\\\n",
       "\t36 & Tabanidae       &  127 &  240\\\\\n",
       "\t37 & Tachinidae      &  113 &   66\\\\\n",
       "\t38 & Tephritidae     & 1902 & 1862\\\\\n",
       "\\end{tabular}\n"
      ],
      "text/markdown": [
       "\n",
       "A data.frame: 27 × 3\n",
       "\n",
       "| <!--/--> | Family &lt;fct&gt; | prefamfreq &lt;int&gt; | asfamfreq &lt;int&gt; |\n",
       "|---|---|---|---|\n",
       "| 1 | Agromyzidae     |  232 |   41 |\n",
       "| 2 | Anthomyiidae    |   38 |   14 |\n",
       "| 3 | Asilidae        |   54 |   52 |\n",
       "| 5 | Blephariceridae |   25 |   25 |\n",
       "| 6 | Calliphoridae   |  459 |  492 |\n",
       "| 7 | Cecidomyiidae   |  345 |    9 |\n",
       "| 8 | Ceratopogonidae | 2767 | 1246 |\n",
       "| 9 | Chironomidae    |  289 |  341 |\n",
       "| 10 | Chloropidae     |   66 |    1 |\n",
       "| 11 | Culicidae       | 1183 | 2061 |\n",
       "| 12 | Drosophilidae   |   92 |  116 |\n",
       "| 13 | Ephydridae      |   85 |    6 |\n",
       "| 17 | Hybotidae       |  190 |   77 |\n",
       "| 19 | Milichiidae     |   43 |    4 |\n",
       "| 20 | Muscidae        |  686 |  664 |\n",
       "| 23 | Phoridae        |  593 |  685 |\n",
       "| 24 | Pipunculidae    |   47 |   67 |\n",
       "| 26 | Psychodidae     | 1692 |  636 |\n",
       "| 28 | Sarcophagidae   |  284 |  319 |\n",
       "| 30 | Sciaridae       |  119 |   52 |\n",
       "| 31 | Sepsidae        |   95 |   99 |\n",
       "| 32 | Simuliidae      |   80 |   64 |\n",
       "| 33 | Sphaeroceridae  |  224 |   16 |\n",
       "| 35 | Syrphidae       |  129 |  346 |\n",
       "| 36 | Tabanidae       |  127 |  240 |\n",
       "| 37 | Tachinidae      |  113 |   66 |\n",
       "| 38 | Tephritidae     | 1902 | 1862 |\n",
       "\n"
      ],
      "text/plain": [
       "   Family          prefamfreq asfamfreq\n",
       "1  Agromyzidae      232         41     \n",
       "2  Anthomyiidae      38         14     \n",
       "3  Asilidae          54         52     \n",
       "5  Blephariceridae   25         25     \n",
       "6  Calliphoridae    459        492     \n",
       "7  Cecidomyiidae    345          9     \n",
       "8  Ceratopogonidae 2767       1246     \n",
       "9  Chironomidae     289        341     \n",
       "10 Chloropidae       66          1     \n",
       "11 Culicidae       1183       2061     \n",
       "12 Drosophilidae     92        116     \n",
       "13 Ephydridae        85          6     \n",
       "17 Hybotidae        190         77     \n",
       "19 Milichiidae       43          4     \n",
       "20 Muscidae         686        664     \n",
       "23 Phoridae         593        685     \n",
       "24 Pipunculidae      47         67     \n",
       "26 Psychodidae     1692        636     \n",
       "28 Sarcophagidae    284        319     \n",
       "30 Sciaridae        119         52     \n",
       "31 Sepsidae          95         99     \n",
       "32 Simuliidae        80         64     \n",
       "33 Sphaeroceridae   224         16     \n",
       "35 Syrphidae        129        346     \n",
       "36 Tabanidae        127        240     \n",
       "37 Tachinidae       113         66     \n",
       "38 Tephritidae     1902       1862     "
      ]
     },
     "metadata": {},
     "output_type": "display_data"
    }
   ],
   "source": [
    "Prefamily_df <- as.data.frame(table(c(subset(df_taxa, seq_len >= 500)$Family)), row.names = NULL)\n",
    "colnames(Prefamily_df) <- c(\"Family\",\"prefamfreq\")\n",
    "cat(nrow(subset(Prefamily_df, prefamfreq >= 20)),\n",
    "    \"predefined families (seq_len >= 500), with frequency of over 20, are found in this clade, out of\",\n",
    "   nrow(Prefamily_df),\n",
    "   \"represented families (seq_len >= 500)\\n\\n\")\n",
    "#subset(Prefamily_df, prefamfreq >= 20)\n",
    "\n",
    "Asfamily_df <- as.data.frame(table(c(subset(df_taxa, Family_sc == 1.0 & seq_len >= 500)$As_family)), row.names = NULL)\n",
    "colnames(Asfamily_df) <- c(\"As_family\",\"asfamfreq\")\n",
    "cat(nrow(subset(Asfamily_df, asfamfreq >= 20)),\n",
    "    \"assigned families (BS score = 1.0 & seq_len >= 500), with frequency of over 20, are found in this clade out of\",\n",
    "   nrow(Asfamily_df),\n",
    "   \"represented assigned families (seq_len >= 500)\\n\\n\")\n",
    "#subset(Asfamily_df, asfamfreq >= 20)\n",
    "family_df <- merge(Prefamily_df, Asfamily_df, by.x=\"Family\", by.y=\"As_family\")\n",
    "subset(family_df, prefamfreq >= 20 | asfamfreq >= 20)"
   ]
  },
  {
   "cell_type": "markdown",
   "metadata": {},
   "source": [
    "5. **Taking a closer look at the genera taxa statistics**"
   ]
  },
  {
   "cell_type": "code",
   "execution_count": 10,
   "metadata": {},
   "outputs": [
    {
     "name": "stdout",
     "output_type": "stream",
     "text": [
      "60 predefined genera (seq_len >= 500 $ frequency >= 10) are found in this clade, out of 249 represented genera (seq_len >= 500)\n",
      "\n",
      "77 assigned genera (BS score = 1.0 & seq_len >= 500), with frequency of over 20, are found in this clade out of 199 represented genera (seq_len >= 500)\n",
      "\n"
     ]
    },
    {
     "data": {
      "text/html": [
       "<table>\n",
       "<caption>A data.frame: 47 × 3</caption>\n",
       "<thead>\n",
       "\t<tr><th></th><th scope=col>Genus</th><th scope=col>pregenusfreq</th><th scope=col>asgenusfreq</th></tr>\n",
       "\t<tr><th></th><th scope=col>&lt;fct&gt;</th><th scope=col>&lt;int&gt;</th><th scope=col>&lt;int&gt;</th></tr>\n",
       "</thead>\n",
       "<tbody>\n",
       "\t<tr><th scope=row>4</th><td>Aedes           </td><td> 546</td><td> 282</td></tr>\n",
       "\t<tr><th scope=row>6</th><td>Allobaccha      </td><td>   1</td><td>  22</td></tr>\n",
       "\t<tr><th scope=row>9</th><td>Anopheles       </td><td> 313</td><td>1159</td></tr>\n",
       "\t<tr><th scope=row>13</th><td>Atherigona      </td><td> 382</td><td>  11</td></tr>\n",
       "\t<tr><th scope=row>14</th><td>Atylotus        </td><td>  12</td><td>  23</td></tr>\n",
       "\t<tr><th scope=row>15</th><td>Australosepsis  </td><td>  70</td><td>  73</td></tr>\n",
       "\t<tr><th scope=row>16</th><td>Bactrocera      </td><td> 473</td><td> 435</td></tr>\n",
       "\t<tr><th scope=row>22</th><td>Capparimyia     </td><td>  18</td><td>  30</td></tr>\n",
       "\t<tr><th scope=row>23</th><td>Carpophthoromyia</td><td>  26</td><td>  18</td></tr>\n",
       "\t<tr><th scope=row>25</th><td>Ceratitis       </td><td> 591</td><td> 659</td></tr>\n",
       "\t<tr><th scope=row>27</th><td>Chironomus      </td><td>  52</td><td>  83</td></tr>\n",
       "\t<tr><th scope=row>28</th><td>Chrysomya       </td><td>  61</td><td>  72</td></tr>\n",
       "\t<tr><th scope=row>32</th><td>Coenosia        </td><td>  51</td><td> 116</td></tr>\n",
       "\t<tr><th scope=row>35</th><td>Coquillettidia  </td><td>  19</td><td>  35</td></tr>\n",
       "\t<tr><th scope=row>37</th><td>Corynoptera     </td><td>  20</td><td>  32</td></tr>\n",
       "\t<tr><th scope=row>38</th><td>Cricotopus      </td><td>  43</td><td>  43</td></tr>\n",
       "\t<tr><th scope=row>39</th><td>Crossopalpus    </td><td>  38</td><td>  36</td></tr>\n",
       "\t<tr><th scope=row>41</th><td>Culex           </td><td>  83</td><td> 378</td></tr>\n",
       "\t<tr><th scope=row>42</th><td>Culicoides      </td><td>1249</td><td> 962</td></tr>\n",
       "\t<tr><th scope=row>43</th><td>Dacus           </td><td> 501</td><td> 523</td></tr>\n",
       "\t<tr><th scope=row>44</th><td>Dasyhelea       </td><td> 121</td><td> 273</td></tr>\n",
       "\t<tr><th scope=row>48</th><td>Drosophila      </td><td>  14</td><td>  35</td></tr>\n",
       "\t<tr><th scope=row>49</th><td>Elaphropeza     </td><td>  46</td><td>  30</td></tr>\n",
       "\t<tr><th scope=row>50</th><td>Elporia         </td><td>  25</td><td>  25</td></tr>\n",
       "\t<tr><th scope=row>58</th><td>Eudorylas       </td><td>  19</td><td>  26</td></tr>\n",
       "\t<tr><th scope=row>65</th><td>Forcipomyia     </td><td> 167</td><td>   8</td></tr>\n",
       "\t<tr><th scope=row>69</th><td>Haematopota     </td><td>   9</td><td>  22</td></tr>\n",
       "\t<tr><th scope=row>79</th><td>Liriomyza       </td><td>  36</td><td>  22</td></tr>\n",
       "\t<tr><th scope=row>80</th><td>Lispe           </td><td> 195</td><td>   1</td></tr>\n",
       "\t<tr><th scope=row>83</th><td>Mansonia        </td><td>  50</td><td>  96</td></tr>\n",
       "\t<tr><th scope=row>84</th><td>Megaselia       </td><td> 280</td><td> 260</td></tr>\n",
       "\t<tr><th scope=row>92</th><td>Musca           </td><td>  31</td><td> 497</td></tr>\n",
       "\t<tr><th scope=row>102</th><td>Paragus         </td><td>   5</td><td>  58</td></tr>\n",
       "\t<tr><th scope=row>105</th><td>Phlebotomus     </td><td>  91</td><td> 112</td></tr>\n",
       "\t<tr><th scope=row>111</th><td>Pollenia        </td><td> 363</td><td> 373</td></tr>\n",
       "\t<tr><th scope=row>116</th><td>Psychoda        </td><td>  41</td><td>  22</td></tr>\n",
       "\t<tr><th scope=row>119</th><td>Rhingia         </td><td>   3</td><td>  24</td></tr>\n",
       "\t<tr><th scope=row>121</th><td>Sarcophaga      </td><td> 134</td><td> 158</td></tr>\n",
       "\t<tr><th scope=row>125</th><td>Sepsis          </td><td>  22</td><td>  24</td></tr>\n",
       "\t<tr><th scope=row>126</th><td>Sergentomyia    </td><td>  84</td><td>  84</td></tr>\n",
       "\t<tr><th scope=row>127</th><td>Simulium        </td><td>  65</td><td>  64</td></tr>\n",
       "\t<tr><th scope=row>130</th><td>Sphaerophoria   </td><td>  25</td><td>  32</td></tr>\n",
       "\t<tr><th scope=row>138</th><td>Tabanus         </td><td>  56</td><td> 163</td></tr>\n",
       "\t<tr><th scope=row>139</th><td>Tanytarsus      </td><td>  16</td><td> 119</td></tr>\n",
       "\t<tr><th scope=row>140</th><td>Tomosvaryella   </td><td>   7</td><td>  37</td></tr>\n",
       "\t<tr><th scope=row>143</th><td>Trirhithrum     </td><td>  50</td><td>  73</td></tr>\n",
       "\t<tr><th scope=row>150</th><td>Zaprionus       </td><td>  66</td><td>  68</td></tr>\n",
       "</tbody>\n",
       "</table>\n"
      ],
      "text/latex": [
       "A data.frame: 47 × 3\n",
       "\\begin{tabular}{r|lll}\n",
       "  & Genus & pregenusfreq & asgenusfreq\\\\\n",
       "  & <fct> & <int> & <int>\\\\\n",
       "\\hline\n",
       "\t4 & Aedes            &  546 &  282\\\\\n",
       "\t6 & Allobaccha       &    1 &   22\\\\\n",
       "\t9 & Anopheles        &  313 & 1159\\\\\n",
       "\t13 & Atherigona       &  382 &   11\\\\\n",
       "\t14 & Atylotus         &   12 &   23\\\\\n",
       "\t15 & Australosepsis   &   70 &   73\\\\\n",
       "\t16 & Bactrocera       &  473 &  435\\\\\n",
       "\t22 & Capparimyia      &   18 &   30\\\\\n",
       "\t23 & Carpophthoromyia &   26 &   18\\\\\n",
       "\t25 & Ceratitis        &  591 &  659\\\\\n",
       "\t27 & Chironomus       &   52 &   83\\\\\n",
       "\t28 & Chrysomya        &   61 &   72\\\\\n",
       "\t32 & Coenosia         &   51 &  116\\\\\n",
       "\t35 & Coquillettidia   &   19 &   35\\\\\n",
       "\t37 & Corynoptera      &   20 &   32\\\\\n",
       "\t38 & Cricotopus       &   43 &   43\\\\\n",
       "\t39 & Crossopalpus     &   38 &   36\\\\\n",
       "\t41 & Culex            &   83 &  378\\\\\n",
       "\t42 & Culicoides       & 1249 &  962\\\\\n",
       "\t43 & Dacus            &  501 &  523\\\\\n",
       "\t44 & Dasyhelea        &  121 &  273\\\\\n",
       "\t48 & Drosophila       &   14 &   35\\\\\n",
       "\t49 & Elaphropeza      &   46 &   30\\\\\n",
       "\t50 & Elporia          &   25 &   25\\\\\n",
       "\t58 & Eudorylas        &   19 &   26\\\\\n",
       "\t65 & Forcipomyia      &  167 &    8\\\\\n",
       "\t69 & Haematopota      &    9 &   22\\\\\n",
       "\t79 & Liriomyza        &   36 &   22\\\\\n",
       "\t80 & Lispe            &  195 &    1\\\\\n",
       "\t83 & Mansonia         &   50 &   96\\\\\n",
       "\t84 & Megaselia        &  280 &  260\\\\\n",
       "\t92 & Musca            &   31 &  497\\\\\n",
       "\t102 & Paragus          &    5 &   58\\\\\n",
       "\t105 & Phlebotomus      &   91 &  112\\\\\n",
       "\t111 & Pollenia         &  363 &  373\\\\\n",
       "\t116 & Psychoda         &   41 &   22\\\\\n",
       "\t119 & Rhingia          &    3 &   24\\\\\n",
       "\t121 & Sarcophaga       &  134 &  158\\\\\n",
       "\t125 & Sepsis           &   22 &   24\\\\\n",
       "\t126 & Sergentomyia     &   84 &   84\\\\\n",
       "\t127 & Simulium         &   65 &   64\\\\\n",
       "\t130 & Sphaerophoria    &   25 &   32\\\\\n",
       "\t138 & Tabanus          &   56 &  163\\\\\n",
       "\t139 & Tanytarsus       &   16 &  119\\\\\n",
       "\t140 & Tomosvaryella    &    7 &   37\\\\\n",
       "\t143 & Trirhithrum      &   50 &   73\\\\\n",
       "\t150 & Zaprionus        &   66 &   68\\\\\n",
       "\\end{tabular}\n"
      ],
      "text/markdown": [
       "\n",
       "A data.frame: 47 × 3\n",
       "\n",
       "| <!--/--> | Genus &lt;fct&gt; | pregenusfreq &lt;int&gt; | asgenusfreq &lt;int&gt; |\n",
       "|---|---|---|---|\n",
       "| 4 | Aedes            |  546 |  282 |\n",
       "| 6 | Allobaccha       |    1 |   22 |\n",
       "| 9 | Anopheles        |  313 | 1159 |\n",
       "| 13 | Atherigona       |  382 |   11 |\n",
       "| 14 | Atylotus         |   12 |   23 |\n",
       "| 15 | Australosepsis   |   70 |   73 |\n",
       "| 16 | Bactrocera       |  473 |  435 |\n",
       "| 22 | Capparimyia      |   18 |   30 |\n",
       "| 23 | Carpophthoromyia |   26 |   18 |\n",
       "| 25 | Ceratitis        |  591 |  659 |\n",
       "| 27 | Chironomus       |   52 |   83 |\n",
       "| 28 | Chrysomya        |   61 |   72 |\n",
       "| 32 | Coenosia         |   51 |  116 |\n",
       "| 35 | Coquillettidia   |   19 |   35 |\n",
       "| 37 | Corynoptera      |   20 |   32 |\n",
       "| 38 | Cricotopus       |   43 |   43 |\n",
       "| 39 | Crossopalpus     |   38 |   36 |\n",
       "| 41 | Culex            |   83 |  378 |\n",
       "| 42 | Culicoides       | 1249 |  962 |\n",
       "| 43 | Dacus            |  501 |  523 |\n",
       "| 44 | Dasyhelea        |  121 |  273 |\n",
       "| 48 | Drosophila       |   14 |   35 |\n",
       "| 49 | Elaphropeza      |   46 |   30 |\n",
       "| 50 | Elporia          |   25 |   25 |\n",
       "| 58 | Eudorylas        |   19 |   26 |\n",
       "| 65 | Forcipomyia      |  167 |    8 |\n",
       "| 69 | Haematopota      |    9 |   22 |\n",
       "| 79 | Liriomyza        |   36 |   22 |\n",
       "| 80 | Lispe            |  195 |    1 |\n",
       "| 83 | Mansonia         |   50 |   96 |\n",
       "| 84 | Megaselia        |  280 |  260 |\n",
       "| 92 | Musca            |   31 |  497 |\n",
       "| 102 | Paragus          |    5 |   58 |\n",
       "| 105 | Phlebotomus      |   91 |  112 |\n",
       "| 111 | Pollenia         |  363 |  373 |\n",
       "| 116 | Psychoda         |   41 |   22 |\n",
       "| 119 | Rhingia          |    3 |   24 |\n",
       "| 121 | Sarcophaga       |  134 |  158 |\n",
       "| 125 | Sepsis           |   22 |   24 |\n",
       "| 126 | Sergentomyia     |   84 |   84 |\n",
       "| 127 | Simulium         |   65 |   64 |\n",
       "| 130 | Sphaerophoria    |   25 |   32 |\n",
       "| 138 | Tabanus          |   56 |  163 |\n",
       "| 139 | Tanytarsus       |   16 |  119 |\n",
       "| 140 | Tomosvaryella    |    7 |   37 |\n",
       "| 143 | Trirhithrum      |   50 |   73 |\n",
       "| 150 | Zaprionus        |   66 |   68 |\n",
       "\n"
      ],
      "text/plain": [
       "    Genus            pregenusfreq asgenusfreq\n",
       "4   Aedes             546          282       \n",
       "6   Allobaccha          1           22       \n",
       "9   Anopheles         313         1159       \n",
       "13  Atherigona        382           11       \n",
       "14  Atylotus           12           23       \n",
       "15  Australosepsis     70           73       \n",
       "16  Bactrocera        473          435       \n",
       "22  Capparimyia        18           30       \n",
       "23  Carpophthoromyia   26           18       \n",
       "25  Ceratitis         591          659       \n",
       "27  Chironomus         52           83       \n",
       "28  Chrysomya          61           72       \n",
       "32  Coenosia           51          116       \n",
       "35  Coquillettidia     19           35       \n",
       "37  Corynoptera        20           32       \n",
       "38  Cricotopus         43           43       \n",
       "39  Crossopalpus       38           36       \n",
       "41  Culex              83          378       \n",
       "42  Culicoides       1249          962       \n",
       "43  Dacus             501          523       \n",
       "44  Dasyhelea         121          273       \n",
       "48  Drosophila         14           35       \n",
       "49  Elaphropeza        46           30       \n",
       "50  Elporia            25           25       \n",
       "58  Eudorylas          19           26       \n",
       "65  Forcipomyia       167            8       \n",
       "69  Haematopota         9           22       \n",
       "79  Liriomyza          36           22       \n",
       "80  Lispe             195            1       \n",
       "83  Mansonia           50           96       \n",
       "84  Megaselia         280          260       \n",
       "92  Musca              31          497       \n",
       "102 Paragus             5           58       \n",
       "105 Phlebotomus        91          112       \n",
       "111 Pollenia          363          373       \n",
       "116 Psychoda           41           22       \n",
       "119 Rhingia             3           24       \n",
       "121 Sarcophaga        134          158       \n",
       "125 Sepsis             22           24       \n",
       "126 Sergentomyia       84           84       \n",
       "127 Simulium           65           64       \n",
       "130 Sphaerophoria      25           32       \n",
       "138 Tabanus            56          163       \n",
       "139 Tanytarsus         16          119       \n",
       "140 Tomosvaryella       7           37       \n",
       "143 Trirhithrum        50           73       \n",
       "150 Zaprionus          66           68       "
      ]
     },
     "metadata": {},
     "output_type": "display_data"
    }
   ],
   "source": [
    "Pregenus_df <- as.data.frame(table(c(subset(df_taxa, seq_len >= 500)$Genus)), row.names = NULL)\n",
    "colnames(Pregenus_df) <- c(\"Genus\",\"pregenusfreq\")\n",
    "cat(nrow(subset(Pregenus_df, pregenusfreq >= 5)),\n",
    "    \"predefined genera (seq_len >= 500 $ frequency >= 5) are found in this clade, out of\",\n",
    "   nrow(Pregenus_df),\n",
    "   \"represented genera (seq_len >= 500)\\n\\n\")\n",
    "#subset(Pregenus_df, pregenusfreq >= 5)\n",
    "\n",
    "Asgenus_df <- as.data.frame(table(c(subset(df_taxa, Genus_sc == 1.0 & seq_len >= 500)$As_genus)), row.names = NULL)\n",
    "colnames(Asgenus_df) <- c(\"As_genus\",\"asgenusfreq\")\n",
    "cat(nrow(subset(Asgenus_df, asgenusfreq >= 5)),\n",
    "    \"assigned genera (BS score = 1.0 & seq_len >= 500), with frequency of over 5, are found in this clade out of\",\n",
    "   nrow(Asgenus_df),\n",
    "   \"represented genera (seq_len >= 500)\\n\\n\")\n",
    "#subset(Asgenus_df, asgenusfreq >= 5)\n",
    "genus_df <- merge(Pregenus_df, Asgenus_df, by.x=\"Genus\", by.y=\"As_genus\")\n",
    "subset(genus_df, pregenusfreq >= 5 | asgenusfreq >= 5)"
   ]
  },
  {
   "cell_type": "markdown",
   "metadata": {},
   "source": [
    "6. **Detailed analysis of the distribution of variables as a assinged by RDPclassifier**"
   ]
  },
  {
   "cell_type": "code",
   "execution_count": 82,
   "metadata": {},
   "outputs": [
    {
     "name": "stdout",
     "output_type": "stream",
     "text": [
      "48137 total number of records with 47507 records having over 500 base-pairs\n"
     ]
    }
   ],
   "source": [
    "# Total number of records within the file vs those with over 500 base-pairs\n",
    "cat(nrow(df_taxa), \"total number of records with\",\n",
    "    nrow(subset(df_taxa, seq_len >= 500)),\n",
    "    \"records having over 500 base-pairs\\n\")"
   ]
  },
  {
   "cell_type": "code",
   "execution_count": 83,
   "metadata": {},
   "outputs": [
    {
     "name": "stdout",
     "output_type": "stream",
     "text": [
      "6629 records with a predefined species from which 6125 have over 500 base pairs\n",
      "\n"
     ]
    }
   ],
   "source": [
    "# Total number of sequences with predefined species taxa vs \n",
    "# those with over 500 base-pairs\n",
    "cat(nrow(subset(df_taxa, Species != \"NA\")),\n",
    "    \"records with a predefined species from which\",\n",
    "    nrow(subset(df_taxa, Species != \"NA\" & seq_len >= 500 )), \n",
    "    \"have over 500 base pairs\\n\\n\")"
   ]
  },
  {
   "cell_type": "code",
   "execution_count": 84,
   "metadata": {},
   "outputs": [
    {
     "name": "stdout",
     "output_type": "stream",
     "text": [
      "48137 records were assigned species classification with bootstrap support ranging from 0 to 1\n",
      "\n",
      "8049 records were classiffied with a bootsrap of = 1, 9244 with >= 0.95 bootstrap support and 11337 with >= 0.7 bootstrap support\n",
      "\n"
     ]
    }
   ],
   "source": [
    "# All records assigned species classification\n",
    "cat(nrow(subset(df_taxa, Species_sc >= 0)),\n",
    "    \"records were assigned species classification with bootstrap support ranging from 0 to 1\\n\\n\")\n",
    "# All records assigned species classification of BS support of 1, >= 0.95 and >= 0.70\n",
    "cat(nrow(subset(df_taxa, Species_sc == 1.0)),\n",
    "    \"records were classiffied with a bootsrap of = 1,\",\n",
    "   nrow(subset(df_taxa, Species_sc >= 0.95)),\n",
    "    \"with >= 0.95 bootstrap support and\",\n",
    "   nrow(subset(df_taxa, Species_sc >= 0.70)),\n",
    "   \"with >= 0.7 bootstrap support\\n\\n\")"
   ]
  },
  {
   "cell_type": "code",
   "execution_count": 85,
   "metadata": {},
   "outputs": [
    {
     "name": "stdout",
     "output_type": "stream",
     "text": [
      "4407 records, with predefined species, were classiffied with a bootsrap of = 1, 4785 with >= 0.95 bootstrap support and 5124 with >= 0.7 bootstrap support\n",
      "\n",
      "7717 records, with >= 500 seq. length, were classiffied with a bootsrap of = 1, 8883 with >= 0.95 bootstrap support and 10957 with >= 0.7 bootstrap support\n",
      "\n",
      "4122 records, with predefined species and >= 500 seq. length, were classiffied with a bootsrap of = 1, 4479 with >= 0.95 bootstrap support and 4802 with >= 0.7 bootstrap support\n",
      "\n"
     ]
    }
   ],
   "source": [
    "# All records with predefined species and\n",
    "# assigned species classification at BS support of 1, >= 0.95 and >= 0.70\n",
    "cat(nrow(subset(df_taxa, Species != \"NA\" & Species_sc == 1.0)),\n",
    "    \"records, with predefined species, were classiffied with a bootsrap of = 1,\",\n",
    "   nrow(subset(df_taxa, Species != \"NA\" & Species_sc >= 0.95)),\n",
    "    \"with >= 0.95 bootstrap support and\",\n",
    "   nrow(subset(df_taxa, Species != \"NA\" & Species_sc >= 0.70)),\n",
    "   \"with >= 0.7 bootstrap support\\n\\n\")\n",
    "# All records with predefined species, seq-length of >= 500 and\n",
    "# assigned species classification at BS support of 1, >= 0.95 and >= 0.70\n",
    "cat(nrow(subset(df_taxa, seq_len >= 500 & Species_sc == 1.0)),\n",
    "    \"records, with >= 500 seq. length, were classiffied with a bootsrap of = 1,\",\n",
    "   nrow(subset(df_taxa, seq_len >= 500 & Species_sc >= 0.95)),\n",
    "    \"with >= 0.95 bootstrap support and\",\n",
    "   nrow(subset(df_taxa, seq_len >= 500 & Species_sc >= 0.70)),\n",
    "   \"with >= 0.7 bootstrap support\\n\\n\")\n",
    "# All records without predefined species, but with seq-length of >= 500 and\n",
    "# assigned species classification at BS support of 1, >= 0.95 and >= 0.70\n",
    "cat(nrow(subset(df_taxa, Species != \"NA\" & seq_len >= 500 & Species_sc == 1.0)),\n",
    "    \"records, with predefined species and >= 500 seq. length, were classiffied with a bootsrap of = 1,\",\n",
    "   nrow(subset(df_taxa, Species != \"NA\" & seq_len >= 500 & Species_sc >= 0.95)),\n",
    "    \"with >= 0.95 bootstrap support and\",\n",
    "   nrow(subset(df_taxa, Species != \"NA\" & seq_len >= 500 & Species_sc >= 0.70)),\n",
    "   \"with >= 0.7 bootstrap support\\n\\n\")\n"
   ]
  },
  {
   "cell_type": "code",
   "execution_count": 86,
   "metadata": {},
   "outputs": [
    {
     "name": "stdout",
     "output_type": "stream",
     "text": [
      "10271 records either had predefined species, or were classified with a bootstrap value of 1.0, 11088 with bootstrap value of >=0.95 and 12842 with boostrap value of >=0.7\n",
      "\n"
     ]
    }
   ],
   "source": [
    "\n",
    "# All records with a predifined species or RDP species classification BS support of 1.0\n",
    "df_taxa %>% filter(Species != \"NA\" | Species_sc == 1.0) -> df_100per_classified\n",
    "# All records with a predifined species or RDP species classification BS support of 0.95\n",
    "df_taxa %>% filter(Species != \"NA\" | Species_sc >= 0.95) -> df_95per_classified\n",
    "cat(nrow(df_100per_classified),\n",
    "    \"records either had predefined species,\",\n",
    "    \"or were classified with a bootstrap value of 1.0,\",\n",
    "   nrow(df_95per_classified),\n",
    "    \"with bootstrap value of >=0.95 and\",\n",
    "   nrow(subset(df_taxa, Species != \"NA\" | Species_sc >= 0.7)),\n",
    "   \"with boostrap value of >=0.7\\n\\n\")\n"
   ]
  },
  {
   "cell_type": "code",
   "execution_count": 87,
   "metadata": {},
   "outputs": [
    {
     "name": "stdout",
     "output_type": "stream",
     "text": [
      "7717 records classified into species have sequences with over 500 bases, with 3595 having no prior species classification\n"
     ]
    }
   ],
   "source": [
    "#Records  with over 500 sequence length and classified into species vs those without prior classification\n",
    "cat(nrow(subset(df_taxa, Species_sc == 1.0 & seq_len >= 500 )),\n",
    "    \"records classified into species have sequences with over 500 bases, with\",\n",
    "    nrow(subset(df_taxa, is.na(Species) & Species_sc == 1.0 & seq_len >= 500 )),\n",
    "    \"having no prior species classification\\n\")\n"
   ]
  },
  {
   "cell_type": "code",
   "execution_count": 88,
   "metadata": {},
   "outputs": [
    {
     "name": "stdout",
     "output_type": "stream",
     "text": [
      "422 records with a species classication confidence of 1.0 have differing assinged species from predefined species, 303 of which have over 500 base-pairs\n",
      "\n"
     ]
    },
    {
     "data": {
      "text/html": [
       "<table>\n",
       "<caption>A data.frame: 4 × 34</caption>\n",
       "<thead>\n",
       "\t<tr><th></th><th scope=col>Process_ID</th><th scope=col>Phylum</th><th scope=col>Class</th><th scope=col>Order</th><th scope=col>Family</th><th scope=col>Subfamily</th><th scope=col>Tribe</th><th scope=col>Genus</th><th scope=col>Species</th><th scope=col>Subspecies</th><th scope=col>⋯</th><th scope=col>As_class</th><th scope=col>Class_sc</th><th scope=col>As_order</th><th scope=col>Order_sc</th><th scope=col>As_family</th><th scope=col>Family_sc</th><th scope=col>As_genus</th><th scope=col>Genus_sc</th><th scope=col>As_species</th><th scope=col>Species_sc</th></tr>\n",
       "\t<tr><th></th><th scope=col>&lt;chr&gt;</th><th scope=col>&lt;chr&gt;</th><th scope=col>&lt;chr&gt;</th><th scope=col>&lt;chr&gt;</th><th scope=col>&lt;chr&gt;</th><th scope=col>&lt;chr&gt;</th><th scope=col>&lt;lgl&gt;</th><th scope=col>&lt;chr&gt;</th><th scope=col>&lt;chr&gt;</th><th scope=col>&lt;chr&gt;</th><th scope=col>⋯</th><th scope=col>&lt;chr&gt;</th><th scope=col>&lt;dbl&gt;</th><th scope=col>&lt;chr&gt;</th><th scope=col>&lt;dbl&gt;</th><th scope=col>&lt;chr&gt;</th><th scope=col>&lt;dbl&gt;</th><th scope=col>&lt;chr&gt;</th><th scope=col>&lt;dbl&gt;</th><th scope=col>&lt;chr&gt;</th><th scope=col>&lt;dbl&gt;</th></tr>\n",
       "</thead>\n",
       "<tbody>\n",
       "\t<tr><th scope=row>8493</th><td>NHMBF089-11</td><td>Arthropoda</td><td>Insecta</td><td>Diptera</td><td>Simuliidae</td><td>Simuliinae   </td><td>NA</td><td>Simulium </td><td>Simulium_damnosum_s.l.</td><td>NA</td><td>⋯</td><td>Insecta</td><td>0.87</td><td>Diptera</td><td>0.45</td><td>Tabanidae</td><td>0.06</td><td>Atylotus </td><td>0.00</td><td>Atylotus_thoracius </td><td>0</td></tr>\n",
       "\t<tr><th scope=row>8494</th><td>NHMBF090-11</td><td>Arthropoda</td><td>Insecta</td><td>Diptera</td><td>Simuliidae</td><td>Simuliinae   </td><td>NA</td><td>Simulium </td><td>Simulium_damnosum_s.l.</td><td>NA</td><td>⋯</td><td>Insecta</td><td>0.87</td><td>Diptera</td><td>0.45</td><td>Tabanidae</td><td>0.06</td><td>Atylotus </td><td>0.00</td><td>Atylotus_thoracius </td><td>0</td></tr>\n",
       "\t<tr><th scope=row>8617</th><td>ASIND134-12</td><td>Arthropoda</td><td>Insecta</td><td>Diptera</td><td>Syrphidae </td><td>Microdontinae</td><td>NA</td><td>Paragodon</td><td>Paragodon_paragoides  </td><td>NA</td><td>⋯</td><td>Insecta</td><td>0.98</td><td>Diptera</td><td>0.42</td><td>Muscidae </td><td>0.05</td><td>Hydrotaea</td><td>0.04</td><td>Hydrotaea_pellucens</td><td>0</td></tr>\n",
       "\t<tr><th scope=row>40445</th><td>NHMBF097-12</td><td>Arthropoda</td><td>Insecta</td><td>Diptera</td><td>Simuliidae</td><td>Simuliinae   </td><td>NA</td><td>Simulium </td><td>Simulium_damnosum_s.l.</td><td>NA</td><td>⋯</td><td>Insecta</td><td>0.92</td><td>Diptera</td><td>0.49</td><td>Tabanidae</td><td>0.13</td><td>Atylotus </td><td>0.01</td><td>Atylotus_thoracius </td><td>0</td></tr>\n",
       "</tbody>\n",
       "</table>\n"
      ],
      "text/latex": [
       "A data.frame: 4 × 34\n",
       "\\begin{tabular}{r|llllllllllllllllllllllllllllllllll}\n",
       "  & Process\\_ID & Phylum & Class & Order & Family & Subfamily & Tribe & Genus & Species & Subspecies & Country & Exactsite & Latitude & Longitude & Elevation & seq\\_len & As\\_CellularOrganism & CellularOrganism\\_sc & As\\_superkingdom & Superkingdom\\_sc & As\\_kingdom & Kingdom\\_sc & As\\_phylum & Phylum\\_sc & As\\_class & Class\\_sc & As\\_order & Order\\_sc & As\\_family & Family\\_sc & As\\_genus & Genus\\_sc & As\\_species & Species\\_sc\\\\\n",
       "  & <chr> & <chr> & <chr> & <chr> & <chr> & <chr> & <lgl> & <chr> & <chr> & <chr> & <chr> & <chr> & <dbl> & <dbl> & <dbl> & <int> & <chr> & <dbl> & <chr> & <dbl> & <chr> & <dbl> & <chr> & <dbl> & <chr> & <dbl> & <chr> & <dbl> & <chr> & <dbl> & <chr> & <dbl> & <chr> & <dbl>\\\\\n",
       "\\hline\n",
       "\t8493 & NHMBF089-11 & Arthropoda & Insecta & Diptera & Simuliidae & Simuliinae    & NA & Simulium  & Simulium\\_damnosum\\_s.l. & NA & Ghana      & River\\_Praghemang                                  &       NA &        NA &  NA & 164 & cellularOrganisms & 1 & Eukaryota & 1 & Metazoa & 1.00 & Arthropoda & 0.89 & Insecta & 0.87 & Diptera & 0.45 & Tabanidae & 0.06 & Atylotus  & 0.00 & Atylotus\\_thoracius  & 0\\\\\n",
       "\t8494 & NHMBF090-11 & Arthropoda & Insecta & Diptera & Simuliidae & Simuliinae    & NA & Simulium  & Simulium\\_damnosum\\_s.l. & NA & Ghana      & River\\_Praghemang                                  &       NA &        NA &  NA & 164 & cellularOrganisms & 1 & Eukaryota & 1 & Metazoa & 1.00 & Arthropoda & 0.89 & Insecta & 0.87 & Diptera & 0.45 & Tabanidae & 0.06 & Atylotus  & 0.00 & Atylotus\\_thoracius  & 0\\\\\n",
       "\t8617 & ASIND134-12 & Arthropoda & Insecta & Diptera & Syrphidae  & Microdontinae & NA & Paragodon & Paragodon\\_paragoides   & NA & Costa\\_Rica & A.C.G,\\_Liberia,\\_Pque\\_Nal\\_Sta\\_Rosa,\\_Estacion\\_Santa & 10.83600 & -85.61500 & 300 & 556 & cellularOrganisms & 1 & Eukaryota & 1 & Metazoa & 0.99 & Arthropoda & 0.98 & Insecta & 0.98 & Diptera & 0.42 & Muscidae  & 0.05 & Hydrotaea & 0.04 & Hydrotaea\\_pellucens & 0\\\\\n",
       "\t40445 & NHMBF097-12 & Arthropoda & Insecta & Diptera & Simuliidae & Simuliinae    & NA & Simulium  & Simulium\\_damnosum\\_s.l. & NA & Togo       & TeTeTou,\\_Mono\\_River                               &  7.01667 &   1.53333 &  NA & 164 & cellularOrganisms & 1 & Eukaryota & 1 & Metazoa & 1.00 & Arthropoda & 0.96 & Insecta & 0.92 & Diptera & 0.49 & Tabanidae & 0.13 & Atylotus  & 0.01 & Atylotus\\_thoracius  & 0\\\\\n",
       "\\end{tabular}\n"
      ],
      "text/markdown": [
       "\n",
       "A data.frame: 4 × 34\n",
       "\n",
       "| <!--/--> | Process_ID &lt;chr&gt; | Phylum &lt;chr&gt; | Class &lt;chr&gt; | Order &lt;chr&gt; | Family &lt;chr&gt; | Subfamily &lt;chr&gt; | Tribe &lt;lgl&gt; | Genus &lt;chr&gt; | Species &lt;chr&gt; | Subspecies &lt;chr&gt; | ⋯ ⋯ | As_class &lt;chr&gt; | Class_sc &lt;dbl&gt; | As_order &lt;chr&gt; | Order_sc &lt;dbl&gt; | As_family &lt;chr&gt; | Family_sc &lt;dbl&gt; | As_genus &lt;chr&gt; | Genus_sc &lt;dbl&gt; | As_species &lt;chr&gt; | Species_sc &lt;dbl&gt; |\n",
       "|---|---|---|---|---|---|---|---|---|---|---|---|---|---|---|---|---|---|---|---|---|---|\n",
       "| 8493 | NHMBF089-11 | Arthropoda | Insecta | Diptera | Simuliidae | Simuliinae    | NA | Simulium  | Simulium_damnosum_s.l. | NA | ⋯ | Insecta | 0.87 | Diptera | 0.45 | Tabanidae | 0.06 | Atylotus  | 0.00 | Atylotus_thoracius  | 0 |\n",
       "| 8494 | NHMBF090-11 | Arthropoda | Insecta | Diptera | Simuliidae | Simuliinae    | NA | Simulium  | Simulium_damnosum_s.l. | NA | ⋯ | Insecta | 0.87 | Diptera | 0.45 | Tabanidae | 0.06 | Atylotus  | 0.00 | Atylotus_thoracius  | 0 |\n",
       "| 8617 | ASIND134-12 | Arthropoda | Insecta | Diptera | Syrphidae  | Microdontinae | NA | Paragodon | Paragodon_paragoides   | NA | ⋯ | Insecta | 0.98 | Diptera | 0.42 | Muscidae  | 0.05 | Hydrotaea | 0.04 | Hydrotaea_pellucens | 0 |\n",
       "| 40445 | NHMBF097-12 | Arthropoda | Insecta | Diptera | Simuliidae | Simuliinae    | NA | Simulium  | Simulium_damnosum_s.l. | NA | ⋯ | Insecta | 0.92 | Diptera | 0.49 | Tabanidae | 0.13 | Atylotus  | 0.01 | Atylotus_thoracius  | 0 |\n",
       "\n"
      ],
      "text/plain": [
       "      Process_ID  Phylum     Class   Order   Family     Subfamily     Tribe\n",
       "8493  NHMBF089-11 Arthropoda Insecta Diptera Simuliidae Simuliinae    NA   \n",
       "8494  NHMBF090-11 Arthropoda Insecta Diptera Simuliidae Simuliinae    NA   \n",
       "8617  ASIND134-12 Arthropoda Insecta Diptera Syrphidae  Microdontinae NA   \n",
       "40445 NHMBF097-12 Arthropoda Insecta Diptera Simuliidae Simuliinae    NA   \n",
       "      Genus     Species                Subspecies ⋯ As_class Class_sc As_order\n",
       "8493  Simulium  Simulium_damnosum_s.l. NA         ⋯ Insecta  0.87     Diptera \n",
       "8494  Simulium  Simulium_damnosum_s.l. NA         ⋯ Insecta  0.87     Diptera \n",
       "8617  Paragodon Paragodon_paragoides   NA         ⋯ Insecta  0.98     Diptera \n",
       "40445 Simulium  Simulium_damnosum_s.l. NA         ⋯ Insecta  0.92     Diptera \n",
       "      Order_sc As_family Family_sc As_genus  Genus_sc As_species         \n",
       "8493  0.45     Tabanidae 0.06      Atylotus  0.00     Atylotus_thoracius \n",
       "8494  0.45     Tabanidae 0.06      Atylotus  0.00     Atylotus_thoracius \n",
       "8617  0.42     Muscidae  0.05      Hydrotaea 0.04     Hydrotaea_pellucens\n",
       "40445 0.49     Tabanidae 0.13      Atylotus  0.01     Atylotus_thoracius \n",
       "      Species_sc\n",
       "8493  0         \n",
       "8494  0         \n",
       "8617  0         \n",
       "40445 0         "
      ]
     },
     "metadata": {},
     "output_type": "display_data"
    }
   ],
   "source": [
    "#Records whose assinged species at Bootstrap score of 1.0 do not match with the predefined species (clash)\n",
    "cat(nrow(subset(df_taxa, Species_sc == 1.0 & Species != df_taxa$As_species)),\n",
    "    \"records with a species classication confidence of 1.0\",\n",
    "    \"have differing assinged species from predefined species,\",\n",
    "   nrow(subset(\n",
    "       df_taxa, seq_len >= 500 & Species_sc == 1.0 & Species != df_taxa$As_species)),\n",
    "    \"of which have over 500 base-pairs\\n\\n\")\n",
    "df_taxa_clash <- subset(\n",
    "    df_taxa, seq_len >= 500 & Species_sc == 1.0 & Species != df_taxa$As_species)\n",
    "#output_list = c(\"families_df\",\"df_taxa_clash\")\n",
    "#datalist = lapply(output_list,get)\n",
    "#names(datalist) <- paste(input_src,\"/\",output_list,sep=\"\")\n",
    "#for (i in 1:length(datalist)) {write.table(datalist[i],file = paste(names(datalist[i]), \".tsv\", sep = \"\"), row.names = FALSE, col.names = TRUE, sep = \"\\t\", quote = FALSE)}\n",
    "write.table(df_taxa_clash, file = paste(input_src,\"/\",filename, \"_clash.tsv\", sep =\"\"),\n",
    "            row.names = FALSE, col.names= TRUE, sep = \"\\t\", quote=FALSE )\n",
    "write.table(family_df, file = paste(input_src,\"/\",filename, \"_families.tsv\", sep =\"\"),\n",
    "            row.names = FALSE, col.names= TRUE, sep = \"\\t\", quote=FALSE )\n",
    "write.table(genus_df, file = paste(input_src,\"/\",filename, \"_genera.tsv\", sep =\"\"),\n",
    "            row.names = FALSE, col.names= TRUE, sep = \"\\t\", quote=FALSE )\n",
    "#head(diptera_classified)\n",
    "head(subset(df_taxa, Species != \"NA\" & Species_sc == 0))"
   ]
  },
  {
   "cell_type": "markdown",
   "metadata": {},
   "source": [
    "5. **Graphical representation of the distributions**"
   ]
  },
  {
   "cell_type": "code",
   "execution_count": 76,
   "metadata": {},
   "outputs": [
    {
     "data": {
      "image/png": "[encoded data removed]",
      "text/plain": [
       "Plot with title “Histogram of df_taxa$Species_sc”"
      ]
     },
     "metadata": {},
     "output_type": "display_data"
    },
    {
     "data": {
      "image/png": "[encoded data removed]",
      "text/plain": [
       "plot without title"
      ]
     },
     "metadata": {},
     "output_type": "display_data"
    },
    {
     "name": "stdout",
     "output_type": "stream",
     "text": [
      "63 Families are represented\n"
     ]
    },
    {
     "data": {
      "image/png": "[encoded data removed]",
      "text/plain": [
       "plot without title"
      ]
     },
     "metadata": {},
     "output_type": "display_data"
    },
    {
     "name": "stdout",
     "output_type": "stream",
     "text": [
      "11337 sequences have over 0.7 species identification score\n"
     ]
    },
    {
     "data": {
      "image/png": "[encoded data removed]",
      "text/plain": [
       "plot without title"
      ]
     },
     "metadata": {},
     "output_type": "display_data"
    }
   ],
   "source": [
    "#Species score distribution.\n",
    "hist(df_taxa$Species_sc)\n",
    "ggplot(df_taxa, mapping = aes(x = seq_len)) + geom_freqpoly(\n",
    "    mapping = aes(colour = is.na(Species)), binwidth = 50)\n",
    "ggplot(df_taxa, aes(x = seq_len, y = Species_sc)) + geom_boxplot(\n",
    "    mapping = aes(group = cut_width(seq_len, 50)))\n",
    "cat(nrow(as.data.frame(table(c((df_taxa)$Family)))),\n",
    "    \"Families are represented\\n\")\n",
    "#as.data.frame(table(c(diptera_taxa$Family)))\n",
    "df_taxa %>% filter(df_taxa$Family_sc == 1.0 ) -> df_family\n",
    "as.data.frame(table(c(df_family$As_family))) -> df_fam\n",
    "df_fam %>% filter(df_fam$Freq > 50 ) -> df_fam1\n",
    "ggplot(\n",
    "    data = df_fam1\n",
    ") + geom_bar(\n",
    "    mapping = aes (x = df_fam1$Var1, y = df_fam1$Freq),\n",
    "    stat = \"identity\")\n",
    "#ggplot( data = diptera_family ) + geom_bar(mapping = aes(x = diptera_family$As_family ))\n",
    "df_taxa %>% filter(Species_sc >= 0.7 ) -> df_newsp\n",
    "cat(nrow(df_newsp),\"sequences have over 0.7 species identification score\\n\")\n",
    "#head(diptera_newsp)\n",
    "#hist(diptera_newsp$)\n",
    "#ggplot(diptera_genussc_over07, aes(x = seq_len, y = Species_sc)) + geom_line()\n",
    "#hist(as.integer(diptera_genussc_over07$seq_len))"
   ]
  },
  {
   "cell_type": "code",
   "execution_count": null,
   "metadata": {},
   "outputs": [],
   "source": []
  }
 ],
 "metadata": {
  "kernelspec": {
   "display_name": "R",
   "language": "R",
   "name": "ir"
  },
  "language_info": {
   "codemirror_mode": "r",
   "file_extension": ".r",
   "mimetype": "text/x-r-source",
   "name": "R",
   "pygments_lexer": "r",
   "version": "3.4.1"
  }
 },
 "nbformat": 4,
 "nbformat_minor": 2
}
