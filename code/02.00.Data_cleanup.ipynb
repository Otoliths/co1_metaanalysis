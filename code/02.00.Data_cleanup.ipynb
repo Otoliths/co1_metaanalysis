{
 "cells": [
  {
   "cell_type": "markdown",
   "metadata": {},
   "source": [
    "# **Data cleaning and sorting**\n",
    "This notebook covers a summary come detailed analysis of the contents of the text (.tsv) country files generated from [01.Data_downloading_and_transformation](./01.Data_downloading_and_transformation.ipnb)\n",
    "## **Goals**\n",
    "1. To Understand the summary contents of the .tsv files\n",
    "2. To Analyse the outlook of each sequence: length and content"
   ]
  },
  {
   "cell_type": "markdown",
   "metadata": {},
   "source": [
    "### **Install tidyverse package**"
   ]
  },
  {
   "cell_type": "code",
   "execution_count": 1,
   "metadata": {},
   "outputs": [
    {
     "name": "stderr",
     "output_type": "stream",
     "text": [
      "Updating HTML index of packages in '.Library'\n",
      "\n",
      "Making 'packages.html' ...\n",
      " done\n",
      "\n"
     ]
    }
   ],
   "source": [
    "install.packages(\"tidyverse\")"
   ]
  },
  {
   "cell_type": "markdown",
   "metadata": {},
   "source": [
    "### **loading dplyr or magrittr packages**"
   ]
  },
  {
   "cell_type": "code",
   "execution_count": 2,
   "metadata": {},
   "outputs": [
    {
     "data": {
      "text/html": [
       "'/home/kibet/bioinformatics/github/co1_metaanalysis/code'"
      ],
      "text/latex": [
       "'/home/kibet/bioinformatics/github/co1\\_metaanalysis/code'"
      ],
      "text/markdown": [
       "'/home/kibet/bioinformatics/github/co1_metaanalysis/code'"
      ],
      "text/plain": [
       "[1] \"/home/kibet/bioinformatics/github/co1_metaanalysis/code\""
      ]
     },
     "metadata": {},
     "output_type": "display_data"
    }
   ],
   "source": [
    "getwd()"
   ]
  },
  {
   "cell_type": "code",
   "execution_count": 3,
   "metadata": {},
   "outputs": [
    {
     "name": "stderr",
     "output_type": "stream",
     "text": [
      "\n",
      "Attaching package: ‘dplyr’\n",
      "\n",
      "\n",
      "The following objects are masked from ‘package:stats’:\n",
      "\n",
      "    filter, lag\n",
      "\n",
      "\n",
      "The following objects are masked from ‘package:base’:\n",
      "\n",
      "    intersect, setdiff, setequal, union\n",
      "\n",
      "\n"
     ]
    }
   ],
   "source": [
    "library(dplyr);library(magrittr)"
   ]
  },
  {
   "cell_type": "code",
   "execution_count": 4,
   "metadata": {},
   "outputs": [],
   "source": [
    "suppressMessages(library(dplyr));suppressMessages(library(magrittr))"
   ]
  },
  {
   "cell_type": "markdown",
   "metadata": {},
   "source": [
    "### **Loading the .tsv data file to R**"
   ]
  },
  {
   "cell_type": "code",
   "execution_count": 5,
   "metadata": {},
   "outputs": [],
   "source": [
    "bold_data = read.delim(\"../data/input/psychodidae/psychodidae.tsv\", \n",
    "                       stringsAsFactors = F, header = T, na.strings = \"\") \n",
    "# seems to work ok. bold2.tsv does not contain any '\\r' characters"
   ]
  },
  {
   "cell_type": "markdown",
   "metadata": {},
   "source": [
    "### **The Overall look of the data**"
   ]
  },
  {
   "cell_type": "code",
   "execution_count": 6,
   "metadata": {},
   "outputs": [
    {
     "name": "stdout",
     "output_type": "stream",
     "text": [
      "'data.frame':\t33481 obs. of  80 variables:\n",
      " $ processid                 : chr  \"ASDMT195-11\" \"AUSBC1449-12\" \"BBDCN969-10\" \"CNBAA070-12\" ...\n",
      " $ sampleid                  : chr  \"BIOUG01400-F12\" \"BIOUG02300-F10\" \"10BBCDIP-0684\" \"BIOUG03122-A08\" ...\n",
      " $ recordID                  : int  2169593 2573154 1696313 2800078 2880250 2880693 2789729 2787852 2820902 2821644 ...\n",
      " $ catalognum                : chr  \"BIOUG01400-F12\" NA \"10BBCDIP-0684\" \"BIOUG03122-A08\" ...\n",
      " $ fieldnum                  : chr  \"MAS1009-10\" \"L#2011AUS-0374\" \"L#PC2010EI-138\" \"GMP#00366\" ...\n",
      " $ institution_storing       : chr  \"Centre for Biodiversity Genomics\" \"Centre for Biodiversity Genomics\" \"Centre for Biodiversity Genomics\" \"Centre for Biodiversity Genomics\" ...\n",
      " $ collection_code           : logi  NA NA NA NA NA NA ...\n",
      " $ bin_uri                   : chr  \"BOLD:ABU5546\" \"BOLD:AAP4717\" \"BOLD:ADZ9121\" \"BOLD:ACC2207\" ...\n",
      " $ phylum_taxID              : int  20 20 20 20 20 20 20 20 20 20 ...\n",
      " $ phylum_name               : chr  \"Arthropoda\" \"Arthropoda\" \"Arthropoda\" \"Arthropoda\" ...\n",
      " $ class_taxID               : int  82 82 82 82 82 82 82 82 82 82 ...\n",
      " $ class_name                : chr  \"Insecta\" \"Insecta\" \"Insecta\" \"Insecta\" ...\n",
      " $ order_taxID               : int  127 127 127 127 127 127 127 127 127 127 ...\n",
      " $ order_name                : chr  \"Diptera\" \"Diptera\" \"Diptera\" \"Diptera\" ...\n",
      " $ family_taxID              : int  183623 183623 183623 183623 183623 183623 183623 183623 183623 183623 ...\n",
      " $ family_name               : chr  \"Psychodidae\" \"Psychodidae\" \"Psychodidae\" \"Psychodidae\" ...\n",
      " $ subfamily_taxID           : int  330398 NA NA NA NA NA 330398 330398 330398 330398 ...\n",
      " $ subfamily_name            : chr  \"Psychodinae\" NA NA NA ...\n",
      " $ genus_taxID               : int  386808 NA NA NA NA NA 386808 386808 386808 386808 ...\n",
      " $ genus_name                : chr  \"Psychoda\" NA NA NA ...\n",
      " $ species_taxID             : int  NA NA NA NA NA NA NA NA NA NA ...\n",
      " $ species_name              : chr  NA NA NA NA ...\n",
      " $ subspecies_taxID          : int  NA NA NA NA NA NA NA NA NA NA ...\n",
      " $ subspecies_name           : chr  NA NA NA NA ...\n",
      " $ identification_provided_by: chr  \"Angela Telfer\" \"Angela Telfer\" \"Valerie Levesque-Beaudin\" NA ...\n",
      " $ identification_method     : logi  NA NA NA NA NA NA ...\n",
      " $ identification_reference  : chr  NA NA NA NA ...\n",
      " $ tax_note                  : logi  NA NA NA NA NA NA ...\n",
      " $ voucher_status            : chr  NA NA \"Vouchered:Registered Collection\" \"Vouchered:Registered Collection\" ...\n",
      " $ tissue_type               : chr  NA NA NA \"Whole Voucher\" ...\n",
      " $ collection_event_id       : logi  NA NA NA NA NA NA ...\n",
      " $ collectors                : chr  \"Alex Smith\" \"P. Hebert\" \"BIObus 2010\" \"Whittington\" ...\n",
      " $ collectiondate_start      : logi  NA NA NA NA NA NA ...\n",
      " $ collectiondate_end        : logi  NA NA NA NA NA NA ...\n",
      " $ collectiontime            : logi  NA NA NA NA NA NA ...\n",
      " $ collection_note           : chr  NA NA \"|Overcast|Deciduous forest\" \"Lodgepole pine/spruce\" ...\n",
      " $ site_code                 : chr  \"BIOUG:OTTAWAVALLEY\" \"BIOUG:AUSBC\" NA \"BIOUG:BANFF-NP:5\" ...\n",
      " $ sampling_protocol         : chr  \"Malaise Trap\" NA \"UV Light Trap\" \"Malaise Trap\" ...\n",
      " $ lifestage                 : chr  \"A\" NA \"A\" NA ...\n",
      " $ sex                       : chr  NA NA NA NA ...\n",
      " $ reproduction              : chr  \"S\" \"S\" \"S\" NA ...\n",
      " $ habitat                   : chr  NA NA \"Forest\" \"Wetland\" ...\n",
      " $ associated_specimens      : chr  NA NA NA NA ...\n",
      " $ associated_taxa           : chr  NA NA NA NA ...\n",
      " $ extrainfo                 : chr  \"Douglas\" \"Malaise\" \"Elk Island NP\" \"Banff NP\" ...\n",
      " $ notes                     : chr  NA \"<![CDATA[Nov26-Dec5]]>\" NA \"<![CDATA[New location]]>\" ...\n",
      " $ lat                       : num  45.5 -34 53.7 51.2 51.2 ...\n",
      " $ lon                       : num  -76.7 141 -112.9 -115.5 -115.5 ...\n",
      " $ coord_source              : chr  NA NA \"GPS WGS84\" \"GPS\" ...\n",
      " $ coord_accuracy            : int  NA NA NA NA NA NA NA NA NA NA ...\n",
      " $ elev                      : num  NA NA 721 1446 1446 ...\n",
      " $ depth                     : int  NA NA NA NA NA NA NA NA NA NA ...\n",
      " $ elev_accuracy             : int  NA NA NA NA NA NA NA NA NA NA ...\n",
      " $ depth_accuracy            : logi  NA NA NA NA NA NA ...\n",
      " $ country                   : chr  \"Canada\" \"Australia\" \"Canada\" \"Canada\" ...\n",
      " $ province_state            : chr  \"Ontario\" \"South Australia\" \"Alberta\" \"Alberta\" ...\n",
      " $ region                    : chr  \"Wilberforce Township, near Douglas Ontario\" NA \"Elk Island NP\" \"Banff National Park\" ...\n",
      " $ sector                    : chr  \"Douglas\" NA \"Staff Housing Area\" \"2km North from Johnston Lake\" ...\n",
      " $ exactsite                 : chr  NA \"Border Cliffs Resort on property, near Renmark\" NA NA ...\n",
      " $ image_ids                 : int  NA NA NA NA NA NA NA NA NA NA ...\n",
      " $ image_urls                : chr  NA NA NA NA ...\n",
      " $ media_descriptors         : chr  NA NA NA NA ...\n",
      " $ captions                  : chr  NA NA NA NA ...\n",
      " $ copyright_holders         : chr  NA NA NA NA ...\n",
      " $ copyright_years           : int  NA NA NA NA NA NA NA NA NA NA ...\n",
      " $ copyright_licenses        : chr  NA NA NA NA ...\n",
      " $ copyright_institutions    : chr  NA NA NA NA ...\n",
      " $ photographers             : chr  NA NA NA NA ...\n",
      " $ sequenceID                : int  4380910 4568909 3827689 4902759 5015771 5038379 4731364 4731164 4739760 4742891 ...\n",
      " $ markercode                : chr  \"COI-5P\" \"COI-5P\" \"COI-5P\" \"COI-5P\" ...\n",
      " $ genbank_accession         : chr  \"MG298038\" NA \"JF868448\" \"MF859498\" ...\n",
      " $ nucleotides               : chr  \"TACCTTATATTTCATTTTTGGTAGTTGAGCAAGAATAGTTGGTACTTCTTTAAGAATAATTATTCGAGCCGAATTAGGTCACCCAGGTTCATTAATTGGAAATGACCAAAT\"| __truncated__ \"TACTTTATATTTTATTTTTGGAAGTTGAGCAAGAATAGTAGGTACTTCTCTTAGAATAATTATTCGAGCTGAATTAGGTCATCCAGGTTCATTAATTGGAAATGATCAAAT\"| __truncated__ \"AACATTATATTTTATTTTTGGAAGTTGAGCTAGTATAGTAGGAACTTCCTTAAGAATTATTATTCGAACAGAATTAGGTCACCCAGGATCTTTAATTGGAAATGACCAAAT\"| __truncated__ \"AACTTTATATTTTATTTTTGGTAGTTGAGCAAGAATAATTGGGACTTCTTTAAGAATAATTATTCGAACTGAATTAGGACACCCCGGCTCA---TTAATTGGGAATGACCA\"| __truncated__ ...\n",
      " $ trace_ids                 : int  3833112 4238752 2723078 4732002 4800992 4839332 4571370 4571008 4590323 4597456 ...\n",
      " $ trace_names               : chr  \"ASDMT195-11[C_LepFolF,C_LepFolR]_F.ab1\" \"AUSBC1449-12[C_LepFolF,C_LepFolR]_R.ab1\" \"BBDCN969-10[C_LepFolF,C_LepFolR]_F.ab1\" \"CNBAA070-12[C_LepFolF,C_LepFolR]_R.ab1\" ...\n",
      " $ trace_links               : chr  \"http://trace.boldsystems.org/traceIO/bold.org/5696715\" \"http://trace.boldsystems.org/traceIO/bold.org/6086822\" \"http://trace.boldsystems.org/traceIO/bold.org/2403346\" \"http://trace.boldsystems.org/traceIO/bold.org/6579263\" ...\n",
      " $ run_dates                 : chr  \"2012-02-28T02:15:11\" \"2012-06-22T13:21:29\" \"2011-02-22T22:35:28\" \"2012-12-17T11:28:08\" ...\n",
      " $ sequencing_centers        : chr  \"Biodiversity Institute of Ontario\" \"Biodiversity Institute of Ontario\" \"Biodiversity Institute of Ontario\" \"Biodiversity Institute of Ontario\" ...\n",
      " $ directions                : chr  \"F\" \"R\" \"F\" \"R\" ...\n",
      " $ seq_primers               : chr  \"C_LepFolF\" \"C_LepFolR\" \"C_LepFolF\" \"C_LepFolR\" ...\n",
      " $ marker_codes              : chr  \"COI-5P\" \"COI-5P\" \"COI-5P\" \"COI-5P\" ...\n"
     ]
    }
   ],
   "source": [
    "str(bold_data)"
   ]
  },
  {
   "cell_type": "markdown",
   "metadata": {},
   "source": [
    "### **Countries represented**\n",
    "Note: Countries include; Atlantic Ocean(137), Costa Rica(1291), Indian Ocean(3), India(1), Israel(27) and United States(2) = 1461 in total"
   ]
  },
  {
   "cell_type": "code",
   "execution_count": 7,
   "metadata": {},
   "outputs": [
    {
     "name": "stdout",
     "output_type": "stream",
     "text": [
      "62 countries are represented in bold_data: Canada;Australia;Mexico;United States;Germany;Honduras;Pakistan;Costa Rica;South Africa;Egypt;Malaysia;Bangladesh;Madagascar;NA;Ecuador;Colombia;India;Brazil;Thailand;Norway;Peru;Portugal;Greece;Algeria;Turkey;Ethiopia;Sri Lanka;French Polynesia;Malta;Spain;France;Cyprus;Tunisia;Cameroon;China;Panama;Italy;Denmark;Serbia;Azerbaijan;South Korea;French Guiana;Botswana;Finland;Slovakia;United Kingdom;Ghana;Kenya;Morocco;Montenegro;Slovenia;Belgium;Afghanistan;Poland;Romania;Japan;Uzbekistan;Austria;Sweden;Saudi Arabia;Iran;Czech Republic"
     ]
    },
    {
     "data": {
      "text/html": [
       "<table>\n",
       "<caption>A data.frame: 61 × 2</caption>\n",
       "<thead>\n",
       "\t<tr><th scope=col>Var1</th><th scope=col>Freq</th></tr>\n",
       "\t<tr><th scope=col>&lt;fct&gt;</th><th scope=col>&lt;int&gt;</th></tr>\n",
       "</thead>\n",
       "<tbody>\n",
       "\t<tr><td>Afghanistan     </td><td>    1</td></tr>\n",
       "\t<tr><td>Algeria         </td><td>  122</td></tr>\n",
       "\t<tr><td>Australia       </td><td> 2208</td></tr>\n",
       "\t<tr><td>Austria         </td><td>    1</td></tr>\n",
       "\t<tr><td>Azerbaijan      </td><td>    9</td></tr>\n",
       "\t<tr><td>Bangladesh      </td><td> 1462</td></tr>\n",
       "\t<tr><td>Belgium         </td><td>    2</td></tr>\n",
       "\t<tr><td>Botswana        </td><td>   14</td></tr>\n",
       "\t<tr><td>Brazil          </td><td>  310</td></tr>\n",
       "\t<tr><td>Cameroon        </td><td>   64</td></tr>\n",
       "\t<tr><td>Canada          </td><td>12166</td></tr>\n",
       "\t<tr><td>China           </td><td>   67</td></tr>\n",
       "\t<tr><td>Colombia        </td><td>  209</td></tr>\n",
       "\t<tr><td>Costa Rica      </td><td> 8699</td></tr>\n",
       "\t<tr><td>Cyprus          </td><td>   23</td></tr>\n",
       "\t<tr><td>Czech Republic  </td><td>    1</td></tr>\n",
       "\t<tr><td>Denmark         </td><td>    6</td></tr>\n",
       "\t<tr><td>Ecuador         </td><td>   40</td></tr>\n",
       "\t<tr><td>Egypt           </td><td> 1886</td></tr>\n",
       "\t<tr><td>Ethiopia        </td><td>   32</td></tr>\n",
       "\t<tr><td>Finland         </td><td>   12</td></tr>\n",
       "\t<tr><td>France          </td><td>   25</td></tr>\n",
       "\t<tr><td>French Guiana   </td><td>   14</td></tr>\n",
       "\t<tr><td>French Polynesia</td><td>   88</td></tr>\n",
       "\t<tr><td>Germany         </td><td>  567</td></tr>\n",
       "\t<tr><td>Ghana           </td><td>    6</td></tr>\n",
       "\t<tr><td>Greece          </td><td>   36</td></tr>\n",
       "\t<tr><td>Honduras        </td><td>  981</td></tr>\n",
       "\t<tr><td>India           </td><td>   94</td></tr>\n",
       "\t<tr><td>Iran            </td><td>    1</td></tr>\n",
       "\t<tr><td>⋮</td><td>⋮</td></tr>\n",
       "\t<tr><td>Japan         </td><td>   3</td></tr>\n",
       "\t<tr><td>Kenya         </td><td>   3</td></tr>\n",
       "\t<tr><td>Madagascar    </td><td> 648</td></tr>\n",
       "\t<tr><td>Malaysia      </td><td>1244</td></tr>\n",
       "\t<tr><td>Malta         </td><td>   4</td></tr>\n",
       "\t<tr><td>Mexico        </td><td>  92</td></tr>\n",
       "\t<tr><td>Montenegro    </td><td>   3</td></tr>\n",
       "\t<tr><td>Morocco       </td><td>   3</td></tr>\n",
       "\t<tr><td>Norway        </td><td>  95</td></tr>\n",
       "\t<tr><td>Pakistan      </td><td> 226</td></tr>\n",
       "\t<tr><td>Panama        </td><td>  50</td></tr>\n",
       "\t<tr><td>Peru          </td><td> 159</td></tr>\n",
       "\t<tr><td>Poland        </td><td>   5</td></tr>\n",
       "\t<tr><td>Portugal      </td><td>  49</td></tr>\n",
       "\t<tr><td>Romania       </td><td>   8</td></tr>\n",
       "\t<tr><td>Saudi Arabia  </td><td>   2</td></tr>\n",
       "\t<tr><td>Serbia        </td><td>  10</td></tr>\n",
       "\t<tr><td>Slovakia      </td><td>   4</td></tr>\n",
       "\t<tr><td>Slovenia      </td><td>   5</td></tr>\n",
       "\t<tr><td>South Africa  </td><td> 351</td></tr>\n",
       "\t<tr><td>South Korea   </td><td>   1</td></tr>\n",
       "\t<tr><td>Spain         </td><td>  15</td></tr>\n",
       "\t<tr><td>Sri Lanka     </td><td>  65</td></tr>\n",
       "\t<tr><td>Sweden        </td><td>   1</td></tr>\n",
       "\t<tr><td>Thailand      </td><td> 387</td></tr>\n",
       "\t<tr><td>Tunisia       </td><td>  10</td></tr>\n",
       "\t<tr><td>Turkey        </td><td>   6</td></tr>\n",
       "\t<tr><td>United Kingdom</td><td>   1</td></tr>\n",
       "\t<tr><td>United States </td><td> 325</td></tr>\n",
       "\t<tr><td>Uzbekistan    </td><td>   1</td></tr>\n",
       "</tbody>\n",
       "</table>\n"
      ],
      "text/latex": [
       "A data.frame: 61 × 2\n",
       "\\begin{tabular}{ll}\n",
       " Var1 & Freq\\\\\n",
       " <fct> & <int>\\\\\n",
       "\\hline\n",
       "\t Afghanistan      &     1\\\\\n",
       "\t Algeria          &   122\\\\\n",
       "\t Australia        &  2208\\\\\n",
       "\t Austria          &     1\\\\\n",
       "\t Azerbaijan       &     9\\\\\n",
       "\t Bangladesh       &  1462\\\\\n",
       "\t Belgium          &     2\\\\\n",
       "\t Botswana         &    14\\\\\n",
       "\t Brazil           &   310\\\\\n",
       "\t Cameroon         &    64\\\\\n",
       "\t Canada           & 12166\\\\\n",
       "\t China            &    67\\\\\n",
       "\t Colombia         &   209\\\\\n",
       "\t Costa Rica       &  8699\\\\\n",
       "\t Cyprus           &    23\\\\\n",
       "\t Czech Republic   &     1\\\\\n",
       "\t Denmark          &     6\\\\\n",
       "\t Ecuador          &    40\\\\\n",
       "\t Egypt            &  1886\\\\\n",
       "\t Ethiopia         &    32\\\\\n",
       "\t Finland          &    12\\\\\n",
       "\t France           &    25\\\\\n",
       "\t French Guiana    &    14\\\\\n",
       "\t French Polynesia &    88\\\\\n",
       "\t Germany          &   567\\\\\n",
       "\t Ghana            &     6\\\\\n",
       "\t Greece           &    36\\\\\n",
       "\t Honduras         &   981\\\\\n",
       "\t India            &    94\\\\\n",
       "\t Iran             &     1\\\\\n",
       "\t ⋮ & ⋮\\\\\n",
       "\t Japan          &    3\\\\\n",
       "\t Kenya          &    3\\\\\n",
       "\t Madagascar     &  648\\\\\n",
       "\t Malaysia       & 1244\\\\\n",
       "\t Malta          &    4\\\\\n",
       "\t Mexico         &   92\\\\\n",
       "\t Montenegro     &    3\\\\\n",
       "\t Morocco        &    3\\\\\n",
       "\t Norway         &   95\\\\\n",
       "\t Pakistan       &  226\\\\\n",
       "\t Panama         &   50\\\\\n",
       "\t Peru           &  159\\\\\n",
       "\t Poland         &    5\\\\\n",
       "\t Portugal       &   49\\\\\n",
       "\t Romania        &    8\\\\\n",
       "\t Saudi Arabia   &    2\\\\\n",
       "\t Serbia         &   10\\\\\n",
       "\t Slovakia       &    4\\\\\n",
       "\t Slovenia       &    5\\\\\n",
       "\t South Africa   &  351\\\\\n",
       "\t South Korea    &    1\\\\\n",
       "\t Spain          &   15\\\\\n",
       "\t Sri Lanka      &   65\\\\\n",
       "\t Sweden         &    1\\\\\n",
       "\t Thailand       &  387\\\\\n",
       "\t Tunisia        &   10\\\\\n",
       "\t Turkey         &    6\\\\\n",
       "\t United Kingdom &    1\\\\\n",
       "\t United States  &  325\\\\\n",
       "\t Uzbekistan     &    1\\\\\n",
       "\\end{tabular}\n"
      ],
      "text/markdown": [
       "\n",
       "A data.frame: 61 × 2\n",
       "\n",
       "| Var1 &lt;fct&gt; | Freq &lt;int&gt; |\n",
       "|---|---|\n",
       "| Afghanistan      |     1 |\n",
       "| Algeria          |   122 |\n",
       "| Australia        |  2208 |\n",
       "| Austria          |     1 |\n",
       "| Azerbaijan       |     9 |\n",
       "| Bangladesh       |  1462 |\n",
       "| Belgium          |     2 |\n",
       "| Botswana         |    14 |\n",
       "| Brazil           |   310 |\n",
       "| Cameroon         |    64 |\n",
       "| Canada           | 12166 |\n",
       "| China            |    67 |\n",
       "| Colombia         |   209 |\n",
       "| Costa Rica       |  8699 |\n",
       "| Cyprus           |    23 |\n",
       "| Czech Republic   |     1 |\n",
       "| Denmark          |     6 |\n",
       "| Ecuador          |    40 |\n",
       "| Egypt            |  1886 |\n",
       "| Ethiopia         |    32 |\n",
       "| Finland          |    12 |\n",
       "| France           |    25 |\n",
       "| French Guiana    |    14 |\n",
       "| French Polynesia |    88 |\n",
       "| Germany          |   567 |\n",
       "| Ghana            |     6 |\n",
       "| Greece           |    36 |\n",
       "| Honduras         |   981 |\n",
       "| India            |    94 |\n",
       "| Iran             |     1 |\n",
       "| ⋮ | ⋮ |\n",
       "| Japan          |    3 |\n",
       "| Kenya          |    3 |\n",
       "| Madagascar     |  648 |\n",
       "| Malaysia       | 1244 |\n",
       "| Malta          |    4 |\n",
       "| Mexico         |   92 |\n",
       "| Montenegro     |    3 |\n",
       "| Morocco        |    3 |\n",
       "| Norway         |   95 |\n",
       "| Pakistan       |  226 |\n",
       "| Panama         |   50 |\n",
       "| Peru           |  159 |\n",
       "| Poland         |    5 |\n",
       "| Portugal       |   49 |\n",
       "| Romania        |    8 |\n",
       "| Saudi Arabia   |    2 |\n",
       "| Serbia         |   10 |\n",
       "| Slovakia       |    4 |\n",
       "| Slovenia       |    5 |\n",
       "| South Africa   |  351 |\n",
       "| South Korea    |    1 |\n",
       "| Spain          |   15 |\n",
       "| Sri Lanka      |   65 |\n",
       "| Sweden         |    1 |\n",
       "| Thailand       |  387 |\n",
       "| Tunisia        |   10 |\n",
       "| Turkey         |    6 |\n",
       "| United Kingdom |    1 |\n",
       "| United States  |  325 |\n",
       "| Uzbekistan     |    1 |\n",
       "\n"
      ],
      "text/plain": [
       "   Var1             Freq \n",
       "1  Afghanistan          1\n",
       "2  Algeria            122\n",
       "3  Australia         2208\n",
       "4  Austria              1\n",
       "5  Azerbaijan           9\n",
       "6  Bangladesh        1462\n",
       "7  Belgium              2\n",
       "8  Botswana            14\n",
       "9  Brazil             310\n",
       "10 Cameroon            64\n",
       "11 Canada           12166\n",
       "12 China               67\n",
       "13 Colombia           209\n",
       "14 Costa Rica        8699\n",
       "15 Cyprus              23\n",
       "16 Czech Republic       1\n",
       "17 Denmark              6\n",
       "18 Ecuador             40\n",
       "19 Egypt             1886\n",
       "20 Ethiopia            32\n",
       "21 Finland             12\n",
       "22 France              25\n",
       "23 French Guiana       14\n",
       "24 French Polynesia    88\n",
       "25 Germany            567\n",
       "26 Ghana                6\n",
       "27 Greece              36\n",
       "28 Honduras           981\n",
       "29 India               94\n",
       "30 Iran                 1\n",
       "⋮  ⋮                ⋮    \n",
       "32 Japan               3 \n",
       "33 Kenya               3 \n",
       "34 Madagascar        648 \n",
       "35 Malaysia         1244 \n",
       "36 Malta               4 \n",
       "37 Mexico             92 \n",
       "38 Montenegro          3 \n",
       "39 Morocco             3 \n",
       "40 Norway             95 \n",
       "41 Pakistan          226 \n",
       "42 Panama             50 \n",
       "43 Peru              159 \n",
       "44 Poland              5 \n",
       "45 Portugal           49 \n",
       "46 Romania             8 \n",
       "47 Saudi Arabia        2 \n",
       "48 Serbia             10 \n",
       "49 Slovakia            4 \n",
       "50 Slovenia            5 \n",
       "51 South Africa      351 \n",
       "52 South Korea         1 \n",
       "53 Spain              15 \n",
       "54 Sri Lanka          65 \n",
       "55 Sweden              1 \n",
       "56 Thailand          387 \n",
       "57 Tunisia            10 \n",
       "58 Turkey              6 \n",
       "59 United Kingdom      1 \n",
       "60 United States     325 \n",
       "61 Uzbekistan          1 "
      ]
     },
     "metadata": {},
     "output_type": "display_data"
    }
   ],
   "source": [
    "cat(length(unique(bold_data$country)), \"countries are represented in bold_data: \")\n",
    "cat(c(unique(bold_data$country)), sep=\";\")\n",
    "as.data.frame(table(c(bold_data$country)))"
   ]
  },
  {
   "cell_type": "markdown",
   "metadata": {},
   "source": [
    "## **Loading sample data from exclusively East Africa:**\n",
    "1. Kenya, \n",
    "2. Tanzania, \n",
    "3. Uganda, \n",
    "4. Rwanda, \n",
    "5. Burundi, \n",
    "6. South Sudan and \n",
    "7. Ethiopia"
   ]
  },
  {
   "cell_type": "markdown",
   "metadata": {},
   "source": [
    "### **Looking at the summary of the sample_dataframe.**"
   ]
  },
  {
   "cell_type": "code",
   "execution_count": 7,
   "metadata": {},
   "outputs": [
    {
     "name": "stdout",
     "output_type": "stream",
     "text": [
      "'data.frame':\t41238 obs. of  80 variables:\n",
      " $ processid                 : chr  \"ACRJP031-09\" \"ACRJP194-09\" \"ACRJP221-09\" \"ACRJP419-10\" ...\n",
      " $ sampleid                  : chr  \"BC-MNHNJP0313\" \"BC-MNHNJP0536\" \"BC-MNHNJP0563\" \"BC-MNHNJP0856\" ...\n",
      " $ recordID                  : int  1134352 1134515 1134542 1608687 1608835 2496776 2506330 2506373 2506395 2508075 ...\n",
      " $ catalognum                : chr  NA NA NA NA ...\n",
      " $ fieldnum                  : chr  \"BC-MNHNJP0313\" \"BC-MNHNJP0536\" \"BC-MNHNJP0563\" \"BC-MNHNJP0856\" ...\n",
      " $ institution_storing       : chr  \"Research Collection of Dominique Bernaud\" \"Museum National d'Histoire Naturelle, Paris\" \"Museum National d'Histoire Naturelle, Paris\" \"Research Collection of Dominique Bernaud\" ...\n",
      " $ collection_code           : logi  NA NA NA NA NA NA ...\n",
      " $ bin_uri                   : chr  \"BOLD:AAC9562\" \"BOLD:AAE8435\" \"BOLD:AAD8963\" \"BOLD:AAE0506\" ...\n",
      " $ phylum_taxID              : int  20 20 20 20 20 20 20 20 20 20 ...\n",
      " $ phylum_name               : chr  \"Arthropoda\" \"Arthropoda\" \"Arthropoda\" \"Arthropoda\" ...\n",
      " $ class_taxID               : int  82 82 82 82 82 82 82 82 82 82 ...\n",
      " $ class_name                : chr  \"Insecta\" \"Insecta\" \"Insecta\" \"Insecta\" ...\n",
      " $ order_taxID               : int  113 113 113 113 113 113 113 113 113 113 ...\n",
      " $ order_name                : chr  \"Lepidoptera\" \"Lepidoptera\" \"Lepidoptera\" \"Lepidoptera\" ...\n",
      " $ family_taxID              : int  723 NA NA 723 NA NA 665 NA 425 545 ...\n",
      " $ family_name               : chr  \"Nymphalidae\" NA NA \"Nymphalidae\" ...\n",
      " $ subfamily_taxID           : int  3591 NA NA 3591 NA NA NA NA 5833 NA ...\n",
      " $ subfamily_name            : chr  \"Heliconiinae\" NA NA \"Heliconiinae\" ...\n",
      " $ genus_taxID               : int  7130 NA NA 7130 NA NA NA NA 720479 NA ...\n",
      " $ genus_name                : chr  \"Acraea\" NA NA \"Acraea\" ...\n",
      " $ species_taxID             : int  214325 NA NA 313800 NA NA NA NA 720486 NA ...\n",
      " $ species_name              : chr  \"Acraea schubotzi\" NA NA \"Acraea ducarmei\" ...\n",
      " $ subspecies_taxID          : int  NA NA NA NA NA NA NA NA NA NA ...\n",
      " $ subspecies_name           : chr  NA NA NA NA ...\n",
      " $ identification_provided_by: chr  \"Bernaud Dominique\" \"Jacques L. Pierre\" \"Jacques L. Pierre\" \"Bernaud Dominique\" ...\n",
      " $ identification_method     : chr  NA NA NA NA ...\n",
      " $ identification_reference  : chr  NA NA NA NA ...\n",
      " $ tax_note                  : logi  NA NA NA NA NA NA ...\n",
      " $ voucher_status            : chr  NA NA NA NA ...\n",
      " $ tissue_type               : chr  NA NA NA NA ...\n",
      " $ collection_event_id       : logi  NA NA NA NA NA NA ...\n",
      " $ collectors                : chr  \"JP Lequeux\" \"Vingergoedt\" \"Vingerhoedt\" \"Lequeux\" ...\n",
      " $ collectiondate_start      : logi  NA NA NA NA NA NA ...\n",
      " $ collectiondate_end        : logi  NA NA NA NA NA NA ...\n",
      " $ collectiontime            : chr  NA NA NA NA ...\n",
      " $ collection_note           : chr  NA NA NA NA ...\n",
      " $ site_code                 : chr  NA NA NA NA ...\n",
      " $ sampling_protocol         : chr  NA NA NA NA ...\n",
      " $ lifestage                 : chr  \"A\" \"A\" \"A\" \"A\" ...\n",
      " $ sex                       : chr  \"M\" \"M\" \"M\" \"M\" ...\n",
      " $ reproduction              : chr  \"S\" \"S\" \"S\" \"S\" ...\n",
      " $ habitat                   : chr  NA NA NA NA ...\n",
      " $ associated_specimens      : chr  NA NA NA NA ...\n",
      " $ associated_taxa           : chr  NA NA NA NA ...\n",
      " $ extrainfo                 : chr  NA NA NA \"Paratype\" ...\n",
      " $ notes                     : chr  NA NA NA NA ...\n",
      " $ lat                       : num  0.5 NA NA NA NA ...\n",
      " $ lon                       : num  30 NA NA NA NA ...\n",
      " $ coord_source              : chr  NA NA NA NA ...\n",
      " $ coord_accuracy            : num  NA NA NA NA NA NA NA NA NA NA ...\n",
      " $ elev                      : num  NA NA NA NA NA ...\n",
      " $ depth                     : logi  NA NA NA NA NA NA ...\n",
      " $ elev_accuracy             : num  NA NA NA NA NA NA NA NA NA NA ...\n",
      " $ depth_accuracy            : logi  NA NA NA NA NA NA ...\n",
      " $ country                   : chr  \"Uganda\" \"Kenya\" \"Kenya\" \"Uganda\" ...\n",
      " $ province_state            : chr  NA NA NA NA ...\n",
      " $ region                    : chr  NA NA NA NA ...\n",
      " $ sector                    : chr  NA NA NA NA ...\n",
      " $ exactsite                 : chr  \"Semliki Fst\" NA NA \"Patiko - Gulu\" ...\n",
      " $ image_ids                 : chr  NA NA NA NA ...\n",
      " $ image_urls                : chr  NA NA NA NA ...\n",
      " $ media_descriptors         : chr  NA NA NA NA ...\n",
      " $ captions                  : chr  NA NA NA NA ...\n",
      " $ copyright_holders         : chr  NA NA NA NA ...\n",
      " $ copyright_years           : chr  NA NA NA NA ...\n",
      " $ copyright_licenses        : chr  NA NA NA NA ...\n",
      " $ copyright_institutions    : chr  NA NA NA NA ...\n",
      " $ photographers             : chr  NA NA NA NA ...\n",
      " $ sequenceID                : int  3433346 3326280 3326300 3701223 3696276 4473416 4470826 4470890 4470850 4496624 ...\n",
      " $ markercode                : chr  \"COI-5P\" \"COI-5P\" \"COI-5P\" \"COI-5P\" ...\n",
      " $ genbank_accession         : chr  \"HQ546425\" \"HQ546483-SUPPRESSED\" \"HQ546506-SUPPRESSED\" \"HQ920054\" ...\n",
      " $ nucleotides               : chr  \"AACTCTATACTTTATTTTCGGGATTTGAGCAGGATTAATTGGAACCTCCTTAAGTCTTTTAATTCGAGTAGAATTAAGTAATCCAGGATCCTTTATTAATGATGATCAAAT\"| __truncated__ \"AACTTTATATTTTATTTTTGGTATTTGATCGGGAATAATTGGAACATCATTAAGTTTATTAATTCGAACAGAATTAGGTAACCCAGGGTCTTTAATTGGAGATGATCAAAT\"| __truncated__ \"AACATTATATTTTATTTTTGGGATCTGATCTGGAATAGTAGGGACATCTTTAAGTATACTAATTCGAATAGAACTAGGAAATCCTGGATGTTTAATTGGGGATGATCAAAT\"| __truncated__ \"AACTTTATATTTTATTTTTGGAATTTGAGCAGGACTAATCGGTACCTCTCTCAGTTTATTAATTCGAATTGAATTAAGTAACCCTGGATCCTTTATTAATAATGACCAAAT\"| __truncated__ ...\n",
      " $ trace_ids                 : chr  \"1785152|1785179|1785206|1785234\" \"1523835|1523917\" \"1523857|1523939\" \"2406424|2406465\" ...\n",
      " $ trace_names               : chr  \"ACRJP031-09[LepF1,MLepR1]_F.ab1|ACRJP031-09[LepF1,MLepR1]_R.ab1|ACRJP031-09[MLepF1,LepR1]_F.ab1|ACRJP031-09[MLe\"| __truncated__ \"ACRJP194-09[LepF1,LepR1]_F.ab1|ACRJP194-09[LepF1,LepR1]_R.ab1\" \"ACRJP221-09[LepF1,LepR1]_F.ab1|ACRJP221-09[LepF1,LepR1]_R.ab1\" \"ACRJP419-10[LepF1,LepR1]_F.ab1|ACRJP419-10[LepF1,LepR1]_R.ab1\" ...\n",
      " $ trace_links               : chr  \"http://trace.boldsystems.org/traceIO/bold.org/1509880|http://trace.boldsystems.org/traceIO/bold.org/1509907|htt\"| __truncated__ \"http://trace.boldsystems.org/traceIO/bold.org/1257014|http://trace.boldsystems.org/traceIO/bold.org/1257096\" \"http://trace.boldsystems.org/traceIO/bold.org/1257036|http://trace.boldsystems.org/traceIO/bold.org/1257118\" \"http://trace.boldsystems.org/traceIO/bold.org/2099969|http://trace.boldsystems.org/traceIO/bold.org/2100010\" ...\n",
      " $ run_dates                 : chr  \"2009-12-16 19:48:40|2009-12-16 20:33:35|2009-12-19 23:31:55|2009-12-21 21:55:25\" \"2009-07-31 16:03:03|2009-07-31 20:20:54\" \"2009-07-31 16:03:03|2009-07-31 20:20:54\" \"2010-09-24 20:13:35|2010-09-24 21:39:54\" ...\n",
      " $ sequencing_centers        : chr  \"Biodiversity Institute of Ontario|Biodiversity Institute of Ontario|Biodiversity Institute of Ontario|Biodivers\"| __truncated__ \"Biodiversity Institute of Ontario|Biodiversity Institute of Ontario\" \"Biodiversity Institute of Ontario|Biodiversity Institute of Ontario\" \"Biodiversity Institute of Ontario|Biodiversity Institute of Ontario\" ...\n",
      " $ directions                : chr  \"F|R|F|R\" \"F|R\" \"F|R\" \"F|R\" ...\n",
      " $ seq_primers               : chr  \"LepF1|MLepR1|MLepF1|LepR1\" \"LepF1|LepR1\" \"LepF1|LepR1\" \"LepF1|LepR1\" ...\n",
      " $ marker_codes              : chr  \"COI-5P|COI-5P|COI-5P|COI-5P\" \"COI-5P|COI-5P\" \"COI-5P|COI-5P\" \"COI-5P|COI-5P\" ...\n"
     ]
    }
   ],
   "source": [
    "sample_data = read.delim(\"../data/input/test_data/bold.tsv\", \n",
    "                         stringsAsFactors = F, header = T, na.strings = \"\") \n",
    "str(sample_data)"
   ]
  },
  {
   "cell_type": "markdown",
   "metadata": {},
   "source": [
    "### Copeland's data"
   ]
  },
  {
   "cell_type": "code",
   "execution_count": 8,
   "metadata": {},
   "outputs": [
    {
     "name": "stdout",
     "output_type": "stream",
     "text": [
      "R.Copeland | RS Copeland | R. Copeland | R.S. Copeland | R Copeland | R.S.Copeland | R. S. Copeland | Robert Copeland | J. Bukhebi & RS Copeland | R S Copeland | J.Bukhebi & R S Copeland | R S.Copeland | RS  Copeland | R.S Copeland | J.Bukhebi & R.S Copeland | J.Bukhebi & RS Copeland | Bob Copeland"
     ]
    },
    {
     "data": {
      "text/html": [
       "<table>\n",
       "<caption>A data.frame: 17 × 2</caption>\n",
       "<thead>\n",
       "\t<tr><th scope=col>Var1</th><th scope=col>Freq</th></tr>\n",
       "\t<tr><th scope=col>&lt;fct&gt;</th><th scope=col>&lt;int&gt;</th></tr>\n",
       "</thead>\n",
       "<tbody>\n",
       "\t<tr><td>Bob Copeland            </td><td>  10</td></tr>\n",
       "\t<tr><td>J. Bukhebi &amp; RS Copeland</td><td> 895</td></tr>\n",
       "\t<tr><td>J.Bukhebi &amp; R S Copeland</td><td><span style=white-space:pre-wrap>  41</span></td></tr>\n",
       "\t<tr><td>J.Bukhebi &amp; R.S Copeland</td><td><span style=white-space:pre-wrap>  16</span></td></tr>\n",
       "\t<tr><td>J.Bukhebi &amp; RS Copeland </td><td><span style=white-space:pre-wrap>  83</span></td></tr>\n",
       "\t<tr><td>R Copeland              </td><td>  35</td></tr>\n",
       "\t<tr><td>R S Copeland            </td><td> 196</td></tr>\n",
       "\t<tr><td>R S.Copeland            </td><td>  19</td></tr>\n",
       "\t<tr><td>R. Copeland             </td><td> 526</td></tr>\n",
       "\t<tr><td>R. S. Copeland          </td><td> 144</td></tr>\n",
       "\t<tr><td>R.Copeland              </td><td>  20</td></tr>\n",
       "\t<tr><td>R.S Copeland            </td><td>  29</td></tr>\n",
       "\t<tr><td>R.S. Copeland           </td><td> 436</td></tr>\n",
       "\t<tr><td>R.S.Copeland            </td><td>  32</td></tr>\n",
       "\t<tr><td>Robert Copeland         </td><td>2603</td></tr>\n",
       "\t<tr><td>RS  Copeland            </td><td>  26</td></tr>\n",
       "\t<tr><td>RS Copeland             </td><td>1922</td></tr>\n",
       "</tbody>\n",
       "</table>\n"
      ],
      "text/latex": [
       "A data.frame: 17 × 2\n",
       "\\begin{tabular}{r|ll}\n",
       " Var1 & Freq\\\\\n",
       " <fct> & <int>\\\\\n",
       "\\hline\n",
       "\t Bob Copeland             &   10\\\\\n",
       "\t J. Bukhebi \\& RS Copeland &  895\\\\\n",
       "\t J.Bukhebi \\& R S Copeland &   41\\\\\n",
       "\t J.Bukhebi \\& R.S Copeland &   16\\\\\n",
       "\t J.Bukhebi \\& RS Copeland  &   83\\\\\n",
       "\t R Copeland               &   35\\\\\n",
       "\t R S Copeland             &  196\\\\\n",
       "\t R S.Copeland             &   19\\\\\n",
       "\t R. Copeland              &  526\\\\\n",
       "\t R. S. Copeland           &  144\\\\\n",
       "\t R.Copeland               &   20\\\\\n",
       "\t R.S Copeland             &   29\\\\\n",
       "\t R.S. Copeland            &  436\\\\\n",
       "\t R.S.Copeland             &   32\\\\\n",
       "\t Robert Copeland          & 2603\\\\\n",
       "\t RS  Copeland             &   26\\\\\n",
       "\t RS Copeland              & 1922\\\\\n",
       "\\end{tabular}\n"
      ],
      "text/markdown": [
       "\n",
       "A data.frame: 17 × 2\n",
       "\n",
       "| Var1 &lt;fct&gt; | Freq &lt;int&gt; |\n",
       "|---|---|\n",
       "| Bob Copeland             |   10 |\n",
       "| J. Bukhebi &amp; RS Copeland |  895 |\n",
       "| J.Bukhebi &amp; R S Copeland |   41 |\n",
       "| J.Bukhebi &amp; R.S Copeland |   16 |\n",
       "| J.Bukhebi &amp; RS Copeland  |   83 |\n",
       "| R Copeland               |   35 |\n",
       "| R S Copeland             |  196 |\n",
       "| R S.Copeland             |   19 |\n",
       "| R. Copeland              |  526 |\n",
       "| R. S. Copeland           |  144 |\n",
       "| R.Copeland               |   20 |\n",
       "| R.S Copeland             |   29 |\n",
       "| R.S. Copeland            |  436 |\n",
       "| R.S.Copeland             |   32 |\n",
       "| Robert Copeland          | 2603 |\n",
       "| RS  Copeland             |   26 |\n",
       "| RS Copeland              | 1922 |\n",
       "\n"
      ],
      "text/plain": [
       "   Var1                     Freq\n",
       "1  Bob Copeland               10\n",
       "2  J. Bukhebi & RS Copeland  895\n",
       "3  J.Bukhebi & R S Copeland   41\n",
       "4  J.Bukhebi & R.S Copeland   16\n",
       "5  J.Bukhebi & RS Copeland    83\n",
       "6  R Copeland                 35\n",
       "7  R S Copeland              196\n",
       "8  R S.Copeland               19\n",
       "9  R. Copeland               526\n",
       "10 R. S. Copeland            144\n",
       "11 R.Copeland                 20\n",
       "12 R.S Copeland               29\n",
       "13 R.S. Copeland             436\n",
       "14 R.S.Copeland               32\n",
       "15 Robert Copeland          2603\n",
       "16 RS  Copeland               26\n",
       "17 RS Copeland              1922"
      ]
     },
     "metadata": {},
     "output_type": "display_data"
    },
    {
     "data": {
      "text/html": [
       "<table>\n",
       "<caption>A data.frame: 6350 × 2</caption>\n",
       "<thead>\n",
       "\t<tr><th scope=col>Var1</th><th scope=col>Freq</th></tr>\n",
       "\t<tr><th scope=col>&lt;fct&gt;</th><th scope=col>&lt;int&gt;</th></tr>\n",
       "</thead>\n",
       "<tbody>\n",
       "\t<tr><td>. Onbekend                                                         </td><td>  9</td></tr>\n",
       "\t<tr><td>0                                                                  </td><td>  1</td></tr>\n",
       "\t<tr><td>0G 1984GR00402                                                     </td><td>  1</td></tr>\n",
       "\t<tr><td>2016 Allendale Class                                               </td><td> 41</td></tr>\n",
       "\t<tr><td>2rd year UKZN students                                             </td><td> 12</td></tr>\n",
       "\t<tr><td>989 m                                                              </td><td>  1</td></tr>\n",
       "\t<tr><td>A Barbet                                                           </td><td>  1</td></tr>\n",
       "\t<tr><td>A Bok                                                              </td><td>  1</td></tr>\n",
       "\t<tr><td>A Eicker                                                           </td><td>  1</td></tr>\n",
       "\t<tr><td>A Fotie                                                            </td><td>  4</td></tr>\n",
       "\t<tr><td>A Fraser                                                           </td><td> 91</td></tr>\n",
       "\t<tr><td>A Galal-Khallaf                                                    </td><td> 20</td></tr>\n",
       "\t<tr><td>A H Kirk-Spriggs                                                   </td><td>  2</td></tr>\n",
       "\t<tr><td>A Hausmann                                                         </td><td>  2</td></tr>\n",
       "\t<tr><td>A Honiball                                                         </td><td>  5</td></tr>\n",
       "\t<tr><td>A J Urban                                                          </td><td>  6</td></tr>\n",
       "\t<tr><td>A Jakiel, A Stepien, P Jozwiak, B Serigstad, M Blazewicz-Paszkowycz</td><td>  2</td></tr>\n",
       "\t<tr><td>A Meunier                                                          </td><td> 41</td></tr>\n",
       "\t<tr><td>A Oldewage                                                         </td><td>  3</td></tr>\n",
       "\t<tr><td>A Rakotoarisolo                                                    </td><td>  1</td></tr>\n",
       "\t<tr><td>A Viviers                                                          </td><td>  3</td></tr>\n",
       "\t<tr><td>A Watsham                                                          </td><td>  7</td></tr>\n",
       "\t<tr><td>A Whitfield                                                        </td><td>  9</td></tr>\n",
       "\t<tr><td>A. A. Enti                                                         </td><td>  3</td></tr>\n",
       "\t<tr><td>A. Afolabi                                                         </td><td> 15</td></tr>\n",
       "\t<tr><td>A. Ahamadi                                                         </td><td> 10</td></tr>\n",
       "\t<tr><td>A. Alvarez                                                         </td><td>  3</td></tr>\n",
       "\t<tr><td>A. Apinda, T. Zidat                                                </td><td>155</td></tr>\n",
       "\t<tr><td>A. Aulombard                                                       </td><td>  8</td></tr>\n",
       "\t<tr><td>A. B. Williams                                                     </td><td> 42</td></tr>\n",
       "\t<tr><td>⋮</td><td>⋮</td></tr>\n",
       "\t<tr><td>Z. Hora                                </td><td>   1</td></tr>\n",
       "\t<tr><td>Z. Marzouk                             </td><td>  38</td></tr>\n",
       "\t<tr><td>Z. Musilova, L. Kalous                 </td><td>   1</td></tr>\n",
       "\t<tr><td><span style=white-space:pre-wrap>Z. Shoba &amp; K. Waddington               </span></td><td><span style=white-space:pre-wrap>  16</span></td></tr>\n",
       "\t<tr><td>Z. Shoba, K. Waddington                </td><td> 677</td></tr>\n",
       "\t<tr><td><span style=white-space:pre-wrap>Z. shoba, K. Waddington &amp; S. Singh     </span></td><td><span style=white-space:pre-wrap>  20</span></td></tr>\n",
       "\t<tr><td>Z. Shoba, K. Waddington, S. Singh      </td><td>  99</td></tr>\n",
       "\t<tr><td>Z. Shoba, M. Ziganira                  </td><td>2218</td></tr>\n",
       "\t<tr><td>Z. Weidenhoffer (CZ)                   </td><td>   1</td></tr>\n",
       "\t<tr><td>Z.T. Nagi                              </td><td>   3</td></tr>\n",
       "\t<tr><td>Zach Kobrinsky                         </td><td>  11</td></tr>\n",
       "\t<tr><td>Zacharie Sohou                         </td><td>   1</td></tr>\n",
       "\t<tr><td>Zaloumis S.P.                          </td><td>   1</td></tr>\n",
       "\t<tr><td>Zambatis G.                            </td><td>   7</td></tr>\n",
       "\t<tr><td>Zambatis N.                            </td><td>  39</td></tr>\n",
       "\t<tr><td>Zambatis N...                          </td><td>   1</td></tr>\n",
       "\t<tr><td>Zambatis, N.                           </td><td>   1</td></tr>\n",
       "\t<tr><td>Zantovska                              </td><td>   1</td></tr>\n",
       "\t<tr><td>Zdenko Tokar                           </td><td>   2</td></tr>\n",
       "\t<tr><td>Zeinab Soliman                         </td><td>   1</td></tr>\n",
       "\t<tr><td>Zerny                                  </td><td>   2</td></tr>\n",
       "\t<tr><td>Zietsman PC                            </td><td>   2</td></tr>\n",
       "\t<tr><td>Zietsman, P.C.                         </td><td>   3</td></tr>\n",
       "\t<tr><td><span style=white-space:pre-wrap>Zietzman, P.C. &amp; Peyper, T.            </span></td><td><span style=white-space:pre-wrap>   1</span></td></tr>\n",
       "\t<tr><td>ZMUC expedition                        </td><td>   2</td></tr>\n",
       "\t<tr><td>Zool. Mus. Copenhagen Expedition       </td><td>   2</td></tr>\n",
       "\t<tr><td>Zoologische Staatssammlung Muenchen (D)</td><td>   2</td></tr>\n",
       "\t<tr><td>Zoubir Harrat                          </td><td>  10</td></tr>\n",
       "\t<tr><td>Zumbado Manuel Angel                   </td><td>  37</td></tr>\n",
       "\t<tr><td>Zwick, Andreas                         </td><td>   1</td></tr>\n",
       "</tbody>\n",
       "</table>\n"
      ],
      "text/latex": [
       "A data.frame: 6350 × 2\n",
       "\\begin{tabular}{r|ll}\n",
       " Var1 & Freq\\\\\n",
       " <fct> & <int>\\\\\n",
       "\\hline\n",
       "\t . Onbekend                                                          &   9\\\\\n",
       "\t 0                                                                   &   1\\\\\n",
       "\t 0G 1984GR00402                                                      &   1\\\\\n",
       "\t 2016 Allendale Class                                                &  41\\\\\n",
       "\t 2rd year UKZN students                                              &  12\\\\\n",
       "\t 989 m                                                               &   1\\\\\n",
       "\t A Barbet                                                            &   1\\\\\n",
       "\t A Bok                                                               &   1\\\\\n",
       "\t A Eicker                                                            &   1\\\\\n",
       "\t A Fotie                                                             &   4\\\\\n",
       "\t A Fraser                                                            &  91\\\\\n",
       "\t A Galal-Khallaf                                                     &  20\\\\\n",
       "\t A H Kirk-Spriggs                                                    &   2\\\\\n",
       "\t A Hausmann                                                          &   2\\\\\n",
       "\t A Honiball                                                          &   5\\\\\n",
       "\t A J Urban                                                           &   6\\\\\n",
       "\t A Jakiel, A Stepien, P Jozwiak, B Serigstad, M Blazewicz-Paszkowycz &   2\\\\\n",
       "\t A Meunier                                                           &  41\\\\\n",
       "\t A Oldewage                                                          &   3\\\\\n",
       "\t A Rakotoarisolo                                                     &   1\\\\\n",
       "\t A Viviers                                                           &   3\\\\\n",
       "\t A Watsham                                                           &   7\\\\\n",
       "\t A Whitfield                                                         &   9\\\\\n",
       "\t A. A. Enti                                                          &   3\\\\\n",
       "\t A. Afolabi                                                          &  15\\\\\n",
       "\t A. Ahamadi                                                          &  10\\\\\n",
       "\t A. Alvarez                                                          &   3\\\\\n",
       "\t A. Apinda, T. Zidat                                                 & 155\\\\\n",
       "\t A. Aulombard                                                        &   8\\\\\n",
       "\t A. B. Williams                                                      &  42\\\\\n",
       "\t ⋮ & ⋮\\\\\n",
       "\t Z. Hora                                 &    1\\\\\n",
       "\t Z. Marzouk                              &   38\\\\\n",
       "\t Z. Musilova, L. Kalous                  &    1\\\\\n",
       "\t Z. Shoba \\& K. Waddington                &   16\\\\\n",
       "\t Z. Shoba, K. Waddington                 &  677\\\\\n",
       "\t Z. shoba, K. Waddington \\& S. Singh      &   20\\\\\n",
       "\t Z. Shoba, K. Waddington, S. Singh       &   99\\\\\n",
       "\t Z. Shoba, M. Ziganira                   & 2218\\\\\n",
       "\t Z. Weidenhoffer (CZ)                    &    1\\\\\n",
       "\t Z.T. Nagi                               &    3\\\\\n",
       "\t Zach Kobrinsky                          &   11\\\\\n",
       "\t Zacharie Sohou                          &    1\\\\\n",
       "\t Zaloumis S.P.                           &    1\\\\\n",
       "\t Zambatis G.                             &    7\\\\\n",
       "\t Zambatis N.                             &   39\\\\\n",
       "\t Zambatis N...                           &    1\\\\\n",
       "\t Zambatis, N.                            &    1\\\\\n",
       "\t Zantovska                               &    1\\\\\n",
       "\t Zdenko Tokar                            &    2\\\\\n",
       "\t Zeinab Soliman                          &    1\\\\\n",
       "\t Zerny                                   &    2\\\\\n",
       "\t Zietsman PC                             &    2\\\\\n",
       "\t Zietsman, P.C.                          &    3\\\\\n",
       "\t Zietzman, P.C. \\& Peyper, T.             &    1\\\\\n",
       "\t ZMUC expedition                         &    2\\\\\n",
       "\t Zool. Mus. Copenhagen Expedition        &    2\\\\\n",
       "\t Zoologische Staatssammlung Muenchen (D) &    2\\\\\n",
       "\t Zoubir Harrat                           &   10\\\\\n",
       "\t Zumbado Manuel Angel                    &   37\\\\\n",
       "\t Zwick, Andreas                          &    1\\\\\n",
       "\\end{tabular}\n"
      ],
      "text/markdown": [
       "\n",
       "A data.frame: 6350 × 2\n",
       "\n",
       "| Var1 &lt;fct&gt; | Freq &lt;int&gt; |\n",
       "|---|---|\n",
       "| . Onbekend                                                          |   9 |\n",
       "| 0                                                                   |   1 |\n",
       "| 0G 1984GR00402                                                      |   1 |\n",
       "| 2016 Allendale Class                                                |  41 |\n",
       "| 2rd year UKZN students                                              |  12 |\n",
       "| 989 m                                                               |   1 |\n",
       "| A Barbet                                                            |   1 |\n",
       "| A Bok                                                               |   1 |\n",
       "| A Eicker                                                            |   1 |\n",
       "| A Fotie                                                             |   4 |\n",
       "| A Fraser                                                            |  91 |\n",
       "| A Galal-Khallaf                                                     |  20 |\n",
       "| A H Kirk-Spriggs                                                    |   2 |\n",
       "| A Hausmann                                                          |   2 |\n",
       "| A Honiball                                                          |   5 |\n",
       "| A J Urban                                                           |   6 |\n",
       "| A Jakiel, A Stepien, P Jozwiak, B Serigstad, M Blazewicz-Paszkowycz |   2 |\n",
       "| A Meunier                                                           |  41 |\n",
       "| A Oldewage                                                          |   3 |\n",
       "| A Rakotoarisolo                                                     |   1 |\n",
       "| A Viviers                                                           |   3 |\n",
       "| A Watsham                                                           |   7 |\n",
       "| A Whitfield                                                         |   9 |\n",
       "| A. A. Enti                                                          |   3 |\n",
       "| A. Afolabi                                                          |  15 |\n",
       "| A. Ahamadi                                                          |  10 |\n",
       "| A. Alvarez                                                          |   3 |\n",
       "| A. Apinda, T. Zidat                                                 | 155 |\n",
       "| A. Aulombard                                                        |   8 |\n",
       "| A. B. Williams                                                      |  42 |\n",
       "| ⋮ | ⋮ |\n",
       "| Z. Hora                                 |    1 |\n",
       "| Z. Marzouk                              |   38 |\n",
       "| Z. Musilova, L. Kalous                  |    1 |\n",
       "| Z. Shoba &amp; K. Waddington                |   16 |\n",
       "| Z. Shoba, K. Waddington                 |  677 |\n",
       "| Z. shoba, K. Waddington &amp; S. Singh      |   20 |\n",
       "| Z. Shoba, K. Waddington, S. Singh       |   99 |\n",
       "| Z. Shoba, M. Ziganira                   | 2218 |\n",
       "| Z. Weidenhoffer (CZ)                    |    1 |\n",
       "| Z.T. Nagi                               |    3 |\n",
       "| Zach Kobrinsky                          |   11 |\n",
       "| Zacharie Sohou                          |    1 |\n",
       "| Zaloumis S.P.                           |    1 |\n",
       "| Zambatis G.                             |    7 |\n",
       "| Zambatis N.                             |   39 |\n",
       "| Zambatis N...                           |    1 |\n",
       "| Zambatis, N.                            |    1 |\n",
       "| Zantovska                               |    1 |\n",
       "| Zdenko Tokar                            |    2 |\n",
       "| Zeinab Soliman                          |    1 |\n",
       "| Zerny                                   |    2 |\n",
       "| Zietsman PC                             |    2 |\n",
       "| Zietsman, P.C.                          |    3 |\n",
       "| Zietzman, P.C. &amp; Peyper, T.             |    1 |\n",
       "| ZMUC expedition                         |    2 |\n",
       "| Zool. Mus. Copenhagen Expedition        |    2 |\n",
       "| Zoologische Staatssammlung Muenchen (D) |    2 |\n",
       "| Zoubir Harrat                           |   10 |\n",
       "| Zumbado Manuel Angel                    |   37 |\n",
       "| Zwick, Andreas                          |    1 |\n",
       "\n"
      ],
      "text/plain": [
       "     Var1                                                                Freq\n",
       "1    . Onbekend                                                            9 \n",
       "2    0                                                                     1 \n",
       "3    0G 1984GR00402                                                        1 \n",
       "4    2016 Allendale Class                                                 41 \n",
       "5    2rd year UKZN students                                               12 \n",
       "6    989 m                                                                 1 \n",
       "7    A Barbet                                                              1 \n",
       "8    A Bok                                                                 1 \n",
       "9    A Eicker                                                              1 \n",
       "10   A Fotie                                                               4 \n",
       "11   A Fraser                                                             91 \n",
       "12   A Galal-Khallaf                                                      20 \n",
       "13   A H Kirk-Spriggs                                                      2 \n",
       "14   A Hausmann                                                            2 \n",
       "15   A Honiball                                                            5 \n",
       "16   A J Urban                                                             6 \n",
       "17   A Jakiel, A Stepien, P Jozwiak, B Serigstad, M Blazewicz-Paszkowycz   2 \n",
       "18   A Meunier                                                            41 \n",
       "19   A Oldewage                                                            3 \n",
       "20   A Rakotoarisolo                                                       1 \n",
       "21   A Viviers                                                             3 \n",
       "22   A Watsham                                                             7 \n",
       "23   A Whitfield                                                           9 \n",
       "24   A. A. Enti                                                            3 \n",
       "25   A. Afolabi                                                           15 \n",
       "26   A. Ahamadi                                                           10 \n",
       "27   A. Alvarez                                                            3 \n",
       "28   A. Apinda, T. Zidat                                                 155 \n",
       "29   A. Aulombard                                                          8 \n",
       "30   A. B. Williams                                                       42 \n",
       "⋮    ⋮                                                                   ⋮   \n",
       "6321 Z. Hora                                                                1\n",
       "6322 Z. Marzouk                                                            38\n",
       "6323 Z. Musilova, L. Kalous                                                 1\n",
       "6324 Z. Shoba & K. Waddington                                              16\n",
       "6325 Z. Shoba, K. Waddington                                              677\n",
       "6326 Z. shoba, K. Waddington & S. Singh                                    20\n",
       "6327 Z. Shoba, K. Waddington, S. Singh                                     99\n",
       "6328 Z. Shoba, M. Ziganira                                               2218\n",
       "6329 Z. Weidenhoffer (CZ)                                                   1\n",
       "6330 Z.T. Nagi                                                              3\n",
       "6331 Zach Kobrinsky                                                        11\n",
       "6332 Zacharie Sohou                                                         1\n",
       "6333 Zaloumis S.P.                                                          1\n",
       "6334 Zambatis G.                                                            7\n",
       "6335 Zambatis N.                                                           39\n",
       "6336 Zambatis N...                                                          1\n",
       "6337 Zambatis, N.                                                           1\n",
       "6338 Zantovska                                                              1\n",
       "6339 Zdenko Tokar                                                           2\n",
       "6340 Zeinab Soliman                                                         1\n",
       "6341 Zerny                                                                  2\n",
       "6342 Zietsman PC                                                            2\n",
       "6343 Zietsman, P.C.                                                         3\n",
       "6344 Zietzman, P.C. & Peyper, T.                                            1\n",
       "6345 ZMUC expedition                                                        2\n",
       "6346 Zool. Mus. Copenhagen Expedition                                       2\n",
       "6347 Zoologische Staatssammlung Muenchen (D)                                2\n",
       "6348 Zoubir Harrat                                                         10\n",
       "6349 Zumbado Manuel Angel                                                  37\n",
       "6350 Zwick, Andreas                                                         1"
      ]
     },
     "metadata": {},
     "output_type": "display_data"
    },
    {
     "data": {
      "text/html": [
       "7033"
      ],
      "text/latex": [
       "7033"
      ],
      "text/markdown": [
       "7033"
      ],
      "text/plain": [
       "[1] 7033"
      ]
     },
     "metadata": {},
     "output_type": "display_data"
    },
    {
     "data": {
      "text/html": [
       "<table>\n",
       "<caption>A data.frame: 1 × 2</caption>\n",
       "<thead>\n",
       "\t<tr><th scope=col>Var1</th><th scope=col>Freq</th></tr>\n",
       "\t<tr><th scope=col>&lt;fct&gt;</th><th scope=col>&lt;int&gt;</th></tr>\n",
       "</thead>\n",
       "<tbody>\n",
       "\t<tr><td>COI-5P</td><td>6795</td></tr>\n",
       "</tbody>\n",
       "</table>\n"
      ],
      "text/latex": [
       "A data.frame: 1 × 2\n",
       "\\begin{tabular}{r|ll}\n",
       " Var1 & Freq\\\\\n",
       " <fct> & <int>\\\\\n",
       "\\hline\n",
       "\t COI-5P & 6795\\\\\n",
       "\\end{tabular}\n"
      ],
      "text/markdown": [
       "\n",
       "A data.frame: 1 × 2\n",
       "\n",
       "| Var1 &lt;fct&gt; | Freq &lt;int&gt; |\n",
       "|---|---|\n",
       "| COI-5P | 6795 |\n",
       "\n"
      ],
      "text/plain": [
       "  Var1   Freq\n",
       "1 COI-5P 6795"
      ]
     },
     "metadata": {},
     "output_type": "display_data"
    },
    {
     "data": {
      "text/html": [
       "<table>\n",
       "<caption>A data.frame: 13 × 2</caption>\n",
       "<thead>\n",
       "\t<tr><th scope=col>Var1</th><th scope=col>Freq</th></tr>\n",
       "\t<tr><th scope=col>&lt;fct&gt;</th><th scope=col>&lt;int&gt;</th></tr>\n",
       "</thead>\n",
       "<tbody>\n",
       "\t<tr><td>Araneae         </td><td>   2</td></tr>\n",
       "\t<tr><td>Blattodea       </td><td>  39</td></tr>\n",
       "\t<tr><td>Coleoptera      </td><td>1034</td></tr>\n",
       "\t<tr><td>Diptera         </td><td>2154</td></tr>\n",
       "\t<tr><td>Hemiptera       </td><td> 524</td></tr>\n",
       "\t<tr><td>Hymenoptera     </td><td>1558</td></tr>\n",
       "\t<tr><td>Lepidoptera     </td><td>1612</td></tr>\n",
       "\t<tr><td>Mantodea        </td><td>   2</td></tr>\n",
       "\t<tr><td>Neuroptera      </td><td>  16</td></tr>\n",
       "\t<tr><td>Orthoptera      </td><td>  18</td></tr>\n",
       "\t<tr><td>Pseudoscorpiones</td><td>   2</td></tr>\n",
       "\t<tr><td>Psocodea        </td><td>  69</td></tr>\n",
       "\t<tr><td>Thysanoptera    </td><td>   3</td></tr>\n",
       "</tbody>\n",
       "</table>\n"
      ],
      "text/latex": [
       "A data.frame: 13 × 2\n",
       "\\begin{tabular}{r|ll}\n",
       " Var1 & Freq\\\\\n",
       " <fct> & <int>\\\\\n",
       "\\hline\n",
       "\t Araneae          &    2\\\\\n",
       "\t Blattodea        &   39\\\\\n",
       "\t Coleoptera       & 1034\\\\\n",
       "\t Diptera          & 2154\\\\\n",
       "\t Hemiptera        &  524\\\\\n",
       "\t Hymenoptera      & 1558\\\\\n",
       "\t Lepidoptera      & 1612\\\\\n",
       "\t Mantodea         &    2\\\\\n",
       "\t Neuroptera       &   16\\\\\n",
       "\t Orthoptera       &   18\\\\\n",
       "\t Pseudoscorpiones &    2\\\\\n",
       "\t Psocodea         &   69\\\\\n",
       "\t Thysanoptera     &    3\\\\\n",
       "\\end{tabular}\n"
      ],
      "text/markdown": [
       "\n",
       "A data.frame: 13 × 2\n",
       "\n",
       "| Var1 &lt;fct&gt; | Freq &lt;int&gt; |\n",
       "|---|---|\n",
       "| Araneae          |    2 |\n",
       "| Blattodea        |   39 |\n",
       "| Coleoptera       | 1034 |\n",
       "| Diptera          | 2154 |\n",
       "| Hemiptera        |  524 |\n",
       "| Hymenoptera      | 1558 |\n",
       "| Lepidoptera      | 1612 |\n",
       "| Mantodea         |    2 |\n",
       "| Neuroptera       |   16 |\n",
       "| Orthoptera       |   18 |\n",
       "| Pseudoscorpiones |    2 |\n",
       "| Psocodea         |   69 |\n",
       "| Thysanoptera     |    3 |\n",
       "\n"
      ],
      "text/plain": [
       "   Var1             Freq\n",
       "1  Araneae             2\n",
       "2  Blattodea          39\n",
       "3  Coleoptera       1034\n",
       "4  Diptera          2154\n",
       "5  Hemiptera         524\n",
       "6  Hymenoptera      1558\n",
       "7  Lepidoptera      1612\n",
       "8  Mantodea            2\n",
       "9  Neuroptera         16\n",
       "10 Orthoptera         18\n",
       "11 Pseudoscorpiones    2\n",
       "12 Psocodea           69\n",
       "13 Thysanoptera        3"
      ]
     },
     "metadata": {},
     "output_type": "display_data"
    },
    {
     "data": {
      "text/html": [
       "718"
      ],
      "text/latex": [
       "718"
      ],
      "text/markdown": [
       "718"
      ],
      "text/plain": [
       "[1] 718"
      ]
     },
     "metadata": {},
     "output_type": "display_data"
    },
    {
     "data": {
      "text/html": [
       "<table>\n",
       "<caption>A data.frame: 3 × 2</caption>\n",
       "<thead>\n",
       "\t<tr><th scope=col>Var1</th><th scope=col>Freq</th></tr>\n",
       "\t<tr><th scope=col>&lt;fct&gt;</th><th scope=col>&lt;int&gt;</th></tr>\n",
       "</thead>\n",
       "<tbody>\n",
       "\t<tr><td>Diptera    </td><td> 21</td></tr>\n",
       "\t<tr><td>Hymenoptera</td><td> 27</td></tr>\n",
       "\t<tr><td>Lepidoptera</td><td>670</td></tr>\n",
       "</tbody>\n",
       "</table>\n"
      ],
      "text/latex": [
       "A data.frame: 3 × 2\n",
       "\\begin{tabular}{r|ll}\n",
       " Var1 & Freq\\\\\n",
       " <fct> & <int>\\\\\n",
       "\\hline\n",
       "\t Diptera     &  21\\\\\n",
       "\t Hymenoptera &  27\\\\\n",
       "\t Lepidoptera & 670\\\\\n",
       "\\end{tabular}\n"
      ],
      "text/markdown": [
       "\n",
       "A data.frame: 3 × 2\n",
       "\n",
       "| Var1 &lt;fct&gt; | Freq &lt;int&gt; |\n",
       "|---|---|\n",
       "| Diptera     |  21 |\n",
       "| Hymenoptera |  27 |\n",
       "| Lepidoptera | 670 |\n",
       "\n"
      ],
      "text/plain": [
       "  Var1        Freq\n",
       "1 Diptera      21 \n",
       "2 Hymenoptera  27 \n",
       "3 Lepidoptera 670 "
      ]
     },
     "metadata": {},
     "output_type": "display_data"
    }
   ],
   "source": [
    "#cat(unique((bold_data$collectors[grep(\"Copeland\", bold_data$collectors)])),sep=\" | \")\n",
    "#as.data.frame(table(c(bold_data$collectors[grep(\"Copeland\", bold_data$collectors)])))\n",
    "#as.data.frame(table(c(bold_data$collectors)))\n",
    "#cop_data <- bold_data[!!(bold_data$collectors %in% c(paste(unique(bold_data$collectors[grep(\"Copeland\", bold_data$collectors)]),sep=\"\\\" , \\\"\"))), ]\n",
    "#cop_data <- subset(bold_data, subset = collectors %in% c(paste(unique(bold_data$collectors[grep(\"Copeland\", bold_data$collectors)]),sep=\"\\\" , \\\"\")))\n",
    "#c(cat(unique(bold_data$collectors[grep(\"Copeland\", bold_data$collectors)]),sep=\"\\\" , \\\"\"))\n",
    "#str(cop_data)\n",
    "nrow(cop_data)\n",
    "as.data.frame(table(c(cop_data$marker_codes)))\n",
    "as.data.frame(table(c(cop_data$order_name)))\n",
    "#as.data.frame(table(c(cop_data$lat)))\n",
    "nrow(subset(cop_data, !is.na(lat) & marker_codes == \"COI-5P\" & !is.na(genus_name)))\n",
    "as.data.frame(table(c((subset(cop_data, !is.na(lat) & marker_codes == \"COI-5P\" & !is.na(genus_name)))$order_name)))"
   ]
  },
  {
   "cell_type": "code",
   "execution_count": 9,
   "metadata": {},
   "outputs": [
    {
     "name": "stdout",
     "output_type": "stream",
     "text": [
      "22 markers are represented in the East African data set"
     ]
    },
    {
     "data": {
      "text/html": [
       "<table>\n",
       "<caption>A data.frame: 21 × 2</caption>\n",
       "<thead>\n",
       "\t<tr><th scope=col>Var1</th><th scope=col>Freq</th></tr>\n",
       "\t<tr><th scope=col>&lt;fct&gt;</th><th scope=col>&lt;int&gt;</th></tr>\n",
       "</thead>\n",
       "<tbody>\n",
       "\t<tr><td>12S      </td><td>    9</td></tr>\n",
       "\t<tr><td>16S      </td><td>   16</td></tr>\n",
       "\t<tr><td>18S      </td><td>    3</td></tr>\n",
       "\t<tr><td>28S      </td><td>  465</td></tr>\n",
       "\t<tr><td>28S-D2   </td><td>   10</td></tr>\n",
       "\t<tr><td>28S-D2-D3</td><td>    3</td></tr>\n",
       "\t<tr><td>AATS     </td><td>    1</td></tr>\n",
       "\t<tr><td>ARK      </td><td>    1</td></tr>\n",
       "\t<tr><td>CAD      </td><td>    2</td></tr>\n",
       "\t<tr><td>COI-3P   </td><td>  163</td></tr>\n",
       "\t<tr><td>COI-5P   </td><td>39806</td></tr>\n",
       "\t<tr><td>COI-LIKE </td><td>    3</td></tr>\n",
       "\t<tr><td>COII     </td><td>    6</td></tr>\n",
       "\t<tr><td>CYTB     </td><td>   19</td></tr>\n",
       "\t<tr><td>EF1-alpha</td><td>   18</td></tr>\n",
       "\t<tr><td>ENO      </td><td>    1</td></tr>\n",
       "\t<tr><td>H4       </td><td>    2</td></tr>\n",
       "\t<tr><td>ITS2     </td><td>  418</td></tr>\n",
       "\t<tr><td>PGD      </td><td>    1</td></tr>\n",
       "\t<tr><td>TPI      </td><td>    1</td></tr>\n",
       "\t<tr><td>Wnt1     </td><td>    5</td></tr>\n",
       "</tbody>\n",
       "</table>\n"
      ],
      "text/latex": [
       "A data.frame: 21 × 2\n",
       "\\begin{tabular}{r|ll}\n",
       " Var1 & Freq\\\\\n",
       " <fct> & <int>\\\\\n",
       "\\hline\n",
       "\t 12S       &     9\\\\\n",
       "\t 16S       &    16\\\\\n",
       "\t 18S       &     3\\\\\n",
       "\t 28S       &   465\\\\\n",
       "\t 28S-D2    &    10\\\\\n",
       "\t 28S-D2-D3 &     3\\\\\n",
       "\t AATS      &     1\\\\\n",
       "\t ARK       &     1\\\\\n",
       "\t CAD       &     2\\\\\n",
       "\t COI-3P    &   163\\\\\n",
       "\t COI-5P    & 39806\\\\\n",
       "\t COI-LIKE  &     3\\\\\n",
       "\t COII      &     6\\\\\n",
       "\t CYTB      &    19\\\\\n",
       "\t EF1-alpha &    18\\\\\n",
       "\t ENO       &     1\\\\\n",
       "\t H4        &     2\\\\\n",
       "\t ITS2      &   418\\\\\n",
       "\t PGD       &     1\\\\\n",
       "\t TPI       &     1\\\\\n",
       "\t Wnt1      &     5\\\\\n",
       "\\end{tabular}\n"
      ],
      "text/markdown": [
       "\n",
       "A data.frame: 21 × 2\n",
       "\n",
       "| Var1 &lt;fct&gt; | Freq &lt;int&gt; |\n",
       "|---|---|\n",
       "| 12S       |     9 |\n",
       "| 16S       |    16 |\n",
       "| 18S       |     3 |\n",
       "| 28S       |   465 |\n",
       "| 28S-D2    |    10 |\n",
       "| 28S-D2-D3 |     3 |\n",
       "| AATS      |     1 |\n",
       "| ARK       |     1 |\n",
       "| CAD       |     2 |\n",
       "| COI-3P    |   163 |\n",
       "| COI-5P    | 39806 |\n",
       "| COI-LIKE  |     3 |\n",
       "| COII      |     6 |\n",
       "| CYTB      |    19 |\n",
       "| EF1-alpha |    18 |\n",
       "| ENO       |     1 |\n",
       "| H4        |     2 |\n",
       "| ITS2      |   418 |\n",
       "| PGD       |     1 |\n",
       "| TPI       |     1 |\n",
       "| Wnt1      |     5 |\n",
       "\n"
      ],
      "text/plain": [
       "   Var1      Freq \n",
       "1  12S           9\n",
       "2  16S          16\n",
       "3  18S           3\n",
       "4  28S         465\n",
       "5  28S-D2       10\n",
       "6  28S-D2-D3     3\n",
       "7  AATS          1\n",
       "8  ARK           1\n",
       "9  CAD           2\n",
       "10 COI-3P      163\n",
       "11 COI-5P    39806\n",
       "12 COI-LIKE      3\n",
       "13 COII          6\n",
       "14 CYTB         19\n",
       "15 EF1-alpha    18\n",
       "16 ENO           1\n",
       "17 H4            2\n",
       "18 ITS2        418\n",
       "19 PGD           1\n",
       "20 TPI           1\n",
       "21 Wnt1          5"
      ]
     },
     "metadata": {},
     "output_type": "display_data"
    }
   ],
   "source": [
    "cat(length(unique(sample_data$markercode)),\n",
    "    \"markers are represented in the East African data set\")\n",
    "#unique(sample_data$markercode) # filtering rows corresponding to COI-5P markers\n",
    "as.data.frame(table(c(sample_data$markercode)))"
   ]
  },
  {
   "cell_type": "markdown",
   "metadata": {},
   "source": [
    "### **Phyla represented in the bold data**\n",
    "Despite our focus on arthropoda phylum, additional records from 38 phyla were downloaded"
   ]
  },
  {
   "cell_type": "code",
   "execution_count": 8,
   "metadata": {},
   "outputs": [
    {
     "name": "stdout",
     "output_type": "stream",
     "text": [
      "1 phyla are represented in bold_data: "
     ]
    },
    {
     "data": {
      "text/html": [
       "<table>\n",
       "<caption>A data.frame: 1 × 2</caption>\n",
       "<thead>\n",
       "\t<tr><th scope=col>Var1</th><th scope=col>Freq</th></tr>\n",
       "\t<tr><th scope=col>&lt;fct&gt;</th><th scope=col>&lt;int&gt;</th></tr>\n",
       "</thead>\n",
       "<tbody>\n",
       "\t<tr><td>Arthropoda</td><td>33481</td></tr>\n",
       "</tbody>\n",
       "</table>\n"
      ],
      "text/latex": [
       "A data.frame: 1 × 2\n",
       "\\begin{tabular}{ll}\n",
       " Var1 & Freq\\\\\n",
       " <fct> & <int>\\\\\n",
       "\\hline\n",
       "\t Arthropoda & 33481\\\\\n",
       "\\end{tabular}\n"
      ],
      "text/markdown": [
       "\n",
       "A data.frame: 1 × 2\n",
       "\n",
       "| Var1 &lt;fct&gt; | Freq &lt;int&gt; |\n",
       "|---|---|\n",
       "| Arthropoda | 33481 |\n",
       "\n"
      ],
      "text/plain": [
       "  Var1       Freq \n",
       "1 Arthropoda 33481"
      ]
     },
     "metadata": {},
     "output_type": "display_data"
    },
    {
     "ename": "ERROR",
     "evalue": "Error in unique(sample_data$phylum_name): object 'sample_data' not found\n",
     "output_type": "error",
     "traceback": [
      "Error in unique(sample_data$phylum_name): object 'sample_data' not found\nTraceback:\n",
      "1. cat(length(unique(sample_data$phylum_name)), \"phyla are represented in East African data: \")",
      "2. unique(sample_data$phylum_name)"
     ]
    }
   ],
   "source": [
    "cat(length(unique(bold_data$phylum_name)), \"phyla are represented in bold_data: \")\n",
    "as.data.frame(table(c(bold_data$phylum_name)))\n",
    "cat(length(unique(sample_data$phylum_name)), \"phyla are represented in East African data: \")\n",
    "as.data.frame(table(c(sample_data$phylum_name)))"
   ]
  },
  {
   "cell_type": "markdown",
   "metadata": {},
   "source": [
    "### **Focusing on arthropoda phylum**\n",
    "**1. Number of records from African Countries**"
   ]
  },
  {
   "cell_type": "code",
   "execution_count": 12,
   "metadata": {},
   "outputs": [
    {
     "name": "stdout",
     "output_type": "stream",
     "text": [
      "bold_data have 33481 arthropoda records out of 33481 records in the raw bold_data\n",
      "bold_data have 33481 arthropoda records out of 33481 records in the raw bold data"
     ]
    },
    {
     "ename": "ERROR",
     "evalue": "Error in subset(sample_data, phylum_name == \"Arthropoda\"): object 'sample_data' not found\n",
     "output_type": "error",
     "traceback": [
      "Error in subset(sample_data, phylum_name == \"Arthropoda\"): object 'sample_data' not found\nTraceback:\n",
      "1. subset(sample_data, phylum_name == \"Arthropoda\")"
     ]
    }
   ],
   "source": [
    "arthropoda_data1 = subset(bold_data, phylum_name == \"Arthropoda\")\n",
    "cat(\"bold_data have\", nrow(arthropoda_data1), \"arthropoda records out of\", \n",
    "    nrow(bold_data), \"records in the raw bold_data\")\n",
    "arthropoda_data = subset(bold_data, phylum_name == \"Arthropoda\" )#& country != \"United States\")\n",
    "cat(\"\\nbold_data have\", nrow(arthropoda_data), \"arthropoda records out of\", \n",
    "    nrow(bold_data), \"records in the raw bold data\")\n",
    "arthropoda_data -> bold_dataframe\n",
    "sample_dataframe = subset(sample_data, phylum_name == \"Arthropoda\")"
   ]
  },
  {
   "cell_type": "markdown",
   "metadata": {},
   "source": [
    "**2. Here are the African countries represented in the athropod data**"
   ]
  },
  {
   "cell_type": "code",
   "execution_count": 13,
   "metadata": {},
   "outputs": [
    {
     "name": "stdout",
     "output_type": "stream",
     "text": [
      "62 countries are represented in bold_dataframe: "
     ]
    },
    {
     "data": {
      "text/html": [
       "<table>\n",
       "<caption>A data.frame: 61 × 2</caption>\n",
       "<thead>\n",
       "\t<tr><th scope=col>Var1</th><th scope=col>Freq</th></tr>\n",
       "\t<tr><th scope=col>&lt;fct&gt;</th><th scope=col>&lt;int&gt;</th></tr>\n",
       "</thead>\n",
       "<tbody>\n",
       "\t<tr><td>Afghanistan     </td><td>    1</td></tr>\n",
       "\t<tr><td>Algeria         </td><td>  122</td></tr>\n",
       "\t<tr><td>Australia       </td><td> 2208</td></tr>\n",
       "\t<tr><td>Austria         </td><td>    1</td></tr>\n",
       "\t<tr><td>Azerbaijan      </td><td>    9</td></tr>\n",
       "\t<tr><td>Bangladesh      </td><td> 1462</td></tr>\n",
       "\t<tr><td>Belgium         </td><td>    2</td></tr>\n",
       "\t<tr><td>Botswana        </td><td>   14</td></tr>\n",
       "\t<tr><td>Brazil          </td><td>  310</td></tr>\n",
       "\t<tr><td>Cameroon        </td><td>   64</td></tr>\n",
       "\t<tr><td>Canada          </td><td>12166</td></tr>\n",
       "\t<tr><td>China           </td><td>   67</td></tr>\n",
       "\t<tr><td>Colombia        </td><td>  209</td></tr>\n",
       "\t<tr><td>Costa Rica      </td><td> 8699</td></tr>\n",
       "\t<tr><td>Cyprus          </td><td>   23</td></tr>\n",
       "\t<tr><td>Czech Republic  </td><td>    1</td></tr>\n",
       "\t<tr><td>Denmark         </td><td>    6</td></tr>\n",
       "\t<tr><td>Ecuador         </td><td>   40</td></tr>\n",
       "\t<tr><td>Egypt           </td><td> 1886</td></tr>\n",
       "\t<tr><td>Ethiopia        </td><td>   32</td></tr>\n",
       "\t<tr><td>Finland         </td><td>   12</td></tr>\n",
       "\t<tr><td>France          </td><td>   25</td></tr>\n",
       "\t<tr><td>French Guiana   </td><td>   14</td></tr>\n",
       "\t<tr><td>French Polynesia</td><td>   88</td></tr>\n",
       "\t<tr><td>Germany         </td><td>  567</td></tr>\n",
       "\t<tr><td>Ghana           </td><td>    6</td></tr>\n",
       "\t<tr><td>Greece          </td><td>   36</td></tr>\n",
       "\t<tr><td>Honduras        </td><td>  981</td></tr>\n",
       "\t<tr><td>India           </td><td>   94</td></tr>\n",
       "\t<tr><td>Iran            </td><td>    1</td></tr>\n",
       "\t<tr><td>⋮</td><td>⋮</td></tr>\n",
       "\t<tr><td>Japan         </td><td>   3</td></tr>\n",
       "\t<tr><td>Kenya         </td><td>   3</td></tr>\n",
       "\t<tr><td>Madagascar    </td><td> 648</td></tr>\n",
       "\t<tr><td>Malaysia      </td><td>1244</td></tr>\n",
       "\t<tr><td>Malta         </td><td>   4</td></tr>\n",
       "\t<tr><td>Mexico        </td><td>  92</td></tr>\n",
       "\t<tr><td>Montenegro    </td><td>   3</td></tr>\n",
       "\t<tr><td>Morocco       </td><td>   3</td></tr>\n",
       "\t<tr><td>Norway        </td><td>  95</td></tr>\n",
       "\t<tr><td>Pakistan      </td><td> 226</td></tr>\n",
       "\t<tr><td>Panama        </td><td>  50</td></tr>\n",
       "\t<tr><td>Peru          </td><td> 159</td></tr>\n",
       "\t<tr><td>Poland        </td><td>   5</td></tr>\n",
       "\t<tr><td>Portugal      </td><td>  49</td></tr>\n",
       "\t<tr><td>Romania       </td><td>   8</td></tr>\n",
       "\t<tr><td>Saudi Arabia  </td><td>   2</td></tr>\n",
       "\t<tr><td>Serbia        </td><td>  10</td></tr>\n",
       "\t<tr><td>Slovakia      </td><td>   4</td></tr>\n",
       "\t<tr><td>Slovenia      </td><td>   5</td></tr>\n",
       "\t<tr><td>South Africa  </td><td> 351</td></tr>\n",
       "\t<tr><td>South Korea   </td><td>   1</td></tr>\n",
       "\t<tr><td>Spain         </td><td>  15</td></tr>\n",
       "\t<tr><td>Sri Lanka     </td><td>  65</td></tr>\n",
       "\t<tr><td>Sweden        </td><td>   1</td></tr>\n",
       "\t<tr><td>Thailand      </td><td> 387</td></tr>\n",
       "\t<tr><td>Tunisia       </td><td>  10</td></tr>\n",
       "\t<tr><td>Turkey        </td><td>   6</td></tr>\n",
       "\t<tr><td>United Kingdom</td><td>   1</td></tr>\n",
       "\t<tr><td>United States </td><td> 325</td></tr>\n",
       "\t<tr><td>Uzbekistan    </td><td>   1</td></tr>\n",
       "</tbody>\n",
       "</table>\n"
      ],
      "text/latex": [
       "A data.frame: 61 × 2\n",
       "\\begin{tabular}{ll}\n",
       " Var1 & Freq\\\\\n",
       " <fct> & <int>\\\\\n",
       "\\hline\n",
       "\t Afghanistan      &     1\\\\\n",
       "\t Algeria          &   122\\\\\n",
       "\t Australia        &  2208\\\\\n",
       "\t Austria          &     1\\\\\n",
       "\t Azerbaijan       &     9\\\\\n",
       "\t Bangladesh       &  1462\\\\\n",
       "\t Belgium          &     2\\\\\n",
       "\t Botswana         &    14\\\\\n",
       "\t Brazil           &   310\\\\\n",
       "\t Cameroon         &    64\\\\\n",
       "\t Canada           & 12166\\\\\n",
       "\t China            &    67\\\\\n",
       "\t Colombia         &   209\\\\\n",
       "\t Costa Rica       &  8699\\\\\n",
       "\t Cyprus           &    23\\\\\n",
       "\t Czech Republic   &     1\\\\\n",
       "\t Denmark          &     6\\\\\n",
       "\t Ecuador          &    40\\\\\n",
       "\t Egypt            &  1886\\\\\n",
       "\t Ethiopia         &    32\\\\\n",
       "\t Finland          &    12\\\\\n",
       "\t France           &    25\\\\\n",
       "\t French Guiana    &    14\\\\\n",
       "\t French Polynesia &    88\\\\\n",
       "\t Germany          &   567\\\\\n",
       "\t Ghana            &     6\\\\\n",
       "\t Greece           &    36\\\\\n",
       "\t Honduras         &   981\\\\\n",
       "\t India            &    94\\\\\n",
       "\t Iran             &     1\\\\\n",
       "\t ⋮ & ⋮\\\\\n",
       "\t Japan          &    3\\\\\n",
       "\t Kenya          &    3\\\\\n",
       "\t Madagascar     &  648\\\\\n",
       "\t Malaysia       & 1244\\\\\n",
       "\t Malta          &    4\\\\\n",
       "\t Mexico         &   92\\\\\n",
       "\t Montenegro     &    3\\\\\n",
       "\t Morocco        &    3\\\\\n",
       "\t Norway         &   95\\\\\n",
       "\t Pakistan       &  226\\\\\n",
       "\t Panama         &   50\\\\\n",
       "\t Peru           &  159\\\\\n",
       "\t Poland         &    5\\\\\n",
       "\t Portugal       &   49\\\\\n",
       "\t Romania        &    8\\\\\n",
       "\t Saudi Arabia   &    2\\\\\n",
       "\t Serbia         &   10\\\\\n",
       "\t Slovakia       &    4\\\\\n",
       "\t Slovenia       &    5\\\\\n",
       "\t South Africa   &  351\\\\\n",
       "\t South Korea    &    1\\\\\n",
       "\t Spain          &   15\\\\\n",
       "\t Sri Lanka      &   65\\\\\n",
       "\t Sweden         &    1\\\\\n",
       "\t Thailand       &  387\\\\\n",
       "\t Tunisia        &   10\\\\\n",
       "\t Turkey         &    6\\\\\n",
       "\t United Kingdom &    1\\\\\n",
       "\t United States  &  325\\\\\n",
       "\t Uzbekistan     &    1\\\\\n",
       "\\end{tabular}\n"
      ],
      "text/markdown": [
       "\n",
       "A data.frame: 61 × 2\n",
       "\n",
       "| Var1 &lt;fct&gt; | Freq &lt;int&gt; |\n",
       "|---|---|\n",
       "| Afghanistan      |     1 |\n",
       "| Algeria          |   122 |\n",
       "| Australia        |  2208 |\n",
       "| Austria          |     1 |\n",
       "| Azerbaijan       |     9 |\n",
       "| Bangladesh       |  1462 |\n",
       "| Belgium          |     2 |\n",
       "| Botswana         |    14 |\n",
       "| Brazil           |   310 |\n",
       "| Cameroon         |    64 |\n",
       "| Canada           | 12166 |\n",
       "| China            |    67 |\n",
       "| Colombia         |   209 |\n",
       "| Costa Rica       |  8699 |\n",
       "| Cyprus           |    23 |\n",
       "| Czech Republic   |     1 |\n",
       "| Denmark          |     6 |\n",
       "| Ecuador          |    40 |\n",
       "| Egypt            |  1886 |\n",
       "| Ethiopia         |    32 |\n",
       "| Finland          |    12 |\n",
       "| France           |    25 |\n",
       "| French Guiana    |    14 |\n",
       "| French Polynesia |    88 |\n",
       "| Germany          |   567 |\n",
       "| Ghana            |     6 |\n",
       "| Greece           |    36 |\n",
       "| Honduras         |   981 |\n",
       "| India            |    94 |\n",
       "| Iran             |     1 |\n",
       "| ⋮ | ⋮ |\n",
       "| Japan          |    3 |\n",
       "| Kenya          |    3 |\n",
       "| Madagascar     |  648 |\n",
       "| Malaysia       | 1244 |\n",
       "| Malta          |    4 |\n",
       "| Mexico         |   92 |\n",
       "| Montenegro     |    3 |\n",
       "| Morocco        |    3 |\n",
       "| Norway         |   95 |\n",
       "| Pakistan       |  226 |\n",
       "| Panama         |   50 |\n",
       "| Peru           |  159 |\n",
       "| Poland         |    5 |\n",
       "| Portugal       |   49 |\n",
       "| Romania        |    8 |\n",
       "| Saudi Arabia   |    2 |\n",
       "| Serbia         |   10 |\n",
       "| Slovakia       |    4 |\n",
       "| Slovenia       |    5 |\n",
       "| South Africa   |  351 |\n",
       "| South Korea    |    1 |\n",
       "| Spain          |   15 |\n",
       "| Sri Lanka      |   65 |\n",
       "| Sweden         |    1 |\n",
       "| Thailand       |  387 |\n",
       "| Tunisia        |   10 |\n",
       "| Turkey         |    6 |\n",
       "| United Kingdom |    1 |\n",
       "| United States  |  325 |\n",
       "| Uzbekistan     |    1 |\n",
       "\n"
      ],
      "text/plain": [
       "   Var1             Freq \n",
       "1  Afghanistan          1\n",
       "2  Algeria            122\n",
       "3  Australia         2208\n",
       "4  Austria              1\n",
       "5  Azerbaijan           9\n",
       "6  Bangladesh        1462\n",
       "7  Belgium              2\n",
       "8  Botswana            14\n",
       "9  Brazil             310\n",
       "10 Cameroon            64\n",
       "11 Canada           12166\n",
       "12 China               67\n",
       "13 Colombia           209\n",
       "14 Costa Rica        8699\n",
       "15 Cyprus              23\n",
       "16 Czech Republic       1\n",
       "17 Denmark              6\n",
       "18 Ecuador             40\n",
       "19 Egypt             1886\n",
       "20 Ethiopia            32\n",
       "21 Finland             12\n",
       "22 France              25\n",
       "23 French Guiana       14\n",
       "24 French Polynesia    88\n",
       "25 Germany            567\n",
       "26 Ghana                6\n",
       "27 Greece              36\n",
       "28 Honduras           981\n",
       "29 India               94\n",
       "30 Iran                 1\n",
       "⋮  ⋮                ⋮    \n",
       "32 Japan               3 \n",
       "33 Kenya               3 \n",
       "34 Madagascar        648 \n",
       "35 Malaysia         1244 \n",
       "36 Malta               4 \n",
       "37 Mexico             92 \n",
       "38 Montenegro          3 \n",
       "39 Morocco             3 \n",
       "40 Norway             95 \n",
       "41 Pakistan          226 \n",
       "42 Panama             50 \n",
       "43 Peru              159 \n",
       "44 Poland              5 \n",
       "45 Portugal           49 \n",
       "46 Romania             8 \n",
       "47 Saudi Arabia        2 \n",
       "48 Serbia             10 \n",
       "49 Slovakia            4 \n",
       "50 Slovenia            5 \n",
       "51 South Africa      351 \n",
       "52 South Korea         1 \n",
       "53 Spain              15 \n",
       "54 Sri Lanka          65 \n",
       "55 Sweden              1 \n",
       "56 Thailand          387 \n",
       "57 Tunisia            10 \n",
       "58 Turkey              6 \n",
       "59 United Kingdom      1 \n",
       "60 United States     325 \n",
       "61 Uzbekistan          1 "
      ]
     },
     "metadata": {},
     "output_type": "display_data"
    }
   ],
   "source": [
    "cat(length(unique(bold_dataframe$country)), \"countries are represented in bold_dataframe: \")\n",
    "#cat(c(unique(bold_dataframe$country)), sep=\";\")\n",
    "as.data.frame(table(c(bold_dataframe$country)))"
   ]
  },
  {
   "cell_type": "markdown",
   "metadata": {},
   "source": [
    "### **What looks interesting?**\n",
    "#### **1.Taxonomy**\n",
    "**Taking a deeper look at the taxa variables: phylum,class,order and family**"
   ]
  },
  {
   "cell_type": "code",
   "execution_count": 14,
   "metadata": {},
   "outputs": [
    {
     "data": {
      "text/html": [
       "'Arthropoda'"
      ],
      "text/latex": [
       "'Arthropoda'"
      ],
      "text/markdown": [
       "'Arthropoda'"
      ],
      "text/plain": [
       "[1] \"Arthropoda\""
      ]
     },
     "metadata": {},
     "output_type": "display_data"
    }
   ],
   "source": [
    "unique(bold_dataframe$phylum_name)"
   ]
  },
  {
   "cell_type": "markdown",
   "metadata": {},
   "source": [
    "### **classes represented in the bold_dataframe**"
   ]
  },
  {
   "cell_type": "code",
   "execution_count": 15,
   "metadata": {},
   "outputs": [
    {
     "name": "stdout",
     "output_type": "stream",
     "text": [
      "African arthropod data is distrubed in taxa classes as follows:"
     ]
    },
    {
     "data": {
      "text/html": [
       "<table>\n",
       "<caption>A data.frame: 1 × 2</caption>\n",
       "<thead>\n",
       "\t<tr><th scope=col>Var1</th><th scope=col>Freq</th></tr>\n",
       "\t<tr><th scope=col>&lt;fct&gt;</th><th scope=col>&lt;int&gt;</th></tr>\n",
       "</thead>\n",
       "<tbody>\n",
       "\t<tr><td>Insecta</td><td>33481</td></tr>\n",
       "</tbody>\n",
       "</table>\n"
      ],
      "text/latex": [
       "A data.frame: 1 × 2\n",
       "\\begin{tabular}{ll}\n",
       " Var1 & Freq\\\\\n",
       " <fct> & <int>\\\\\n",
       "\\hline\n",
       "\t Insecta & 33481\\\\\n",
       "\\end{tabular}\n"
      ],
      "text/markdown": [
       "\n",
       "A data.frame: 1 × 2\n",
       "\n",
       "| Var1 &lt;fct&gt; | Freq &lt;int&gt; |\n",
       "|---|---|\n",
       "| Insecta | 33481 |\n",
       "\n"
      ],
      "text/plain": [
       "  Var1    Freq \n",
       "1 Insecta 33481"
      ]
     },
     "metadata": {},
     "output_type": "display_data"
    },
    {
     "name": "stdout",
     "output_type": "stream",
     "text": [
      "East African arthropod data is distrubed in taxa classes as follows:"
     ]
    },
    {
     "ename": "ERROR",
     "evalue": "Error in table(c(sample_dataframe$class_name)): object 'sample_dataframe' not found\n",
     "output_type": "error",
     "traceback": [
      "Error in table(c(sample_dataframe$class_name)): object 'sample_dataframe' not found\nTraceback:\n",
      "1. as.data.frame(table(c(sample_dataframe$class_name)))",
      "2. table(c(sample_dataframe$class_name))"
     ]
    }
   ],
   "source": [
    "cat(\"African arthropod data is distrubed in taxa classes as follows:\")\n",
    "as.data.frame(table(c(bold_dataframe$class_name)))\n",
    "cat(\"East African arthropod data is distrubed in taxa classes as follows:\")\n",
    "as.data.frame(table(c(sample_dataframe$class_name)))"
   ]
  },
  {
   "cell_type": "markdown",
   "metadata": {},
   "source": [
    "#### **orders represented**"
   ]
  },
  {
   "cell_type": "code",
   "execution_count": 16,
   "metadata": {},
   "outputs": [
    {
     "name": "stdout",
     "output_type": "stream",
     "text": [
      "1 orders are indicated in African arthropod data: Diptera;\n",
      "\n"
     ]
    },
    {
     "ename": "ERROR",
     "evalue": "Error in unique(sample_dataframe$order_name): object 'sample_dataframe' not found\n",
     "output_type": "error",
     "traceback": [
      "Error in unique(sample_dataframe$order_name): object 'sample_dataframe' not found\nTraceback:\n",
      "1. cat(length(unique(sample_dataframe$order_name)), \"orders are indicated in East African arthropod data: \")",
      "2. unique(sample_dataframe$order_name)"
     ]
    }
   ],
   "source": [
    "cat(length(unique(bold_dataframe$order_name)), \n",
    "    \"orders are indicated in African arthropod data: \")\n",
    "cat(unique(bold_dataframe$order_name),sep=\";\",\"\\n\\n\")\n",
    "cat(length(unique(sample_dataframe$order_name)), \n",
    "    \"orders are indicated in East African arthropod data: \")\n",
    "cat(unique(sample_dataframe$order_name),sep=\";\")"
   ]
  },
  {
   "cell_type": "markdown",
   "metadata": {},
   "source": [
    "#### **Families represented**"
   ]
  },
  {
   "cell_type": "code",
   "execution_count": 17,
   "metadata": {},
   "outputs": [
    {
     "name": "stdout",
     "output_type": "stream",
     "text": [
      "1 families are indicated in the African Data: Psychodidae;\n",
      "\n"
     ]
    },
    {
     "ename": "ERROR",
     "evalue": "Error in unique(sample_dataframe$family_name): object 'sample_dataframe' not found\n",
     "output_type": "error",
     "traceback": [
      "Error in unique(sample_dataframe$family_name): object 'sample_dataframe' not found\nTraceback:\n",
      "1. cat(length(unique(sample_dataframe$family_name)), \"families are indicated in the East African Data: \")",
      "2. unique(sample_dataframe$family_name)"
     ]
    }
   ],
   "source": [
    "cat(length(unique(bold_dataframe$family_name)), \n",
    "    \"families are indicated in the African Data: \")\n",
    "cat(unique(bold_dataframe$family_name),sep=\";\",\"\\n\\n\")\n",
    "cat(length(unique(sample_dataframe$family_name)), \n",
    "    \"families are indicated in the East African Data: \")\n",
    "cat(unique(sample_dataframe$family_name),sep=\";\")"
   ]
  },
  {
   "cell_type": "markdown",
   "metadata": {},
   "source": [
    "### **genera and species names featured**"
   ]
  },
  {
   "cell_type": "code",
   "execution_count": 18,
   "metadata": {},
   "outputs": [
    {
     "name": "stdout",
     "output_type": "stream",
     "text": [
      "41 genus_names and  306 species_names are featured in the African arthropod data set\n",
      "\n"
     ]
    },
    {
     "ename": "ERROR",
     "evalue": "Error in unique(sample_dataframe$genus_name): object 'sample_dataframe' not found\n",
     "output_type": "error",
     "traceback": [
      "Error in unique(sample_dataframe$genus_name): object 'sample_dataframe' not found\nTraceback:\n",
      "1. cat(length(unique(sample_dataframe$genus_name)), \"genus_names\")",
      "2. unique(sample_dataframe$genus_name)"
     ]
    }
   ],
   "source": [
    "#genera\n",
    "cat(length(unique(bold_dataframe$genus_name)), \"genus_names\")\n",
    "#species\n",
    "cat(\" and \", length(unique(bold_dataframe$species_name)), \n",
    "    \"species_names are featured in the African arthropod data set\\n\\n\")\n",
    "#genera\n",
    "cat(length(unique(sample_dataframe$genus_name)), \"genus_names\")\n",
    "#species\n",
    "cat(\" and \", length(unique(sample_dataframe$species_name)), \n",
    "    \"species_names are featured in the East African arthropod data set\")"
   ]
  },
  {
   "cell_type": "markdown",
   "metadata": {},
   "source": [
    "### **Identify the container projects from which the data sets come from. Try using the copyright\\***"
   ]
  },
  {
   "cell_type": "code",
   "execution_count": 19,
   "metadata": {},
   "outputs": [
    {
     "name": "stdout",
     "output_type": "stream",
     "text": [
      "13 copyright institutions are featured in the African arthropod data set\n"
     ]
    },
    {
     "ename": "ERROR",
     "evalue": "Error in unique(sample_dataframe$copyright_institution): object 'sample_dataframe' not found\n",
     "output_type": "error",
     "traceback": [
      "Error in unique(sample_dataframe$copyright_institution): object 'sample_dataframe' not found\nTraceback:\n",
      "1. cat(length(unique(sample_dataframe$copyright_institution)), \"copyright institutions are featured in the East African arthropod data set \")",
      "2. unique(sample_dataframe$copyright_institution)"
     ]
    }
   ],
   "source": [
    "cat(length(unique(bold_dataframe$copyright_institution)),\n",
    "    \"copyright institutions are featured in the African arthropod data set\\n\")\n",
    "#output a list with so many missing values, **NOT IDEAL** for use.\n",
    "cat(length(unique(sample_dataframe$copyright_institution)),\n",
    "    \"copyright institutions are featured in the East African arthropod data set \")"
   ]
  },
  {
   "cell_type": "code",
   "execution_count": 20,
   "metadata": {},
   "outputs": [
    {
     "name": "stdout",
     "output_type": "stream",
     "text": [
      "11 copyright holders are featured in the African arthropod data set\n"
     ]
    },
    {
     "ename": "ERROR",
     "evalue": "Error in unique(sample_dataframe$copyright_holders): object 'sample_dataframe' not found\n",
     "output_type": "error",
     "traceback": [
      "Error in unique(sample_dataframe$copyright_holders): object 'sample_dataframe' not found\nTraceback:\n",
      "1. cat(length(unique(sample_dataframe$copyright_holders)), \"copyright holders are featured in the East African arthropod data set\")",
      "2. unique(sample_dataframe$copyright_holders)"
     ]
    }
   ],
   "source": [
    "cat(length(unique(bold_dataframe$copyright_holders)),\n",
    "    \"copyright holders are featured in the African arthropod data set\\n\")\n",
    "#output with so many missing values \"NA\"\n",
    "cat(length(unique(sample_dataframe$copyright_holders)),\n",
    "    \"copyright holders are featured in the East African arthropod data set\")"
   ]
  },
  {
   "cell_type": "markdown",
   "metadata": {},
   "source": [
    "### **Taking a look at the markercode field.**"
   ]
  },
  {
   "cell_type": "code",
   "execution_count": 22,
   "metadata": {},
   "outputs": [
    {
     "name": "stdout",
     "output_type": "stream",
     "text": [
      "6 markers are represented in the African data set"
     ]
    },
    {
     "data": {
      "text/html": [
       "<table>\n",
       "<caption>A data.frame: 5 × 2</caption>\n",
       "<thead>\n",
       "\t<tr><th scope=col>Var1</th><th scope=col>Freq</th></tr>\n",
       "\t<tr><th scope=col>&lt;fct&gt;</th><th scope=col>&lt;int&gt;</th></tr>\n",
       "</thead>\n",
       "<tbody>\n",
       "\t<tr><td>COI-3P</td><td>   40</td></tr>\n",
       "\t<tr><td>COI-5P</td><td>33253</td></tr>\n",
       "\t<tr><td>ND1   </td><td>    1</td></tr>\n",
       "\t<tr><td>ND4   </td><td>    1</td></tr>\n",
       "\t<tr><td>ND5-0 </td><td>    1</td></tr>\n",
       "</tbody>\n",
       "</table>\n"
      ],
      "text/latex": [
       "A data.frame: 5 × 2\n",
       "\\begin{tabular}{ll}\n",
       " Var1 & Freq\\\\\n",
       " <fct> & <int>\\\\\n",
       "\\hline\n",
       "\t COI-3P &    40\\\\\n",
       "\t COI-5P & 33253\\\\\n",
       "\t ND1    &     1\\\\\n",
       "\t ND4    &     1\\\\\n",
       "\t ND5-0  &     1\\\\\n",
       "\\end{tabular}\n"
      ],
      "text/markdown": [
       "\n",
       "A data.frame: 5 × 2\n",
       "\n",
       "| Var1 &lt;fct&gt; | Freq &lt;int&gt; |\n",
       "|---|---|\n",
       "| COI-3P |    40 |\n",
       "| COI-5P | 33253 |\n",
       "| ND1    |     1 |\n",
       "| ND4    |     1 |\n",
       "| ND5-0  |     1 |\n",
       "\n"
      ],
      "text/plain": [
       "  Var1   Freq \n",
       "1 COI-3P    40\n",
       "2 COI-5P 33253\n",
       "3 ND1        1\n",
       "4 ND4        1\n",
       "5 ND5-0      1"
      ]
     },
     "metadata": {},
     "output_type": "display_data"
    },
    {
     "ename": "ERROR",
     "evalue": "Error in unique(sample_dataframe$markercode): object 'sample_dataframe' not found\n",
     "output_type": "error",
     "traceback": [
      "Error in unique(sample_dataframe$markercode): object 'sample_dataframe' not found\nTraceback:\n",
      "1. cat(length(unique(sample_dataframe$markercode)), \"markers are represented in the East African data set\")",
      "2. unique(sample_dataframe$markercode)"
     ]
    }
   ],
   "source": [
    "cat(length(unique(bold_dataframe$markercode)),\n",
    "    \"markers are represented in the African data set\")\n",
    "as.data.frame(table(c(bold_dataframe$markercode)))\n",
    "#unique(bold_dataframe$markercode) # filtering rows corresponding to COI-5P markers\n",
    "cat(length(unique(sample_dataframe$markercode)),\n",
    "    \"markers are represented in the East African data set\")\n",
    "as.data.frame(table(c(sample_dataframe$markercode)))\n",
    "#unique(sample_dataframe$markercode) # filtering rows corresponding to COI-5P markers"
   ]
  },
  {
   "cell_type": "markdown",
   "metadata": {},
   "source": [
    "#### **Genebank_accession numbers**"
   ]
  },
  {
   "cell_type": "code",
   "execution_count": 23,
   "metadata": {},
   "outputs": [
    {
     "name": "stdout",
     "output_type": "stream",
     "text": [
      "There are  13299 genbank accession numbers in the African arthropod records out of  33481 records.\n"
     ]
    },
    {
     "ename": "ERROR",
     "evalue": "Error in unique(sample_dataframe$genbank_accession): object 'sample_dataframe' not found\n",
     "output_type": "error",
     "traceback": [
      "Error in unique(sample_dataframe$genbank_accession): object 'sample_dataframe' not found\nTraceback:\n",
      "1. cat(\"There are \", length(unique(sample_dataframe$genbank_accession)), \n .     \"genbank accession numbers in the East African arthropod records out of \", \n .     nrow(sample_dataframe), \"records.\")",
      "2. unique(sample_dataframe$genbank_accession)"
     ]
    }
   ],
   "source": [
    "cat(\"There are \",length(unique(bold_dataframe$genbank_accession)), \n",
    "    \"genbank accession numbers in the African arthropod records out of \",\n",
    "    nrow(bold_dataframe),\"records.\\n\")\n",
    "cat(\"There are \",length(unique(sample_dataframe$genbank_accession)), \n",
    "    \"genbank accession numbers in the East African arthropod records out of \",\n",
    "    nrow(sample_dataframe),\"records.\")"
   ]
  },
  {
   "cell_type": "markdown",
   "metadata": {},
   "source": [
    "#### **Cleaning up the dataset to remain only with COI-5P sequences**"
   ]
  },
  {
   "cell_type": "markdown",
   "metadata": {},
   "source": [
    "**1. Removing sequences from other classes and markers beside Insecta and COI-5P**"
   ]
  },
  {
   "cell_type": "code",
   "execution_count": 24,
   "metadata": {},
   "outputs": [
    {
     "name": "stdout",
     "output_type": "stream",
     "text": [
      "African data set has 33253 Insecta records out of 33481 African arthropod records\n",
      "\n"
     ]
    },
    {
     "ename": "ERROR",
     "evalue": "Error in subset(sample_dataframe, markercode == \"COI-5P\" & !is.na(nucleotides) & : object 'sample_dataframe' not found\n",
     "output_type": "error",
     "traceback": [
      "Error in subset(sample_dataframe, markercode == \"COI-5P\" & !is.na(nucleotides) & : object 'sample_dataframe' not found\nTraceback:\n",
      "1. subset(sample_dataframe, markercode == \"COI-5P\" & !is.na(nucleotides) & \n .     class_name == \"Insecta\")"
     ]
    }
   ],
   "source": [
    "COI_Insect_Afrodata = subset(\n",
    "    bold_dataframe, class_name == \"Insecta\" & markercode == \"COI-5P\" & !is.na(nucleotides) )\n",
    "cat(\"African data set has\", nrow(COI_Insect_Afrodata),\"Insecta records out of\", \n",
    "    nrow(bold_dataframe), \"African arthropod records\\n\\n\")\n",
    "COI_Insect_EAfrodata = subset(\n",
    "    sample_dataframe, markercode == \"COI-5P\" & !is.na(nucleotides) & class_name == \"Insecta\")\n",
    "cat(\"Insect COI-5P marker sequences are \",nrow(COI_Insect_EAfrodata),\" out of \", \n",
    "    nrow(sample_dataframe), \"sequences in the East African bold data\")\n",
    "as.data.frame(table(c((COI_Insect_Afrodata)$class_name)))\n",
    "as.data.frame(table(c((COI_Insect_Afrodata)$order_name)))"
   ]
  },
  {
   "cell_type": "code",
   "execution_count": 25,
   "metadata": {},
   "outputs": [
    {
     "data": {
      "text/html": [
       "<table>\n",
       "<caption>A data.frame: 1 × 2</caption>\n",
       "<thead>\n",
       "\t<tr><th scope=col>Var1</th><th scope=col>Freq</th></tr>\n",
       "\t<tr><th scope=col>&lt;fct&gt;</th><th scope=col>&lt;int&gt;</th></tr>\n",
       "</thead>\n",
       "<tbody>\n",
       "\t<tr><td>Psychodidae</td><td>33253</td></tr>\n",
       "</tbody>\n",
       "</table>\n"
      ],
      "text/latex": [
       "A data.frame: 1 × 2\n",
       "\\begin{tabular}{ll}\n",
       " Var1 & Freq\\\\\n",
       " <fct> & <int>\\\\\n",
       "\\hline\n",
       "\t Psychodidae & 33253\\\\\n",
       "\\end{tabular}\n"
      ],
      "text/markdown": [
       "\n",
       "A data.frame: 1 × 2\n",
       "\n",
       "| Var1 &lt;fct&gt; | Freq &lt;int&gt; |\n",
       "|---|---|\n",
       "| Psychodidae | 33253 |\n",
       "\n"
      ],
      "text/plain": [
       "  Var1        Freq \n",
       "1 Psychodidae 33253"
      ]
     },
     "metadata": {},
     "output_type": "display_data"
    }
   ],
   "source": [
    "as.data.frame(table(c((subset(COI_Insect_Afrodata, order_name == \"Diptera\"))$family_name)))"
   ]
  },
  {
   "cell_type": "code",
   "execution_count": 26,
   "metadata": {},
   "outputs": [
    {
     "data": {
      "text/html": [
       "<table>\n",
       "<caption>A data.frame: 0 × 1</caption>\n",
       "<thead>\n",
       "\t<tr><th scope=col>Freq</th></tr>\n",
       "\t<tr><th scope=col>&lt;int&gt;</th></tr>\n",
       "</thead>\n",
       "<tbody>\n",
       "</tbody>\n",
       "</table>\n"
      ],
      "text/latex": [
       "A data.frame: 0 × 1\n",
       "\\begin{tabular}{l}\n",
       " Freq\\\\\n",
       " <int>\\\\\n",
       "\\hline\n",
       "\\end{tabular}\n"
      ],
      "text/markdown": [
       "\n",
       "A data.frame: 0 × 1\n",
       "\n",
       "| Freq &lt;int&gt; |\n",
       "|---|\n",
       "\n"
      ],
      "text/plain": [
       "     Freq"
      ]
     },
     "metadata": {},
     "output_type": "display_data"
    }
   ],
   "source": [
    "as.data.frame(table(c((subset(COI_Insect_Afrodata, order_name == \"Lepidoptera\"))$family_name)))"
   ]
  },
  {
   "cell_type": "code",
   "execution_count": 27,
   "metadata": {},
   "outputs": [
    {
     "name": "stdout",
     "output_type": "stream",
     "text": [
      "0 records in non-insecta classes \n",
      "classes:  "
     ]
    },
    {
     "data": {
      "text/html": [
       "<table>\n",
       "<caption>A data.frame: 0 × 1</caption>\n",
       "<thead>\n",
       "\t<tr><th scope=col>Freq</th></tr>\n",
       "\t<tr><th scope=col>&lt;int&gt;</th></tr>\n",
       "</thead>\n",
       "<tbody>\n",
       "</tbody>\n",
       "</table>\n"
      ],
      "text/latex": [
       "A data.frame: 0 × 1\n",
       "\\begin{tabular}{l}\n",
       " Freq\\\\\n",
       " <int>\\\\\n",
       "\\hline\n",
       "\\end{tabular}\n"
      ],
      "text/markdown": [
       "\n",
       "A data.frame: 0 × 1\n",
       "\n",
       "| Freq &lt;int&gt; |\n",
       "|---|\n",
       "\n"
      ],
      "text/plain": [
       "     Freq"
      ]
     },
     "metadata": {},
     "output_type": "display_data"
    },
    {
     "name": "stdout",
     "output_type": "stream",
     "text": [
      "The order taxa represented in Arachnida class are:"
     ]
    },
    {
     "data": {
      "text/html": [
       "<table>\n",
       "<caption>A data.frame: 0 × 1</caption>\n",
       "<thead>\n",
       "\t<tr><th scope=col>Freq</th></tr>\n",
       "\t<tr><th scope=col>&lt;int&gt;</th></tr>\n",
       "</thead>\n",
       "<tbody>\n",
       "</tbody>\n",
       "</table>\n"
      ],
      "text/latex": [
       "A data.frame: 0 × 1\n",
       "\\begin{tabular}{l}\n",
       " Freq\\\\\n",
       " <int>\\\\\n",
       "\\hline\n",
       "\\end{tabular}\n"
      ],
      "text/markdown": [
       "\n",
       "A data.frame: 0 × 1\n",
       "\n",
       "| Freq &lt;int&gt; |\n",
       "|---|\n",
       "\n"
      ],
      "text/plain": [
       "     Freq"
      ]
     },
     "metadata": {},
     "output_type": "display_data"
    },
    {
     "name": "stdout",
     "output_type": "stream",
     "text": [
      "\n",
      " 0 Malacostraca: orders; \n",
      " 0 Diplopoda: orders; \n",
      " 0 Branchiopoda: orders; \n",
      " 0 Ostracoda: orders; "
     ]
    }
   ],
   "source": [
    "nonInsecta_data = subset(bold_dataframe, class_name != \"Insecta\")\n",
    "cat (nrow(nonInsecta_data), \"records in non-insecta classes \\nclasses: \",\n",
    "     unique(nonInsecta_data$class_name))\n",
    "as.data.frame(table(c((nonInsecta_data)$class_name)))\n",
    "cat(\"The order taxa represented in Arachnida class are:\")\n",
    "as.data.frame(table(c((subset(bold_dataframe, class_name == \"Arachnida\"))$order_name)))\n",
    "cat(\"\\n\",nrow(subset(bold_dataframe, class_name == \"Malacostraca\")), \"Malacostraca: orders;\",\n",
    "    unique((subset(bold_dataframe, class_name == \"Malacostraca\")$order_name)))\n",
    "cat(\"\\n\",nrow(subset(bold_dataframe, class_name == \"Diplopoda\")), \"Diplopoda: orders;\",\n",
    "    unique((subset(bold_dataframe, class_name == \"Diplopoda\")$order_name)))\n",
    "cat(\"\\n\",nrow(subset(bold_dataframe, class_name == \"Branchiopoda\")), \"Branchiopoda: orders;\",\n",
    "    unique((subset(bold_dataframe, class_name == \"Branchiopoda\")$order_name)))\n",
    "cat(\"\\n\",nrow(subset(bold_dataframe, class_name == \"Ostracoda\")), \"Ostracoda: orders;\"\n",
    "    ,unique((subset(bold_dataframe, class_name == \"Ostracoda\")$order_name)))"
   ]
  },
  {
   "cell_type": "markdown",
   "metadata": {},
   "source": [
    "## **Focusing on our Sample data(East African data set)**\n",
    "#### **Analysing nucleotide sequences (nucleotides)**"
   ]
  },
  {
   "cell_type": "code",
   "execution_count": 28,
   "metadata": {},
   "outputs": [
    {
     "ename": "ERROR",
     "evalue": "Error in typeof(COI_Insect_EAfrodata$nucleotides): object 'COI_Insect_EAfrodata' not found\n",
     "output_type": "error",
     "traceback": [
      "Error in typeof(COI_Insect_EAfrodata$nucleotides): object 'COI_Insect_EAfrodata' not found\nTraceback:\n",
      "1. typeof(COI_Insect_EAfrodata$nucleotides)"
     ]
    }
   ],
   "source": [
    "typeof(COI_Insect_EAfrodata$nucleotides)"
   ]
  },
  {
   "cell_type": "markdown",
   "metadata": {},
   "source": [
    "**1. Introducing a field \"seqlen1\" that has the number of nucleotides in the COI-5P**"
   ]
  },
  {
   "cell_type": "code",
   "execution_count": 29,
   "metadata": {},
   "outputs": [
    {
     "ename": "ERROR",
     "evalue": "Error in eval(lhs, parent, parent): object 'COI_Insect_EAfrodata' not found\n",
     "output_type": "error",
     "traceback": [
      "Error in eval(lhs, parent, parent): object 'COI_Insect_EAfrodata' not found\nTraceback:\n",
      "1. COI_Insect_EAfrodata %>% mutate(seqlen1 = nchar(nucleotides))",
      "2. eval(lhs, parent, parent)",
      "3. eval(lhs, parent, parent)"
     ]
    }
   ],
   "source": [
    "COI_Insect_EAfrodata %>% mutate(seqlen1 = nchar(nucleotides)) -> resulting_dataframe1\n",
    "## \"\"%>%\"\" is same as pipe \"|\" in bash"
   ]
  },
  {
   "cell_type": "markdown",
   "metadata": {},
   "source": [
    "**2. List all characters present in the nucleotide sequences**"
   ]
  },
  {
   "cell_type": "code",
   "execution_count": 30,
   "metadata": {},
   "outputs": [
    {
     "ename": "ERROR",
     "evalue": "Error in strsplit(COI_data$nucleotides, \"\", fixed = TRUE): object 'COI_data' not found\n",
     "output_type": "error",
     "traceback": [
      "Error in strsplit(COI_data$nucleotides, \"\", fixed = TRUE): object 'COI_data' not found\nTraceback:\n",
      "1. unique(unlist(strsplit(COI_data$nucleotides, \"\", fixed = TRUE)), \n .     incomparables = FALSE)",
      "2. unlist(strsplit(COI_data$nucleotides, \"\", fixed = TRUE))",
      "3. strsplit(COI_data$nucleotides, \"\", fixed = TRUE)"
     ]
    }
   ],
   "source": [
    "unique(unlist(strsplit(COI_data$nucleotides, \"\", fixed = TRUE)), incomparables = FALSE)"
   ]
  },
  {
   "cell_type": "markdown",
   "metadata": {},
   "source": [
    "**3. Number of nucleotide sequences with '-' characters* in them**"
   ]
  },
  {
   "cell_type": "code",
   "execution_count": 31,
   "metadata": {},
   "outputs": [
    {
     "ename": "ERROR",
     "evalue": "Error in grep(\"-\", resulting_dataframe1$nucleotides, value = TRUE): object 'resulting_dataframe1' not found\n",
     "output_type": "error",
     "traceback": [
      "Error in grep(\"-\", resulting_dataframe1$nucleotides, value = TRUE): object 'resulting_dataframe1' not found\nTraceback:\n",
      "1. grep(\"-\", resulting_dataframe1$nucleotides, value = TRUE)"
     ]
    }
   ],
   "source": [
    "length(grep( '-',resulting_dataframe1$nucleotides, value= TRUE))"
   ]
  },
  {
   "cell_type": "markdown",
   "metadata": {},
   "source": [
    "**4. REMOVING '-' characters from nucleotide sequences and creating a field of unalinged nucleotide sequences (unalined_nucleotides)**"
   ]
  },
  {
   "cell_type": "code",
   "execution_count": 32,
   "metadata": {},
   "outputs": [
    {
     "ename": "ERROR",
     "evalue": "Error in eval(lhs, parent, parent): object 'resulting_dataframe1' not found\n",
     "output_type": "error",
     "traceback": [
      "Error in eval(lhs, parent, parent): object 'resulting_dataframe1' not found\nTraceback:\n",
      "1. resulting_dataframe1 %>% mutate(unaligned_nucleotides = gsub(\"-\", \n .     \"\", resulting_dataframe1$nucleotides, ignore.case = FALSE, \n .     perl = FALSE, fixed = FALSE, useBytes = FALSE))",
      "2. eval(lhs, parent, parent)",
      "3. eval(lhs, parent, parent)"
     ]
    }
   ],
   "source": [
    "resulting_dataframe1 %>% mutate(unaligned_nucleotides = gsub(\n",
    "    '-', '', resulting_dataframe1$nucleotides, ignore.case = FALSE, perl = FALSE,\n",
    "    fixed = FALSE, useBytes = FALSE)) -> resulting_dataframe2"
   ]
  },
  {
   "cell_type": "code",
   "execution_count": 33,
   "metadata": {},
   "outputs": [
    {
     "ename": "ERROR",
     "evalue": "Error in grep(\"-\", resulting_dataframe2$unaligned_nucleotides, value = TRUE): object 'resulting_dataframe2' not found\n",
     "output_type": "error",
     "traceback": [
      "Error in grep(\"-\", resulting_dataframe2$unaligned_nucleotides, value = TRUE): object 'resulting_dataframe2' not found\nTraceback:\n",
      "1. grep(\"-\", resulting_dataframe2$unaligned_nucleotides, value = TRUE)"
     ]
    }
   ],
   "source": [
    "#Number of nucleotide sequences with '-' characters* in them after removal\n",
    "length(grep( '-',resulting_dataframe2$unaligned_nucleotides, value= TRUE))"
   ]
  },
  {
   "cell_type": "markdown",
   "metadata": {},
   "source": [
    "**5. Introducing a field seqlen2 with number nucleotides in unaligned_nucleotides field**"
   ]
  },
  {
   "cell_type": "code",
   "execution_count": 34,
   "metadata": {},
   "outputs": [
    {
     "ename": "ERROR",
     "evalue": "Error in eval(lhs, parent, parent): object 'resulting_dataframe2' not found\n",
     "output_type": "error",
     "traceback": [
      "Error in eval(lhs, parent, parent): object 'resulting_dataframe2' not found\nTraceback:\n",
      "1. resulting_dataframe2 %>% mutate(seqlen2 = nchar(unaligned_nucleotides))",
      "2. eval(lhs, parent, parent)",
      "3. eval(lhs, parent, parent)"
     ]
    }
   ],
   "source": [
    "resulting_dataframe2 %>% mutate(seqlen2 = nchar(unaligned_nucleotides)) -> resulting_dataframe3"
   ]
  },
  {
   "cell_type": "code",
   "execution_count": 35,
   "metadata": {},
   "outputs": [
    {
     "ename": "ERROR",
     "evalue": "Error in str(resulting_dataframe3): object 'resulting_dataframe3' not found\n",
     "output_type": "error",
     "traceback": [
      "Error in str(resulting_dataframe3): object 'resulting_dataframe3' not found\nTraceback:\n",
      "1. str(resulting_dataframe3)"
     ]
    }
   ],
   "source": [
    "str(resulting_dataframe3)"
   ]
  },
  {
   "cell_type": "markdown",
   "metadata": {},
   "source": [
    "#### **Understanding the distribution of seqlen1 versus seqlen2**"
   ]
  },
  {
   "cell_type": "code",
   "execution_count": 36,
   "metadata": {},
   "outputs": [
    {
     "ename": "ERROR",
     "evalue": "Error in boxplot(resulting_dataframe1$seqlen1, resulting_dataframe3$seqlen2): object 'resulting_dataframe1' not found\n",
     "output_type": "error",
     "traceback": [
      "Error in boxplot(resulting_dataframe1$seqlen1, resulting_dataframe3$seqlen2): object 'resulting_dataframe1' not found\nTraceback:\n",
      "1. boxplot(resulting_dataframe1$seqlen1, resulting_dataframe3$seqlen2)"
     ]
    }
   ],
   "source": [
    "boxplot(resulting_dataframe1$seqlen1, resulting_dataframe3$seqlen2)"
   ]
  },
  {
   "cell_type": "code",
   "execution_count": 37,
   "metadata": {},
   "outputs": [
    {
     "ename": "ERROR",
     "evalue": "Error in hist(resulting_dataframe3$seqlen1): object 'resulting_dataframe3' not found\n",
     "output_type": "error",
     "traceback": [
      "Error in hist(resulting_dataframe3$seqlen1): object 'resulting_dataframe3' not found\nTraceback:\n",
      "1. hist(resulting_dataframe3$seqlen1)"
     ]
    },
    {
     "ename": "ERROR",
     "evalue": "Error in hist(resulting_dataframe3$seqlen2): object 'resulting_dataframe3' not found\n",
     "output_type": "error",
     "traceback": [
      "Error in hist(resulting_dataframe3$seqlen2): object 'resulting_dataframe3' not found\nTraceback:\n",
      "1. hist(resulting_dataframe3$seqlen2)"
     ]
    }
   ],
   "source": [
    "hist(resulting_dataframe3$seqlen1); hist(resulting_dataframe3$seqlen2)"
   ]
  },
  {
   "cell_type": "markdown",
   "metadata": {},
   "source": [
    "### **Sorting the data based on the nucleotide length of sequences**"
   ]
  },
  {
   "cell_type": "markdown",
   "metadata": {},
   "source": [
    "1. **Generating a file with all 'COI-5P' sequences**"
   ]
  },
  {
   "cell_type": "code",
   "execution_count": 38,
   "metadata": {},
   "outputs": [
    {
     "ename": "ERROR",
     "evalue": "Error in eval(expr, envir, enclos): object 'resulting_dataframe3' not found\n",
     "output_type": "error",
     "traceback": [
      "Error in eval(expr, envir, enclos): object 'resulting_dataframe3' not found\nTraceback:\n"
     ]
    }
   ],
   "source": [
    "resulting_dataframe3 -> COI_all_data\n",
    "cat(length(COI_all_data$unaligned_nucleotides),\"sequences have 'COI-5P' marker\")"
   ]
  },
  {
   "cell_type": "markdown",
   "metadata": {},
   "source": [
    "2. **Introducing a filter to remove sequences with less than 500 nucleotides**"
   ]
  },
  {
   "cell_type": "code",
   "execution_count": 39,
   "metadata": {},
   "outputs": [
    {
     "ename": "ERROR",
     "evalue": "Error in eval(lhs, parent, parent): object 'COI_all_data' not found\n",
     "output_type": "error",
     "traceback": [
      "Error in eval(lhs, parent, parent): object 'COI_all_data' not found\nTraceback:\n",
      "1. COI_all_data %>% filter(seqlen2 >= 500)",
      "2. eval(lhs, parent, parent)",
      "3. eval(lhs, parent, parent)"
     ]
    }
   ],
   "source": [
    "COI_all_data %>% filter(seqlen2 >= 500 ) -> COI_Over499_data\n",
    "cat(length(COI_Over499_data$unaligned_nucleotides),\"sequences have more or equivalent to 500 bases\")"
   ]
  },
  {
   "cell_type": "markdown",
   "metadata": {},
   "source": [
    "3. **Introducing a filter to remove any sequence with less than 500 and over 700 nucleotides**"
   ]
  },
  {
   "cell_type": "code",
   "execution_count": 40,
   "metadata": {},
   "outputs": [
    {
     "ename": "ERROR",
     "evalue": "Error in eval(lhs, parent, parent): object 'COI_all_data' not found\n",
     "output_type": "error",
     "traceback": [
      "Error in eval(lhs, parent, parent): object 'COI_all_data' not found\nTraceback:\n",
      "1. COI_all_data %>% filter(seqlen2 >= 500 & seqlen2 <= 700)",
      "2. eval(lhs, parent, parent)",
      "3. eval(lhs, parent, parent)"
     ]
    }
   ],
   "source": [
    "COI_all_data %>% filter(seqlen2 >= 500 & seqlen2 <= 700) -> COI_500to700_data\n",
    "cat(length(COI_500to700_data$unaligned_nucleotides),\"sequences have from 500 to 700 bases\")"
   ]
  },
  {
   "cell_type": "code",
   "execution_count": 41,
   "metadata": {},
   "outputs": [
    {
     "ename": "ERROR",
     "evalue": "Error in hist(COI_500to700_data$seqlen2): object 'COI_500to700_data' not found\n",
     "output_type": "error",
     "traceback": [
      "Error in hist(COI_500to700_data$seqlen2): object 'COI_500to700_data' not found\nTraceback:\n",
      "1. hist(COI_500to700_data$seqlen2)"
     ]
    }
   ],
   "source": [
    "hist(COI_500to700_data$seqlen2)"
   ]
  },
  {
   "cell_type": "markdown",
   "metadata": {},
   "source": [
    "4. **Introducing a filter to remove any sequence with less than 650 and over 660 nucleotides**"
   ]
  },
  {
   "cell_type": "code",
   "execution_count": 42,
   "metadata": {},
   "outputs": [
    {
     "ename": "ERROR",
     "evalue": "Error in eval(lhs, parent, parent): object 'COI_all_data' not found\n",
     "output_type": "error",
     "traceback": [
      "Error in eval(lhs, parent, parent): object 'COI_all_data' not found\nTraceback:\n",
      "1. COI_all_data %>% filter(seqlen2 >= 650 & seqlen2 <= 660)",
      "2. eval(lhs, parent, parent)",
      "3. eval(lhs, parent, parent)"
     ]
    }
   ],
   "source": [
    "COI_all_data %>% filter(seqlen2 >= 650 & seqlen2 <= 660) -> COI_650to660_data\n",
    "cat(length(COI_650to660_data$unaligned_nucleotides),\"sequences have from 650 to 660 bases\")"
   ]
  },
  {
   "cell_type": "markdown",
   "metadata": {},
   "source": [
    "5. **Introducing a filter to remove any sequence with over 500 nucleotides**"
   ]
  },
  {
   "cell_type": "code",
   "execution_count": 43,
   "metadata": {},
   "outputs": [
    {
     "ename": "ERROR",
     "evalue": "Error in eval(lhs, parent, parent): object 'COI_all_data' not found\n",
     "output_type": "error",
     "traceback": [
      "Error in eval(lhs, parent, parent): object 'COI_all_data' not found\nTraceback:\n",
      "1. COI_all_data %>% filter(seqlen2 < 500)",
      "2. eval(lhs, parent, parent)",
      "3. eval(lhs, parent, parent)"
     ]
    }
   ],
   "source": [
    "COI_all_data %>% filter(seqlen2 < 500) -> COI_Under500_data\n",
    "cat(length(COI_Under500_data$unaligned_nucleotides),\"sequences have less than 500 bases\")"
   ]
  },
  {
   "cell_type": "markdown",
   "metadata": {},
   "source": [
    "6. **Introducing a filter to remove any sequence with less than 700 nucleotides**"
   ]
  },
  {
   "cell_type": "code",
   "execution_count": 44,
   "metadata": {},
   "outputs": [
    {
     "ename": "ERROR",
     "evalue": "Error in eval(lhs, parent, parent): object 'COI_all_data' not found\n",
     "output_type": "error",
     "traceback": [
      "Error in eval(lhs, parent, parent): object 'COI_all_data' not found\nTraceback:\n",
      "1. COI_all_data %>% filter(seqlen2 > 700)",
      "2. eval(lhs, parent, parent)",
      "3. eval(lhs, parent, parent)"
     ]
    }
   ],
   "source": [
    "COI_all_data %>% filter(seqlen2 > 700) -> COI_Over700_data\n",
    "cat(length(COI_Over700_data$unaligned_nucleotides),\"sequences have more than 700 bases\")"
   ]
  },
  {
   "cell_type": "markdown",
   "metadata": {},
   "source": [
    "### **Randomly sampling 100 sequences from data sets for use in testing the pipeline**"
   ]
  },
  {
   "cell_type": "markdown",
   "metadata": {},
   "source": [
    "**1. sampling from all insecta COI-5P data irregardless of sequnce length**"
   ]
  },
  {
   "cell_type": "code",
   "execution_count": 45,
   "metadata": {},
   "outputs": [
    {
     "ename": "ERROR",
     "evalue": "Error in eval(expr, envir, enclos): object 'COI_all_data' not found\n",
     "output_type": "error",
     "traceback": [
      "Error in eval(expr, envir, enclos): object 'COI_all_data' not found\nTraceback:\n"
     ]
    }
   ],
   "source": [
    "COI_testa00_data <- COI_all_data[sample(nrow(COI_all_data), 100), ]"
   ]
  },
  {
   "cell_type": "code",
   "execution_count": 46,
   "metadata": {},
   "outputs": [
    {
     "ename": "ERROR",
     "evalue": "Error in boxplot(COI_testa00_data$seqlen2): object 'COI_testa00_data' not found\n",
     "output_type": "error",
     "traceback": [
      "Error in boxplot(COI_testa00_data$seqlen2): object 'COI_testa00_data' not found\nTraceback:\n",
      "1. boxplot(COI_testa00_data$seqlen2)"
     ]
    }
   ],
   "source": [
    "boxplot(COI_testa00_data$seqlen2)"
   ]
  },
  {
   "cell_type": "markdown",
   "metadata": {},
   "source": [
    "**2. Sampling from insecta COI-5P data with 500 to 700 nucleotide sequence length**"
   ]
  },
  {
   "cell_type": "code",
   "execution_count": 47,
   "metadata": {},
   "outputs": [
    {
     "ename": "ERROR",
     "evalue": "Error in eval(expr, envir, enclos): object 'COI_500to700_data' not found\n",
     "output_type": "error",
     "traceback": [
      "Error in eval(expr, envir, enclos): object 'COI_500to700_data' not found\nTraceback:\n"
     ]
    }
   ],
   "source": [
    "COI_testb01_data <- COI_500to700_data[sample(nrow(COI_500to700_data), 100), ]"
   ]
  },
  {
   "cell_type": "code",
   "execution_count": 48,
   "metadata": {},
   "outputs": [
    {
     "ename": "ERROR",
     "evalue": "Error in boxplot(COI_testb01_data$seqlen2): object 'COI_testb01_data' not found\n",
     "output_type": "error",
     "traceback": [
      "Error in boxplot(COI_testb01_data$seqlen2): object 'COI_testb01_data' not found\nTraceback:\n",
      "1. boxplot(COI_testb01_data$seqlen2)"
     ]
    }
   ],
   "source": [
    "boxplot(COI_testb01_data$seqlen2)"
   ]
  },
  {
   "cell_type": "code",
   "execution_count": 49,
   "metadata": {},
   "outputs": [
    {
     "ename": "ERROR",
     "evalue": "Error in eval(expr, envir, enclos): object 'COI_500to700_data' not found\n",
     "output_type": "error",
     "traceback": [
      "Error in eval(expr, envir, enclos): object 'COI_500to700_data' not found\nTraceback:\n"
     ]
    }
   ],
   "source": [
    "COI_testb02_data <- COI_500to700_data[sample(nrow(COI_500to700_data), 100), ]"
   ]
  },
  {
   "cell_type": "code",
   "execution_count": 50,
   "metadata": {},
   "outputs": [
    {
     "ename": "ERROR",
     "evalue": "Error in boxplot(COI_testb02_data$seqlen2): object 'COI_testb02_data' not found\n",
     "output_type": "error",
     "traceback": [
      "Error in boxplot(COI_testb02_data$seqlen2): object 'COI_testb02_data' not found\nTraceback:\n",
      "1. boxplot(COI_testb02_data$seqlen2)"
     ]
    }
   ],
   "source": [
    "boxplot(COI_testb02_data$seqlen2)"
   ]
  },
  {
   "cell_type": "code",
   "execution_count": 51,
   "metadata": {},
   "outputs": [
    {
     "ename": "ERROR",
     "evalue": "Error in eval(expr, envir, enclos): object 'COI_500to700_data' not found\n",
     "output_type": "error",
     "traceback": [
      "Error in eval(expr, envir, enclos): object 'COI_500to700_data' not found\nTraceback:\n"
     ]
    }
   ],
   "source": [
    "COI_testb03_data <- COI_500to700_data[sample(nrow(COI_500to700_data), 100), ]"
   ]
  },
  {
   "cell_type": "code",
   "execution_count": 52,
   "metadata": {},
   "outputs": [
    {
     "ename": "ERROR",
     "evalue": "Error in boxplot(COI_testb03_data$seqlen2): object 'COI_testb03_data' not found\n",
     "output_type": "error",
     "traceback": [
      "Error in boxplot(COI_testb03_data$seqlen2): object 'COI_testb03_data' not found\nTraceback:\n",
      "1. boxplot(COI_testb03_data$seqlen2)"
     ]
    }
   ],
   "source": [
    "boxplot(COI_testb03_data$seqlen2)"
   ]
  },
  {
   "cell_type": "markdown",
   "metadata": {},
   "source": [
    "**3. Sampling from insecta COI-5P data with 650 to 660 nucleotide sequence length**"
   ]
  },
  {
   "cell_type": "code",
   "execution_count": 53,
   "metadata": {},
   "outputs": [
    {
     "ename": "ERROR",
     "evalue": "Error in eval(expr, envir, enclos): object 'COI_650to660_data' not found\n",
     "output_type": "error",
     "traceback": [
      "Error in eval(expr, envir, enclos): object 'COI_650to660_data' not found\nTraceback:\n"
     ]
    }
   ],
   "source": [
    "COI_testc04_data <- COI_650to660_data[sample(nrow(COI_650to660_data), 100), ]"
   ]
  },
  {
   "cell_type": "code",
   "execution_count": 54,
   "metadata": {},
   "outputs": [
    {
     "ename": "ERROR",
     "evalue": "Error in boxplot(COI_testc04_data$seqlen2): object 'COI_testc04_data' not found\n",
     "output_type": "error",
     "traceback": [
      "Error in boxplot(COI_testc04_data$seqlen2): object 'COI_testc04_data' not found\nTraceback:\n",
      "1. boxplot(COI_testc04_data$seqlen2)"
     ]
    }
   ],
   "source": [
    "boxplot(COI_testc04_data$seqlen2)"
   ]
  },
  {
   "cell_type": "code",
   "execution_count": 55,
   "metadata": {},
   "outputs": [
    {
     "ename": "ERROR",
     "evalue": "Error in eval(expr, envir, enclos): object 'COI_650to660_data' not found\n",
     "output_type": "error",
     "traceback": [
      "Error in eval(expr, envir, enclos): object 'COI_650to660_data' not found\nTraceback:\n"
     ]
    }
   ],
   "source": [
    "COI_testc05_data <- COI_650to660_data[sample(nrow(COI_650to660_data), 100), ]"
   ]
  },
  {
   "cell_type": "code",
   "execution_count": 56,
   "metadata": {},
   "outputs": [
    {
     "ename": "ERROR",
     "evalue": "Error in boxplot(COI_testc05_data$seqlen2): object 'COI_testc05_data' not found\n",
     "output_type": "error",
     "traceback": [
      "Error in boxplot(COI_testc05_data$seqlen2): object 'COI_testc05_data' not found\nTraceback:\n",
      "1. boxplot(COI_testc05_data$seqlen2)"
     ]
    }
   ],
   "source": [
    "boxplot(COI_testc05_data$seqlen2)"
   ]
  },
  {
   "cell_type": "markdown",
   "metadata": {},
   "source": [
    "**4. Sampling from insecta COI-5P data with under 500 nucleotide sequence length**"
   ]
  },
  {
   "cell_type": "code",
   "execution_count": 57,
   "metadata": {},
   "outputs": [
    {
     "ename": "ERROR",
     "evalue": "Error in eval(expr, envir, enclos): object 'COI_Under500_data' not found\n",
     "output_type": "error",
     "traceback": [
      "Error in eval(expr, envir, enclos): object 'COI_Under500_data' not found\nTraceback:\n"
     ]
    }
   ],
   "source": [
    "COI_testd06_data <- COI_Under500_data[sample(nrow(COI_Under500_data), 100), ]"
   ]
  },
  {
   "cell_type": "code",
   "execution_count": 58,
   "metadata": {},
   "outputs": [
    {
     "ename": "ERROR",
     "evalue": "Error in boxplot(COI_testd06_data$seqlen2): object 'COI_testd06_data' not found\n",
     "output_type": "error",
     "traceback": [
      "Error in boxplot(COI_testd06_data$seqlen2): object 'COI_testd06_data' not found\nTraceback:\n",
      "1. boxplot(COI_testd06_data$seqlen2)"
     ]
    }
   ],
   "source": [
    "boxplot(COI_testd06_data$seqlen2)"
   ]
  },
  {
   "cell_type": "markdown",
   "metadata": {},
   "source": [
    "**5. Sampling from insecta COI-5P data with over 700 nucleotide sequence length**"
   ]
  },
  {
   "cell_type": "code",
   "execution_count": 59,
   "metadata": {},
   "outputs": [
    {
     "ename": "ERROR",
     "evalue": "Error in eval(expr, envir, enclos): object 'COI_Over700_data' not found\n",
     "output_type": "error",
     "traceback": [
      "Error in eval(expr, envir, enclos): object 'COI_Over700_data' not found\nTraceback:\n"
     ]
    }
   ],
   "source": [
    "COI_teste07_data <- COI_Over700_data[sample(nrow(COI_Over700_data), 100), ]"
   ]
  },
  {
   "cell_type": "code",
   "execution_count": 60,
   "metadata": {},
   "outputs": [
    {
     "ename": "ERROR",
     "evalue": "Error in boxplot(COI_teste07_data$seqlen2): object 'COI_teste07_data' not found\n",
     "output_type": "error",
     "traceback": [
      "Error in boxplot(COI_teste07_data$seqlen2): object 'COI_teste07_data' not found\nTraceback:\n",
      "1. boxplot(COI_teste07_data$seqlen2)"
     ]
    }
   ],
   "source": [
    "boxplot(COI_teste07_data$seqlen2)"
   ]
  },
  {
   "cell_type": "code",
   "execution_count": 61,
   "metadata": {},
   "outputs": [
    {
     "data": {
      "text/html": [
       "<ol class=list-inline>\n",
       "\t<li>'arthropoda_data'</li>\n",
       "\t<li>'arthropoda_data1'</li>\n",
       "\t<li>'bold_data'</li>\n",
       "\t<li>'bold_dataframe'</li>\n",
       "\t<li>'COI_Insect_Afrodata'</li>\n",
       "\t<li>'nonInsecta_data'</li>\n",
       "</ol>\n"
      ],
      "text/latex": [
       "\\begin{enumerate*}\n",
       "\\item 'arthropoda\\_data'\n",
       "\\item 'arthropoda\\_data1'\n",
       "\\item 'bold\\_data'\n",
       "\\item 'bold\\_dataframe'\n",
       "\\item 'COI\\_Insect\\_Afrodata'\n",
       "\\item 'nonInsecta\\_data'\n",
       "\\end{enumerate*}\n"
      ],
      "text/markdown": [
       "1. 'arthropoda_data'\n",
       "2. 'arthropoda_data1'\n",
       "3. 'bold_data'\n",
       "4. 'bold_dataframe'\n",
       "5. 'COI_Insect_Afrodata'\n",
       "6. 'nonInsecta_data'\n",
       "\n",
       "\n"
      ],
      "text/plain": [
       "[1] \"arthropoda_data\"     \"arthropoda_data1\"    \"bold_data\"          \n",
       "[4] \"bold_dataframe\"      \"COI_Insect_Afrodata\" \"nonInsecta_data\"    "
      ]
     },
     "metadata": {},
     "output_type": "display_data"
    }
   ],
   "source": [
    "ls()"
   ]
  },
  {
   "cell_type": "code",
   "execution_count": 62,
   "metadata": {},
   "outputs": [
    {
     "data": {
      "text/html": [
       "'/home/kibet/bioinformatics/github/co1_metaanalysis/code'"
      ],
      "text/latex": [
       "'/home/kibet/bioinformatics/github/co1\\_metaanalysis/code'"
      ],
      "text/markdown": [
       "'/home/kibet/bioinformatics/github/co1_metaanalysis/code'"
      ],
      "text/plain": [
       "[1] \"/home/kibet/bioinformatics/github/co1_metaanalysis/code\""
      ]
     },
     "metadata": {},
     "output_type": "display_data"
    }
   ],
   "source": [
    "getwd()"
   ]
  },
  {
   "cell_type": "markdown",
   "metadata": {},
   "source": [
    "## **Saving final tidy copies of the data to** ***'/co1_metaanalysis/Data/input'*** **directory**"
   ]
  },
  {
   "cell_type": "code",
   "execution_count": 494,
   "metadata": {},
   "outputs": [],
   "source": [
    "### Printing copies of the final tidy files\n",
    "datalist = lapply(c(\"COI_all_data\", \"COI_Over499_data\", \"COI_500to700_data\",\n",
    "                    \"COI_650to660_data\", \"COI_Over700_data\", \"COI_Under500_data\",\n",
    "                    \"COI_testa00_data\", \"COI_testb01_data\", \"COI_testb02_data\",\n",
    "                    \"COI_testb03_data\", \"COI_testc04_data\", \"COI_testc05_data\",\n",
    "                    \"COI_testd06_data\", \"COI_teste07_data\"), get)\n",
    "names(datalist) <- (c(\"../data/input/test_data/COI_all_data\",\n",
    "                      \"../data/input/test_data/COI_Over499_data\",\n",
    "                      \"../data/input/test_data/COI_500to700_data\",\n",
    "                      \"../data/input/test_data/COI_650to660_data\",\n",
    "                      \"../data/input/test_data/COI_Over700_data\",\n",
    "                      \"../data/input/test_data/COI_Under500_data\",\n",
    "                      \"../data/input/test_data/COI_testa00_data\",\n",
    "                      \"../data/input/test_data/COI_testb01_data\",\n",
    "                      \"../data/input/test_data/COI_testb02_data\",\n",
    "                      \"../data/input/test_data/COI_testb03_data\",\n",
    "                      \"../data/input/test_data/COI_testc04_data\",\n",
    "                      \"../data/input/test_data/COI_testc05_data\",\n",
    "                      \"../data/input/test_data/COI_testd06_data\",\n",
    "                      \"../data/input/test_data/COI_teste07_data\"))\n",
    "for (i in 1:length(datalist)) {\n",
    "    write.table(datalist[i], file = paste(\n",
    "        names(datalist[i]), \".tsv\", sep = \"\"), \n",
    "                row.names = FALSE, col.names= TRUE, sep = \"\\t\", quote=FALSE)\n",
    "}"
   ]
  },
  {
   "cell_type": "code",
   "execution_count": 43,
   "metadata": {},
   "outputs": [
    {
     "data": {
      "text/html": [
       "0"
      ],
      "text/latex": [
       "0"
      ],
      "text/markdown": [
       "0"
      ],
      "text/plain": [
       "[1] 0"
      ]
     },
     "metadata": {},
     "output_type": "display_data"
    }
   ],
   "source": [
    "length(which(is.na(COI_500to700_data$order_name)))"
   ]
  },
  {
   "cell_type": "code",
   "execution_count": null,
   "metadata": {},
   "outputs": [],
   "source": []
  }
 ],
 "metadata": {
  "kernelspec": {
   "display_name": "R",
   "language": "R",
   "name": "ir"
  },
  "language_info": {
   "codemirror_mode": "r",
   "file_extension": ".r",
   "mimetype": "text/x-r-source",
   "name": "R",
   "pygments_lexer": "r",
   "version": "3.6.1"
  }
 },
 "nbformat": 4,
 "nbformat_minor": 2
}
