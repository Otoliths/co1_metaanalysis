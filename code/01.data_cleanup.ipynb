{
 "cells": [
  {
   "cell_type": "markdown",
   "metadata": {},
   "source": [
    "### **Install tidyverse package**"
   ]
  },
  {
   "cell_type": "code",
   "execution_count": null,
   "metadata": {},
   "outputs": [],
   "source": [
    "install.packages(\"tidyverse\")"
   ]
  },
  {
   "cell_type": "markdown",
   "metadata": {},
   "source": [
    "**load dplyr or magrittr packages**"
   ]
  },
  {
   "cell_type": "code",
   "execution_count": 1,
   "metadata": {},
   "outputs": [
    {
     "data": {
      "text/html": [
       "'/home/kibet/bioinformatics/github/co1_metaanalysis/code'"
      ],
      "text/latex": [
       "'/home/kibet/bioinformatics/github/co1\\_metaanalysis/code'"
      ],
      "text/markdown": [
       "'/home/kibet/bioinformatics/github/co1_metaanalysis/code'"
      ],
      "text/plain": [
       "[1] \"/home/kibet/bioinformatics/github/co1_metaanalysis/code\""
      ]
     },
     "metadata": {},
     "output_type": "display_data"
    }
   ],
   "source": [
    "getwd()"
   ]
  },
  {
   "cell_type": "code",
   "execution_count": 2,
   "metadata": {},
   "outputs": [
    {
     "name": "stderr",
     "output_type": "stream",
     "text": [
      "\n",
      "Attaching package: ‘dplyr’\n",
      "\n",
      "The following objects are masked from ‘package:stats’:\n",
      "\n",
      "    filter, lag\n",
      "\n",
      "The following objects are masked from ‘package:base’:\n",
      "\n",
      "    intersect, setdiff, setequal, union\n",
      "\n"
     ]
    }
   ],
   "source": [
    "library(dplyr);library(magrittr)"
   ]
  },
  {
   "cell_type": "code",
   "execution_count": 3,
   "metadata": {},
   "outputs": [],
   "source": [
    "bold_dataframe = read.delim(\"../data/input/eafro_data/bold_data.tsv\", stringsAsFactors = F, header = T, na.strings = \"\") # seems to work ok. bold2.tsv does not contain any '\\r' characters"
   ]
  },
  {
   "cell_type": "markdown",
   "metadata": {},
   "source": [
    "### **looking at the summary of the data.frame.**"
   ]
  },
  {
   "cell_type": "code",
   "execution_count": 4,
   "metadata": {},
   "outputs": [
    {
     "name": "stdout",
     "output_type": "stream",
     "text": [
      "'data.frame':\t37257 obs. of  80 variables:\n",
      " $ processid                 : chr  \"ACML112-11\" \"ACML244-11\" \"ACML424-12\" \"ACRJP018-09\" ...\n",
      " $ sampleid                  : chr  \"MLIB-0265\" \"MLIB-0407\" \"MLIB-0635\" \"BC-MNHNJP0300\" ...\n",
      " $ recordID                  : int  1808909 1809041 2422653 1134339 1134380 1134629 1608613 1608655 1608701 1608841 ...\n",
      " $ catalognum                : chr  NA NA NA NA ...\n",
      " $ fieldnum                  : chr  \"MLIB-0265\" \"MLIB-0407\" \"MLIB-0635\" \"BC-MNHNJP0300\" ...\n",
      " $ institution_storing       : chr  \"African Butterfly Research Centre\" \"African Butterfly Research Centre\" \"African Butterfly Research Centre\" \"Research Collection of Dominique Bernaud\" ...\n",
      " $ collection_code           : logi  NA NA NA NA NA NA ...\n",
      " $ bin_uri                   : chr  \"BOLD:AAQ3949\" \"BOLD:ACE5474\" \"BOLD:ACF4534\" \"BOLD:AAC6676\" ...\n",
      " $ phylum_taxID              : int  20 20 20 20 20 20 20 20 20 20 ...\n",
      " $ phylum_name               : chr  \"Arthropoda\" \"Arthropoda\" \"Arthropoda\" \"Arthropoda\" ...\n",
      " $ class_taxID               : int  82 82 82 82 82 82 82 82 82 82 ...\n",
      " $ class_name                : chr  \"Insecta\" \"Insecta\" \"Insecta\" \"Insecta\" ...\n",
      " $ order_taxID               : int  113 113 113 113 113 113 113 113 113 113 ...\n",
      " $ order_name                : chr  \"Lepidoptera\" \"Lepidoptera\" \"Lepidoptera\" \"Lepidoptera\" ...\n",
      " $ family_taxID              : int  675 675 675 723 723 NA NA NA NA NA ...\n",
      " $ family_name               : chr  \"Hesperiidae\" \"Hesperiidae\" \"Hesperiidae\" \"Nymphalidae\" ...\n",
      " $ subfamily_taxID           : int  2886 2886 2886 3591 3591 NA NA NA NA NA ...\n",
      " $ subfamily_name            : chr  \"Pyrginae\" \"Pyrginae\" \"Pyrginae\" \"Heliconiinae\" ...\n",
      " $ genus_taxID               : int  6735 673227 6735 7130 7130 NA NA NA NA NA ...\n",
      " $ genus_name                : chr  \"Celaenorrhinus\" \"Apallaga\" \"Celaenorrhinus\" \"Acraea\" ...\n",
      " $ species_taxID             : int  348647 673297 327899 453904 214330 NA NA NA NA NA ...\n",
      " $ species_name              : chr  \"Celaenorrhinus dargei\" \"Apallaga rwandae\" \"Celaenorrhinus zanqua\" \"Acraea paragea\" ...\n",
      " $ subspecies_taxID          : int  673307 NA 673320 NA NA NA NA NA NA NA ...\n",
      " $ subspecies_name           : chr  \"Celaenorrhinus dargei peteri\" NA \"Celaenorrhinus zanqua uzungwae\" NA ...\n",
      " $ identification_provided_by: chr  \"Michel Libert\" \"Michel Libert\" \"Michel Libert\" \"Bernaud Dominique\" ...\n",
      " $ identification_method     : chr  NA NA NA NA ...\n",
      " $ identification_reference  : chr  NA NA NA NA ...\n",
      " $ tax_note                  : logi  NA NA NA NA NA NA ...\n",
      " $ voucher_status            : chr  NA NA NA NA ...\n",
      " $ tissue_type               : chr  NA NA NA NA ...\n",
      " $ collection_event_id       : logi  NA NA NA NA NA NA ...\n",
      " $ collectors                : chr  \"ABRI coll.\" \"ABRI coll.\" \"ABRI coll.\" \"JP Lequeux\" ...\n",
      " $ collectiondate_start      : logi  NA NA NA NA NA NA ...\n",
      " $ collectiondate_end        : logi  NA NA NA NA NA NA ...\n",
      " $ collectiontime            : chr  NA NA NA NA ...\n",
      " $ collection_note           : chr  NA NA NA NA ...\n",
      " $ site_code                 : chr  NA NA NA NA ...\n",
      " $ sampling_protocol         : chr  NA NA NA NA ...\n",
      " $ lifestage                 : chr  \"a\" \"a\" \"a\" \"A\" ...\n",
      " $ sex                       : chr  \"M\" \"M\" \"M\" \"F\" ...\n",
      " $ reproduction              : chr  \"S\" \"S\" \"S\" \"S\" ...\n",
      " $ habitat                   : chr  NA NA NA NA ...\n",
      " $ associated_specimens      : chr  NA NA NA NA ...\n",
      " $ associated_taxa           : chr  NA NA NA NA ...\n",
      " $ extrainfo                 : chr  \"Holotype\" NA \"Holotype\" NA ...\n",
      " $ notes                     : chr  \"genitalia Libert 110-146\" NA NA NA ...\n",
      " $ lat                       : num  -2.55 -2.55 -8.6 -0.5 NA NA NA NA NA NA ...\n",
      " $ lon                       : num  29 29 35.3 32.5 NA ...\n",
      " $ coord_source              : chr  NA NA NA NA ...\n",
      " $ coord_accuracy            : num  NA NA NA NA NA NA NA NA NA NA ...\n",
      " $ elev                      : num  2000 2000 1880 NA NA NA NA NA NA NA ...\n",
      " $ depth                     : logi  NA NA NA NA NA NA ...\n",
      " $ elev_accuracy             : num  NA NA NA NA NA NA NA NA NA NA ...\n",
      " $ depth_accuracy            : logi  NA NA NA NA NA NA ...\n",
      " $ country                   : chr  \"Rwanda\" \"Rwanda\" \"Tanzania\" \"Uganda\" ...\n",
      " $ province_state            : chr  NA NA NA NA ...\n",
      " $ region                    : chr  NA NA NA NA ...\n",
      " $ sector                    : chr  NA NA NA NA ...\n",
      " $ exactsite                 : chr  \"Cyamudongo for.\" \"Cyamudongo for.\" \"Mufindi\" \"Bugalla - Ssese\" ...\n",
      " $ image_ids                 : chr  \"1010172\" \"1010305\" \"1522762\" NA ...\n",
      " $ image_urls                : chr  \"http://www.boldsystems.org/pics/ACML/MLIB-0265+1293038818.jpeg\" \"http://www.boldsystems.org/pics/ACML/MLIB-0407+1293386508.jpeg\" \"http://www.boldsystems.org/pics/ACML/MLIB-0635+1324581528.jpeg\" NA ...\n",
      " $ media_descriptors         : chr  \"Dorsal\" \"Dorsal\" \"Dorsal\" NA ...\n",
      " $ captions                  : chr  \"adult\" \"adult\" \"adult\" NA ...\n",
      " $ copyright_holders         : chr  \"Michel Libert\" \"Michel Libert\" \"Michel Libert\" NA ...\n",
      " $ copyright_years           : chr  \"2010\" \"2010\" \"2012\" NA ...\n",
      " $ copyright_licenses        : chr  \"CreativeCommons - Attribution Non-Commercial No Derivatives\" \"CreativeCommons - Attribution Non-Commercial No Derivatives\" \"CreativeCommons - Attribution Non-Commercial Share-Alike\" NA ...\n",
      " $ copyright_institutions    : chr  \"Centre for Biodiversity Genomics\" \"Centre for Biodiversity Genomics\" \"Research Collection of Michel Libert\" NA ...\n",
      " $ photographers             : chr  \"Michel Libert\" \"Michel Libert\" \"Michel Libert\" NA ...\n",
      " $ sequenceID                : int  3896670 3877171 4380372 3433339 3328736 NA 3696640 3696693 3701232 4100973 ...\n",
      " $ markercode                : chr  \"COI-5P\" \"COI-5P\" \"COI-5P\" \"COI-5P\" ...\n",
      " $ genbank_accession         : chr  \"JN277531\" \"JF840200\" \"KP149907\" \"HQ546419\" ...\n",
      " $ nucleotides               : chr  \"TACTTTATATTTTATTTTTGGAATTTGAGCAGGTATAGTAGGAACATCTTTAAGAATATTAATTCGAACTGAATTAGGTAATCCAGGATCTTTAATTGGAGATGATCAAAT\"| __truncated__ \"-----------------------------------------------------------------------------------------CATTAATTGGTGATGATCAAAT\"| __truncated__ \"TACTTTATATTTTATTTTTGGAATTTGAGCAGGTATAGTAGGAACATCTTTAAGATTATTAATTCGAACTGAATTAGGTAATCCAGGATCATTAATTGGTGATGATCAAAT\"| __truncated__ \"AACTTTATACTTTATTTTTGGAATTTGATCAGGATTAATTGGAACCTCTCTAAGTCTTTTAATTCGAGTAGAACTAAGTAATCCAGGATCCTTTATTAATGATGATCAAAT\"| __truncated__ ...\n",
      " $ trace_ids                 : chr  \"2874360|2874395\" \"2829795|2829849\" \"3831383|3831478\" \"1785144|1785171|1785198|1785226\" ...\n",
      " $ trace_names               : chr  \"ACML112-11[LepF1,LepR1]_F.ab1|ACML112-11[LepF1,LepR1]_R.ab1\" \"ACML244-11[LepF1,LepR1]_F.ab1|ACML244-11[LepF1,LepR1]_R.ab1\" \"ACML424-12[LepF1,LepR1]_F.ab1|ACML424-12[LepF1,LepR1]_R.ab1\" \"ACRJP018-09[LepF1,MLepR1]_F.ab1|ACRJP018-09[LepF1,MLepR1]_R.ab1|ACRJP018-09[MLepF1,LepR1]_F.ab1|ACRJP018-09[MLe\"| __truncated__ ...\n",
      " $ trace_links               : chr  \"http://trace.boldsystems.org/traceIO/bold.org/2550367|http://trace.boldsystems.org/traceIO/bold.org/2550402\" \"http://trace.boldsystems.org/traceIO/bold.org/2507107|http://trace.boldsystems.org/traceIO/bold.org/2507161\" \"http://trace.boldsystems.org/traceIO/bold.org/5695050|http://trace.boldsystems.org/traceIO/bold.org/5695145\" \"http://trace.boldsystems.org/traceIO/bold.org/1509872|http://trace.boldsystems.org/traceIO/bold.org/1509899|htt\"| __truncated__ ...\n",
      " $ run_dates                 : chr  \"2011-04-03 12:44:25|2011-04-04 17:26:07\" \"2011-03-26 02:59:29|2011-03-26 03:44:32\" \"2012-02-27 11:54:12|2012-02-27 13:20:30\" \"2009-12-16 19:48:40|2009-12-16 20:33:35|2009-12-19 23:31:55|2009-12-21 21:55:25\" ...\n",
      " $ sequencing_centers        : chr  \"Biodiversity Institute of Ontario|Biodiversity Institute of Ontario\" \"Biodiversity Institute of Ontario|Biodiversity Institute of Ontario\" \"Biodiversity Institute of Ontario|Biodiversity Institute of Ontario\" \"Biodiversity Institute of Ontario|Biodiversity Institute of Ontario|Biodiversity Institute of Ontario|Biodivers\"| __truncated__ ...\n",
      " $ directions                : chr  \"F|R\" \"F|R\" \"F|R\" \"F|R|F|R\" ...\n",
      " $ seq_primers               : chr  \"LepF1|LepR1\" \"LepF1|LepR1\" \"LepF1|LepR1\" \"LepF1|MLepR1|MLepF1|LepR1\" ...\n",
      " $ marker_codes              : chr  \"COI-5P|COI-5P\" \"COI-5P|COI-5P\" \"COI-5P|COI-5P\" \"COI-5P|COI-5P|COI-5P|COI-5P\" ...\n"
     ]
    }
   ],
   "source": [
    "str(bold_dataframe)"
   ]
  },
  {
   "cell_type": "code",
   "execution_count": 5,
   "metadata": {},
   "outputs": [
    {
     "data": {
      "text/html": [
       "'character'"
      ],
      "text/latex": [
       "'character'"
      ],
      "text/markdown": [
       "'character'"
      ],
      "text/plain": [
       "[1] \"character\""
      ]
     },
     "metadata": {},
     "output_type": "display_data"
    }
   ],
   "source": [
    "typeof(bold_dataframe$nucleotides)"
   ]
  },
  {
   "cell_type": "code",
   "execution_count": 6,
   "metadata": {},
   "outputs": [
    {
     "data": {
      "text/html": [
       "'Arthropoda'"
      ],
      "text/latex": [
       "'Arthropoda'"
      ],
      "text/markdown": [
       "'Arthropoda'"
      ],
      "text/plain": [
       "[1] \"Arthropoda\""
      ]
     },
     "metadata": {},
     "output_type": "display_data"
    }
   ],
   "source": [
    "unique(bold_dataframe$phylum_name)"
   ]
  },
  {
   "cell_type": "code",
   "execution_count": 7,
   "metadata": {},
   "outputs": [
    {
     "data": {
      "text/html": [
       "<ol class=list-inline>\n",
       "\t<li>'Lepidoptera'</li>\n",
       "\t<li>'Diptera'</li>\n",
       "\t<li>'Coleoptera'</li>\n",
       "\t<li>'Hymenoptera'</li>\n",
       "\t<li>'Hemiptera'</li>\n",
       "\t<li>'Decapoda'</li>\n",
       "\t<li>'Siphonaptera'</li>\n",
       "\t<li>'Ixodida'</li>\n",
       "\t<li>'Mesostigmata'</li>\n",
       "\t<li>'Orthoptera'</li>\n",
       "\t<li>'Odonata'</li>\n",
       "\t<li>'Ephemeroptera'</li>\n",
       "\t<li>'Trichoptera'</li>\n",
       "\t<li>'Neuroptera'</li>\n",
       "\t<li>'Spirostreptida'</li>\n",
       "\t<li>'Psocodea'</li>\n",
       "\t<li>'Thysanoptera'</li>\n",
       "\t<li>'Phasmatodea'</li>\n",
       "\t<li>'Sarcoptiformes'</li>\n",
       "\t<li>'Blattodea'</li>\n",
       "\t<li>'Dermaptera'</li>\n",
       "\t<li>'Mantodea'</li>\n",
       "\t<li>'Araneae'</li>\n",
       "\t<li>'Plecoptera'</li>\n",
       "\t<li>'Pseudoscorpiones'</li>\n",
       "\t<li>'Polyxenida'</li>\n",
       "\t<li>'Trombidiformes'</li>\n",
       "\t<li>'Diplostraca'</li>\n",
       "\t<li>'Podocopida'</li>\n",
       "\t<li>'Amblypygi'</li>\n",
       "\t<li>'Scorpiones'</li>\n",
       "</ol>\n"
      ],
      "text/latex": [
       "\\begin{enumerate*}\n",
       "\\item 'Lepidoptera'\n",
       "\\item 'Diptera'\n",
       "\\item 'Coleoptera'\n",
       "\\item 'Hymenoptera'\n",
       "\\item 'Hemiptera'\n",
       "\\item 'Decapoda'\n",
       "\\item 'Siphonaptera'\n",
       "\\item 'Ixodida'\n",
       "\\item 'Mesostigmata'\n",
       "\\item 'Orthoptera'\n",
       "\\item 'Odonata'\n",
       "\\item 'Ephemeroptera'\n",
       "\\item 'Trichoptera'\n",
       "\\item 'Neuroptera'\n",
       "\\item 'Spirostreptida'\n",
       "\\item 'Psocodea'\n",
       "\\item 'Thysanoptera'\n",
       "\\item 'Phasmatodea'\n",
       "\\item 'Sarcoptiformes'\n",
       "\\item 'Blattodea'\n",
       "\\item 'Dermaptera'\n",
       "\\item 'Mantodea'\n",
       "\\item 'Araneae'\n",
       "\\item 'Plecoptera'\n",
       "\\item 'Pseudoscorpiones'\n",
       "\\item 'Polyxenida'\n",
       "\\item 'Trombidiformes'\n",
       "\\item 'Diplostraca'\n",
       "\\item 'Podocopida'\n",
       "\\item 'Amblypygi'\n",
       "\\item 'Scorpiones'\n",
       "\\end{enumerate*}\n"
      ],
      "text/markdown": [
       "1. 'Lepidoptera'\n",
       "2. 'Diptera'\n",
       "3. 'Coleoptera'\n",
       "4. 'Hymenoptera'\n",
       "5. 'Hemiptera'\n",
       "6. 'Decapoda'\n",
       "7. 'Siphonaptera'\n",
       "8. 'Ixodida'\n",
       "9. 'Mesostigmata'\n",
       "10. 'Orthoptera'\n",
       "11. 'Odonata'\n",
       "12. 'Ephemeroptera'\n",
       "13. 'Trichoptera'\n",
       "14. 'Neuroptera'\n",
       "15. 'Spirostreptida'\n",
       "16. 'Psocodea'\n",
       "17. 'Thysanoptera'\n",
       "18. 'Phasmatodea'\n",
       "19. 'Sarcoptiformes'\n",
       "20. 'Blattodea'\n",
       "21. 'Dermaptera'\n",
       "22. 'Mantodea'\n",
       "23. 'Araneae'\n",
       "24. 'Plecoptera'\n",
       "25. 'Pseudoscorpiones'\n",
       "26. 'Polyxenida'\n",
       "27. 'Trombidiformes'\n",
       "28. 'Diplostraca'\n",
       "29. 'Podocopida'\n",
       "30. 'Amblypygi'\n",
       "31. 'Scorpiones'\n",
       "\n",
       "\n"
      ],
      "text/plain": [
       " [1] \"Lepidoptera\"      \"Diptera\"          \"Coleoptera\"       \"Hymenoptera\"     \n",
       " [5] \"Hemiptera\"        \"Decapoda\"         \"Siphonaptera\"     \"Ixodida\"         \n",
       " [9] \"Mesostigmata\"     \"Orthoptera\"       \"Odonata\"          \"Ephemeroptera\"   \n",
       "[13] \"Trichoptera\"      \"Neuroptera\"       \"Spirostreptida\"   \"Psocodea\"        \n",
       "[17] \"Thysanoptera\"     \"Phasmatodea\"      \"Sarcoptiformes\"   \"Blattodea\"       \n",
       "[21] \"Dermaptera\"       \"Mantodea\"         \"Araneae\"          \"Plecoptera\"      \n",
       "[25] \"Pseudoscorpiones\" \"Polyxenida\"       \"Trombidiformes\"   \"Diplostraca\"     \n",
       "[29] \"Podocopida\"       \"Amblypygi\"        \"Scorpiones\"      "
      ]
     },
     "metadata": {},
     "output_type": "display_data"
    }
   ],
   "source": [
    "unique(bold_dataframe$order_name)"
   ]
  },
  {
   "cell_type": "code",
   "execution_count": 8,
   "metadata": {},
   "outputs": [
    {
     "data": {
      "text/html": [
       "<ol class=list-inline>\n",
       "\t<li>'Hesperiidae'</li>\n",
       "\t<li>'Nymphalidae'</li>\n",
       "\t<li>NA</li>\n",
       "\t<li>'Culicidae'</li>\n",
       "\t<li>'Sesiidae'</li>\n",
       "\t<li>'Gelechiidae'</li>\n",
       "\t<li>'Carposinidae'</li>\n",
       "\t<li>'Yponomeutidae'</li>\n",
       "\t<li>'Tortricidae'</li>\n",
       "\t<li>'Formicidae'</li>\n",
       "\t<li>'Epermeniidae'</li>\n",
       "\t<li>'Erebidae'</li>\n",
       "\t<li>'Chironomidae'</li>\n",
       "\t<li>'Tephritidae'</li>\n",
       "\t<li>'Caenidae'</li>\n",
       "\t<li>'Baetidae'</li>\n",
       "\t<li>'Lepidostomatidae'</li>\n",
       "\t<li>'Leptoceridae'</li>\n",
       "\t<li>'Hydropsychidae'</li>\n",
       "\t<li>'Braconidae'</li>\n",
       "\t<li>'Aradidae'</li>\n",
       "\t<li>'Lepidoptera_incertae_sedis'</li>\n",
       "\t<li>'Scythrididae'</li>\n",
       "\t<li>'Pyralidae'</li>\n",
       "\t<li>'Saturniidae'</li>\n",
       "\t<li>'Curculionidae'</li>\n",
       "\t<li>'Carabidae'</li>\n",
       "\t<li>'Halictidae'</li>\n",
       "\t<li>'Calliphoridae'</li>\n",
       "\t<li>'Gracillariidae'</li>\n",
       "\t<li>'Geometridae'</li>\n",
       "\t<li>'Hyblaeidae'</li>\n",
       "\t<li>'Apidae'</li>\n",
       "\t<li>'Brahmaeidae'</li>\n",
       "\t<li>'Lasiocampidae'</li>\n",
       "\t<li>'Lycaenidae'</li>\n",
       "\t<li>'Papilionidae'</li>\n",
       "\t<li>'Noctuidae'</li>\n",
       "\t<li>'Sphingidae'</li>\n",
       "\t<li>'Nolidae'</li>\n",
       "\t<li>'Crambidae'</li>\n",
       "\t<li>'Syrphidae'</li>\n",
       "\t<li>'Pediculidae'</li>\n",
       "\t<li>'Thripidae'</li>\n",
       "\t<li>'Aleyrodidae'</li>\n",
       "\t<li>'Trigonidiidae'</li>\n",
       "\t<li>'Blastobasidae'</li>\n",
       "\t<li>'Pieridae'</li>\n",
       "\t<li>'Ceratopogonidae'</li>\n",
       "\t<li>'Ichneumonidae'</li>\n",
       "\t<li>'Vespidae'</li>\n",
       "\t<li>'Acrididae'</li>\n",
       "\t<li>'Hippoboscidae'</li>\n",
       "\t<li>'Sarcophagidae'</li>\n",
       "\t<li>'Chlorocyphidae'</li>\n",
       "\t<li>'Tettigoniidae'</li>\n",
       "\t<li>'Gomphidae'</li>\n",
       "\t<li>'Oecophoridae'</li>\n",
       "\t<li>'Cecidomyiidae'</li>\n",
       "\t<li>'Proctophyllodidae'</li>\n",
       "\t<li>'Staphylinidae'</li>\n",
       "\t<li>'Coenagrionidae'</li>\n",
       "\t<li>'Phlaeothripidae'</li>\n",
       "\t<li>'Termitidae'</li>\n",
       "\t<li>'Veliidae'</li>\n",
       "\t<li>'Nepidae'</li>\n",
       "\t<li>'Pterophoridae'</li>\n",
       "\t<li>'Tineidae'</li>\n",
       "\t<li>'Simuliidae'</li>\n",
       "\t<li>'Eriocottidae'</li>\n",
       "\t<li>'Euteliidae'</li>\n",
       "\t<li>'Asilidae'</li>\n",
       "\t<li>'Megachilidae'</li>\n",
       "\t<li>'Ixodidae'</li>\n",
       "\t<li>'Platygastridae'</li>\n",
       "\t<li>'Opostegidae'</li>\n",
       "\t<li>'Corixidae'</li>\n",
       "\t<li>'Choreutidae'</li>\n",
       "\t<li>'Argyresthiidae'</li>\n",
       "\t<li>'Libellulidae'</li>\n",
       "\t<li>'Dipseudopsidae'</li>\n",
       "\t<li>'Melittidae'</li>\n",
       "\t<li>'Eupterotidae'</li>\n",
       "\t<li>'Limacodidae'</li>\n",
       "\t<li>'Protoneuridae'</li>\n",
       "\t<li>'Alucitidae'</li>\n",
       "\t<li>'Cosmopterigidae'</li>\n",
       "\t<li>'Stathmopodidae'</li>\n",
       "\t<li>'Rhyacophilidae'</li>\n",
       "\t<li>'Glossinidae'</li>\n",
       "\t<li>'Nepticulidae'</li>\n",
       "\t<li>'Odonata_incertae_sedis'</li>\n",
       "\t<li>'Tachinidae'</li>\n",
       "\t<li>'Immidae'</li>\n",
       "\t<li>'Plutellidae'</li>\n",
       "\t<li>'Heptageniidae'</li>\n",
       "\t<li>'Cossidae'</li>\n",
       "\t<li>'Calamoceratidae'</li>\n",
       "\t<li>'Sesarmidae'</li>\n",
       "\t<li>'Platycnemididae'</li>\n",
       "\t<li>'Heliodinidae'</li>\n",
       "\t<li>'Dytiscidae'</li>\n",
       "\t<li>'Gyrinidae'</li>\n",
       "\t<li>'Hydrophilidae'</li>\n",
       "\t<li>'Perlidae'</li>\n",
       "\t<li>'Epipyropidae'</li>\n",
       "\t<li>'Bombycidae'</li>\n",
       "\t<li>'Ciidae'</li>\n",
       "\t<li>'Cerambycidae'</li>\n",
       "\t<li>'Diopsidae'</li>\n",
       "\t<li>'Tenebrionidae'</li>\n",
       "\t<li>'Ectobiidae'</li>\n",
       "\t<li>'Lycosidae'</li>\n",
       "\t<li>'Cicadellidae'</li>\n",
       "\t<li>'Caliscelidae'</li>\n",
       "\t<li>'Flatidae'</li>\n",
       "\t<li>'Mantidae'</li>\n",
       "\t<li>'Notodontidae'</li>\n",
       "\t<li>'Copromorphidae'</li>\n",
       "\t<li>'Pholcidae'</li>\n",
       "\t<li>'Drosophilidae'</li>\n",
       "\t<li>'Gryllidae'</li>\n",
       "\t<li>'Tetranychidae'</li>\n",
       "\t<li>'Daphniidae'</li>\n",
       "\t<li>'Theridiidae'</li>\n",
       "\t<li>'Sciaridae'</li>\n",
       "\t<li>'Figitidae'</li>\n",
       "\t<li>'Cyprididae'</li>\n",
       "\t<li>'Megastigmidaae'</li>\n",
       "\t<li>'Scelionidae'</li>\n",
       "\t<li>'Stratiomyidae'</li>\n",
       "\t<li>'Aeshnidae'</li>\n",
       "\t<li>'Platypezidae'</li>\n",
       "\t<li>'Blattidae'</li>\n",
       "\t<li>'Aphididae'</li>\n",
       "\t<li>'Ctenidae'</li>\n",
       "\t<li>'Argasidae'</li>\n",
       "\t<li>'Phrynichidae'</li>\n",
       "\t<li>'Phyxelididae'</li>\n",
       "\t<li>'Pteronyssidae'</li>\n",
       "\t<li>'Trouessartiidae'</li>\n",
       "\t<li>'Analgidae'</li>\n",
       "\t<li>'Gerridae'</li>\n",
       "\t<li>'Thyrididae'</li>\n",
       "\t<li>'Scorpionidae'</li>\n",
       "\t<li>'Evaniidae'</li>\n",
       "\t<li>'Trichogrammatidae'</li>\n",
       "\t<li>'Agaonidae'</li>\n",
       "\t<li>'Muscidae'</li>\n",
       "\t<li>'Ocypodidae'</li>\n",
       "\t<li>'Praydidae'</li>\n",
       "\t<li>'Leptophlebiidae'</li>\n",
       "\t<li>'Elachistidae'</li>\n",
       "\t<li>'Theraphosidae'</li>\n",
       "\t<li>'Anthribidae'</li>\n",
       "\t<li>'Scoliidae'</li>\n",
       "\t<li>'Lyonetiidae'</li>\n",
       "\t<li>'Dryophthoridae'</li>\n",
       "\t<li>'Lecithoceridae'</li>\n",
       "\t<li>'Uraniidae'</li>\n",
       "\t<li>'Rhiniidae'</li>\n",
       "\t<li>'Mydidae'</li>\n",
       "\t<li>'Pisuliidae'</li>\n",
       "\t<li>'Agromyzidae'</li>\n",
       "\t<li>'Crabronidae'</li>\n",
       "</ol>\n"
      ],
      "text/latex": [
       "\\begin{enumerate*}\n",
       "\\item 'Hesperiidae'\n",
       "\\item 'Nymphalidae'\n",
       "\\item NA\n",
       "\\item 'Culicidae'\n",
       "\\item 'Sesiidae'\n",
       "\\item 'Gelechiidae'\n",
       "\\item 'Carposinidae'\n",
       "\\item 'Yponomeutidae'\n",
       "\\item 'Tortricidae'\n",
       "\\item 'Formicidae'\n",
       "\\item 'Epermeniidae'\n",
       "\\item 'Erebidae'\n",
       "\\item 'Chironomidae'\n",
       "\\item 'Tephritidae'\n",
       "\\item 'Caenidae'\n",
       "\\item 'Baetidae'\n",
       "\\item 'Lepidostomatidae'\n",
       "\\item 'Leptoceridae'\n",
       "\\item 'Hydropsychidae'\n",
       "\\item 'Braconidae'\n",
       "\\item 'Aradidae'\n",
       "\\item 'Lepidoptera\\_incertae\\_sedis'\n",
       "\\item 'Scythrididae'\n",
       "\\item 'Pyralidae'\n",
       "\\item 'Saturniidae'\n",
       "\\item 'Curculionidae'\n",
       "\\item 'Carabidae'\n",
       "\\item 'Halictidae'\n",
       "\\item 'Calliphoridae'\n",
       "\\item 'Gracillariidae'\n",
       "\\item 'Geometridae'\n",
       "\\item 'Hyblaeidae'\n",
       "\\item 'Apidae'\n",
       "\\item 'Brahmaeidae'\n",
       "\\item 'Lasiocampidae'\n",
       "\\item 'Lycaenidae'\n",
       "\\item 'Papilionidae'\n",
       "\\item 'Noctuidae'\n",
       "\\item 'Sphingidae'\n",
       "\\item 'Nolidae'\n",
       "\\item 'Crambidae'\n",
       "\\item 'Syrphidae'\n",
       "\\item 'Pediculidae'\n",
       "\\item 'Thripidae'\n",
       "\\item 'Aleyrodidae'\n",
       "\\item 'Trigonidiidae'\n",
       "\\item 'Blastobasidae'\n",
       "\\item 'Pieridae'\n",
       "\\item 'Ceratopogonidae'\n",
       "\\item 'Ichneumonidae'\n",
       "\\item 'Vespidae'\n",
       "\\item 'Acrididae'\n",
       "\\item 'Hippoboscidae'\n",
       "\\item 'Sarcophagidae'\n",
       "\\item 'Chlorocyphidae'\n",
       "\\item 'Tettigoniidae'\n",
       "\\item 'Gomphidae'\n",
       "\\item 'Oecophoridae'\n",
       "\\item 'Cecidomyiidae'\n",
       "\\item 'Proctophyllodidae'\n",
       "\\item 'Staphylinidae'\n",
       "\\item 'Coenagrionidae'\n",
       "\\item 'Phlaeothripidae'\n",
       "\\item 'Termitidae'\n",
       "\\item 'Veliidae'\n",
       "\\item 'Nepidae'\n",
       "\\item 'Pterophoridae'\n",
       "\\item 'Tineidae'\n",
       "\\item 'Simuliidae'\n",
       "\\item 'Eriocottidae'\n",
       "\\item 'Euteliidae'\n",
       "\\item 'Asilidae'\n",
       "\\item 'Megachilidae'\n",
       "\\item 'Ixodidae'\n",
       "\\item 'Platygastridae'\n",
       "\\item 'Opostegidae'\n",
       "\\item 'Corixidae'\n",
       "\\item 'Choreutidae'\n",
       "\\item 'Argyresthiidae'\n",
       "\\item 'Libellulidae'\n",
       "\\item 'Dipseudopsidae'\n",
       "\\item 'Melittidae'\n",
       "\\item 'Eupterotidae'\n",
       "\\item 'Limacodidae'\n",
       "\\item 'Protoneuridae'\n",
       "\\item 'Alucitidae'\n",
       "\\item 'Cosmopterigidae'\n",
       "\\item 'Stathmopodidae'\n",
       "\\item 'Rhyacophilidae'\n",
       "\\item 'Glossinidae'\n",
       "\\item 'Nepticulidae'\n",
       "\\item 'Odonata\\_incertae\\_sedis'\n",
       "\\item 'Tachinidae'\n",
       "\\item 'Immidae'\n",
       "\\item 'Plutellidae'\n",
       "\\item 'Heptageniidae'\n",
       "\\item 'Cossidae'\n",
       "\\item 'Calamoceratidae'\n",
       "\\item 'Sesarmidae'\n",
       "\\item 'Platycnemididae'\n",
       "\\item 'Heliodinidae'\n",
       "\\item 'Dytiscidae'\n",
       "\\item 'Gyrinidae'\n",
       "\\item 'Hydrophilidae'\n",
       "\\item 'Perlidae'\n",
       "\\item 'Epipyropidae'\n",
       "\\item 'Bombycidae'\n",
       "\\item 'Ciidae'\n",
       "\\item 'Cerambycidae'\n",
       "\\item 'Diopsidae'\n",
       "\\item 'Tenebrionidae'\n",
       "\\item 'Ectobiidae'\n",
       "\\item 'Lycosidae'\n",
       "\\item 'Cicadellidae'\n",
       "\\item 'Caliscelidae'\n",
       "\\item 'Flatidae'\n",
       "\\item 'Mantidae'\n",
       "\\item 'Notodontidae'\n",
       "\\item 'Copromorphidae'\n",
       "\\item 'Pholcidae'\n",
       "\\item 'Drosophilidae'\n",
       "\\item 'Gryllidae'\n",
       "\\item 'Tetranychidae'\n",
       "\\item 'Daphniidae'\n",
       "\\item 'Theridiidae'\n",
       "\\item 'Sciaridae'\n",
       "\\item 'Figitidae'\n",
       "\\item 'Cyprididae'\n",
       "\\item 'Megastigmidaae'\n",
       "\\item 'Scelionidae'\n",
       "\\item 'Stratiomyidae'\n",
       "\\item 'Aeshnidae'\n",
       "\\item 'Platypezidae'\n",
       "\\item 'Blattidae'\n",
       "\\item 'Aphididae'\n",
       "\\item 'Ctenidae'\n",
       "\\item 'Argasidae'\n",
       "\\item 'Phrynichidae'\n",
       "\\item 'Phyxelididae'\n",
       "\\item 'Pteronyssidae'\n",
       "\\item 'Trouessartiidae'\n",
       "\\item 'Analgidae'\n",
       "\\item 'Gerridae'\n",
       "\\item 'Thyrididae'\n",
       "\\item 'Scorpionidae'\n",
       "\\item 'Evaniidae'\n",
       "\\item 'Trichogrammatidae'\n",
       "\\item 'Agaonidae'\n",
       "\\item 'Muscidae'\n",
       "\\item 'Ocypodidae'\n",
       "\\item 'Praydidae'\n",
       "\\item 'Leptophlebiidae'\n",
       "\\item 'Elachistidae'\n",
       "\\item 'Theraphosidae'\n",
       "\\item 'Anthribidae'\n",
       "\\item 'Scoliidae'\n",
       "\\item 'Lyonetiidae'\n",
       "\\item 'Dryophthoridae'\n",
       "\\item 'Lecithoceridae'\n",
       "\\item 'Uraniidae'\n",
       "\\item 'Rhiniidae'\n",
       "\\item 'Mydidae'\n",
       "\\item 'Pisuliidae'\n",
       "\\item 'Agromyzidae'\n",
       "\\item 'Crabronidae'\n",
       "\\end{enumerate*}\n"
      ],
      "text/markdown": [
       "1. 'Hesperiidae'\n",
       "2. 'Nymphalidae'\n",
       "3. NA\n",
       "4. 'Culicidae'\n",
       "5. 'Sesiidae'\n",
       "6. 'Gelechiidae'\n",
       "7. 'Carposinidae'\n",
       "8. 'Yponomeutidae'\n",
       "9. 'Tortricidae'\n",
       "10. 'Formicidae'\n",
       "11. 'Epermeniidae'\n",
       "12. 'Erebidae'\n",
       "13. 'Chironomidae'\n",
       "14. 'Tephritidae'\n",
       "15. 'Caenidae'\n",
       "16. 'Baetidae'\n",
       "17. 'Lepidostomatidae'\n",
       "18. 'Leptoceridae'\n",
       "19. 'Hydropsychidae'\n",
       "20. 'Braconidae'\n",
       "21. 'Aradidae'\n",
       "22. 'Lepidoptera_incertae_sedis'\n",
       "23. 'Scythrididae'\n",
       "24. 'Pyralidae'\n",
       "25. 'Saturniidae'\n",
       "26. 'Curculionidae'\n",
       "27. 'Carabidae'\n",
       "28. 'Halictidae'\n",
       "29. 'Calliphoridae'\n",
       "30. 'Gracillariidae'\n",
       "31. 'Geometridae'\n",
       "32. 'Hyblaeidae'\n",
       "33. 'Apidae'\n",
       "34. 'Brahmaeidae'\n",
       "35. 'Lasiocampidae'\n",
       "36. 'Lycaenidae'\n",
       "37. 'Papilionidae'\n",
       "38. 'Noctuidae'\n",
       "39. 'Sphingidae'\n",
       "40. 'Nolidae'\n",
       "41. 'Crambidae'\n",
       "42. 'Syrphidae'\n",
       "43. 'Pediculidae'\n",
       "44. 'Thripidae'\n",
       "45. 'Aleyrodidae'\n",
       "46. 'Trigonidiidae'\n",
       "47. 'Blastobasidae'\n",
       "48. 'Pieridae'\n",
       "49. 'Ceratopogonidae'\n",
       "50. 'Ichneumonidae'\n",
       "51. 'Vespidae'\n",
       "52. 'Acrididae'\n",
       "53. 'Hippoboscidae'\n",
       "54. 'Sarcophagidae'\n",
       "55. 'Chlorocyphidae'\n",
       "56. 'Tettigoniidae'\n",
       "57. 'Gomphidae'\n",
       "58. 'Oecophoridae'\n",
       "59. 'Cecidomyiidae'\n",
       "60. 'Proctophyllodidae'\n",
       "61. 'Staphylinidae'\n",
       "62. 'Coenagrionidae'\n",
       "63. 'Phlaeothripidae'\n",
       "64. 'Termitidae'\n",
       "65. 'Veliidae'\n",
       "66. 'Nepidae'\n",
       "67. 'Pterophoridae'\n",
       "68. 'Tineidae'\n",
       "69. 'Simuliidae'\n",
       "70. 'Eriocottidae'\n",
       "71. 'Euteliidae'\n",
       "72. 'Asilidae'\n",
       "73. 'Megachilidae'\n",
       "74. 'Ixodidae'\n",
       "75. 'Platygastridae'\n",
       "76. 'Opostegidae'\n",
       "77. 'Corixidae'\n",
       "78. 'Choreutidae'\n",
       "79. 'Argyresthiidae'\n",
       "80. 'Libellulidae'\n",
       "81. 'Dipseudopsidae'\n",
       "82. 'Melittidae'\n",
       "83. 'Eupterotidae'\n",
       "84. 'Limacodidae'\n",
       "85. 'Protoneuridae'\n",
       "86. 'Alucitidae'\n",
       "87. 'Cosmopterigidae'\n",
       "88. 'Stathmopodidae'\n",
       "89. 'Rhyacophilidae'\n",
       "90. 'Glossinidae'\n",
       "91. 'Nepticulidae'\n",
       "92. 'Odonata_incertae_sedis'\n",
       "93. 'Tachinidae'\n",
       "94. 'Immidae'\n",
       "95. 'Plutellidae'\n",
       "96. 'Heptageniidae'\n",
       "97. 'Cossidae'\n",
       "98. 'Calamoceratidae'\n",
       "99. 'Sesarmidae'\n",
       "100. 'Platycnemididae'\n",
       "101. 'Heliodinidae'\n",
       "102. 'Dytiscidae'\n",
       "103. 'Gyrinidae'\n",
       "104. 'Hydrophilidae'\n",
       "105. 'Perlidae'\n",
       "106. 'Epipyropidae'\n",
       "107. 'Bombycidae'\n",
       "108. 'Ciidae'\n",
       "109. 'Cerambycidae'\n",
       "110. 'Diopsidae'\n",
       "111. 'Tenebrionidae'\n",
       "112. 'Ectobiidae'\n",
       "113. 'Lycosidae'\n",
       "114. 'Cicadellidae'\n",
       "115. 'Caliscelidae'\n",
       "116. 'Flatidae'\n",
       "117. 'Mantidae'\n",
       "118. 'Notodontidae'\n",
       "119. 'Copromorphidae'\n",
       "120. 'Pholcidae'\n",
       "121. 'Drosophilidae'\n",
       "122. 'Gryllidae'\n",
       "123. 'Tetranychidae'\n",
       "124. 'Daphniidae'\n",
       "125. 'Theridiidae'\n",
       "126. 'Sciaridae'\n",
       "127. 'Figitidae'\n",
       "128. 'Cyprididae'\n",
       "129. 'Megastigmidaae'\n",
       "130. 'Scelionidae'\n",
       "131. 'Stratiomyidae'\n",
       "132. 'Aeshnidae'\n",
       "133. 'Platypezidae'\n",
       "134. 'Blattidae'\n",
       "135. 'Aphididae'\n",
       "136. 'Ctenidae'\n",
       "137. 'Argasidae'\n",
       "138. 'Phrynichidae'\n",
       "139. 'Phyxelididae'\n",
       "140. 'Pteronyssidae'\n",
       "141. 'Trouessartiidae'\n",
       "142. 'Analgidae'\n",
       "143. 'Gerridae'\n",
       "144. 'Thyrididae'\n",
       "145. 'Scorpionidae'\n",
       "146. 'Evaniidae'\n",
       "147. 'Trichogrammatidae'\n",
       "148. 'Agaonidae'\n",
       "149. 'Muscidae'\n",
       "150. 'Ocypodidae'\n",
       "151. 'Praydidae'\n",
       "152. 'Leptophlebiidae'\n",
       "153. 'Elachistidae'\n",
       "154. 'Theraphosidae'\n",
       "155. 'Anthribidae'\n",
       "156. 'Scoliidae'\n",
       "157. 'Lyonetiidae'\n",
       "158. 'Dryophthoridae'\n",
       "159. 'Lecithoceridae'\n",
       "160. 'Uraniidae'\n",
       "161. 'Rhiniidae'\n",
       "162. 'Mydidae'\n",
       "163. 'Pisuliidae'\n",
       "164. 'Agromyzidae'\n",
       "165. 'Crabronidae'\n",
       "\n",
       "\n"
      ],
      "text/plain": [
       "  [1] \"Hesperiidae\"                \"Nymphalidae\"               \n",
       "  [3] NA                           \"Culicidae\"                 \n",
       "  [5] \"Sesiidae\"                   \"Gelechiidae\"               \n",
       "  [7] \"Carposinidae\"               \"Yponomeutidae\"             \n",
       "  [9] \"Tortricidae\"                \"Formicidae\"                \n",
       " [11] \"Epermeniidae\"               \"Erebidae\"                  \n",
       " [13] \"Chironomidae\"               \"Tephritidae\"               \n",
       " [15] \"Caenidae\"                   \"Baetidae\"                  \n",
       " [17] \"Lepidostomatidae\"           \"Leptoceridae\"              \n",
       " [19] \"Hydropsychidae\"             \"Braconidae\"                \n",
       " [21] \"Aradidae\"                   \"Lepidoptera_incertae_sedis\"\n",
       " [23] \"Scythrididae\"               \"Pyralidae\"                 \n",
       " [25] \"Saturniidae\"                \"Curculionidae\"             \n",
       " [27] \"Carabidae\"                  \"Halictidae\"                \n",
       " [29] \"Calliphoridae\"              \"Gracillariidae\"            \n",
       " [31] \"Geometridae\"                \"Hyblaeidae\"                \n",
       " [33] \"Apidae\"                     \"Brahmaeidae\"               \n",
       " [35] \"Lasiocampidae\"              \"Lycaenidae\"                \n",
       " [37] \"Papilionidae\"               \"Noctuidae\"                 \n",
       " [39] \"Sphingidae\"                 \"Nolidae\"                   \n",
       " [41] \"Crambidae\"                  \"Syrphidae\"                 \n",
       " [43] \"Pediculidae\"                \"Thripidae\"                 \n",
       " [45] \"Aleyrodidae\"                \"Trigonidiidae\"             \n",
       " [47] \"Blastobasidae\"              \"Pieridae\"                  \n",
       " [49] \"Ceratopogonidae\"            \"Ichneumonidae\"             \n",
       " [51] \"Vespidae\"                   \"Acrididae\"                 \n",
       " [53] \"Hippoboscidae\"              \"Sarcophagidae\"             \n",
       " [55] \"Chlorocyphidae\"             \"Tettigoniidae\"             \n",
       " [57] \"Gomphidae\"                  \"Oecophoridae\"              \n",
       " [59] \"Cecidomyiidae\"              \"Proctophyllodidae\"         \n",
       " [61] \"Staphylinidae\"              \"Coenagrionidae\"            \n",
       " [63] \"Phlaeothripidae\"            \"Termitidae\"                \n",
       " [65] \"Veliidae\"                   \"Nepidae\"                   \n",
       " [67] \"Pterophoridae\"              \"Tineidae\"                  \n",
       " [69] \"Simuliidae\"                 \"Eriocottidae\"              \n",
       " [71] \"Euteliidae\"                 \"Asilidae\"                  \n",
       " [73] \"Megachilidae\"               \"Ixodidae\"                  \n",
       " [75] \"Platygastridae\"             \"Opostegidae\"               \n",
       " [77] \"Corixidae\"                  \"Choreutidae\"               \n",
       " [79] \"Argyresthiidae\"             \"Libellulidae\"              \n",
       " [81] \"Dipseudopsidae\"             \"Melittidae\"                \n",
       " [83] \"Eupterotidae\"               \"Limacodidae\"               \n",
       " [85] \"Protoneuridae\"              \"Alucitidae\"                \n",
       " [87] \"Cosmopterigidae\"            \"Stathmopodidae\"            \n",
       " [89] \"Rhyacophilidae\"             \"Glossinidae\"               \n",
       " [91] \"Nepticulidae\"               \"Odonata_incertae_sedis\"    \n",
       " [93] \"Tachinidae\"                 \"Immidae\"                   \n",
       " [95] \"Plutellidae\"                \"Heptageniidae\"             \n",
       " [97] \"Cossidae\"                   \"Calamoceratidae\"           \n",
       " [99] \"Sesarmidae\"                 \"Platycnemididae\"           \n",
       "[101] \"Heliodinidae\"               \"Dytiscidae\"                \n",
       "[103] \"Gyrinidae\"                  \"Hydrophilidae\"             \n",
       "[105] \"Perlidae\"                   \"Epipyropidae\"              \n",
       "[107] \"Bombycidae\"                 \"Ciidae\"                    \n",
       "[109] \"Cerambycidae\"               \"Diopsidae\"                 \n",
       "[111] \"Tenebrionidae\"              \"Ectobiidae\"                \n",
       "[113] \"Lycosidae\"                  \"Cicadellidae\"              \n",
       "[115] \"Caliscelidae\"               \"Flatidae\"                  \n",
       "[117] \"Mantidae\"                   \"Notodontidae\"              \n",
       "[119] \"Copromorphidae\"             \"Pholcidae\"                 \n",
       "[121] \"Drosophilidae\"              \"Gryllidae\"                 \n",
       "[123] \"Tetranychidae\"              \"Daphniidae\"                \n",
       "[125] \"Theridiidae\"                \"Sciaridae\"                 \n",
       "[127] \"Figitidae\"                  \"Cyprididae\"                \n",
       "[129] \"Megastigmidaae\"             \"Scelionidae\"               \n",
       "[131] \"Stratiomyidae\"              \"Aeshnidae\"                 \n",
       "[133] \"Platypezidae\"               \"Blattidae\"                 \n",
       "[135] \"Aphididae\"                  \"Ctenidae\"                  \n",
       "[137] \"Argasidae\"                  \"Phrynichidae\"              \n",
       "[139] \"Phyxelididae\"               \"Pteronyssidae\"             \n",
       "[141] \"Trouessartiidae\"            \"Analgidae\"                 \n",
       "[143] \"Gerridae\"                   \"Thyrididae\"                \n",
       "[145] \"Scorpionidae\"               \"Evaniidae\"                 \n",
       "[147] \"Trichogrammatidae\"          \"Agaonidae\"                 \n",
       "[149] \"Muscidae\"                   \"Ocypodidae\"                \n",
       "[151] \"Praydidae\"                  \"Leptophlebiidae\"           \n",
       "[153] \"Elachistidae\"               \"Theraphosidae\"             \n",
       "[155] \"Anthribidae\"                \"Scoliidae\"                 \n",
       "[157] \"Lyonetiidae\"                \"Dryophthoridae\"            \n",
       "[159] \"Lecithoceridae\"             \"Uraniidae\"                 \n",
       "[161] \"Rhiniidae\"                  \"Mydidae\"                   \n",
       "[163] \"Pisuliidae\"                 \"Agromyzidae\"               \n",
       "[165] \"Crabronidae\"               "
      ]
     },
     "metadata": {},
     "output_type": "display_data"
    }
   ],
   "source": [
    "unique(bold_dataframe$family_name)"
   ]
  },
  {
   "cell_type": "markdown",
   "metadata": {},
   "source": [
    "Identify the container projects from which the data sets come from. Try using the **copyright\\***"
   ]
  },
  {
   "cell_type": "code",
   "execution_count": 9,
   "metadata": {},
   "outputs": [],
   "source": [
    "#cat(bold_dataframe$copyright_institution) #output a list with so many missing values, **NOT IDEAL** for use."
   ]
  },
  {
   "cell_type": "code",
   "execution_count": 10,
   "metadata": {},
   "outputs": [],
   "source": [
    "#cat(bold_dataframe$copyright_holders) #output with so many missing values \"NA\""
   ]
  },
  {
   "cell_type": "code",
   "execution_count": 11,
   "metadata": {},
   "outputs": [],
   "source": [
    "#unique(bold_dataframe$copyright_holders)%>% sort() #No fitting field that can be used to determine the container project.\n",
    "#Does not deter our work."
   ]
  },
  {
   "cell_type": "markdown",
   "metadata": {},
   "source": [
    "**Taking a look at the markercode field.**"
   ]
  },
  {
   "cell_type": "code",
   "execution_count": 12,
   "metadata": {},
   "outputs": [
    {
     "data": {
      "text/html": [
       "<ol class=list-inline>\n",
       "\t<li>'COI-5P'</li>\n",
       "\t<li>NA</li>\n",
       "\t<li>'28S'</li>\n",
       "\t<li>'ITS2'</li>\n",
       "\t<li>'EF1-alpha'</li>\n",
       "\t<li>'COI-3P'</li>\n",
       "\t<li>'16S'</li>\n",
       "\t<li>'28S-D2'</li>\n",
       "\t<li>'COI-LIKE'</li>\n",
       "\t<li>'CYTB'</li>\n",
       "\t<li>'12S'</li>\n",
       "\t<li>'COII'</li>\n",
       "\t<li>'28S-D2-D3'</li>\n",
       "\t<li>'CAD'</li>\n",
       "\t<li>'PGD'</li>\n",
       "\t<li>'TPI'</li>\n",
       "\t<li>'AATS'</li>\n",
       "\t<li>'18S'</li>\n",
       "\t<li>'Wnt1'</li>\n",
       "</ol>\n"
      ],
      "text/latex": [
       "\\begin{enumerate*}\n",
       "\\item 'COI-5P'\n",
       "\\item NA\n",
       "\\item '28S'\n",
       "\\item 'ITS2'\n",
       "\\item 'EF1-alpha'\n",
       "\\item 'COI-3P'\n",
       "\\item '16S'\n",
       "\\item '28S-D2'\n",
       "\\item 'COI-LIKE'\n",
       "\\item 'CYTB'\n",
       "\\item '12S'\n",
       "\\item 'COII'\n",
       "\\item '28S-D2-D3'\n",
       "\\item 'CAD'\n",
       "\\item 'PGD'\n",
       "\\item 'TPI'\n",
       "\\item 'AATS'\n",
       "\\item '18S'\n",
       "\\item 'Wnt1'\n",
       "\\end{enumerate*}\n"
      ],
      "text/markdown": [
       "1. 'COI-5P'\n",
       "2. NA\n",
       "3. '28S'\n",
       "4. 'ITS2'\n",
       "5. 'EF1-alpha'\n",
       "6. 'COI-3P'\n",
       "7. '16S'\n",
       "8. '28S-D2'\n",
       "9. 'COI-LIKE'\n",
       "10. 'CYTB'\n",
       "11. '12S'\n",
       "12. 'COII'\n",
       "13. '28S-D2-D3'\n",
       "14. 'CAD'\n",
       "15. 'PGD'\n",
       "16. 'TPI'\n",
       "17. 'AATS'\n",
       "18. '18S'\n",
       "19. 'Wnt1'\n",
       "\n",
       "\n"
      ],
      "text/plain": [
       " [1] \"COI-5P\"    NA          \"28S\"       \"ITS2\"      \"EF1-alpha\" \"COI-3P\"   \n",
       " [7] \"16S\"       \"28S-D2\"    \"COI-LIKE\"  \"CYTB\"      \"12S\"       \"COII\"     \n",
       "[13] \"28S-D2-D3\" \"CAD\"       \"PGD\"       \"TPI\"       \"AATS\"      \"18S\"      \n",
       "[19] \"Wnt1\"     "
      ]
     },
     "metadata": {},
     "output_type": "display_data"
    }
   ],
   "source": [
    "unique(bold_dataframe$markercode) # filtering rows corresponding to COI-5P markers"
   ]
  },
  {
   "cell_type": "markdown",
   "metadata": {},
   "source": [
    "**Cleaning up the dataset to remain only with COI-5P sequences**"
   ]
  },
  {
   "cell_type": "code",
   "execution_count": 13,
   "metadata": {},
   "outputs": [],
   "source": [
    "#Removing sequences from other markers besides COI-5P\n",
    "COI_data = subset(bold_dataframe, markercode == \"COI-5P\" & !is.na(nucleotides))"
   ]
  },
  {
   "cell_type": "code",
   "execution_count": 14,
   "metadata": {},
   "outputs": [
    {
     "name": "stdout",
     "output_type": "stream",
     "text": [
      "COI-5P marker sequences are  35990  out of  37257 sequences in the raw bold data"
     ]
    }
   ],
   "source": [
    "#comparing the number of records before and after removing other markers.\n",
    "cat(\"COI-5P marker sequences are \",nrow(COI_data),\" out of \", nrow(bold_dataframe), \"sequences in the raw bold data\")"
   ]
  },
  {
   "cell_type": "code",
   "execution_count": 15,
   "metadata": {},
   "outputs": [],
   "source": [
    "#Introducing a field \"seqlen1\" that has the number of nucleotides in the COI-5P\n",
    "COI_data %>% mutate(seqlen1 = nchar(nucleotides)) -> resulting_dataframe1 ## \"\"%>%\"\" is same as pipe \"|\" in bash"
   ]
  },
  {
   "cell_type": "code",
   "execution_count": 16,
   "metadata": {},
   "outputs": [
    {
     "data": {
      "text/html": [
       "<ol class=list-inline>\n",
       "\t<li>'T'</li>\n",
       "\t<li>'A'</li>\n",
       "\t<li>'C'</li>\n",
       "\t<li>'G'</li>\n",
       "\t<li>'-'</li>\n",
       "\t<li>'N'</li>\n",
       "\t<li>'Y'</li>\n",
       "\t<li>'M'</li>\n",
       "\t<li>'W'</li>\n",
       "\t<li>'K'</li>\n",
       "\t<li>'S'</li>\n",
       "\t<li>'V'</li>\n",
       "\t<li>'R'</li>\n",
       "\t<li>'B'</li>\n",
       "\t<li>'H'</li>\n",
       "</ol>\n"
      ],
      "text/latex": [
       "\\begin{enumerate*}\n",
       "\\item 'T'\n",
       "\\item 'A'\n",
       "\\item 'C'\n",
       "\\item 'G'\n",
       "\\item '-'\n",
       "\\item 'N'\n",
       "\\item 'Y'\n",
       "\\item 'M'\n",
       "\\item 'W'\n",
       "\\item 'K'\n",
       "\\item 'S'\n",
       "\\item 'V'\n",
       "\\item 'R'\n",
       "\\item 'B'\n",
       "\\item 'H'\n",
       "\\end{enumerate*}\n"
      ],
      "text/markdown": [
       "1. 'T'\n",
       "2. 'A'\n",
       "3. 'C'\n",
       "4. 'G'\n",
       "5. '-'\n",
       "6. 'N'\n",
       "7. 'Y'\n",
       "8. 'M'\n",
       "9. 'W'\n",
       "10. 'K'\n",
       "11. 'S'\n",
       "12. 'V'\n",
       "13. 'R'\n",
       "14. 'B'\n",
       "15. 'H'\n",
       "\n",
       "\n"
      ],
      "text/plain": [
       " [1] \"T\" \"A\" \"C\" \"G\" \"-\" \"N\" \"Y\" \"M\" \"W\" \"K\" \"S\" \"V\" \"R\" \"B\" \"H\""
      ]
     },
     "metadata": {},
     "output_type": "display_data"
    }
   ],
   "source": [
    "#list all characters present in the nucleotide sequences\n",
    "unique(unlist(strsplit(COI_data$nucleotides, \"\", fixed = TRUE)), incomparables = FALSE)"
   ]
  },
  {
   "cell_type": "code",
   "execution_count": 17,
   "metadata": {},
   "outputs": [
    {
     "data": {
      "text/html": [
       "12033"
      ],
      "text/latex": [
       "12033"
      ],
      "text/markdown": [
       "12033"
      ],
      "text/plain": [
       "[1] 12033"
      ]
     },
     "metadata": {},
     "output_type": "display_data"
    }
   ],
   "source": [
    "#Number of nucleotide sequences with '-' characters* in them\n",
    "length(grep( '-',resulting_dataframe1$nucleotides, value= TRUE))"
   ]
  },
  {
   "cell_type": "code",
   "execution_count": 18,
   "metadata": {},
   "outputs": [],
   "source": [
    "#REMOVING '-'characters from nucleotide sequences and creating a field of unalinged nucleotide sequences (unalined_nucleotides)\n",
    "resulting_dataframe1 %>% mutate(unaligned_nucleotides = gsub('-', '', resulting_dataframe1$nucleotides, ignore.case = FALSE, perl = FALSE,\n",
    "     fixed = FALSE, useBytes = FALSE)) -> resulting_dataframe2"
   ]
  },
  {
   "cell_type": "code",
   "execution_count": 19,
   "metadata": {},
   "outputs": [
    {
     "data": {
      "text/html": [
       "0"
      ],
      "text/latex": [
       "0"
      ],
      "text/markdown": [
       "0"
      ],
      "text/plain": [
       "[1] 0"
      ]
     },
     "metadata": {},
     "output_type": "display_data"
    }
   ],
   "source": [
    "#Number of nucleotide sequences with '-' characters* in them after removal\n",
    "length(grep( '-',resulting_dataframe2$unaligned_nucleotides, value= TRUE))"
   ]
  },
  {
   "cell_type": "code",
   "execution_count": 20,
   "metadata": {},
   "outputs": [],
   "source": [
    "#Introducing a field seqlen2 with number nucleotides in unaligned_nucleotides field.\n",
    "resulting_dataframe2 %>% mutate(seqlen2 = nchar(unaligned_nucleotides)) -> resulting_dataframe3"
   ]
  },
  {
   "cell_type": "code",
   "execution_count": 21,
   "metadata": {},
   "outputs": [
    {
     "name": "stdout",
     "output_type": "stream",
     "text": [
      "'data.frame':\t35990 obs. of  83 variables:\n",
      " $ processid                 : chr  \"ACML112-11\" \"ACML244-11\" \"ACML424-12\" \"ACRJP018-09\" ...\n",
      " $ sampleid                  : chr  \"MLIB-0265\" \"MLIB-0407\" \"MLIB-0635\" \"BC-MNHNJP0300\" ...\n",
      " $ recordID                  : int  1808909 1809041 2422653 1134339 1134380 1608613 1608655 1608701 1608841 2376257 ...\n",
      " $ catalognum                : chr  NA NA NA NA ...\n",
      " $ fieldnum                  : chr  \"MLIB-0265\" \"MLIB-0407\" \"MLIB-0635\" \"BC-MNHNJP0300\" ...\n",
      " $ institution_storing       : chr  \"African Butterfly Research Centre\" \"African Butterfly Research Centre\" \"African Butterfly Research Centre\" \"Research Collection of Dominique Bernaud\" ...\n",
      " $ collection_code           : logi  NA NA NA NA NA NA ...\n",
      " $ bin_uri                   : chr  \"BOLD:AAQ3949\" \"BOLD:ACE5474\" \"BOLD:ACF4534\" \"BOLD:AAC6676\" ...\n",
      " $ phylum_taxID              : int  20 20 20 20 20 20 20 20 20 20 ...\n",
      " $ phylum_name               : chr  \"Arthropoda\" \"Arthropoda\" \"Arthropoda\" \"Arthropoda\" ...\n",
      " $ class_taxID               : int  82 82 82 82 82 82 82 82 82 82 ...\n",
      " $ class_name                : chr  \"Insecta\" \"Insecta\" \"Insecta\" \"Insecta\" ...\n",
      " $ order_taxID               : int  113 113 113 113 113 113 113 113 113 113 ...\n",
      " $ order_name                : chr  \"Lepidoptera\" \"Lepidoptera\" \"Lepidoptera\" \"Lepidoptera\" ...\n",
      " $ family_taxID              : int  675 675 675 723 723 NA NA NA NA NA ...\n",
      " $ family_name               : chr  \"Hesperiidae\" \"Hesperiidae\" \"Hesperiidae\" \"Nymphalidae\" ...\n",
      " $ subfamily_taxID           : int  2886 2886 2886 3591 3591 NA NA NA NA NA ...\n",
      " $ subfamily_name            : chr  \"Pyrginae\" \"Pyrginae\" \"Pyrginae\" \"Heliconiinae\" ...\n",
      " $ genus_taxID               : int  6735 673227 6735 7130 7130 NA NA NA NA NA ...\n",
      " $ genus_name                : chr  \"Celaenorrhinus\" \"Apallaga\" \"Celaenorrhinus\" \"Acraea\" ...\n",
      " $ species_taxID             : int  348647 673297 327899 453904 214330 NA NA NA NA NA ...\n",
      " $ species_name              : chr  \"Celaenorrhinus dargei\" \"Apallaga rwandae\" \"Celaenorrhinus zanqua\" \"Acraea paragea\" ...\n",
      " $ subspecies_taxID          : int  673307 NA 673320 NA NA NA NA NA NA NA ...\n",
      " $ subspecies_name           : chr  \"Celaenorrhinus dargei peteri\" NA \"Celaenorrhinus zanqua uzungwae\" NA ...\n",
      " $ identification_provided_by: chr  \"Michel Libert\" \"Michel Libert\" \"Michel Libert\" \"Bernaud Dominique\" ...\n",
      " $ identification_method     : chr  NA NA NA NA ...\n",
      " $ identification_reference  : chr  NA NA NA NA ...\n",
      " $ tax_note                  : logi  NA NA NA NA NA NA ...\n",
      " $ voucher_status            : chr  NA NA NA NA ...\n",
      " $ tissue_type               : chr  NA NA NA NA ...\n",
      " $ collection_event_id       : logi  NA NA NA NA NA NA ...\n",
      " $ collectors                : chr  \"ABRI coll.\" \"ABRI coll.\" \"ABRI coll.\" \"JP Lequeux\" ...\n",
      " $ collectiondate_start      : logi  NA NA NA NA NA NA ...\n",
      " $ collectiondate_end        : logi  NA NA NA NA NA NA ...\n",
      " $ collectiontime            : chr  NA NA NA NA ...\n",
      " $ collection_note           : chr  NA NA NA NA ...\n",
      " $ site_code                 : chr  NA NA NA NA ...\n",
      " $ sampling_protocol         : chr  NA NA NA NA ...\n",
      " $ lifestage                 : chr  \"a\" \"a\" \"a\" \"A\" ...\n",
      " $ sex                       : chr  \"M\" \"M\" \"M\" \"F\" ...\n",
      " $ reproduction              : chr  \"S\" \"S\" \"S\" \"S\" ...\n",
      " $ habitat                   : chr  NA NA NA NA ...\n",
      " $ associated_specimens      : chr  NA NA NA NA ...\n",
      " $ associated_taxa           : chr  NA NA NA NA ...\n",
      " $ extrainfo                 : chr  \"Holotype\" NA \"Holotype\" NA ...\n",
      " $ notes                     : chr  \"genitalia Libert 110-146\" NA NA NA ...\n",
      " $ lat                       : num  -2.55 -2.55 -8.6 -0.5 NA NA NA NA NA -2.5 ...\n",
      " $ lon                       : num  29 29 35.3 32.5 NA ...\n",
      " $ coord_source              : chr  NA NA NA NA ...\n",
      " $ coord_accuracy            : num  NA NA NA NA NA NA NA NA NA NA ...\n",
      " $ elev                      : num  2000 2000 1880 NA NA NA NA NA NA NA ...\n",
      " $ depth                     : logi  NA NA NA NA NA NA ...\n",
      " $ elev_accuracy             : num  NA NA NA NA NA NA NA NA NA NA ...\n",
      " $ depth_accuracy            : logi  NA NA NA NA NA NA ...\n",
      " $ country                   : chr  \"Rwanda\" \"Rwanda\" \"Tanzania\" \"Uganda\" ...\n",
      " $ province_state            : chr  NA NA NA NA ...\n",
      " $ region                    : chr  NA NA NA NA ...\n",
      " $ sector                    : chr  NA NA NA NA ...\n",
      " $ exactsite                 : chr  \"Cyamudongo for.\" \"Cyamudongo for.\" \"Mufindi\" \"Bugalla - Ssese\" ...\n",
      " $ image_ids                 : chr  \"1010172\" \"1010305\" \"1522762\" NA ...\n",
      " $ image_urls                : chr  \"http://www.boldsystems.org/pics/ACML/MLIB-0265+1293038818.jpeg\" \"http://www.boldsystems.org/pics/ACML/MLIB-0407+1293386508.jpeg\" \"http://www.boldsystems.org/pics/ACML/MLIB-0635+1324581528.jpeg\" NA ...\n",
      " $ media_descriptors         : chr  \"Dorsal\" \"Dorsal\" \"Dorsal\" NA ...\n",
      " $ captions                  : chr  \"adult\" \"adult\" \"adult\" NA ...\n",
      " $ copyright_holders         : chr  \"Michel Libert\" \"Michel Libert\" \"Michel Libert\" NA ...\n",
      " $ copyright_years           : chr  \"2010\" \"2010\" \"2012\" NA ...\n",
      " $ copyright_licenses        : chr  \"CreativeCommons - Attribution Non-Commercial No Derivatives\" \"CreativeCommons - Attribution Non-Commercial No Derivatives\" \"CreativeCommons - Attribution Non-Commercial Share-Alike\" NA ...\n",
      " $ copyright_institutions    : chr  \"Centre for Biodiversity Genomics\" \"Centre for Biodiversity Genomics\" \"Research Collection of Michel Libert\" NA ...\n",
      " $ photographers             : chr  \"Michel Libert\" \"Michel Libert\" \"Michel Libert\" NA ...\n",
      " $ sequenceID                : int  3896670 3877171 4380372 3433339 3328736 3696640 3696693 3701232 4100973 4364680 ...\n",
      " $ markercode                : chr  \"COI-5P\" \"COI-5P\" \"COI-5P\" \"COI-5P\" ...\n",
      " $ genbank_accession         : chr  \"JN277531\" \"JF840200\" \"KP149907\" \"HQ546419\" ...\n",
      " $ nucleotides               : chr  \"TACTTTATATTTTATTTTTGGAATTTGAGCAGGTATAGTAGGAACATCTTTAAGAATATTAATTCGAACTGAATTAGGTAATCCAGGATCTTTAATTGGAGATGATCAAAT\"| __truncated__ \"-----------------------------------------------------------------------------------------CATTAATTGGTGATGATCAAAT\"| __truncated__ \"TACTTTATATTTTATTTTTGGAATTTGAGCAGGTATAGTAGGAACATCTTTAAGATTATTAATTCGAACTGAATTAGGTAATCCAGGATCATTAATTGGTGATGATCAAAT\"| __truncated__ \"AACTTTATACTTTATTTTTGGAATTTGATCAGGATTAATTGGAACCTCTCTAAGTCTTTTAATTCGAGTAGAACTAAGTAATCCAGGATCCTTTATTAATGATGATCAAAT\"| __truncated__ ...\n",
      " $ trace_ids                 : chr  \"2874360|2874395\" \"2829795|2829849\" \"3831383|3831478\" \"1785144|1785171|1785198|1785226\" ...\n",
      " $ trace_names               : chr  \"ACML112-11[LepF1,LepR1]_F.ab1|ACML112-11[LepF1,LepR1]_R.ab1\" \"ACML244-11[LepF1,LepR1]_F.ab1|ACML244-11[LepF1,LepR1]_R.ab1\" \"ACML424-12[LepF1,LepR1]_F.ab1|ACML424-12[LepF1,LepR1]_R.ab1\" \"ACRJP018-09[LepF1,MLepR1]_F.ab1|ACRJP018-09[LepF1,MLepR1]_R.ab1|ACRJP018-09[MLepF1,LepR1]_F.ab1|ACRJP018-09[MLe\"| __truncated__ ...\n",
      " $ trace_links               : chr  \"http://trace.boldsystems.org/traceIO/bold.org/2550367|http://trace.boldsystems.org/traceIO/bold.org/2550402\" \"http://trace.boldsystems.org/traceIO/bold.org/2507107|http://trace.boldsystems.org/traceIO/bold.org/2507161\" \"http://trace.boldsystems.org/traceIO/bold.org/5695050|http://trace.boldsystems.org/traceIO/bold.org/5695145\" \"http://trace.boldsystems.org/traceIO/bold.org/1509872|http://trace.boldsystems.org/traceIO/bold.org/1509899|htt\"| __truncated__ ...\n",
      " $ run_dates                 : chr  \"2011-04-03 12:44:25|2011-04-04 17:26:07\" \"2011-03-26 02:59:29|2011-03-26 03:44:32\" \"2012-02-27 11:54:12|2012-02-27 13:20:30\" \"2009-12-16 19:48:40|2009-12-16 20:33:35|2009-12-19 23:31:55|2009-12-21 21:55:25\" ...\n",
      " $ sequencing_centers        : chr  \"Biodiversity Institute of Ontario|Biodiversity Institute of Ontario\" \"Biodiversity Institute of Ontario|Biodiversity Institute of Ontario\" \"Biodiversity Institute of Ontario|Biodiversity Institute of Ontario\" \"Biodiversity Institute of Ontario|Biodiversity Institute of Ontario|Biodiversity Institute of Ontario|Biodivers\"| __truncated__ ...\n",
      " $ directions                : chr  \"F|R\" \"F|R\" \"F|R\" \"F|R|F|R\" ...\n",
      " $ seq_primers               : chr  \"LepF1|LepR1\" \"LepF1|LepR1\" \"LepF1|LepR1\" \"LepF1|MLepR1|MLepF1|LepR1\" ...\n",
      " $ marker_codes              : chr  \"COI-5P|COI-5P\" \"COI-5P|COI-5P\" \"COI-5P|COI-5P\" \"COI-5P|COI-5P|COI-5P|COI-5P\" ...\n",
      " $ seqlen1                   : int  658 658 658 658 658 658 658 658 658 658 ...\n",
      " $ unaligned_nucleotides     : chr  \"TACTTTATATTTTATTTTTGGAATTTGAGCAGGTATAGTAGGAACATCTTTAAGAATATTAATTCGAACTGAATTAGGTAATCCAGGATCTTTAATTGGAGATGATCAAAT\"| __truncated__ \"CATTAATTGGTGATGATCAAATTTACAATACTATTGTAACAGCTCATGCTTTTATTATAATTTTTTTTATAGTTATACCTATTATAATAGGTGGTTTTGGAAATTGACTTG\"| __truncated__ \"TACTTTATATTTTATTTTTGGAATTTGAGCAGGTATAGTAGGAACATCTTTAAGATTATTAATTCGAACTGAATTAGGTAATCCAGGATCATTAATTGGTGATGATCAAAT\"| __truncated__ \"AACTTTATACTTTATTTTTGGAATTTGATCAGGATTAATTGGAACCTCTCTAAGTCTTTTAATTCGAGTAGAACTAAGTAATCCAGGATCCTTTATTAATGATGATCAAAT\"| __truncated__ ...\n",
      " $ seqlen2                   : int  658 543 658 658 658 658 658 658 658 658 ...\n"
     ]
    }
   ],
   "source": [
    "str(resulting_dataframe3)"
   ]
  },
  {
   "cell_type": "code",
   "execution_count": 22,
   "metadata": {},
   "outputs": [
    {
     "data": {
      "image/png": "[encoded data removed]",
      "text/plain": [
       "plot without title"
      ]
     },
     "metadata": {},
     "output_type": "display_data",
     "source": "R display func"
    }
   ],
   "source": [
    "boxplot(resulting_dataframe1$seqlen1, resulting_dataframe3$seqlen2)"
   ]
  },
  {
   "cell_type": "code",
   "execution_count": 23,
   "metadata": {},
   "outputs": [
    {
     "data": {
      "image/png": "[encoded data removed]",
      "text/plain": [
       "Plot with title “Histogram of resulting_dataframe3$seqlen1”"
      ]
     },
     "metadata": {},
     "output_type": "display_data",
     "source": "R display func"
    },
    {
     "data": {
      "image/png": "[encoded data removed]",
      "text/plain": [
       "Plot with title “Histogram of resulting_dataframe3$seqlen2”"
      ]
     },
     "metadata": {},
     "output_type": "display_data",
     "source": "R display func"
    }
   ],
   "source": [
    "hist(resulting_dataframe3$seqlen1); hist(resulting_dataframe3$seqlen2)"
   ]
  },
  {
   "cell_type": "code",
   "execution_count": 22,
   "metadata": {},
   "outputs": [
    {
     "name": "stdout",
     "output_type": "stream",
     "text": [
      "35990 sequences have 'COI-5P' marker"
     ]
    }
   ],
   "source": [
    "#Generating a file with all 'COI-5P' sequences\n",
    "resulting_dataframe3 -> COI_all_data; cat(length(COI_all_data$unaligned_nucleotides),\"sequences have 'COI-5P' marker\")"
   ]
  },
  {
   "cell_type": "code",
   "execution_count": 69,
   "metadata": {},
   "outputs": [
    {
     "name": "stdout",
     "output_type": "stream",
     "text": [
      "35285 sequences have more or equivalent to 500 bases"
     ]
    }
   ],
   "source": [
    "#Introducing a filter to remove sequences with less than 500 nucleotides\n",
    "resulting_dataframe3 %>% filter(seqlen2 >= 500 ) -> COI_Over499_data; cat(length(COI_Over500_data$unaligned_nucleotides),\"sequences have more or equivalent to 500 bases\")"
   ]
  },
  {
   "cell_type": "code",
   "execution_count": 26,
   "metadata": {},
   "outputs": [
    {
     "name": "stdout",
     "output_type": "stream",
     "text": [
      "34693 sequences have from 500 to 700 bases"
     ]
    }
   ],
   "source": [
    "#Introducing a filter to remove any sequence with less than 500 and over 700 nucleotides.\n",
    "resulting_dataframe3 %>% filter(seqlen2 >= 500 & seqlen2 <= 700) -> COI_clean_data; cat(length(COI_clean_data$unaligned_nucleotides),\"sequences have from 500 to 700 bases\")"
   ]
  },
  {
   "cell_type": "code",
   "execution_count": 25,
   "metadata": {},
   "outputs": [
    {
     "data": {
      "image/png": "[encoded data removed]",
      "text/plain": [
       "Plot with title “Histogram of COI_clean_data$seqlen2”"
      ]
     },
     "metadata": {},
     "output_type": "display_data",
     "source": "R display func"
    }
   ],
   "source": [
    "hist(COI_clean_data$seqlen2)"
   ]
  },
  {
   "cell_type": "code",
   "execution_count": 27,
   "metadata": {},
   "outputs": [
    {
     "name": "stdout",
     "output_type": "stream",
     "text": [
      "21886 sequences have from 650 to 660 bases"
     ]
    }
   ],
   "source": [
    "#Introducing a filter to remove any sequence with less than 650 and over 660 nucleotides.\n",
    "resulting_dataframe3 %>% filter(seqlen2 >= 650 & seqlen2 <= 660) -> COI_clean01_data; cat(length(COI_clean01_data$unaligned_nucleotides),\"sequences have from 650 to 660 bases\")"
   ]
  },
  {
   "cell_type": "code",
   "execution_count": 28,
   "metadata": {},
   "outputs": [
    {
     "name": "stdout",
     "output_type": "stream",
     "text": [
      "705 sequences have less than 500 bases"
     ]
    }
   ],
   "source": [
    "#Introducing a filter to remove any sequence with over 500 nucleotides.\n",
    "resulting_dataframe3 %>% filter(resulting_dataframe3$seqlen2 < 500) -> COI_Under500_data; cat(length(COI_Under500_data$unaligned_nucleotides),\"sequences have less than 500 bases\")"
   ]
  },
  {
   "cell_type": "code",
   "execution_count": 29,
   "metadata": {},
   "outputs": [
    {
     "name": "stdout",
     "output_type": "stream",
     "text": [
      "592 sequences have more than 700 bases"
     ]
    }
   ],
   "source": [
    "#Introducing a filter to remove any sequence with less than 700 nucleotides.\n",
    "resulting_dataframe3 %>% filter(resulting_dataframe3$seqlen2 > 700) -> COI_Over700_data; cat(length(COI_Over700_data$unaligned_nucleotides),\"sequences have more than 700 bases\")"
   ]
  },
  {
   "cell_type": "markdown",
   "metadata": {},
   "source": [
    "**Randomly sampling 100 sequences from data sets for use in testing the pipeline**"
   ]
  },
  {
   "cell_type": "code",
   "execution_count": 37,
   "metadata": {},
   "outputs": [],
   "source": [
    "COI_testa00_data <- COI_all_data[sample(nrow(COI_all_data), 100), ]"
   ]
  },
  {
   "cell_type": "code",
   "execution_count": 38,
   "metadata": {},
   "outputs": [
    {
     "data": {
      "image/png": "[encoded data removed]",
      "text/plain": [
       "plot without title"
      ]
     },
     "metadata": {},
     "output_type": "display_data"
    }
   ],
   "source": [
    "boxplot(COI_testa00_data$seqlen2)"
   ]
  },
  {
   "cell_type": "code",
   "execution_count": 39,
   "metadata": {},
   "outputs": [],
   "source": [
    "COI_testb01_data <- COI_clean_data[sample(nrow(COI_clean_data), 100), ]"
   ]
  },
  {
   "cell_type": "code",
   "execution_count": 40,
   "metadata": {},
   "outputs": [
    {
     "data": {
      "image/png": "[encoded data removed]",
      "text/plain": [
       "plot without title"
      ]
     },
     "metadata": {},
     "output_type": "display_data"
    }
   ],
   "source": [
    "boxplot(COI_testb01_data$seqlen2)"
   ]
  },
  {
   "cell_type": "code",
   "execution_count": 45,
   "metadata": {},
   "outputs": [],
   "source": [
    "COI_testb02_data <- COI_clean_data[sample(nrow(COI_clean_data), 100), ]"
   ]
  },
  {
   "cell_type": "code",
   "execution_count": 46,
   "metadata": {},
   "outputs": [
    {
     "data": {
      "image/png": "[encoded data removed]",
      "text/plain": [
       "plot without title"
      ]
     },
     "metadata": {},
     "output_type": "display_data"
    }
   ],
   "source": [
    "boxplot(COI_testb02_data$seqlen2)"
   ]
  },
  {
   "cell_type": "code",
   "execution_count": 47,
   "metadata": {},
   "outputs": [],
   "source": [
    "COI_testb03_data <- COI_clean_data[sample(nrow(COI_clean_data), 100), ]"
   ]
  },
  {
   "cell_type": "code",
   "execution_count": 48,
   "metadata": {},
   "outputs": [
    {
     "data": {
      "image/png": "[encoded data removed]",
      "text/plain": [
       "plot without title"
      ]
     },
     "metadata": {},
     "output_type": "display_data"
    }
   ],
   "source": [
    "boxplot(COI_testb03_data$seqlen2)"
   ]
  },
  {
   "cell_type": "code",
   "execution_count": 53,
   "metadata": {},
   "outputs": [],
   "source": [
    "COI_testc04_data <- COI_clean01_data[sample(nrow(COI_clean01_data), 100), ]"
   ]
  },
  {
   "cell_type": "code",
   "execution_count": 54,
   "metadata": {},
   "outputs": [
    {
     "data": {
      "image/png": "[encoded data removed]",
      "text/plain": [
       "plot without title"
      ]
     },
     "metadata": {},
     "output_type": "display_data"
    }
   ],
   "source": [
    "boxplot(COI_testc04_data$seqlen2)"
   ]
  },
  {
   "cell_type": "code",
   "execution_count": 57,
   "metadata": {},
   "outputs": [],
   "source": [
    "COI_testc05_data <- COI_clean01_data[sample(nrow(COI_clean01_data), 100), ]"
   ]
  },
  {
   "cell_type": "code",
   "execution_count": 58,
   "metadata": {},
   "outputs": [
    {
     "data": {
      "image/png": "[encoded data removed]",
      "text/plain": [
       "plot without title"
      ]
     },
     "metadata": {},
     "output_type": "display_data"
    }
   ],
   "source": [
    "boxplot(COI_testc05_data$seqlen2)"
   ]
  },
  {
   "cell_type": "code",
   "execution_count": 63,
   "metadata": {},
   "outputs": [],
   "source": [
    "COI_testd06_data <- COI_Under500_data[sample(nrow(COI_Under500_data), 100), ]"
   ]
  },
  {
   "cell_type": "code",
   "execution_count": 64,
   "metadata": {},
   "outputs": [
    {
     "data": {
      "image/png": "[encoded data removed]",
      "text/plain": [
       "plot without title"
      ]
     },
     "metadata": {},
     "output_type": "display_data"
    }
   ],
   "source": [
    "boxplot(COI_testd06_data$seqlen2)"
   ]
  },
  {
   "cell_type": "code",
   "execution_count": 65,
   "metadata": {},
   "outputs": [],
   "source": [
    "COI_teste07_data <- COI_Over700_data[sample(nrow(COI_Over700_data), 100), ]"
   ]
  },
  {
   "cell_type": "code",
   "execution_count": 67,
   "metadata": {},
   "outputs": [
    {
     "data": {
      "image/png": "[encoded data removed]",
      "text/plain": [
       "plot without title"
      ]
     },
     "metadata": {},
     "output_type": "display_data"
    }
   ],
   "source": [
    "boxplot(COI_teste07_data$seqlen2)"
   ]
  },
  {
   "cell_type": "code",
   "execution_count": 70,
   "metadata": {},
   "outputs": [
    {
     "data": {
      "text/html": [
       "<ol class=list-inline>\n",
       "\t<li>'bold_dataframe'</li>\n",
       "\t<li>'COI_all_data'</li>\n",
       "\t<li>'COI_clean_data'</li>\n",
       "\t<li>'COI_clean01_data'</li>\n",
       "\t<li>'COI_data'</li>\n",
       "\t<li>'COI_Over499_data'</li>\n",
       "\t<li>'COI_Over500_data'</li>\n",
       "\t<li>'COI_Over700_data'</li>\n",
       "\t<li>'COI_testa00_data'</li>\n",
       "\t<li>'COI_testb01_data'</li>\n",
       "\t<li>'COI_testb02_data'</li>\n",
       "\t<li>'COI_testb03_data'</li>\n",
       "\t<li>'COI_testc04_data'</li>\n",
       "\t<li>'COI_testc05_data'</li>\n",
       "\t<li>'COI_testd06_data'</li>\n",
       "\t<li>'COI_teste07_data'</li>\n",
       "\t<li>'COI_Under500_data'</li>\n",
       "\t<li>'resulting_dataframe1'</li>\n",
       "\t<li>'resulting_dataframe2'</li>\n",
       "\t<li>'resulting_dataframe3'</li>\n",
       "</ol>\n"
      ],
      "text/latex": [
       "\\begin{enumerate*}\n",
       "\\item 'bold\\_dataframe'\n",
       "\\item 'COI\\_all\\_data'\n",
       "\\item 'COI\\_clean\\_data'\n",
       "\\item 'COI\\_clean01\\_data'\n",
       "\\item 'COI\\_data'\n",
       "\\item 'COI\\_Over499\\_data'\n",
       "\\item 'COI\\_Over500\\_data'\n",
       "\\item 'COI\\_Over700\\_data'\n",
       "\\item 'COI\\_testa00\\_data'\n",
       "\\item 'COI\\_testb01\\_data'\n",
       "\\item 'COI\\_testb02\\_data'\n",
       "\\item 'COI\\_testb03\\_data'\n",
       "\\item 'COI\\_testc04\\_data'\n",
       "\\item 'COI\\_testc05\\_data'\n",
       "\\item 'COI\\_testd06\\_data'\n",
       "\\item 'COI\\_teste07\\_data'\n",
       "\\item 'COI\\_Under500\\_data'\n",
       "\\item 'resulting\\_dataframe1'\n",
       "\\item 'resulting\\_dataframe2'\n",
       "\\item 'resulting\\_dataframe3'\n",
       "\\end{enumerate*}\n"
      ],
      "text/markdown": [
       "1. 'bold_dataframe'\n",
       "2. 'COI_all_data'\n",
       "3. 'COI_clean_data'\n",
       "4. 'COI_clean01_data'\n",
       "5. 'COI_data'\n",
       "6. 'COI_Over499_data'\n",
       "7. 'COI_Over500_data'\n",
       "8. 'COI_Over700_data'\n",
       "9. 'COI_testa00_data'\n",
       "10. 'COI_testb01_data'\n",
       "11. 'COI_testb02_data'\n",
       "12. 'COI_testb03_data'\n",
       "13. 'COI_testc04_data'\n",
       "14. 'COI_testc05_data'\n",
       "15. 'COI_testd06_data'\n",
       "16. 'COI_teste07_data'\n",
       "17. 'COI_Under500_data'\n",
       "18. 'resulting_dataframe1'\n",
       "19. 'resulting_dataframe2'\n",
       "20. 'resulting_dataframe3'\n",
       "\n",
       "\n"
      ],
      "text/plain": [
       " [1] \"bold_dataframe\"       \"COI_all_data\"         \"COI_clean_data\"      \n",
       " [4] \"COI_clean01_data\"     \"COI_data\"             \"COI_Over499_data\"    \n",
       " [7] \"COI_Over500_data\"     \"COI_Over700_data\"     \"COI_testa00_data\"    \n",
       "[10] \"COI_testb01_data\"     \"COI_testb02_data\"     \"COI_testb03_data\"    \n",
       "[13] \"COI_testc04_data\"     \"COI_testc05_data\"     \"COI_testd06_data\"    \n",
       "[16] \"COI_teste07_data\"     \"COI_Under500_data\"    \"resulting_dataframe1\"\n",
       "[19] \"resulting_dataframe2\" \"resulting_dataframe3\""
      ]
     },
     "metadata": {},
     "output_type": "display_data"
    }
   ],
   "source": [
    "ls()"
   ]
  },
  {
   "cell_type": "code",
   "execution_count": 71,
   "metadata": {},
   "outputs": [
    {
     "data": {
      "text/html": [
       "'/home/kibet/bioinformatics/github/co1_metaanalysis/code'"
      ],
      "text/latex": [
       "'/home/kibet/bioinformatics/github/co1\\_metaanalysis/code'"
      ],
      "text/markdown": [
       "'/home/kibet/bioinformatics/github/co1_metaanalysis/code'"
      ],
      "text/plain": [
       "[1] \"/home/kibet/bioinformatics/github/co1_metaanalysis/code\""
      ]
     },
     "metadata": {},
     "output_type": "display_data"
    }
   ],
   "source": [
    "getwd()"
   ]
  },
  {
   "cell_type": "markdown",
   "metadata": {},
   "source": [
    "**Saving final tidy copies of the data to** ***'/co1_metaanalysis/Data/input'*** **directory**"
   ]
  },
  {
   "cell_type": "code",
   "execution_count": 72,
   "metadata": {},
   "outputs": [],
   "source": [
    "### Printing copies of the final tidy files\n",
    "datalist = lapply(c(\"COI_all_data\", \"COI_Over499_data\", \"COI_clean_data\", \"COI_clean01_data\", \"COI_Over700_data\", \"COI_Under500_data\", \"COI_testa00_data\", \"COI_testb01_data\", \"COI_testb02_data\", \"COI_testb03_data\", \"COI_testc04_data\", \"COI_testc05_data\", \"COI_testd06_data\", \"COI_teste07_data\"), get)\n",
    "names(datalist) <- (c(\"../data/input/eafro_data/COI_all_data\", \"../data/input/eafro_data/COI_Over499_data\", \"../data/input/eafro_data/COI_clean_data\", \"../data/input/eafro_data/COI_clean01_data\", \"../data/input/eafro_data/COI_Over700_data\", \"../data/input/eafro_data/COI_Under500_data\", \"../data/input/eafro_data/COI_testa00_data\", \"../data/input/eafro_data/COI_testb01_data\", \"../data/input/eafro_data/COI_testb02_data\", \"../data/input/eafro_data/COI_testb03_data\", \"../data/input/eafro_data/COI_testc04_data\", \"../data/input/eafro_data/COI_testc05_data\", \"../data/input/eafro_data/COI_testd06_data\", \"../data/input/eafro_data/COI_teste07_data\"))\n",
    "for (i in 1:length(datalist)) {write.table(datalist[i], file = paste(names(datalist[i]), \".tsv\", sep = \"\"), row.names = FALSE, col.names= TRUE, sep = \"\\t\", quote=FALSE)}"
   ]
  },
  {
   "cell_type": "code",
   "execution_count": 73,
   "metadata": {},
   "outputs": [
    {
     "data": {
      "text/html": [
       "0"
      ],
      "text/latex": [
       "0"
      ],
      "text/markdown": [
       "0"
      ],
      "text/plain": [
       "[1] 0"
      ]
     },
     "metadata": {},
     "output_type": "display_data"
    }
   ],
   "source": [
    "length(which(is.na(COI_clean_data$order_name)))"
   ]
  },
  {
   "cell_type": "code",
   "execution_count": null,
   "metadata": {},
   "outputs": [],
   "source": []
  }
 ],
 "metadata": {
  "kernelspec": {
   "display_name": "R",
   "language": "R",
   "name": "ir"
  },
  "language_info": {
   "codemirror_mode": "r",
   "file_extension": ".r",
   "mimetype": "text/x-r-source",
   "name": "R",
   "pygments_lexer": "r",
   "version": "3.5.1"
  }
 },
 "nbformat": 4,
 "nbformat_minor": 2
}
