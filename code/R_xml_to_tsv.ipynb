{
 "cells": [
  {
   "cell_type": "code",
   "execution_count": 1,
   "metadata": {},
   "outputs": [
    {
     "name": "stderr",
     "output_type": "stream",
     "text": [
      "Installing package into ‘/home/kibet/R/x86_64-pc-linux-gnu-library/3.5’\n",
      "(as ‘lib’ is unspecified)\n"
     ]
    }
   ],
   "source": [
    "install.packages(\"XML\")"
   ]
  },
  {
   "cell_type": "code",
   "execution_count": 2,
   "metadata": {},
   "outputs": [
    {
     "name": "stderr",
     "output_type": "stream",
     "text": [
      "Installing package into ‘/home/kibet/R/x86_64-pc-linux-gnu-library/3.5’\n",
      "(as ‘lib’ is unspecified)\n",
      "Warning message:\n",
      "“package ‘methods’ is not available (for R version 3.5.1)”Warning message:\n",
      "“package ‘methods’ is a base package, and should not be updated”"
     ]
    }
   ],
   "source": [
    "install.packages(\"methods\")"
   ]
  },
  {
   "cell_type": "code",
   "execution_count": 3,
   "metadata": {},
   "outputs": [],
   "source": [
    "library(\"XML\")"
   ]
  },
  {
   "cell_type": "code",
   "execution_count": 5,
   "metadata": {},
   "outputs": [
    {
     "data": {
      "text/html": [
       "'/home/kibet/bioinformatics/github/co1_metaanalysis/code'"
      ],
      "text/latex": [
       "'/home/kibet/bioinformatics/github/co1\\_metaanalysis/code'"
      ],
      "text/markdown": [
       "'/home/kibet/bioinformatics/github/co1_metaanalysis/code'"
      ],
      "text/plain": [
       "[1] \"/home/kibet/bioinformatics/github/co1_metaanalysis/code\""
      ]
     },
     "metadata": {},
     "output_type": "display_data"
    }
   ],
   "source": [
    "getwd()"
   ]
  },
  {
   "cell_type": "code",
   "execution_count": 8,
   "metadata": {},
   "outputs": [],
   "source": [
    "algeria <- xmlParse(file = \"/home/kibet/bioinformatics/github/co1_metaanalysis/data/input/afro_data/bold_africa/Algeria.xml\")"
   ]
  },
  {
   "cell_type": "code",
   "execution_count": 9,
   "metadata": {},
   "outputs": [],
   "source": [
    "rootnode <- xmlRoot(algeria)"
   ]
  },
  {
   "cell_type": "code",
   "execution_count": 10,
   "metadata": {},
   "outputs": [],
   "source": [
    "library(\"XML\")\n",
    "library(\"methods\")"
   ]
  },
  {
   "cell_type": "code",
   "execution_count": 12,
   "metadata": {},
   "outputs": [],
   "source": [
    "algeriadataframe <- xmlToDataFrame(\"/home/kibet/bioinformatics/github/co1_metaanalysis/data/input/afro_data/bold_africa/Algeria.xml\")"
   ]
  },
  {
   "cell_type": "code",
   "execution_count": 15,
   "metadata": {},
   "outputs": [
    {
     "name": "stdout",
     "output_type": "stream",
     "text": [
      "'data.frame':\t1212 obs. of  11 variables:\n",
      " $ record_id           : chr  \"5651907\" \"5651908\" \"5651909\" \"5651910\" ...\n",
      " $ processid           : chr  \"ANGBF10860-15\" \"ANGBF10861-15\" \"ANGBF10862-15\" \"ANGBF10863-15\" ...\n",
      " $ bin_uri             : chr  \"BOLD:AAA1548\" \"BOLD:AAA1548\" \"BOLD:AAA1548\" \"BOLD:AAA1548\" ...\n",
      " $ specimen_identifiers: chr  \"KM819813KM819813Mined from GenBank, NCBI\" \"KM819812KM819812Mined from GenBank, NCBI\" \"KM819811KM819811Mined from GenBank, NCBI\" \"KM819810KM819810Mined from GenBank, NCBI\" ...\n",
      " $ taxonomy            : chr  \"18Chordata34196Elasmobranchii214Carcharhiniformes937Scyliorhinidae2945Scyliorhinus12796Scyliorhinus caniculaLinnaeus, 1758\" \"18Chordata34196Elasmobranchii214Carcharhiniformes937Scyliorhinidae2945Scyliorhinus12796Scyliorhinus caniculaLinnaeus, 1758\" \"18Chordata34196Elasmobranchii214Carcharhiniformes937Scyliorhinidae2945Scyliorhinus12796Scyliorhinus caniculaLinnaeus, 1758\" \"18Chordata34196Elasmobranchii214Carcharhiniformes937Scyliorhinidae2945Scyliorhinus12796Scyliorhinus caniculaLinnaeus, 1758\" ...\n",
      " $ specimen_desc       : chr  \"taxon:7830\" \"taxon:7830\" \"taxon:7830\" \"taxon:7830\" ...\n",
      " $ collection_event    : chr  \"Farid HemidaAlgeriaCap Djinet\" \"Farid HemidaAlgeriaCap Djinet\" \"Farid HemidaAlgeriaCap Djinet\" \"Farid HemidaAlgeriaCap Djinet\" ...\n",
      " $ sequences           : chr  \"7214144COI-5PKM819813GAGCTGAGTTAGGTCAGCCGGGTTCACTTTTAGGGGATGATCAGATTTATAATGTAATCGTAACTGCCCATGCTTTCGTAATAATCTTCT\"| __truncated__ \"7214143COI-5PKM819812GAGCTGAGTTAGGTCAGCCGGGTTCACTTTTAGGGGATGATCAGATTTATAATGTAATCGTAACTGCCCATGCTTTCGTAATAATCTTCT\"| __truncated__ \"7214142COI-5PKM819811GAGCTGAGTTAGGTCAGCCGGGTTCACTTTTAGGGGATGATCAGATTTATAATGTAATCGTAACTGCCCATGCTTTCGTAATAATCTTCT\"| __truncated__ \"7214141COI-5PKM819810GAGCTGAGTTAGGTCAGCCGGGTTCACTTTTAGGGGATGATCAGATTTATAATGTAATCGTAACTGCCCATGCTTTCGTAATAATCTTCT\"| __truncated__ ...\n",
      " $ notes               : chr  \"\" \"\" \"\" \"\" ...\n",
      " $ tracefiles          : chr  NA NA NA NA ...\n",
      " $ specimen_imagery    : chr  NA NA NA NA ...\n"
     ]
    }
   ],
   "source": [
    "str(algeriadataframe)"
   ]
  },
  {
   "cell_type": "code",
   "execution_count": null,
   "metadata": {},
   "outputs": [],
   "source": []
  }
 ],
 "metadata": {
  "kernelspec": {
   "display_name": "R",
   "language": "R",
   "name": "ir"
  },
  "language_info": {
   "codemirror_mode": "r",
   "file_extension": ".r",
   "mimetype": "text/x-r-source",
   "name": "R",
   "pygments_lexer": "r",
   "version": "3.5.1"
  }
 },
 "nbformat": 4,
 "nbformat_minor": 2
}
