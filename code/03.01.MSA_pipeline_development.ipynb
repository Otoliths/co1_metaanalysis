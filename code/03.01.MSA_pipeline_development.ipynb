{
 "cells": [
  {
   "cell_type": "markdown",
   "metadata": {},
   "source": [
    "# **Multiple Sequence Alignment Piepline**\n",
    "This notebook documents the configuration of select MSA tools to be used in our work:\n",
    "1. MUSCLE\n",
    "2. MAFFT v7\n",
    "3. T_COFFEE\n",
    "4. PASTA\n",
    "5. SATé"
   ]
  },
  {
   "cell_type": "markdown",
   "metadata": {},
   "source": [
    "Thorough literature reviews were conducted and the following functionalities of the above tools were settled on and tested:\n",
    "### **1. MUSCLE:**\n",
    "1. **Large data alignment:** Not the best output: see bash function below"
   ]
  },
  {
   "cell_type": "code",
   "execution_count": null,
   "metadata": {},
   "outputs": [],
   "source": [
    "%%bash\n",
    "muscle_large() { #muscle aligment of large datasets, long execution times is an issue\n",
    "        #-maxiters 2: Iterations beyond 2 attempt refinement, which often results in a small improvement, at most\n",
    "        usage $@\n",
    "        echo \"muscle starting alinment...\"\n",
    "\n",
    "        for i in $@\n",
    "        do\n",
    "                if [ ! -f $i ]\n",
    "                then\n",
    "                        echo \"input error: file $i is non-existent!\"\n",
    "                elif [[ ( -f $i ) && ( `basename $i` =~ .*\\.(afa|fasta|fa) ) ]]\n",
    "                then\n",
    "                        rename\n",
    "                        echo -e \"\\nproceeding with file `basename $i`...\"\n",
    "                        muscle -in $i -fastaout ${muscle_dest}./aligned/${output_filename}.afa -clwout ${muscle_dest}./aligned/${output_filename}.aln -maxiters 2\n",
    "                else\n",
    "                        echo \"input file error in `basename $i`: input file should be a .fasta file format\"\n",
    "                        continue\n",
    "                fi\n",
    "        done\n",
    "}"
   ]
  },
  {
   "cell_type": "markdown",
   "metadata": {},
   "source": [
    "Test run:"
   ]
  },
  {
   "cell_type": "code",
   "execution_count": 1,
   "metadata": {},
   "outputs": [
    {
     "name": "stdout",
     "output_type": "stream",
     "text": [
      "/home/kibet/bioinformatics/github/co1_metaanalysis/code\n"
     ]
    }
   ],
   "source": [
    "%%bash\n",
    "pwd"
   ]
  },
  {
   "cell_type": "code",
   "execution_count": null,
   "metadata": {},
   "outputs": [],
   "source": [
    "%%bash\n",
    "source ./aling.sh\n",
    "muscle_large ../data/input/test_data/COI_testa00_data.fasta"
   ]
  },
  {
   "cell_type": "markdown",
   "metadata": {},
   "source": [
    "2. **MSA alignment refinement:** Proved useful in refining the a large alignment, especially from PASTA"
   ]
  },
  {
   "cell_type": "code",
   "execution_count": null,
   "metadata": {},
   "outputs": [],
   "source": [
    "%%bash\n",
    "muscle_refine() {\n",
    "        #attempt to improve an existing alignment. Input is an existing MSA\n",
    "        usage $@\n",
    "        echo \"starting refinment of existing MSAs...\"\n",
    "\n",
    "        for i in $@\n",
    "        do\n",
    "                if [ ! -f $i ]\n",
    "                then\n",
    "                        echo \"input error: file $i is non-existent!\"\n",
    "                elif [[ ( -f $i ) && ( `basename $i` =~ .*\\.(afa|fasta|fa|aln) ) ]]\n",
    "                then\n",
    "                        rename\n",
    "                        echo -e \"\\nproceeding with file `basename $i`...\"\n",
    "                        muscle -in $i -fastaout ${muscle_dest}./refined/\\r${output_filename}.afa -clwout ${muscle_dest}./refined/\\r${output_filename}.aln -refine\n",
    "                else\n",
    "                        echo \"input file error in `basename $i`: input file should be a .afa file format\"\n",
    "                        continue\n",
    "                fi\n",
    "        done\n",
    "}"
   ]
  },
  {
   "cell_type": "markdown",
   "metadata": {},
   "source": [
    "Test run:(using a PASTA alignment output)"
   ]
  },
  {
   "cell_type": "code",
   "execution_count": null,
   "metadata": {},
   "outputs": [],
   "source": [
    "%%bash\n",
    "source ./aling.sh\n",
    "muscle_refine ../data/output/alignment/pasta_output/aligned/COI_testa00_data.aln"
   ]
  },
  {
   "cell_type": "markdown",
   "metadata": {},
   "source": [
    "3. **MSA profile to profile alignment:** Useful in merging two alignment files of homologous sequences"
   ]
  },
  {
   "cell_type": "code",
   "execution_count": null,
   "metadata": {},
   "outputs": [],
   "source": [
    "%%bash\n",
    "muscle_p2p() {\n",
    "        #takes two existing MSAs (\"profiles\") and aligns them to each other, keeping the columns in each MSA intact.The final alignment is made by inserting columns of gaps into the MSAs as needed. The alignments of sequences in each input MSAs are thus fully preserved in the output alignment.\n",
    "        usage $@\n",
    "        unset $in1_outname && echo \"good: output filename var in1_outname is empty\"\n",
    "        unset $in2_outname && echo \"good: output filename var in2_outname is empty\"\n",
    "\n",
    "\n",
    "        for i in $@\n",
    "        do\n",
    "                if [ $# -ne 2 ]\n",
    "                then\n",
    "                        echo \"input file error: only two input files are allowed!\"\n",
    "                        break\n",
    "                elif [[ ( -f $i ) && ( `basename $i` =~ .*\\.(afa|fasta|fa) ) ]]\n",
    "                then\n",
    "                        if [ -z $in1_outname ]\n",
    "                        then\n",
    "                                rename $i\n",
    "                                in1_outname=$output_filename\n",
    "                        else\n",
    "                                rename $i\n",
    "                                in2_outname=$output_filename\n",
    "                        fi\n",
    "                        continue\n",
    "                elif [ ! -f $i ]\n",
    "                then\n",
    "                        echo \"input error: file $i is non-existent!\"\n",
    "                        break\n",
    "                else\n",
    "                        echo \"input file error in `basename $i`: input file should be a .afa file format\"\n",
    "                        break\n",
    "                fi\n",
    "        done\n",
    "\n",
    "        if [[ ( -n $in1_outname ) && ( -n $in2_outname  )  ]]\n",
    "        then\n",
    "                echo -e \"\\nproceeding with file `basename $1` and `basename $2`...\"\n",
    "                muscle -profile -in1 $1 -in2 $2 -fastaout ${muscle_dest}./merged/${in1_outname}_${in2_outname}.afa -clwout ${muscle_dest}./merged/${in1_outname}_${in2_outname}.aln\n",
    "        else\n",
    "                echo \" A error with output_filenames: in1_outname and in2_outname \"\n",
    "        fi\n",
    "}"
   ]
  },
  {
   "cell_type": "markdown",
   "metadata": {},
   "source": [
    "Test run: Using two PASTA alignment output files"
   ]
  },
  {
   "cell_type": "code",
   "execution_count": null,
   "metadata": {},
   "outputs": [],
   "source": [
    "%%bash\n",
    "source ./aling.sh\n",
    "muscle_p2p ../data/output/alignment/pasta_output/aligned/COI_testa00_data.aln ../data/output/alignment/pasta_output/aligned/COI_testa01_data.aln"
   ]
  },
  {
   "cell_type": "markdown",
   "metadata": {},
   "source": [
    "### **2. MAFFT:**\n",
    "MAFFT version 7 was used and the following functionalities tested:\n",
    "1. **G-INS-1 option for large data alignment**: Just as accurate as MAFFT global alignment option G-INS-1"
   ]
  },
  {
   "cell_type": "code",
   "execution_count": null,
   "metadata": {},
   "outputs": [],
   "source": [
    "%%bash\n",
    "###mafft :highly similar ∼50,000 – ∼100,000 sequences × ∼5,000 sites incl. gaps (2016/Jul)\n",
    "\n",
    "##G-INS-1 option is applicable to large data, when huge RAM and a large number of CPU cores are available (at most 26.0 GB)\n",
    "#By a new flag, --large, the G-INS-1 option has become applicable to large data without using huge RAM.This option uses files, instead of RAM, to store temporary data. The default location of temporary files is $HOME/maffttmp/ (linux, mac and cygwin) or %TMP% (windows) and can be changed by setting the MAFFT_TMPDIR environmental variable.\n",
    "\n",
    "#syntax:        mafft --large --globalpair --thread n in > out\n",
    "\n",
    "mafft_GlINS1() {\n",
    "        usage $@\n",
    "\n",
    "        for i in $@\n",
    "        do\n",
    "                if [ ! -f $i ]\n",
    "                then\n",
    "                        echo \"input error: file $i is non-existent!\"\n",
    "                elif [[ ( -f $i ) && ( `basename $i` =~ .*\\.(afa|fasta|fa) ) ]]\n",
    "                then\n",
    "                        rename\n",
    "                        echo -e \"\\nmafft G-large-INS-1 MSA: proceeding with file `basename $i`...\"\n",
    "                        printf \"Choose from the following output formats: \\n\"\n",
    "                        select output_formats in fasta_output_format clustal_output_format none_exit\n",
    "                        do\n",
    "                                case $output_formats in\n",
    "                                        fasta_output_format)\n",
    "                                                echo -e \"\\nGenerating .fasta output\\n\"\n",
    "                                                mafft --large --globalpair --thread -1 --reorder $i > ${mafft_dest}aligned/${output_filename}.fasta\n",
    "                                                break\n",
    "                                                ;;\n",
    "                                        clustal_output_format)\n",
    "                                                echo -e \"\\nGenerating a clustal format output\\n\"\n",
    "                                                mafft --large --globalpair --thread -1 --reorder --clustalout $1 > ${mafft_dest}aligned/${output_filename}.aln\n",
    "                                                break\n",
    "                                                ;;\n",
    "                                        none_exit)\n",
    "                                                break\n",
    "                                                ;;\n",
    "                                        *) echo \"error: Invalid selection!\"\n",
    "                                esac\n",
    "                        done\n",
    "                else\n",
    "                        echo \"input file error in `basename $i`: input file should be a .fasta file format\"\n",
    "                        continue\n",
    "                fi\n",
    "        done\n",
    "}"
   ]
  },
  {
   "cell_type": "markdown",
   "metadata": {},
   "source": [
    "Test run:"
   ]
  },
  {
   "cell_type": "code",
   "execution_count": null,
   "metadata": {},
   "outputs": [],
   "source": [
    "%%bash \n",
    "source ./aling.sh\n",
    "mafft_GlINS1 ../data/input/test_data/COI_testa00_data.fasta << EOF\n",
    "1\n",
    "EOF"
   ]
  },
  {
   "cell_type": "markdown",
   "metadata": {},
   "source": [
    "2. **L-INS-I option for large data aligment:** More accurate than G-INS-I option in some cases but less suitable for large data; in this case we use the MPI(Massage Parsing Interface) version"
   ]
  },
  {
   "cell_type": "code",
   "execution_count": null,
   "metadata": {},
   "outputs": [],
   "source": [
    "%%bash\n",
    "#MPI version of high-accuracy progressive options, [GLE]-large-INS-1; Two environmental variables, MAFFT_N_THREADS_PER_PROCESS and MAFFT_MPIRUN, have to be set:\n",
    "#The number of threads to run in a process: Set \"1\" unless using a MPI/Pthreads hybrid mode.\n",
    "#       export MAFFT_N_THREADS_PER_PROCESS=\"1\"\n",
    "#Location of mpirun/mpiexec and options: mpirun or mpiexec must be from the same library as mpicc that was used in compiling\n",
    "#       export MAFFT_MPIRUN=\"/somewhere/bin/mpirun -n 160 -npernode 16 -bind-to none ...\" (for OpenMPI)\n",
    "#OR     export MAFFT_MPIRUN=\"/somewhere/bin/mpirun -n 160 -perhost  16 -binding none ...\" (for MPICH)\n",
    "\n",
    "#mpi command: Add \"--mpi --large\" to the normal command of G-INS-1, L-INS-1 or E-INS-1\n",
    "#       mafft --mpi --large --localpair --thread 16 input\n",
    "\n",
    "#mafft L-INS-I command:\n",
    "#mafft --localpair --maxiterate 1000 input_file > output_file\n",
    "\n",
    "mafft_local() {\n",
    "        usage $@\n",
    "\n",
    "        for i in $@\n",
    "        do\n",
    "                if [ ! -f $i ]\n",
    "                then\n",
    "                        echo \"input error: file $i is non-existent!\"\n",
    "                elif [[ ( -f $i ) && ( `basename $i` =~ .*\\.(afa|fasta|fa) ) ]]\n",
    "                then\n",
    "                        rename\n",
    "                        echo -e \"\\nmafft G-large-INS-1 MSA: proceeding with file `basename $i`...\"\n",
    "                        printf \"Choose from the following output formats: \\n\"\n",
    "                        select output_formats in fasta_output_format clustal_output_format none_exit\n",
    "                        do\n",
    "                                case $output_formats in\n",
    "                                        fasta_output_format)\n",
    "                                                echo -e \"\\nGenerating .fasta output\\n\"\n",
    "                                                bash $mpionly\n",
    "                                                mafft --mpi --large --globalpair --thread -1 --reorder $i > ${mafft_dest}aligned/${output_filename}_l.fasta\n",
    "                                                break\n",
    "                                                ;;\n",
    "                                        clustal_output_format)\n",
    "                                                echo -e \"\\nGenerating a clustal format output\\n\"\n",
    "                                                bash $mpionly\n",
    "                                                mafft --mpi --large --globalpair --thread -1 --reorder --clustalout $1 > ${mafft_dest}aligned/${output_filename}_l.aln\n",
    "                                                break\n",
    "                                                ;;\n",
    "                                        none_exit)\n",
    "                                                break\n",
    "                                                ;;\n",
    "                                        *) echo \"error: Invalid selection!\"\n",
    "                                esac\n",
    "                        done\n",
    "                else\n",
    "                        echo \"input file error in `basename $i`: input file should be a .fasta file format\"\n",
    "                        continue\n",
    "                fi\n",
    "        done\n",
    "}"
   ]
  },
  {
   "cell_type": "markdown",
   "metadata": {},
   "source": [
    "Test run:"
   ]
  },
  {
   "cell_type": "code",
   "execution_count": null,
   "metadata": {},
   "outputs": [],
   "source": [
    "%%bash\n",
    "source ./aling.sh\n",
    "mafft_local ../data/input/test_data/COI_testb01_data.aln << EOF\n",
    "1\n",
    "EOF"
   ]
  },
  {
   "cell_type": "markdown",
   "metadata": {},
   "source": [
    "3. **MSA merging option**: Just like MUSCLE merging option, it merges two MSA profiles, but with a different strategy."
   ]
  },
  {
   "cell_type": "code",
   "execution_count": null,
   "metadata": {},
   "outputs": [],
   "source": [
    "%%bash\n",
    "##Merge multiple sub-MSAs into a single MSA\n",
    "#Each sub-MSA is forecd to form a monophyletic cluster in version 7.043 and higher (2013/May/26).\n",
    "\n",
    "#syntax:        cat subMSA1 subMSA2 > input\n",
    "#               ruby makemergetable.rb subMSA1 subMSA2 > subMSAtable\n",
    "#               mafft --merge subMSAtable input > output\n",
    "\n",
    "mafft_merge() {\n",
    "        echo -e \"\\nwarning: Each sub-MSA is forced to form a monophyletic cluster in version 7.043 and higher (2013/May/26).\"\n",
    "        printf \"Enter [Yes] to continue or [No] to exit: \"\n",
    "        read choice\n",
    "        case $choice in\n",
    "                [yY][eE][sS] | [yY] )\n",
    "                        usage $@ #testing the arguments\n",
    "                        RUBY_EXEC=$( which ruby )\n",
    "\n",
    "                        inputfiletest $@ #assesing the validity of the input files\n",
    "\n",
    "                        outputfilename $@ # generating output file name\n",
    "\n",
    "                        cat $@ > ${mafft_dest}merged/input.fasta\n",
    "                        ${RUBY_EXEC} ${makemergetable} $@ > ${mafft_dest}merged/subMSAtable\n",
    "                        mafft --merge ${mafft_dest}merged/subMSAtable ${mafft_dest}merged/input.fasta > ${mafft_dest}merged/${outname}.fasta\n",
    "                        ;;\n",
    "                [nN][oO] | [nN] )\n",
    "                        echo \"exiting the operation\"\n",
    "                        ;;\n",
    "                *)\n",
    "                        echo \"Invalid input: please enter [Yes] or [No]\"\n",
    "                        ;;\n",
    "        esac\n",
    "\n",
    "}"
   ]
  },
  {
   "cell_type": "markdown",
   "metadata": {},
   "source": [
    "Test run: uses two PASTA alignment output files"
   ]
  },
  {
   "cell_type": "code",
   "execution_count": null,
   "metadata": {},
   "outputs": [],
   "source": [
    "%%bash\n",
    "source ./aling.sh\n",
    "mafft_merge ../data/output/alignment/pasta_output/aligned/COI_testa00_data.aln ../data/output/alignment/pasta_output/aligned/COI_testa01_data.aln"
   ]
  },
  {
   "cell_type": "markdown",
   "metadata": {},
   "source": [
    "4. **MAFFT -add option:** For adding unaligned full-length sequence(s) into an existing alignment"
   ]
  },
  {
   "cell_type": "code",
   "execution_count": null,
   "metadata": {},
   "outputs": [],
   "source": [
    "%%bash\n",
    "#new_sequences and existing_alignment files are single multi-FASTA format file. Gaps in existing_alignment are preserved, but the alignment length may be changed in the default setting. If the --keeplength option is given, then the alignment length is unchanged.  Insertions at the new sequences are deleted. --reorder to rearrange sequence order.\n",
    "\n",
    "#syntax:        % mafft --add new_sequences --reorder existing_alignment > output\n",
    "\n",
    "mafft_add() {\n",
    "        echo -e \"\\n \\$1 should be the new_sequences: unaligned full-length sequence(s) to be added into the existing alignment (\\$2) \"\n",
    "        printf \"\\nEnter [Yes] to continue or [No] to exit: \"\n",
    "        read choice\n",
    "        case $choice in\n",
    "                [yY][eE][sS] | [yY] )\n",
    "                        usage $@\n",
    "\n",
    "                        inputfiletest $@\n",
    "\n",
    "                        outputfilename $@\n",
    "\n",
    "                        mafft --add $1 --reorder $2 > ${mafft_dest}addseq/${outname}.fasta\n",
    "                        ;;\n",
    "                [nN][oO] | [nN] )\n",
    "                        echo \"exiting the --add sequences operation\"\n",
    "                        ;;\n",
    "                *)\n",
    "                        echo \"Invalid input: please enter [Yes] or [No]\"\n",
    "                        ;;\n",
    "        esac\n",
    "}"
   ]
  },
  {
   "cell_type": "markdown",
   "metadata": {},
   "source": [
    "Test run: Uses one PASTA alignment output and an unaligned sample sequence file"
   ]
  },
  {
   "cell_type": "code",
   "execution_count": null,
   "metadata": {},
   "outputs": [],
   "source": [
    "%%bash\n",
    "source ./aling.sh\n",
    "mafft_add ../data/output/alignment/pasta_output/aligned/COI_testa00_data.aln ../data/input/test_data/COI_testb01_data.aln"
   ]
  },
  {
   "cell_type": "markdown",
   "metadata": {},
   "source": [
    "5. **MAFFT --addfragments option:** For  adding unaligned fragmentary sequence(s) into an existing alignment"
   ]
  },
  {
   "cell_type": "code",
   "execution_count": null,
   "metadata": {},
   "outputs": [],
   "source": [
    "%%bash\n",
    "## --addfragments: Adding unaligned fragmentary sequence(s) into an existing alignment\n",
    "\n",
    "#syntax:        Accurate option\n",
    "#syntax:        % mafft --addfragments fragments --reorder --thread -1 existing_alignment > output\n",
    "#               Fast option (accurate enough for highly similar sequences):\n",
    "#               % mafft --addfragments fragments --reorder --6merpair --thread -1 existing_alignment > output\n",
    "\n",
    "mafft_addfragmets() {\n",
    "        echo -e \"\\n \\$1 is fragments is a single multi-FASTA format file and \\$2 existing_alignment is a single multi-FASTA format file \"\n",
    "        printf \"\\nEnter [Yes] to continue or [No] to exit:  \"\n",
    "        read choice\n",
    "        case $choice in\n",
    "                [yY][eE][sS] | [yY] )\n",
    "                        usage $@\n",
    "\n",
    "                        inputfiletest $@\n",
    "\n",
    "                        outputfilename $@\n",
    "\n",
    "                        mafft --addfragments $1 --reorder --thread -1 $2 > ${mafft_dest}addfragments/${outname}.fasta\n",
    "                        ;;\n",
    "                [nN][oO] | [nN] )\n",
    "                        echo \"exiting the --addfragments operation\"\n",
    "                        ;;\n",
    "                *)\n",
    "                        echo \"Invalid input: please enter [Yes] or [No]\"\n",
    "                        ;;\n",
    "        esac\n",
    "}"
   ]
  },
  {
   "cell_type": "markdown",
   "metadata": {},
   "source": [
    "Test run: using sapmles from those with less than 500 nucleotides to those with between 650 to 660 nucleotides"
   ]
  },
  {
   "cell_type": "code",
   "execution_count": null,
   "metadata": {},
   "outputs": [],
   "source": [
    "%%bash\n",
    "source ./aling.sh\n",
    "mafft_addfragments ../data/input/test_data/COI_testd06_data.fasta ../data/output/alignment/pasta_output/aligned/COI_testc04_data.aln"
   ]
  },
  {
   "cell_type": "markdown",
   "metadata": {},
   "source": [
    "### **3. T_Coffee:**\n",
    "1. **T_Coffee regressive mode for very large sequence alignment:** Uses a regressive algorithm opposed to the common progressive algorithm."
   ]
  },
  {
   "cell_type": "code",
   "execution_count": null,
   "metadata": {},
   "outputs": [],
   "source": [
    "%%bash\n",
    "# t_coffee: the regressive mode of T-Coffee is meant to align very large datasets with a high accuracy.\n",
    "#It starts by aligning the most distantly related sequences first.\n",
    "#It uses this guide tree to extract the N most diverse sequences. \n",
    "#In this first intermediate MSA, each sequence is either a leaf or the representative of a subtree.\n",
    "#The algorithm is re-aplied recursively onto every representative sequence until all sequences have been incorporated in an internediate MSA of max size N.\n",
    "#The final MSA is then obtained by merging all the intermediate MSAs into the final MSA.\n",
    "\n",
    "#Fast and accurate: the regressive alignment is used to align the sequences in FASTA format. The tree is estimated using the mbed method of Clustal Omega (-reg_tree=mbed), the size of the groups is 100 (-reg_nseq=100) and the method used to align the groups is Clustal Omega:\n",
    "\n",
    "#syntax:        $ t_coffee -reg -seq proteases_large.fasta -reg_nseq 100 -reg_tree mbed -reg_method clustalo_msa -outfile proteases_large.aln -outtree proteases_large.mbed\n",
    "\n",
    "#-seq           :provide sequences. must be in FASTA format\n",
    "#-reg_tree      :defines the method to be used to estimste the tree\n",
    "#-outtree       :defines the name of newly computed out tree. mbed method of Clustal Omega is used.\n",
    "#-outfile**     :defines the name of output file of the MSA\n",
    "#-reg_nseq      :sets the max size of the subsequence alignments; the groups is 100\n",
    "#-reg_thread    :sets max threads to be used\n",
    "#-reg_method**  :defines the method to be used to estimate MSA: Clustal Omega\n",
    "#-multi_core    :Specifies that T-Coffee should be multithreaded or not; by default all relevant steps are parallelized; DEFAULT: templates_jobs_relax_msa_evaluate OR templates_jobs_relax_msa_evaluate (when flag set)\n",
    "#-n_core        :Number of cores to be used by machine [default=0 => all those defined in the environement]\n",
    "\n",
    "tcoffee_large() {\n",
    "        usage $@\n",
    "        echo \"t-coffee starting alinment...\"\n",
    "\n",
    "        for i in $@\n",
    "        do\n",
    "                if [ ! -f $i ]\n",
    "                then\n",
    "                        echo \"input error: file $i is non-existent!\"\n",
    "                elif [[ ( -f $i ) && ( `basename $i` =~ .*\\.(afa|fasta|fa) ) ]]\n",
    "                then\n",
    "                        rename\n",
    "                        echo -e \"\\nproceeding with file `basename $i`...\"\n",
    "                        t_coffee -reg -multi_core -n_core=32 -seq $i -reg_nseq 100 -reg_tree mbed -reg_method clustalo_msa -outfile ${tcoffee_dest}aligned/${output_filename}.fasta -newtree ${tcoffee_dest}trees/${output_filename}.mbed\n",
    "                else\n",
    "                        echo \"input file error in `basename $i`: input file should be a .fasta file format\"\n",
    "                        continue\n",
    "\n",
    "                fi\n",
    "        done\n",
    "\n",
    "}"
   ]
  },
  {
   "cell_type": "markdown",
   "metadata": {},
   "source": [
    "Test Run:"
   ]
  },
  {
   "cell_type": "code",
   "execution_count": null,
   "metadata": {},
   "outputs": [],
   "source": [
    "%%bash\n",
    "source ./align.sh\n",
    "tcoffee_large ../data/input/test_data/COI_testa00_data.fasta"
   ]
  },
  {
   "cell_type": "markdown",
   "metadata": {},
   "source": [
    "2. **T_Coffee MSA evaluation option CORE index**:  \n",
    "Useful in scoring the various results from different alignment algorithms and choosing the most accurate/suitable algorithm"
   ]
  },
  {
   "cell_type": "code",
   "execution_count": null,
   "metadata": {},
   "outputs": [],
   "source": [
    "%%bash\n",
    "##Evaluating Your Alignment: Most of T_coffee evalution methods are designed for protein sequences (notably structure based methods), however, T-Coffee via sequence-based-methods (TCS and CORE index) offers some possibilities to evaluate also DNA alignments\n",
    "\n",
    "#The CORE index is the basis of T-Coffee is an estimation of the consistency between your alignment and the computed library( by default a list of pairs of residues that align in possible global and 10 best local pairwise alignments). The higher the consistency, the better the alignment.\n",
    "#Computing the CORE index of any alignment: To evaluate any existing alignment with the CORE index, provide that alignment with the -infile flag and specify that you want to evaluate it\n",
    "\n",
    "#syntax:        $ t_coffee -infile=proteases_small_g10.aln -output=html -score\n",
    "\n",
    "COREindex() { #Evaluating an existing alignment with the CORE index\n",
    "        usage $@\n",
    "        echo \"t_coffee starting MSA alignment evaluation using CORE index... \"\n",
    "\n",
    "        for i in $@\n",
    "        do\n",
    "                if [ ! -f $i ]\n",
    "                then\n",
    "                        echo \"input error: file $i is non-existent!\"\n",
    "                elif [[ ( -f $i ) && ( `basename $i` =~ .*\\.(afa|fasta|fa|aln) ) ]]\n",
    "                then\n",
    "                        rename\n",
    "                        outfile_dest\n",
    "                        echo -e \"\\nproceeding with `basename $i` alignment file evaluatio...\"\n",
    "                        t_coffee -infile=$i -multi_core -n_core=32 -output=html -score -outfile ${output_dest}scores/coreindex/${output_filename}.html\n",
    "                else\n",
    "                        echo \"input file error in `basename $i`: input file should be a *.aln file format\"\n",
    "                        continue\n",
    "                fi\n",
    "        done\n",
    "}"
   ]
  },
  {
   "cell_type": "markdown",
   "metadata": {},
   "source": [
    "**Test run**"
   ]
  },
  {
   "cell_type": "code",
   "execution_count": null,
   "metadata": {},
   "outputs": [],
   "source": [
    "%%bash\n",
    "source ./align.sh\n",
    "COREindex ../data/output/alignment/pasta_output/aligned/COI_testa00_data.aln ../data/output/alignment/pasta_output/aligned/COI_testa01_data.aln"
   ]
  },
  {
   "cell_type": "markdown",
   "metadata": {},
   "source": [
    "2. **T_Coffee MSA evaluation Transitive Consistency Score (TCS) option**:   \n",
    "Like CORE index above it is used in scoring the different alignments and choosing the most accurate/suitable algorithm. It's output can also be used in phylogenetic inference to give different weights to the alignment collumns"
   ]
  },
  {
   "cell_type": "code",
   "execution_count": null,
   "metadata": {},
   "outputs": [],
   "source": [
    "%%bash\n",
    "# However, to evaluate an alignment, the use of Transitive Consistency Score (TCS) procedure is recommended. TCS is an alignment evaluation score that makes it possible to identify the most correct positions in an MSA. It has been shown that these positions are the most likely to be structuraly correct and also the most informative when estimating phylogenetic trees.\n",
    "#Evaluating an existing MSA with Transitive Consistency Score (TCS): most informative when used to identify low-scoring portions within an MSA. *.score_ascii file displays the score of the MSA, the sequences and the residues. *.score_html file displays a colored version score of the MSA, the sequences and the residues\n",
    "\n",
    "#syntax:        $ t_coffee -infile sample_seq1.aln -evaluate -output=score_ascii,aln,score_html\n",
    "\n",
    "TCSeval() { #Evaluating an existing alignment with the TCS\n",
    "        usage $@\n",
    "        echo \"t_coffee starting MSA alignment evaluation using TCS... \"\n",
    "\n",
    "        for i in $@\n",
    "        do\n",
    "                if [ ! -f $i ]\n",
    "                then\n",
    "                        echo \"input error: file $i is non-existent!\"\n",
    "                elif [[ ( -f $i ) && ( `basename $i` =~ .*\\.(afa|fasta|fa|aln) ) ]]\n",
    "                then\n",
    "                        rename\n",
    "                        outfile_dest\n",
    "                        if [ -z \"$output_dest\" ]\n",
    "                        then\n",
    "                                echo -e \"\\noutput destination folder not set: input can only be sourced from: \\n$muscle_dest; \\n$mafft_dest; \\n$tcoffee_dest; \\n$pasta_dest; and \\n$sate_dest\"\n",
    "                                continue\n",
    "                        else\n",
    "                                echo -e \"\\nproceeding with `basename $i` alignment file evaluatio...\"\n",
    "                                select TCS_library_estimation_format in proba_pair fast_mafft_kalign_muscle_combo none_exit\n",
    "                                do\n",
    "                                        case $TCS_library_estimation_format in\n",
    "                                                proba_pair)\n",
    "                                                        echo -e \"\\nTCS evaluation using default aligner proba_pair\"\n",
    "                                                        t_coffee -multi_core -n_core=32 -infile $i -evaluate -method proba_pair -output=score_ascii,html -outfile ${output_dest}scores/tcs/${output_filename}_score\n",
    "                                                        break\n",
    "                                                        ;;\n",
    "                                                fast_mafft_kalign_muscle_combo)\n",
    "                                                        echo -e \"\\nTCS evaluation using a series of fast multiple aligners; mafft_msa,kalign_msa,muscle_msa. \\nThis option is not accurate and can not be relied on in filtering sequences\"\n",
    "                                                        t_coffee -multi_core -n_core=32 -infile $i -evaluate -method mafft_msa,kalign_msa,muscle_msa -output=score_ascii,html -outfile ${output_dest}scores/tcs/${output_filename}_fastscore\n",
    "                                                        break\n",
    "                                                        ;;\n",
    "                                                none_exit)\n",
    "                                                        break\n",
    "                                                        ;;\n",
    "                                                *)\n",
    "                                                        echo \"error: Invalid selection!\"\n",
    "                                        esac\n",
    "                                done\n",
    "                        fi\n",
    "                else\n",
    "                        echo \"input file error in `basename $i`: input file should be a .fasta file format\"\n",
    "                        continue\n",
    "                fi\n",
    "        done\n",
    "}"
   ]
  },
  {
   "cell_type": "markdown",
   "metadata": {},
   "source": [
    "**Test run**"
   ]
  },
  {
   "cell_type": "code",
   "execution_count": null,
   "metadata": {},
   "outputs": [],
   "source": [
    "%%bash\n",
    "source ./align.sh\n",
    "TCSeval ../data/output/alignment/pasta_output/aligned/COI_testa00_data.aln ../data/output/alignment/pasta_output/aligned/COI_testa01_data.aln"
   ]
  },
  {
   "cell_type": "markdown",
   "metadata": {},
   "source": [
    "Other T_Coffee functionalities to look at"
   ]
  },
  {
   "cell_type": "code",
   "execution_count": null,
   "metadata": {},
   "outputs": [],
   "source": [
    "%%bash\n",
    "#=====================================================================================\n",
    "#Filtering unreliable MSA positions: columns\n",
    "#TCS allows you to filter out from your alignment regions that appears unreliable according to the consistency score; the filtering can be made at the residue level or the column level:\n",
    "#        t_coffee -infile sample_seq1.aln -evaluate -output tcs_residue_filter3,tcs_column_filter3,tcs_residue_lower4\n",
    "\n",
    "#sample_seq1.tcs_residue_filter3 :All residues with a TCS score lower than 3 are filtered out\n",
    "#sample_seq1.tcs_column_filter3 :All columns with a TCS score lower than 3 are filtered out\n",
    "#sample_seq1.tcs_residue_lower4 :All residues with a TCS score lower than 3 are in lower case\n",
    "\n",
    "#t_coffee -infile sample_seq1.aln -evaluate -output tcs_residue_filter1,tcs_column_filter1\n",
    "\n",
    "#=====================================================================================\n",
    "\n",
    "##Estimating the diversity in your alignment:\n",
    "\n",
    "# The \"-other_pg\" flag: call a collection of tools that perform other operations: reformatting, evaluating results, comparing methods. After the flag -other_pg, the common T-Coffee flags are not recognized. \"-seq_reformat\" flag: calls one of several tools to reformat/trim/clean/select your input data but also your output results, from a very powerful reformatting utility named seq_reformat\n",
    "\n",
    "# \"-output\" option of \"seq_reformat\", will output all the pairwise identities, as well as the average level of identity between each sequence and the others:\n",
    "#               \"-output sim_idscore\" realign your sequences pairwise so it can accept unaligned or aligned sequences alike. \"-output sim\" computes the identity using the sequences as they are in your input file so it is only suited for MSAs\n",
    "\n",
    "#Syntax:        $ t_coffee -other_pg seq_reformat -in sample_seq1.aln -output sim\n",
    "\n",
    "#               \"-in\" and \"in2\" flags: define the input file(s)\n",
    "#               \"-output\" flag: defines output format*\n"
   ]
  },
  {
   "cell_type": "markdown",
   "metadata": {},
   "source": [
    "### **4. PASTA:**\n",
    "This was the most important and was used a lot in the actual analysis. It si a progressive algorithm that subsets the data set into a maximum of 200 sequences per subset; aligns the subsets using one of many third party tools (MAFFT L-INS-i) and; merges the subsets using transivity using third party tools (OPAL).\n",
    "1. **PASTA MSA alignment using MAFFT, OPAL and FastTree**:  \n",
    "Estimates a start tree using HMM, subsets the data, align using Mafft L-INS-I, marge using OPAL and estimate a tree using FastTree, then use this tree in the next iteration to subset the data. set to 3 iterations(default)."
   ]
  },
  {
   "cell_type": "code",
   "execution_count": null,
   "metadata": {},
   "outputs": [],
   "source": [
    "%%bash\n",
    "#Usage:         $run_pasta.py [options] <settings_file1> <settings_file2> ...\n",
    "#syntax:        $run_pasta.py -i <input_fasta_file> -j <job_name> --temporaries <TEMP_DIR> -o <output_dir>\n",
    "\n",
    "pasta_aln() { #MSA alignment using pasta\n",
    "        usage $@\n",
    "        echo \"PASTA starting alinment...\"\n",
    "\n",
    "        PYTHON3_EXEC=$( which python3 )\n",
    "        runpasta=${co1_path}code/tools/pasta_code/pasta/run_pasta.py\n",
    "\n",
    "        for i in $@\n",
    "        do\n",
    "                if [ ! -f $i ]\n",
    "                then\n",
    "                        echo \"input error: file $i is non-existent!\"\n",
    "                elif [[ ( -f $i ) && ( `basename $i` =~ .*\\.(afa|fasta|fa|aln) ) ]]\n",
    "                then\n",
    "                        echo -e \"\\tProceeding with `basename $i`\" \n",
    "                        echo -e \"\\tPlease select the mafft alignment method;\\n\\tlocal[mafft_linsi] or global[mafft_ginsi]:\"\n",
    "                        select type_of_alignment in mafft_linsi mafft_ginsi mafft_linsi_with_starting_tree mafft_ginsi_with_starting_tree none_exit\n",
    "                        do\n",
    "                                case $type_of_alignment in\n",
    "                                        mafft_linsi)\n",
    "                                                rename\n",
    "                                                echo -e \"\\nDoing local alignment of `basename $i`...\"\n",
    "                                                ${PYTHON3_EXEC} ${runpasta}  --num-cpus=32 --aligner=mafft -i $i -j ${output_filename} --temporaries=${pasta_dest}temporaries/ -o ${pasta_dest}\\jobs/\n",
    "                                                cp ${pasta_dest}\\jobs/*.${output_filename}.aln ${pasta_dest}aligned/ && mv ${pasta_dest}aligned/{*.${output_filename}.aln,${output_filename}.aln}\n",
    "                                                cp ${pasta_dest}\\jobs/${output_filename}.tre ${pasta_dest}aligned/${output_filename}.tre\n",
    "                                                break\n",
    "                                                ;;\n",
    "                                        mafft_ginsi)\n",
    "                                                rename\n",
    "                                                echo -e \"\\nDoing global alignment of `basename $i`...\"\n",
    "                                                ${PYTHON3_EXEC} ${runpasta}  --num-cpus=32 --aligner=ginsi -i $i -j ${output_filename} --temporaries=${pasta_dest}temporaries/ -o ${pasta_dest}\\jobs/\n",
    "                                                cp ${pasta_dest}\\jobs/*.${output_filename}.aln ${pasta_dest}aligned/ && mv ${pasta_dest}aligned/{*.${output_filename}.aln,${output_filename}.aln}\n",
    "                                                cp ${pasta_dest}\\jobs/${output_filename}*.tre ${pasta_dest}aligned/${output_filename}.tre\n",
    "                                                break\n",
    "                                                ;;\n",
    "                                        mafft_linsi_with_starting_tree)\n",
    "                                                rename\n",
    "                                                unset start_tree\n",
    "                                                echo -e \"\\nDoing local alignment of `basename $i` using a starting tree...\"\n",
    "                                                until [[ ( -f \"$start_tree\" ) && ( `basename -- \"$start_tree\"` =~ .*\\.(tre) ) ]]\n",
    "                                                do\n",
    "                                                        echo -e \"\\n\\tFor the starting tree provide the full path to the file, the filename included.\"\n",
    "                                                        read -p \"Please enter the file to be used as the starting tree: \" start_tree\n",
    "                                                done\n",
    "                                                ${PYTHON3_EXEC} ${runpasta}  --num-cpus=32 --aligner=mafft -i $i -t $start_tree -j ${output_filename} --temporaries=${pasta_dest}temporaries/ -o ${pasta_dest}\\jobs/\n",
    "                                                cp ${pasta_dest}\\jobs/*.${output_filename}.aln ${pasta_dest}aligned/ && mv ${pasta_dest}aligned/{*.${output_filename}.aln,${output_filename}.aln}\n",
    "                                                cp ${pasta_dest}\\jobs/${output_filename}.tre ${pasta_dest}aligned/${output_filename}.tre\n",
    "                                                break\n",
    "                                                ;;\n",
    "                                        mafft_ginsi_with_starting_tree)\n",
    "                                                rename\n",
    "                                                unset start_tree\n",
    "                                                echo -e \"\\nDoing global alignment of `basename $i` using a starting tree...\"\n",
    "                                                until [[ ( -f \"$start_tree\" ) && ( `basename -- \"$start_tree\"` =~ .*\\.(tre) ) ]]\n",
    "                                                do\n",
    "                                                        echo -e \"\\n\\tFor the starting tree provide the full path to the file, the filename included.\"\n",
    "                                                        read -p \"Please enter the file to be used as the starting tree: \" start_tree\n",
    "                                                done\n",
    "                                                ${PYTHON3_EXEC} ${runpasta}  --num-cpus=32 --aligner=ginsi -i $i -j ${output_filename} --temporaries=${pasta_dest}temporaries/ -o ${pasta_dest}\\jobs/\n",
    "                                                cp ${pasta_dest}\\jobs/*.${output_filename}.aln ${pasta_dest}aligned/ && mv ${pasta_dest}aligned/{*.${output_filename}.aln,${output_filename}.aln}\n",
    "                                                cp ${pasta_dest}\\jobs/${output_filename}*.tre ${pasta_dest}aligned/${output_filename}.tre\n",
    "                                                break\n",
    "                                                ;;\n",
    "                                        none_exit)\n",
    "                                                break\n",
    "                                                ;;\n",
    "                                        *)\n",
    "                                                echo \"error: Invalid selection!\"\n",
    "                                esac\n",
    "                        done\n",
    "                else\n",
    "                        echo \"input file error in `basename $i`: input file should be a .fasta file format\"\n",
    "                        continue\n",
    "                fi\n",
    "        done\n",
    "}"
   ]
  },
  {
   "cell_type": "markdown",
   "metadata": {},
   "source": [
    "**Test run**"
   ]
  },
  {
   "cell_type": "code",
   "execution_count": null,
   "metadata": {},
   "outputs": [],
   "source": [
    "%%bash\n",
    "source ./align.sh\n",
    "pasta_aln ../data/output/alignment/pasta_output/aligned/COI_testa00_data.aln ../data/output/alignment/pasta_output/aligned/COI_testb01_data.fasta ../data/output/alignment/pasta_output/aligned/COI_testc04_data.fasta ../data/output/alignment/pasta_output/aligned/COI_teste07_data.fasta << EOF\n",
    "1\n",
    "2\n",
    "1\n",
    "1\n",
    "EOF"
   ]
  },
  {
   "cell_type": "markdown",
   "metadata": {},
   "source": [
    "### **5. UPP:Ultra-large alignments using Phylogeny-aware Profiles**  \n",
    "\"addresses the problem of alignment of very large datasets, potentially containing fragmentary data. UPP can align datasets with up to 1,000,000 sequences\"  \n",
    "Dependent on Python, PASTA and SEPP(SATe-enabled Phylogenetic Placement)"
   ]
  },
  {
   "cell_type": "code",
   "execution_count": null,
   "metadata": {},
   "outputs": [],
   "source": [
    "%%bash\n",
    "upp_align() { #UPP stands for Ultra-large alignments using Phylogeny-aware Profiles. A modification of SEPP, SATé-Enabled Phylogenetic Placement, for performing alignments of ultra-large and fragmentary datasets.\n",
    "        #Usage: $ python <bin>/run_upp.py -s <unaligned_sequences>\n",
    "        #To run UPP with a pre-computed backbone alignment and tree, run\n",
    "        #       $ python <bin>/run_upp.py -s input.fas -a <alignment_file> -t <tree_file>\n",
    "        #To run the parallelized version of UPP, run\n",
    "        #       $ python <bin>/run_upp.py -s input.fas -x <cpus>\n",
    "        usage $@\n",
    "        echo \"UPP starting alinment...\"\n",
    "\n",
    "        PYTHON3_EXEC=$( which python3 )\n",
    "        run_upp=${co1_path}code/tools/sepp/run_upp.py\n",
    "\n",
    "        for i in $@\n",
    "        do\n",
    "                if [ ! -f $i ]\n",
    "                then\n",
    "                        echo \"input error: file $i is non-existent!\"\n",
    "                elif [[ ( -f $i ) && ( `basename $i` =~ .*\\.(afa|fasta|fa|aln) ) ]]\n",
    "                then\n",
    "                        echo -e \"\\tProceeding with `basename $i`\"\n",
    "                        echo -e \"\\tPlease select the type of alignment method;\\n\\tUsing unaligned sequences only[using_sequences_only] or using a backbone[using_precomputed_backbone]:\"\n",
    "                        select type_of_alignment in using_sequences_only using_precomputed_backbone none_exit\n",
    "                        do\n",
    "                                case $type_of_alignment in\n",
    "                                        using_sequences_only)\n",
    "                                                rename\n",
    "                                                echo -e \"\\nDoing Multiple Sequence Alignment of `basename $i` based on the fragmentary sequences alone\"\n",
    "                                                ${PYTHON3_EXEC} ${run_upp} -s $i -o ${output_filename} --tempdir ${pasta_dest}temporaries/sepp/ -d ${pasta_dest}jobs_upp/ #-x 32\n",
    "                                                cp ${pasta_dest}\\jobs/*.${output_filename}_alignment.fasta ${pasta_dest}aligned/\n",
    "                                                break\n",
    "                                                ;;\n",
    "                                        using_precomputed_backbone)\n",
    "                                                rename\n",
    "                                                unset backbone\n",
    "                                                unset start_tree\n",
    "                                                echo -e \"\\nDoing Multiple Sequence Alignment of `basename $i` using a backbone alignment and a starting tree...\"\n",
    "\n",
    "                                                until [[ ( -f \"$start_tree\" ) && ( `basename -- \"$start_tree\"` =~ .*\\.(tre) ) ]]\n",
    "                                                do\n",
    "                                                        echo -e \"\\n\\tFor the starting tree provide the full path to the file, the filename included.\"\n",
    "                                                        read -p \"Please enter the file to be used as the starting tree: \" start_tree\n",
    "                                                done\n",
    "\n",
    "                                                until [[ ( -f \"$backbone\" ) && ( `basename -- \"$backbone\"` =~ .*\\.(aln|fasta|fa|afa) ) ]]\n",
    "                                                do\n",
    "                                                        echo -e \"\\n\\tFor the backbone alignment provide the full path to the file, the filename included.\"\n",
    "                                                        read -p \"Please enter the file to be used as the backbone alignment: \" backbone\n",
    "                                                done\n",
    "\n",
    "                                                ${PYTHON3_EXEC} ${run_upp} -s $i -a ${backbone} -t ${start_tree} -o ${output_filename} --tempdir ${pasta_dest}temporaries/sepp/ -d ${pasta_dest}jobs_upp/ #-x 32\n",
    "                                                cp ${pasta_dest}\\jobs/*.${output_filename}_alignment.fasta ${pasta_dest}aligned/\n",
    "                                                break\n",
    "                                                ;;\n",
    "                                        none_exit)\n",
    "                                                break\n",
    "                                                ;;\n",
    "                                        *)\n",
    "                                                echo \"error: Invalid selection!\"\n",
    "                                esac\n",
    "                        done\n",
    "                else\n",
    "                        echo \"input file error in `basename $i`: input file should be a .fasta file format\"\n",
    "                        continue\n",
    "                fi\n",
    "        done\n",
    "\n",
    "}"
   ]
  },
  {
   "cell_type": "markdown",
   "metadata": {},
   "source": [
    "**Test run:**"
   ]
  },
  {
   "cell_type": "code",
   "execution_count": null,
   "metadata": {},
   "outputs": [],
   "source": [
    "%%bash\n",
    "source ./align.sh\n",
    "upp_align ../data/output/alignment/pasta_output/aligned/COI_testa00_data.aln"
   ]
  }
 ],
 "metadata": {
  "kernelspec": {
   "display_name": "Python 3",
   "language": "python",
   "name": "python3"
  },
  "language_info": {
   "codemirror_mode": {
    "name": "ipython",
    "version": 3
   },
   "file_extension": ".py",
   "mimetype": "text/x-python",
   "name": "python",
   "nbconvert_exporter": "python",
   "pygments_lexer": "ipython3",
   "version": "3.6.8"
  }
 },
 "nbformat": 4,
 "nbformat_minor": 2
}
