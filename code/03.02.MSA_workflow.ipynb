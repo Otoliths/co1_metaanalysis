{
 "cells": [
  {
   "cell_type": "markdown",
   "metadata": {},
   "source": [
    "# **Multiple Sequence Alignment Workflow**\n",
    "In this notebook the actual multiple sequence alignment (MSA) analysis work flow is explained.\n",
    "## **Goals**\n",
    "1. To conduct a MSA on the combined African Insecta data sets listed below\n",
    ">1. **enafroCOI_Under500_data.fasta: 6,715 sequences**  \n",
    ">2. **enafroCOI_Over700_data.fasta: 1,607 sequences**  \n",
    ">3. **enafroCOI_650to660_data.fasta: 99,698 sequences**  \n",
    ">4. **enafroCOI_500to700_data-650to660.fasta: 85,157 sequences**  \n",
    "2. For the above listed data sets; conduct a rigorous subsetting and alignment until a good quality sequence alignment is generated.  \n",
    "3. Extract only sequences from these alignments that fit the right loci and length of the 658 5' cytochrome c oxidase subunit 1 gene; must extend to both ends of the gene, with or without gaps within the sequnce; Only a maximum of ten gaps, '-', and ten unidentified nucleotides, 'N', are allowed in the terminals, 3' or 5', of the sequnce.\n",
    "4. Conduct the final alignment of combined cleaned up data set from all the four sets of data above in one set.\n",
    "\n",
    "## **Tasks**\n",
    "1. Perform a MSA on eafroCOI_650to660_data.fasta (*24,475 sequences*), East African insect sequences, and vizualise in SeaView to assess the quality of alignment. This alignment will be used to define the 3' and 5' ends of the COI-5P sequences. It is on these basis that trimming will be done and comparison to other data sets will be done.  \n",
    "Refine the alignment if necessesary or use fewer sequences but but many enough to be accurately representative of all possible COI-5P lengths.\n",
    "2. Conduct MSA on enafroCOI_Under500_data.fasta and refine when needed to acquire a good quality alignment. Compare the alignment to the reference eafroCOI_650to660_data.fasta alignment and trim at the determined 3' and 5' positions. Take the output and delete sequences that have in excess of ten end gaps \"-\" in the aligned nucleotide blocks/columns, excluding largely gappy columns from the counting of the ten gaps. save the output.\n",
    "3. carry out task 2 above on enafroCOI_Over700_data.fasta\n",
    "4. carry out task 2 on enafroCOI_650to660_data.fasta\n",
    "5. Then finally on enafroCOI_500to700_data-650to660.fasta: There are a lot of sequences and possibly a lot of impurities in this set. Will require a lot of subsetting and iterations.\n",
    "6. Concatate all the outputs from 2, 3, 4, and 5; then align them again and refune the alignment further."
   ]
  },
  {
   "cell_type": "markdown",
   "metadata": {},
   "source": [
    "### **1. MSA alignment on eafroCOI_650to660_data.fasta (24,475 sequences)**"
   ]
  },
  {
   "cell_type": "markdown",
   "metadata": {},
   "source": [
    "### **2. MSA alignment on enafroCOI_Under500_data.fasta (6,715 sequences)**"
   ]
  },
  {
   "cell_type": "markdown",
   "metadata": {},
   "source": [
    "### **3. MSA alignment on enafroCOI_Over700_data.fasta (1,607 sequences)**"
   ]
  },
  {
   "cell_type": "markdown",
   "metadata": {},
   "source": [
    "### **4. MSA alignment on enafroCOI_650to660_data.fasta (99,698 sequences)**"
   ]
  },
  {
   "cell_type": "markdown",
   "metadata": {},
   "source": [
    "### **5. MSA alignment on enafroCOI_500to700_data-650to660.fasta (85,157 sequences)**"
   ]
  },
  {
   "cell_type": "markdown",
   "metadata": {},
   "source": [
    "### **6. Concatate all the outputs from 2, 3, 4, and 5;** then align them again and refune the alignment further."
   ]
  },
  {
   "cell_type": "markdown",
   "metadata": {},
   "source": [
    "#### **6.1.**"
   ]
  },
  {
   "cell_type": "markdown",
   "metadata": {},
   "source": [
    "#### **6._**"
   ]
  },
  {
   "cell_type": "code",
   "execution_count": 2,
   "metadata": {},
   "outputs": [
    {
     "name": "stdout",
     "output_type": "stream",
     "text": [
      "   203551 enafroCOI_all_clean5.aln\n",
      "   196916 enafroCOI_all_clean5_sN10-eN10.aln\n",
      "        2 enafroCOI_all_clean5.tre\n",
      "   203551 enafroCOI_all_clean.aln\n",
      "   203551 enafroCOI_all_clean.fasta\n",
      "   198217 enafroCOI_all_clean_sN10-eN10.aln\n",
      "    46706 enafroCOI_all_clean_sN10-eN10_eafro.aln\n",
      "    17384 enafroCOI_all_clean_sN10-eN10_eafro_genera.aln\n",
      "    29322 enafroCOI_all_clean_sN10-eN10_eafro_generaNA.aln\n",
      "   151511 enafroCOI_all_clean_sN10-eN10_eafroNA.aln\n",
      "    68401 enafroCOI_all_clean_sN10-eN10_genera.aln\n",
      "   129815 enafroCOI_all_clean_sN10-eN10_generaNA.aln\n",
      "        6 enafroCOI_all_clean_sN10-eN10_undesired.fasta\n",
      "        2 enafroCOI_all_clean.tre\n",
      "  1448935 total\n"
     ]
    }
   ],
   "source": [
    "%%bash\n",
    "cd ../data/output/alignment/pasta_output/aligned/\n",
    "wc -l enafroCOI_all_clean*"
   ]
  },
  {
   "cell_type": "code",
   "execution_count": null,
   "metadata": {},
   "outputs": [],
   "source": [
    "%%bash\n",
    "cd ../data/output/alignment/pasta_output/aligned/\n",
    "source ../../../../../code/process_all_input_files.sh\n",
    "delete_shortseqs_N enafroCOI_all_clean.aln << EOF\n",
    "10\n",
    "10\n",
    "EOF"
   ]
  },
  {
   "cell_type": "markdown",
   "metadata": {},
   "source": [
    "Visualise the output file \"enafroCOI_all_clean_sN10-eN10.aln\" in Seaview and remove gap sites only, possibly created by the removal of some sequences in the step above. Save the output file."
   ]
  },
  {
   "cell_type": "code",
   "execution_count": null,
   "metadata": {},
   "outputs": [],
   "source": [
    "%%bash\n",
    "cd ../data/output/alignment/pasta_output/aligned/\n",
    "seaview enafroCOI_all_clean_sN10-eN10.aln"
   ]
  },
  {
   "cell_type": "markdown",
   "metadata": {},
   "source": [
    "Delete Outgroups (Crustacea, Arachnida and Chilopoda), they were initially included in the alignment of enafroCOI_all_clean_sN10-eN10.aln.  \n",
    "See the code below:"
   ]
  },
  {
   "cell_type": "code",
   "execution_count": null,
   "metadata": {},
   "outputs": [],
   "source": [
    "%%bash\n",
    "cd ../data/output/alignment/pasta_output/aligned/\n",
    "source ../../../../../code/process_all_input_files.sh\n",
    "delete_unwanted enafroCOI_all_clean_sN10-eN10.aln << EOF\n",
    "1\n",
    "Crustacea\n",
    "1\n",
    "Arachnida\n",
    "1\n",
    "Chilopoda\n",
    "2\n",
    "EOF\n",
    "#Renaming\n",
    "mv enafroCOI_all_clean_sN10-eN10_generaNA_undesired.fasta outgroups.aln"
   ]
  },
  {
   "cell_type": "markdown",
   "metadata": {},
   "source": [
    "Then sort the \"enafroCOI_all_clean_sN10-eN10.aln\" into two files:  \n",
    "**1. enafroCOI_all_clean_sN10-eN10_genera.aln** - contains African COI sequences with genus names  \n",
    "**2. enafroCOI_all_clean_sN10-eN10_generaNA.aln** - Contains African COI sequences without genus names  "
   ]
  },
  {
   "cell_type": "code",
   "execution_count": null,
   "metadata": {},
   "outputs": [],
   "source": [
    "%%bash\n",
    "cd ../data/output/alignment/pasta_output/aligned/\n",
    "source ../../../../../code/process_all_input_files.sh\n",
    "cp enafroCOI_all_clean_sN10-eN10.aln enafroCOI_all_clean_sN10-eN10.aln2\n",
    "delete_unwanted enafroCOI_all_clean_sN10-eN10.aln2 << EOF\n",
    "1\n",
    "gs-NA\n",
    "2\n",
    "EOF\n",
    "#Renaming\n",
    "mv enafroCOI_all_clean_sN10-eN10.aln2 enafroCOI_all_clean_sN10-eN10_genera.aln\n",
    "mv enafroCOI_all_clean_sN10-eN10_undesired.aln enafroCOI_all_clean_sN10-eN10_generaNA.aln"
   ]
  },
  {
   "cell_type": "markdown",
   "metadata": {},
   "source": [
    "Then sort the data into two files:  \n",
    "**1. enafroCOI_all_clean_sN10-eN10_eafro.aln** - Contains East African sequences; Kenya, Uganda, Tanzania, Rwanda, Burundi, South Sudan and Ethiopia  \n",
    "**2. enafroCOI_all_clean_sN10-eN10_eafroNA.aln** - Contains non East African Data  \n"
   ]
  },
  {
   "cell_type": "code",
   "execution_count": null,
   "metadata": {},
   "outputs": [],
   "source": [
    "%%bash\n",
    "cd ../data/output/alignment/pasta_output/aligned/\n",
    "source ../../../../../code/process_all_input_files.sh\n",
    "cp enafroCOI_all_clean_sN10-eN10.aln enafroCOI_all_clean_sN10-eN10.aln2\n",
    "delete_unwanted enafroCOI_all_clean_sN10-eN10.aln2 << EOF\n",
    "1\n",
    "Kenya\n",
    "1\n",
    "Tanzania\n",
    "1\n",
    "Uganda\n",
    "1\n",
    "Rwanda\n",
    "1\n",
    "Burundi\n",
    "1\n",
    "South_Sudan\n",
    "1\n",
    "Ethiopia\n",
    "2\n",
    "EOF\n",
    "#Renaming\n",
    "mv enafroCOI_all_clean_sN10-eN10_undesired.fasta enafroCOI_all_clean_sN10-eN10_eafro.aln\n",
    "mv enafroCOI_all_clean_sN10-eN10.aln2 enafroCOI_all_clean_sN10-eN10_eafroNA.aln"
   ]
  },
  {
   "cell_type": "markdown",
   "metadata": {},
   "source": [
    "Then sort enafroCOI_all_clean_sN10-eN10_eafro.aln into two files:  \n",
    "**1. enafroCOI_all_clean_sN10-eN10_eafro_genera.aln** - Contains East African COI records with genus names  \n",
    "**2. enafroCOI_all_clean_sN10-eN10_eafro_generaNA.aln** - Contains East African COI records without genus names  \n",
    "Those without genus names do not have the species names either, howerver those with species names may lack the genus names"
   ]
  },
  {
   "cell_type": "code",
   "execution_count": null,
   "metadata": {},
   "outputs": [],
   "source": [
    "%%bash\n",
    "cd ../data/output/alignment/pasta_output/aligned/\n",
    "cp enafroCOI_all_clean_sN10-eN10_eafro.aln enafroCOI_all_clean_sN10-eN10_eafro.aln2\n",
    "delete_unwanted enafroCOI_all_clean_sN10-eN10_eafro.aln2 << EOF\n",
    "1\n",
    "gs-NA\n",
    "2\n",
    "EOF\n",
    "#Renaming\n",
    "mv enafroCOI_all_clean_sN10-eN10_eafro.aln2 enafroCOI_all_clean_sN10-eN10_eafro_genera.aln\n",
    "mv enafroCOI_all_clean_sN10-eN10_eafro_undesired.fasta enafroCOI_all_clean_sN10-eN10_eafro_generaNA.aln\n"
   ]
  },
  {
   "cell_type": "code",
   "execution_count": 51,
   "metadata": {},
   "outputs": [
    {
     "name": "stdout",
     "output_type": "stream",
     "text": [
      "enafroCOI_all_clean5_sN10-eN10.aln\n",
      "enafroCOI_all_clean_sN10-eN10.aln\n",
      "enafroCOI_all_clean_sN10-eN10_eafro.aln\n",
      "enafroCOI_all_clean_sN10-eN10_eafro_genera.aln\n",
      "enafroCOI_all_clean_sN10-eN10_eafro_generaNA.aln\n",
      "enafroCOI_all_clean_sN10-eN10_eafroNA.aln\n",
      "enafroCOI_all_clean_sN10-eN10_genera.aln\n",
      "enafroCOI_all_clean_sN10-eN10_generaNA.aln\n"
     ]
    }
   ],
   "source": [
    "%%bash\n",
    "cd ../data/output/alignment/pasta_output/aligned/\n",
    "ls enafroCOI_all_clean*sN10-eN10*.aln\n",
    "#cat $(ls enafroCOI_all_clean*sN10-eN10*.aln2) | head -5"
   ]
  },
  {
   "cell_type": "markdown",
   "metadata": {},
   "source": [
    "#### **Replacing Illigal characters.**\n",
    "Replacing **Illegal characters in taxon-names are: tabulators, carriage returns, spaces, \":\", \",\", \")\", \"(\", \";\", \"]\", \"\\[\", \"'\"** that affect the interpretation in RAxML  \n",
    "This has to be done, otherwise RAxML will throw up an error and exit"
   ]
  },
  {
   "cell_type": "code",
   "execution_count": 69,
   "metadata": {},
   "outputs": [
    {
     "name": "stdout",
     "output_type": "stream",
     "text": [
      "<roCOI_all_clean5_sN10-eN10.aln\" 196916L, 93274261C\u001b[1;1H>PYRG096-09|Lepidoptera|gs-NA|sp-NA|subsp-NA|country-Kenya|exactsite-NA|lat_3.3||\u001b[2;1Hlon_39.983|elev-20|l-658\n",
      "---AACATTATA---TTTTAT-TTTT--GGAA-TTTGA-AGAGGA-----AT-----A-----GTAG-GA---AC------\u001b[4;1H-----TTCATTAAGATTACTGATTCGTG--CTGAAT-----TA--GG-T--A---ACCC---TGG------ATCTTTAA--\u001b[5;1H--T------T------GGA---GA--TGATCAAATTTATAATA-CAATCGTAACAGCACATGCA-TTTATTATAA--TTTT\u001b[6;1HTTTTCATAGTAATACCTATTATAATTGGAGGATTTGGTAATTGATTAGTACCTTTAATATTAGGAGCTCCTGATATAGCAA\u001b[7;1HTTCCCCCGAATAAACAATATAAGATTTTGATTATT-ACCC-CCATCATTAACCTTA-CTAATTTCTAGAAGAATCGTTGAA\u001b[8;1HAAATGGAGCTGGTACTGGATGAACAGTTTA-TCC-CCCACTCTCATCCAATATTGCACATGGAG-GAAGATCTGTAGAC--\u001b[9;1HTTAGCTATTTTTTCTCTTCATTTAGCTGGAATTTCTTCTATTTTAGGAGCAATTAATTTTATTACAACTATTATT-AACAA\u001b[10;1HTACGAA---TC---AAT-----------G---GATTATCATTTGATCAAA-TACCTTTATTTGTATGAGCTGTTGGAATTT\u001b[11;1HACAGCTTTATTATTACTTCTTTCTTTACC-TGTATTAGCTGG-AGCTATTACTATACTTTTAACTG-ATCGAAACTTAAAA\u001b[12;1HT-AC-ATCT-TTTTTCGACC-CAGCA--GGA----GGGGGAGAT---------------------CC-TATC-CTATAC--\u001b[13;1HCAACATTTAT-T--T--\n",
      ">LSAFR549-12|Lepidoptera|gs-Euclasta|sp-Euclasta_warreni|subsp-NA|country-South__\u001b[15;1HAfrica|exactsite-Mogale`s_Gate_Biodiversity_Centre___nr._Bush_camp|lat_-25.938|ll\u001b[16;1Hon_27.639|elev-1420|l-658\n",
      "<l_clean5_sN10-eN10.aln\" 196916L, 93274261C written\n",
      "\u001b[?2004l\u001b[?1l\u001b>\u001b[?25h\u001b[2J\u001b[?47l\u001b8enafroCOI_all_clean5_sN10-eN10.aln completed\n",
      "<froCOI_all_clean_sN10-eN10.aln\" 198218L, 88247393C\u001b[1;1H>KHYME5050-13|Hymenoptera|gs-NA|sp-NA|subsp-NA|country-Kenya|exactsite-NA|lat_-33\u001b[2;1H.361|lon_38.342|elev-1848|l-661\n",
      "AACATTATAC-TTTAT-TC-TT-GGA--T-TTTGA-TCA---GGAATA------AT----T----G-GA---TTTTCTCTT\u001b[4;1HAAGATTAATTATTCGTA--TAGAATTA--AGA--A---CCCC---CAC------ATCATTAA---TT------------AA\u001b[5;1HATAGAAA--TAGACAAATTTATAACA-CAATTGTTACATCACATGCT-TTTTTAATAA--TTTTTTTTATAGTTATACCAA\u001b[6;1HATTATAATTGGAGGTTTTGGAAATTGATTAATCCCATTAATAATAGGAGCACCAGACATAGCTTTCCCACGAATAAACAAA\u001b[7;1HTATAAGTTTTTGATTATT-ACCC-CCATCAATAATTTTA-TTAATAAGAAGAAGAATAGTAAACACAGGATCAGGAACTGG\u001b[8;1HGATGAACAGTTTA-CCC-TCCATTATCTGCAAATACTTCACATGCTGGTGCATCAGTTGAT-TTAACTATTTTTTCTCTAA\u001b[9;1HCATTTAGCAGGAATCTCATCAATTTTAGGAGCAATCAATTTTATTTCAACAATCATT-AATATACGA---TCT---ACAGG\u001b[10;1H---GATTAACAAATGAACGAT-TAACTTTATTTACATGATCAGTTTTATTAACAGCAGTATTACTTTTACTATCACTTCCC\u001b[11;1H-TGTTTTAGCAGGA-GCTATCACAATACTATTAACAG-ACCGAAACTTAAAT-AC-ATCATTTTTTGATC-CCTCA--GGG\u001b[12;1HA---GGAGGTGACCC-TATT-TTATAC-CAACATTTATTT\n",
      ">KHYME5144-13|Hymenoptera|gs-NA|sp-NA|subsp-NA|country-Kenya|exactsite-NA|lat_-33\u001b[14;1H.414|lon_38.292|elev-2162|l-658\n",
      "<ll_clean_sN10-eN10.aln\" 198218L, 88247393C written\n",
      "\u001b[?2004l\u001b[?1l\u001b>\u001b[?25h\u001b[2J\u001b[?47l\u001b8enafroCOI_all_clean_sN10-eN10.aln completed\n",
      "<I_all_clean_sN10-eN10_eafro.aln\" 46706L, 20591249C\u001b[1;1H>KHYME5050-13|Hymenoptera|gs-NA|sp-NA|subsp-NA|country-Kenya|exactsite-NA|lat_-33\u001b[2;1H.361|lon_38.342|elev-1848|l-661\n",
      "AACATTATAC-TTTAT-TC-TT-GGA--T-TTTGA-TCA---GGAATA------AT----T----G-GA---TTTTCTCTT\u001b[4;1HAAGATTAATTATTCGTA--TAGAATTA--AGA--A---CCCC---CAC------ATCATTAA---TT------------AA\u001b[5;1HATAGAAA--TAGACAAATTTATAACA-CAATTGTTACATCACATGCT-TTTTTAATAA--TTTTTTTTATAGTTATACCAA\u001b[6;1HATTATAATTGGAGGTTTTGGAAATTGATTAATCCCATTAATAATAGGAGCACCAGACATAGCTTTCCCACGAATAAACAAA\u001b[7;1HTATAAGTTTTTGATTATT-ACCC-CCATCAATAATTTTA-TTAATAAGAAGAAGAATAGTAAACACAGGATCAGGAACTGG\u001b[8;1HGATGAACAGTTTA-CCC-TCCATTATCTGCAAATACTTCACATGCTGGTGCATCAGTTGAT-TTAACTATTTTTTCTCTAA\u001b[9;1HCATTTAGCAGGAATCTCATCAATTTTAGGAGCAATCAATTTTATTTCAACAATCATT-AATATACGA---TCT---ACAGG\u001b[10;1H---GATTAACAAATGAACGAT-TAACTTTATTTACATGATCAGTTTTATTAACAGCAGTATTACTTTTACTATCACTTCCC\u001b[11;1H-TGTTTTAGCAGGA-GCTATCACAATACTATTAACAG-ACCGAAACTTAAAT-AC-ATCATTTTTTGATC-CCTCA--GGG\u001b[12;1HA---GGAGGTGACCC-TATT-TTATAC-CAACATTTATTT\n",
      ">KHYME5144-13|Hymenoptera|gs-NA|sp-NA|subsp-NA|country-Kenya|exactsite-NA|lat_-33\u001b[14;1H.414|lon_38.292|elev-2162|l-658\n",
      "<ean_sN10-eN10_eafro.aln\" 46706L, 20591249C written\n",
      "\u001b[?2004l\u001b[?1l\u001b>\u001b[?25h\u001b[2J\u001b[?47l\u001b8enafroCOI_all_clean_sN10-eN10_eafro.aln completed\n",
      "<clean_sN10-eN10_eafro_genera.aln\" 17384L, 7824736C\u001b[1;1H>MSW087-13|Hemiptera|gs-Melanaphis|sp-Melanaphis_sacchari|subsp-NA|country-Kenyaa\u001b[2;1H|exactsite-Mtwapa100|lat_-3.9368|lon_39.7389|elev-NA|l-658\n",
      "AACTTTATAT-TTTTT-AT-TT-GGT--A-TTTGA-TCA---GGAATA------AT----T----G-GA---TCTTCTTTT\u001b[4;1HAAGAATTTTAATTCGAT--TAGAATTA--AGT--C---AAAT---TAA------TTCAATTA---TT------------AA\u001b[5;1HA---TAA--TAATCAATTATATAATG-TTATTGTTACAATTCATGCA-TTTATTATAA--TTTTTTTTATAACTATACCAA\u001b[6;1HATTGTAATTGGTGGATTTGGAAATTGATTAATTCCTATAATAATAGGTTGTCCAGATATATCTTTTCCGCGATTAAATAAA\u001b[7;1HTATTAGATTTTGACTTTT-ACCT-CCATCATTAATAATA-ATAATTTGTAGATTTATAATTAATAATGGAACAGGTACAGG\u001b[8;1HGTTGAACTATTTA-TCC-ACCATTATCTAATAACATTGCACATAATAATATTTCAGTAGAT-TTAACTATTTTTTCACTTT\u001b[9;1HCATTTAGCAGGAATTTCATCTATTTTAGGTGCAATTAATTTTATTTGTACAATTTTA-AATATAATA---CCT---AATAA\u001b[10;1H---ATTTAAAATTAAATCAAA-TTCCTCTATTCCCATGATCAATCTTAATTACAGCTACACTATTAATTTTATCATTACCC\u001b[11;1H-AGTACTAGCTGGT-GCTATTACTATATTATTAACTG-ATCGAAATTTAAAT-AC-ATCATTTTTTGATC-CAGCA--GGG\u001b[12;1HA---GGAGGAGATCC-TATT-TTATAT-CAACATTTATTT\n",
      ">MSW090-13|Hemiptera|gs-Melanaphis|sp-Melanaphis_sacchari|subsp-NA|country-Kenyaa\u001b[14;1H|exactsite-Cymmit|lat_-0.040819|lon_34.8196|elev-NA|l-658\n",
      "<10-eN10_eafro_genera.aln\" 17384L, 7824736C written\n",
      "\u001b[?2004l\u001b[?1l\u001b>\u001b[?25h\u001b[2J\u001b[?47l\u001b8enafroCOI_all_clean_sN10-eN10_eafro_genera.aln completed\n",
      "<an_sN10-eN10_eafro_generaNA.aln\" 29322L, 12766514C\u001b[1;1H>>KHYME5050-13|Hymenoptera|gs-NA|sp-NA|subsp-NA|country-Kenya|exactsite-NA|lat_--\u001b[2;1H3.361|lon_38.342|elev-1848|l-661\n",
      "AACATTATAC-TTTAT-TC-TT-GGA--T-TTTGA-TCA---GGAATA------AT----T----G-GA---TTTTCTCTT\u001b[4;1HAAGATTAATTATTCGTA--TAGAATTA--AGA--A---CCCC---CAC------ATCATTAA---TT------------AA\u001b[5;1HATAGAAA--TAGACAAATTTATAACA-CAATTGTTACATCACATGCT-TTTTTAATAA--TTTTTTTTATAGTTATACCAA\u001b[6;1HATTATAATTGGAGGTTTTGGAAATTGATTAATCCCATTAATAATAGGAGCACCAGACATAGCTTTCCCACGAATAAACAAA\u001b[7;1HTATAAGTTTTTGATTATT-ACCC-CCATCAATAATTTTA-TTAATAAGAAGAAGAATAGTAAACACAGGATCAGGAACTGG\u001b[8;1HGATGAACAGTTTA-CCC-TCCATTATCTGCAAATACTTCACATGCTGGTGCATCAGTTGAT-TTAACTATTTTTTCTCTAA\u001b[9;1HCATTTAGCAGGAATCTCATCAATTTTAGGAGCAATCAATTTTATTTCAACAATCATT-AATATACGA---TCT---ACAGG\u001b[10;1H---GATTAACAAATGAACGAT-TAACTTTATTTACATGATCAGTTTTATTAACAGCAGTATTACTTTTACTATCACTTCCC\u001b[11;1H-TGTTTTAGCAGGA-GCTATCACAATACTATTAACAG-ACCGAAACTTAAAT-AC-ATCATTTTTTGATC-CCTCA--GGG\u001b[12;1HA---GGAGGTGACCC-TATT-TTATAC-CAACATTTATTT\n",
      ">KHYME5144-13|Hymenoptera|gs-NA|sp-NA|subsp-NA|country-Kenya|exactsite-NA|lat_-33\u001b[14;1H.414|lon_38.292|elev-2162|l-658\n",
      "<eN10_eafro_generaNA.aln\" 29322L, 12766514C written\n",
      "\u001b[?2004l\u001b[?1l\u001b>\u001b[?25h\u001b[2J\u001b[?47l\u001b8enafroCOI_all_clean_sN10-eN10_eafro_generaNA.aln completed\n",
      "<ll_clean_sN10-eN10_eafroNA.aln\" 151512L, 67656126C\u001b[1;1H>SAFRA2576-18|Hemiptera|gs-NA|sp-NA|subsp-NA|country-South_Africa|exactsite-Skukk\u001b[2;1Huza|lat_-24.9929|lon_31.5842|elev-280|l-646\n",
      "---------T-TTCAT-TT-TT-GGT--A-TTTGA-GCA---GGACTA------GT----A----G-GA---TTATCTTTT\u001b[4;1HAAGTATCATTATTCGTC--TAGAATTA--AGT--C---AATC---TTC------ATCATTAA---TT------------GG\u001b[5;1HT---TAA--TGATCAAATTTACAATA-CTATTGTAACAGCACATGCG-TTTATTATAA--TTTTTTTTATAACTATACCAA\u001b[6;1HATTATTATTGGAGGATTTGGAAATTGATTAGTACCTTTAATAATTGGAGCCCCTGATATAGCATTTCCACGATTGAATAAA\u001b[7;1HTTTAAGATTTTGACTTTT-AATC-CCTTCTTTATATCTT-TTAATTTTAAGTAGTCTTATTGACCAAGGAGTGGGAACAGG\u001b[8;1HGATGAACAGTGTA-CCC-CCCACTTTCAACTAACGTTTACCATAGAGGTTATTCTGTTGAT-ATAGCTATTTTTTCACTTT\u001b[9;1HCATTTAGCTGGAATTTCATCTATCCTTGGAGCAATTAACTTTATTACAACTATTATT-AATATACGA---GCT---TGTCC\u001b[10;1H---TTTATAAATTAGAAGTTT-TACCTCTTTTTGTTTGATCAGTATTAATTACTGCTTTTCTATTACTTTTTGCTCTTCCC\u001b[11;1H-AGTGCTTGCAGGA-GCCATTACTATATTATTAACTG-ATCGAAATTTAAAT-AC-TTCTTTTTTTGATC-CTTCA--GGG\u001b[12;1HA---GGTGGAGACCC-TATT-CTTTAT-CAACATTTA---\n",
      ">SAFRA2581-18|Hemiptera|gs-NA|sp-NA|subsp-NA|country-South_Africa|exactsite-Skukk\u001b[14;1Huza|lat_-24.9929|lon_31.5842|elev-280|l-652\n",
      "<_sN10-eN10_eafroNA.aln\" 151512L, 67656126C written\n",
      "\u001b[?2004l\u001b[?1l\u001b>\u001b[?25h\u001b[2J\u001b[?47l\u001b8enafroCOI_all_clean_sN10-eN10_eafroNA.aln completed\n",
      "<_all_clean_sN10-eN10_genera.aln\" 68402L, 31333207C\u001b[1;1H>KKCAD424-07|Trichoptera|gs-Dipseudopsis|sp-Dipseudopsis_capensis|subsp-NA|countt\u001b[2;1Hry-South_Africa|exactsite-Umgeni_Valley_Nat._Res.___nr._Howick___trib_to_Umgen|ll\u001b[3;1Hat_-29.4778|lon_30.2617|elev-1066|l-655\n",
      "AACGCTCTAT-TTTAT-CT-TC-AGA--A-TCTGA-TCA---AGACTA------GT----C----G-GT---ACTTCCTTT\u001b[5;1HAAGGATAATTATTCGAA--TTGAACTT--TCC--A---CTCC---CAA------TTCATTCA---TT------------GG\u001b[6;1HG---AAA--TGATCAAATCTATAACT-CAATTGTAACAATTCATGCT-TTTATTATAA--TTTTCTTCATAATTATACCTT\u001b[7;1HGCAATAATTGGAGGATTTGGAAATTGACTAGTCCCATTAATACTTGGGGCCCCAGATATGGCATTCCCTCGAATAAATAAA\u001b[8;1HTCTCAGATTTTGACTTCT-CCCA-CCATCTATTCTTTTT-CTTCTTTCATCTATATTTTTAAATAATGGTGCAGGAACAGG\u001b[9;1HGTTGAACTGTGTA-CCC-CCCTCTATCCAATAACTTATTCCACTCAGGAAAAGCTGTCGAT-GTATCAATTTTTTCGCTAA\u001b[10;1HCATTTAGCAGGAATCTCATCAATCCTAGGAGCCATTAATTTTATTACTACTTCTCTA-AACATAAAA---TTA---A----\u001b[11;1H---TAATAAATTCCAGCATAT-TACCTCTATTTGTCTGATCAATTTTAATTACAGCTATTTTATTACTTCTTTCACTCCCC\u001b[12;1H-GGTTTTAGCAGGA-GCTATTACCATGCTCCTAACAG-ATCGAAATCTCAAT-TC-TTCATTTTTCGATC-CAGCA--GGG\u001b[13;1HA---GGTGGGGATCC-CATT-TTATTC-CAACATCTATTC\n",
      ">SOCAD008-10|Trichoptera|gs-Anisocentropus|sp-Anisocentropus_usambarensis|subsp--\u001b[15;1HNA|country-Nigeria|exactsite-Forest_area|lat_7.467|lon_4.567|elev-NA|l-655\n",
      "<an_sN10-eN10_genera.aln\" 68402L, 31333207C written\n",
      "\u001b[?2004l\u001b[?1l\u001b>\u001b[?25h\u001b[2J\u001b[?47l\u001b8enafroCOI_all_clean_sN10-eN10_genera.aln completed\n",
      "<l_clean_sN10-eN10_generaNA.aln\" 129816L, 56914169C\u001b[1;1H>>SAFRA2576-18|Hemiptera|gs-NA|sp-NA|subsp-NA|country-South_Africa|exactsite-Skuu\u001b[2;1Hkuza|lat_-24.9929|lon_31.5842|elev-280|l-646\n",
      "---------T-TTCAT-TT-TT-GGT--A-TTTGA-GCA---GGACTA------GT----A----G-GA---TTATCTTTT\u001b[4;1HAAGTATCATTATTCGTC--TAGAATTA--AGT--C---AATC---TTC------ATCATTAA---TT------------GG\u001b[5;1HT---TAA--TGATCAAATTTACAATA-CTATTGTAACAGCACATGCG-TTTATTATAA--TTTTTTTTATAACTATACCAA\u001b[6;1HATTATTATTGGAGGATTTGGAAATTGATTAGTACCTTTAATAATTGGAGCCCCTGATATAGCATTTCCACGATTGAATAAA\u001b[7;1HTTTAAGATTTTGACTTTT-AATC-CCTTCTTTATATCTT-TTAATTTTAAGTAGTCTTATTGACCAAGGAGTGGGAACAGG\u001b[8;1HGATGAACAGTGTA-CCC-CCCACTTTCAACTAACGTTTACCATAGAGGTTATTCTGTTGAT-ATAGCTATTTTTTCACTTT\u001b[9;1HCATTTAGCTGGAATTTCATCTATCCTTGGAGCAATTAACTTTATTACAACTATTATT-AATATACGA---GCT---TGTCC\u001b[10;1H---TTTATAAATTAGAAGTTT-TACCTCTTTTTGTTTGATCAGTATTAATTACTGCTTTTCTATTACTTTTTGCTCTTCCC\u001b[11;1H-AGTGCTTGCAGGA-GCCATTACTATATTATTAACTG-ATCGAAATTTAAAT-AC-TTCTTTTTTTGATC-CTTCA--GGG\u001b[12;1HA---GGTGGAGACCC-TATT-CTTTAT-CAACATTTA---\n",
      ">SAFRA2581-18|Hemiptera|gs-NA|sp-NA|subsp-NA|country-South_Africa|exactsite-Skukk\u001b[14;1Huza|lat_-24.9929|lon_31.5842|elev-280|l-652\n",
      "<sN10-eN10_generaNA.aln\" 129816L, 56914169C written\n",
      "\u001b[?2004l\u001b[?1l\u001b>\u001b[?25h\u001b[2J\u001b[?47l\u001b8enafroCOI_all_clean_sN10-eN10_generaNA.aln completed\n"
     ]
    },
    {
     "name": "stderr",
     "output_type": "stream",
     "text": [
      "Vim: Warning: Output is not to a terminal\n",
      "Vim: Warning: Input is not from a terminal\n",
      "Vim: Warning: Output is not to a terminal\n",
      "Vim: Warning: Input is not from a terminal\n",
      "Vim: Warning: Output is not to a terminal\n",
      "Vim: Warning: Input is not from a terminal\n",
      "Vim: Warning: Output is not to a terminal\n",
      "Vim: Warning: Input is not from a terminal\n",
      "Vim: Warning: Output is not to a terminal\n",
      "Vim: Warning: Input is not from a terminal\n",
      "Vim: Warning: Output is not to a terminal\n",
      "Vim: Warning: Input is not from a terminal\n",
      "Vim: Warning: Output is not to a terminal\n",
      "Vim: Warning: Input is not from a terminal\n",
      "Vim: Warning: Output is not to a terminal\n",
      "Vim: Warning: Input is not from a terminal\n"
     ]
    }
   ],
   "source": [
    "%%bash\n",
    "cd ../data/output/alignment/pasta_output/aligned/\n",
    "for i in $(ls enafroCOI_all_clean*sN10-eN10*.aln); do vim $i -n << EOF\n",
    ":%s/\\[//g\n",
    ":%s/\\]//g\n",
    ":%s/ /_/g\n",
    ":%s/://g\n",
    ":%s/;//g\n",
    ":%s/,/__/g\n",
    ":%s/(/__/g\n",
    ":%s/)//g\n",
    ":%s/'//g\n",
    ":wq\n",
    "EOF\n",
    "echo -e \"`basename -- ${i}` completed\"\n",
    "done"
   ]
  },
  {
   "cell_type": "markdown",
   "metadata": {},
   "source": [
    "Updating the remote server (hpc01.icipe.org) ready for execution"
   ]
  },
  {
   "cell_type": "code",
   "execution_count": 66,
   "metadata": {},
   "outputs": [
    {
     "name": "stderr",
     "output_type": "stream",
     "text": [
      "ssh_askpass: exec(/usr/bin/ssh-askpass): No such file or directory\n",
      "Permission denied, please try again.\n",
      "ssh_askpass: exec(/usr/bin/ssh-askpass): No such file or directory\n",
      "Permission denied, please try again.\n",
      "ssh_askpass: exec(/usr/bin/ssh-askpass): No such file or directory\n",
      "gilbert@hpc01.icipe.org: Permission denied (publickey,gssapi-keyex,gssapi-with-mic,password).\n",
      "lost connection\n"
     ]
    },
    {
     "ename": "CalledProcessError",
     "evalue": "Command 'b'cd ../data/output/alignment/pasta_output/aligned/\\nscp ./enafroCOI_all_clean*  gilbert@hpc01.icipe.org:/home/gilbert/bioinformatics/github/co1_metaanalysis/data/output/alignment/pasta_output/aligned/ << EOF\\n<password>\\nEOF\\n'' returned non-zero exit status 1.",
     "output_type": "error",
     "traceback": [
      "\u001b[0;31m---------------------------------------------------------------------------\u001b[0m",
      "\u001b[0;31mCalledProcessError\u001b[0m                        Traceback (most recent call last)",
      "\u001b[0;32m<ipython-input-66-e7e111f44140>\u001b[0m in \u001b[0;36m<module>\u001b[0;34m\u001b[0m\n\u001b[0;32m----> 1\u001b[0;31m \u001b[0mget_ipython\u001b[0m\u001b[0;34m(\u001b[0m\u001b[0;34m)\u001b[0m\u001b[0;34m.\u001b[0m\u001b[0mrun_cell_magic\u001b[0m\u001b[0;34m(\u001b[0m\u001b[0;34m'bash'\u001b[0m\u001b[0;34m,\u001b[0m \u001b[0;34m''\u001b[0m\u001b[0;34m,\u001b[0m \u001b[0;34m'cd ../data/output/alignment/pasta_output/aligned/\\nscp ./enafroCOI_all_clean*  gilbert@hpc01.icipe.org:/home/gilbert/bioinformatics/github/co1_metaanalysis/data/output/alignment/pasta_output/aligned/ << EOF\\n<password>\\nEOF\\n'\u001b[0m\u001b[0;34m)\u001b[0m\u001b[0;34m\u001b[0m\u001b[0;34m\u001b[0m\u001b[0m\n\u001b[0m",
      "\u001b[0;32m~/.local/lib/python3.6/site-packages/IPython/core/interactiveshell.py\u001b[0m in \u001b[0;36mrun_cell_magic\u001b[0;34m(self, magic_name, line, cell)\u001b[0m\n\u001b[1;32m   2321\u001b[0m             \u001b[0mmagic_arg_s\u001b[0m \u001b[0;34m=\u001b[0m \u001b[0mself\u001b[0m\u001b[0;34m.\u001b[0m\u001b[0mvar_expand\u001b[0m\u001b[0;34m(\u001b[0m\u001b[0mline\u001b[0m\u001b[0;34m,\u001b[0m \u001b[0mstack_depth\u001b[0m\u001b[0;34m)\u001b[0m\u001b[0;34m\u001b[0m\u001b[0;34m\u001b[0m\u001b[0m\n\u001b[1;32m   2322\u001b[0m             \u001b[0;32mwith\u001b[0m \u001b[0mself\u001b[0m\u001b[0;34m.\u001b[0m\u001b[0mbuiltin_trap\u001b[0m\u001b[0;34m:\u001b[0m\u001b[0;34m\u001b[0m\u001b[0;34m\u001b[0m\u001b[0m\n\u001b[0;32m-> 2323\u001b[0;31m                 \u001b[0mresult\u001b[0m \u001b[0;34m=\u001b[0m \u001b[0mfn\u001b[0m\u001b[0;34m(\u001b[0m\u001b[0mmagic_arg_s\u001b[0m\u001b[0;34m,\u001b[0m \u001b[0mcell\u001b[0m\u001b[0;34m)\u001b[0m\u001b[0;34m\u001b[0m\u001b[0;34m\u001b[0m\u001b[0m\n\u001b[0m\u001b[1;32m   2324\u001b[0m             \u001b[0;32mreturn\u001b[0m \u001b[0mresult\u001b[0m\u001b[0;34m\u001b[0m\u001b[0;34m\u001b[0m\u001b[0m\n\u001b[1;32m   2325\u001b[0m \u001b[0;34m\u001b[0m\u001b[0m\n",
      "\u001b[0;32m~/.local/lib/python3.6/site-packages/IPython/core/magics/script.py\u001b[0m in \u001b[0;36mnamed_script_magic\u001b[0;34m(line, cell)\u001b[0m\n\u001b[1;32m    140\u001b[0m             \u001b[0;32melse\u001b[0m\u001b[0;34m:\u001b[0m\u001b[0;34m\u001b[0m\u001b[0;34m\u001b[0m\u001b[0m\n\u001b[1;32m    141\u001b[0m                 \u001b[0mline\u001b[0m \u001b[0;34m=\u001b[0m \u001b[0mscript\u001b[0m\u001b[0;34m\u001b[0m\u001b[0;34m\u001b[0m\u001b[0m\n\u001b[0;32m--> 142\u001b[0;31m             \u001b[0;32mreturn\u001b[0m \u001b[0mself\u001b[0m\u001b[0;34m.\u001b[0m\u001b[0mshebang\u001b[0m\u001b[0;34m(\u001b[0m\u001b[0mline\u001b[0m\u001b[0;34m,\u001b[0m \u001b[0mcell\u001b[0m\u001b[0;34m)\u001b[0m\u001b[0;34m\u001b[0m\u001b[0;34m\u001b[0m\u001b[0m\n\u001b[0m\u001b[1;32m    143\u001b[0m \u001b[0;34m\u001b[0m\u001b[0m\n\u001b[1;32m    144\u001b[0m         \u001b[0;31m# write a basic docstring:\u001b[0m\u001b[0;34m\u001b[0m\u001b[0;34m\u001b[0m\u001b[0;34m\u001b[0m\u001b[0m\n",
      "\u001b[0;32m<decorator-gen-109>\u001b[0m in \u001b[0;36mshebang\u001b[0;34m(self, line, cell)\u001b[0m\n",
      "\u001b[0;32m~/.local/lib/python3.6/site-packages/IPython/core/magic.py\u001b[0m in \u001b[0;36m<lambda>\u001b[0;34m(f, *a, **k)\u001b[0m\n\u001b[1;32m    185\u001b[0m     \u001b[0;31m# but it's overkill for just that one bit of state.\u001b[0m\u001b[0;34m\u001b[0m\u001b[0;34m\u001b[0m\u001b[0;34m\u001b[0m\u001b[0m\n\u001b[1;32m    186\u001b[0m     \u001b[0;32mdef\u001b[0m \u001b[0mmagic_deco\u001b[0m\u001b[0;34m(\u001b[0m\u001b[0marg\u001b[0m\u001b[0;34m)\u001b[0m\u001b[0;34m:\u001b[0m\u001b[0;34m\u001b[0m\u001b[0;34m\u001b[0m\u001b[0m\n\u001b[0;32m--> 187\u001b[0;31m         \u001b[0mcall\u001b[0m \u001b[0;34m=\u001b[0m \u001b[0;32mlambda\u001b[0m \u001b[0mf\u001b[0m\u001b[0;34m,\u001b[0m \u001b[0;34m*\u001b[0m\u001b[0ma\u001b[0m\u001b[0;34m,\u001b[0m \u001b[0;34m**\u001b[0m\u001b[0mk\u001b[0m\u001b[0;34m:\u001b[0m \u001b[0mf\u001b[0m\u001b[0;34m(\u001b[0m\u001b[0;34m*\u001b[0m\u001b[0ma\u001b[0m\u001b[0;34m,\u001b[0m \u001b[0;34m**\u001b[0m\u001b[0mk\u001b[0m\u001b[0;34m)\u001b[0m\u001b[0;34m\u001b[0m\u001b[0;34m\u001b[0m\u001b[0m\n\u001b[0m\u001b[1;32m    188\u001b[0m \u001b[0;34m\u001b[0m\u001b[0m\n\u001b[1;32m    189\u001b[0m         \u001b[0;32mif\u001b[0m \u001b[0mcallable\u001b[0m\u001b[0;34m(\u001b[0m\u001b[0marg\u001b[0m\u001b[0;34m)\u001b[0m\u001b[0;34m:\u001b[0m\u001b[0;34m\u001b[0m\u001b[0;34m\u001b[0m\u001b[0m\n",
      "\u001b[0;32m~/.local/lib/python3.6/site-packages/IPython/core/magics/script.py\u001b[0m in \u001b[0;36mshebang\u001b[0;34m(self, line, cell)\u001b[0m\n\u001b[1;32m    243\u001b[0m             \u001b[0msys\u001b[0m\u001b[0;34m.\u001b[0m\u001b[0mstderr\u001b[0m\u001b[0;34m.\u001b[0m\u001b[0mflush\u001b[0m\u001b[0;34m(\u001b[0m\u001b[0;34m)\u001b[0m\u001b[0;34m\u001b[0m\u001b[0;34m\u001b[0m\u001b[0m\n\u001b[1;32m    244\u001b[0m         \u001b[0;32mif\u001b[0m \u001b[0margs\u001b[0m\u001b[0;34m.\u001b[0m\u001b[0mraise_error\u001b[0m \u001b[0;32mand\u001b[0m \u001b[0mp\u001b[0m\u001b[0;34m.\u001b[0m\u001b[0mreturncode\u001b[0m\u001b[0;34m!=\u001b[0m\u001b[0;36m0\u001b[0m\u001b[0;34m:\u001b[0m\u001b[0;34m\u001b[0m\u001b[0;34m\u001b[0m\u001b[0m\n\u001b[0;32m--> 245\u001b[0;31m             \u001b[0;32mraise\u001b[0m \u001b[0mCalledProcessError\u001b[0m\u001b[0;34m(\u001b[0m\u001b[0mp\u001b[0m\u001b[0;34m.\u001b[0m\u001b[0mreturncode\u001b[0m\u001b[0;34m,\u001b[0m \u001b[0mcell\u001b[0m\u001b[0;34m,\u001b[0m \u001b[0moutput\u001b[0m\u001b[0;34m=\u001b[0m\u001b[0mout\u001b[0m\u001b[0;34m,\u001b[0m \u001b[0mstderr\u001b[0m\u001b[0;34m=\u001b[0m\u001b[0merr\u001b[0m\u001b[0;34m)\u001b[0m\u001b[0;34m\u001b[0m\u001b[0;34m\u001b[0m\u001b[0m\n\u001b[0m\u001b[1;32m    246\u001b[0m \u001b[0;34m\u001b[0m\u001b[0m\n\u001b[1;32m    247\u001b[0m     \u001b[0;32mdef\u001b[0m \u001b[0m_run_script\u001b[0m\u001b[0;34m(\u001b[0m\u001b[0mself\u001b[0m\u001b[0;34m,\u001b[0m \u001b[0mp\u001b[0m\u001b[0;34m,\u001b[0m \u001b[0mcell\u001b[0m\u001b[0;34m,\u001b[0m \u001b[0mto_close\u001b[0m\u001b[0;34m)\u001b[0m\u001b[0;34m:\u001b[0m\u001b[0;34m\u001b[0m\u001b[0;34m\u001b[0m\u001b[0m\n",
      "\u001b[0;31mCalledProcessError\u001b[0m: Command 'b'cd ../data/output/alignment/pasta_output/aligned/\\nscp ./enafroCOI_all_clean*  gilbert@hpc01.icipe.org:/home/gilbert/bioinformatics/github/co1_metaanalysis/data/output/alignment/pasta_output/aligned/ << EOF\\n<password>\\nEOF\\n'' returned non-zero exit status 1."
     ]
    }
   ],
   "source": [
    "%%bash\n",
    "cd ../data/output/alignment/pasta_output/aligned/\n",
    "scp ./enafroCOI_all_clean*  gilbert@hpc01.icipe.org:/home/gilbert/bioinformatics/github/co1_metaanalysis/data/output/alignment/pasta_output/aligned/ << EOF\n",
    "<password>\n",
    "EOF"
   ]
  },
  {
   "cell_type": "code",
   "execution_count": null,
   "metadata": {},
   "outputs": [],
   "source": []
  }
 ],
 "metadata": {
  "kernelspec": {
   "display_name": "Python 3",
   "language": "python",
   "name": "python3"
  },
  "language_info": {
   "codemirror_mode": {
    "name": "ipython",
    "version": 3
   },
   "file_extension": ".py",
   "mimetype": "text/x-python",
   "name": "python",
   "nbconvert_exporter": "python",
   "pygments_lexer": "ipython3",
   "version": "3.6.8"
  }
 },
 "nbformat": 4,
 "nbformat_minor": 2
}
